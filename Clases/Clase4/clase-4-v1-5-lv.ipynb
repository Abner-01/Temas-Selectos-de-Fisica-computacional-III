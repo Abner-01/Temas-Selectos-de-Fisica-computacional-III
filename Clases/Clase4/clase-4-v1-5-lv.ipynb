{
 "cells": [
  {
   "cell_type": "markdown",
   "metadata": {
    "ExecuteTime": {
     "end_time": "2020-03-04T01:21:08.810200Z",
     "start_time": "2020-03-04T01:21:08.804251Z"
    }
   },
   "source": [
    "<font size=4 color='blue'>\n",
    "\n",
    "# Clase 4, octubre 14 del 2020"
   ]
  },
  {
   "cell_type": "markdown",
   "metadata": {
    "ExecuteTime": {
     "end_time": "2020-10-11T23:31:40.881412Z",
     "start_time": "2020-10-11T23:31:40.873889Z"
    }
   },
   "source": [
    "<font size=4 color='blue'>\n",
    "\n",
    "## Topico: Mortalidad por diabetes"
   ]
  },
  {
   "cell_type": "markdown",
   "metadata": {},
   "source": [
    "<font size=4 color='blue'>\n",
    "    \n",
    "## Información sobre el tópico"
   ]
  },
  {
   "cell_type": "markdown",
   "metadata": {},
   "source": [
    "<font size=4>\n",
    "\n",
    "Evolución de la diabetes despues de un año.\n",
    "    \n",
    "En el presente trabajo, la diabetes la caracterizamos con los siguientes diez rasgos: edad, sexo, índice de masa corporal, presión arterial promedio y seis mediciones de suero sanguíneo (S1, S2, S3, S4, S5, S6).\n"
   ]
  },
  {
   "cell_type": "markdown",
   "metadata": {},
   "source": [
    "<font size=4 color='blue'>\n",
    "    \n",
    "## Cuantificación de esta información"
   ]
  },
  {
   "cell_type": "markdown",
   "metadata": {},
   "source": [
    "<font size=4>\n",
    "\n",
    "Se tienen información de 442 pacientes (m = 442). La respuesta de interés, Y, es una medida cuantitativa de la progresión de la enfermedad un año después del inicio del estudio. Los valores de Y varían entre 25 y 346\n",
    "\n",
    "Fuente de la información: [diabetes data](https://www4.stat.ncsu.edu/~boos/var.select/diabetes.html)    Artículo original: [Least-Angle-Regression_2004](./Literatura/Least-Angle-Regression_2004.pdf)"
   ]
  },
  {
   "cell_type": "code",
   "execution_count": 1,
   "metadata": {
    "ExecuteTime": {
     "end_time": "2020-10-14T18:33:34.370808Z",
     "start_time": "2020-10-14T18:33:33.961474Z"
    }
   },
   "outputs": [],
   "source": [
    "import pandas as pd\n",
    "import numpy as np\n",
    "import matplotlib.pyplot as plt"
   ]
  },
  {
   "cell_type": "code",
   "execution_count": 2,
   "metadata": {
    "ExecuteTime": {
     "end_time": "2020-10-14T18:33:34.379499Z",
     "start_time": "2020-10-14T18:33:34.372469Z"
    }
   },
   "outputs": [],
   "source": [
    "# Los datos se encuentran el el archivo diabetes.csv\n",
    "\n",
    "df = pd.read_csv('diabetes.csv', sep ='\\t')\n",
    "\n",
    "# se crea el dataframe df, el cual contiene los 10 rasgos relevantes de los pacientes\n",
    "# diabeticos, así como el progreso (y) de la enfermedad un año después de comenzado el estudio. "
   ]
  },
  {
   "cell_type": "code",
   "execution_count": 3,
   "metadata": {
    "ExecuteTime": {
     "end_time": "2020-10-14T18:33:34.396936Z",
     "start_time": "2020-10-14T18:33:34.381218Z"
    }
   },
   "outputs": [
    {
     "data": {
      "text/html": [
       "<div>\n",
       "<style scoped>\n",
       "    .dataframe tbody tr th:only-of-type {\n",
       "        vertical-align: middle;\n",
       "    }\n",
       "\n",
       "    .dataframe tbody tr th {\n",
       "        vertical-align: top;\n",
       "    }\n",
       "\n",
       "    .dataframe thead th {\n",
       "        text-align: right;\n",
       "    }\n",
       "</style>\n",
       "<table border=\"1\" class=\"dataframe\">\n",
       "  <thead>\n",
       "    <tr style=\"text-align: right;\">\n",
       "      <th></th>\n",
       "      <th>AGE</th>\n",
       "      <th>SEX</th>\n",
       "      <th>BMI</th>\n",
       "      <th>BP</th>\n",
       "      <th>S1</th>\n",
       "      <th>S2</th>\n",
       "      <th>S3</th>\n",
       "      <th>S4</th>\n",
       "      <th>S5</th>\n",
       "      <th>S6</th>\n",
       "      <th>Y</th>\n",
       "    </tr>\n",
       "  </thead>\n",
       "  <tbody>\n",
       "    <tr>\n",
       "      <th>0</th>\n",
       "      <td>59</td>\n",
       "      <td>2</td>\n",
       "      <td>32.1</td>\n",
       "      <td>101.0</td>\n",
       "      <td>157</td>\n",
       "      <td>93.2</td>\n",
       "      <td>38.0</td>\n",
       "      <td>4.0</td>\n",
       "      <td>4.8598</td>\n",
       "      <td>87</td>\n",
       "      <td>151</td>\n",
       "    </tr>\n",
       "    <tr>\n",
       "      <th>1</th>\n",
       "      <td>48</td>\n",
       "      <td>1</td>\n",
       "      <td>21.6</td>\n",
       "      <td>87.0</td>\n",
       "      <td>183</td>\n",
       "      <td>103.2</td>\n",
       "      <td>70.0</td>\n",
       "      <td>3.0</td>\n",
       "      <td>3.8918</td>\n",
       "      <td>69</td>\n",
       "      <td>75</td>\n",
       "    </tr>\n",
       "    <tr>\n",
       "      <th>2</th>\n",
       "      <td>72</td>\n",
       "      <td>2</td>\n",
       "      <td>30.5</td>\n",
       "      <td>93.0</td>\n",
       "      <td>156</td>\n",
       "      <td>93.6</td>\n",
       "      <td>41.0</td>\n",
       "      <td>4.0</td>\n",
       "      <td>4.6728</td>\n",
       "      <td>85</td>\n",
       "      <td>141</td>\n",
       "    </tr>\n",
       "    <tr>\n",
       "      <th>3</th>\n",
       "      <td>24</td>\n",
       "      <td>1</td>\n",
       "      <td>25.3</td>\n",
       "      <td>84.0</td>\n",
       "      <td>198</td>\n",
       "      <td>131.4</td>\n",
       "      <td>40.0</td>\n",
       "      <td>5.0</td>\n",
       "      <td>4.8903</td>\n",
       "      <td>89</td>\n",
       "      <td>206</td>\n",
       "    </tr>\n",
       "    <tr>\n",
       "      <th>4</th>\n",
       "      <td>50</td>\n",
       "      <td>1</td>\n",
       "      <td>23.0</td>\n",
       "      <td>101.0</td>\n",
       "      <td>192</td>\n",
       "      <td>125.4</td>\n",
       "      <td>52.0</td>\n",
       "      <td>4.0</td>\n",
       "      <td>4.2905</td>\n",
       "      <td>80</td>\n",
       "      <td>135</td>\n",
       "    </tr>\n",
       "  </tbody>\n",
       "</table>\n",
       "</div>"
      ],
      "text/plain": [
       "   AGE  SEX   BMI     BP   S1     S2    S3   S4      S5  S6    Y\n",
       "0   59    2  32.1  101.0  157   93.2  38.0  4.0  4.8598  87  151\n",
       "1   48    1  21.6   87.0  183  103.2  70.0  3.0  3.8918  69   75\n",
       "2   72    2  30.5   93.0  156   93.6  41.0  4.0  4.6728  85  141\n",
       "3   24    1  25.3   84.0  198  131.4  40.0  5.0  4.8903  89  206\n",
       "4   50    1  23.0  101.0  192  125.4  52.0  4.0  4.2905  80  135"
      ]
     },
     "execution_count": 3,
     "metadata": {},
     "output_type": "execute_result"
    }
   ],
   "source": [
    "# Se despliegan las primeras 5 muestras (rasgos, objetivo)\n",
    "\n",
    "df.head()"
   ]
  },
  {
   "cell_type": "code",
   "execution_count": 4,
   "metadata": {
    "ExecuteTime": {
     "end_time": "2020-10-14T18:33:34.436800Z",
     "start_time": "2020-10-14T18:33:34.398279Z"
    }
   },
   "outputs": [
    {
     "data": {
      "text/html": [
       "<div>\n",
       "<style scoped>\n",
       "    .dataframe tbody tr th:only-of-type {\n",
       "        vertical-align: middle;\n",
       "    }\n",
       "\n",
       "    .dataframe tbody tr th {\n",
       "        vertical-align: top;\n",
       "    }\n",
       "\n",
       "    .dataframe thead th {\n",
       "        text-align: right;\n",
       "    }\n",
       "</style>\n",
       "<table border=\"1\" class=\"dataframe\">\n",
       "  <thead>\n",
       "    <tr style=\"text-align: right;\">\n",
       "      <th></th>\n",
       "      <th>AGE</th>\n",
       "      <th>SEX</th>\n",
       "      <th>BMI</th>\n",
       "      <th>BP</th>\n",
       "      <th>S1</th>\n",
       "      <th>S2</th>\n",
       "      <th>S3</th>\n",
       "      <th>S4</th>\n",
       "      <th>S5</th>\n",
       "      <th>S6</th>\n",
       "      <th>Y</th>\n",
       "    </tr>\n",
       "  </thead>\n",
       "  <tbody>\n",
       "    <tr>\n",
       "      <th>count</th>\n",
       "      <td>442.000000</td>\n",
       "      <td>442.000000</td>\n",
       "      <td>442.000000</td>\n",
       "      <td>442.000000</td>\n",
       "      <td>442.000000</td>\n",
       "      <td>442.000000</td>\n",
       "      <td>442.000000</td>\n",
       "      <td>442.000000</td>\n",
       "      <td>442.000000</td>\n",
       "      <td>442.000000</td>\n",
       "      <td>442.000000</td>\n",
       "    </tr>\n",
       "    <tr>\n",
       "      <th>mean</th>\n",
       "      <td>48.518100</td>\n",
       "      <td>1.468326</td>\n",
       "      <td>26.375792</td>\n",
       "      <td>94.647014</td>\n",
       "      <td>189.140271</td>\n",
       "      <td>115.439140</td>\n",
       "      <td>49.788462</td>\n",
       "      <td>4.070249</td>\n",
       "      <td>4.641411</td>\n",
       "      <td>91.260181</td>\n",
       "      <td>152.133484</td>\n",
       "    </tr>\n",
       "    <tr>\n",
       "      <th>std</th>\n",
       "      <td>13.109028</td>\n",
       "      <td>0.499561</td>\n",
       "      <td>4.418122</td>\n",
       "      <td>13.831283</td>\n",
       "      <td>34.608052</td>\n",
       "      <td>30.413081</td>\n",
       "      <td>12.934202</td>\n",
       "      <td>1.290450</td>\n",
       "      <td>0.522391</td>\n",
       "      <td>11.496335</td>\n",
       "      <td>77.093005</td>\n",
       "    </tr>\n",
       "    <tr>\n",
       "      <th>min</th>\n",
       "      <td>19.000000</td>\n",
       "      <td>1.000000</td>\n",
       "      <td>18.000000</td>\n",
       "      <td>62.000000</td>\n",
       "      <td>97.000000</td>\n",
       "      <td>41.600000</td>\n",
       "      <td>22.000000</td>\n",
       "      <td>2.000000</td>\n",
       "      <td>3.258100</td>\n",
       "      <td>58.000000</td>\n",
       "      <td>25.000000</td>\n",
       "    </tr>\n",
       "    <tr>\n",
       "      <th>25%</th>\n",
       "      <td>38.250000</td>\n",
       "      <td>1.000000</td>\n",
       "      <td>23.200000</td>\n",
       "      <td>84.000000</td>\n",
       "      <td>164.250000</td>\n",
       "      <td>96.050000</td>\n",
       "      <td>40.250000</td>\n",
       "      <td>3.000000</td>\n",
       "      <td>4.276700</td>\n",
       "      <td>83.250000</td>\n",
       "      <td>87.000000</td>\n",
       "    </tr>\n",
       "    <tr>\n",
       "      <th>50%</th>\n",
       "      <td>50.000000</td>\n",
       "      <td>1.000000</td>\n",
       "      <td>25.700000</td>\n",
       "      <td>93.000000</td>\n",
       "      <td>186.000000</td>\n",
       "      <td>113.000000</td>\n",
       "      <td>48.000000</td>\n",
       "      <td>4.000000</td>\n",
       "      <td>4.620050</td>\n",
       "      <td>91.000000</td>\n",
       "      <td>140.500000</td>\n",
       "    </tr>\n",
       "    <tr>\n",
       "      <th>75%</th>\n",
       "      <td>59.000000</td>\n",
       "      <td>2.000000</td>\n",
       "      <td>29.275000</td>\n",
       "      <td>105.000000</td>\n",
       "      <td>209.750000</td>\n",
       "      <td>134.500000</td>\n",
       "      <td>57.750000</td>\n",
       "      <td>5.000000</td>\n",
       "      <td>4.997200</td>\n",
       "      <td>98.000000</td>\n",
       "      <td>211.500000</td>\n",
       "    </tr>\n",
       "    <tr>\n",
       "      <th>max</th>\n",
       "      <td>79.000000</td>\n",
       "      <td>2.000000</td>\n",
       "      <td>42.200000</td>\n",
       "      <td>133.000000</td>\n",
       "      <td>301.000000</td>\n",
       "      <td>242.400000</td>\n",
       "      <td>99.000000</td>\n",
       "      <td>9.090000</td>\n",
       "      <td>6.107000</td>\n",
       "      <td>124.000000</td>\n",
       "      <td>346.000000</td>\n",
       "    </tr>\n",
       "  </tbody>\n",
       "</table>\n",
       "</div>"
      ],
      "text/plain": [
       "              AGE         SEX         BMI          BP          S1          S2  \\\n",
       "count  442.000000  442.000000  442.000000  442.000000  442.000000  442.000000   \n",
       "mean    48.518100    1.468326   26.375792   94.647014  189.140271  115.439140   \n",
       "std     13.109028    0.499561    4.418122   13.831283   34.608052   30.413081   \n",
       "min     19.000000    1.000000   18.000000   62.000000   97.000000   41.600000   \n",
       "25%     38.250000    1.000000   23.200000   84.000000  164.250000   96.050000   \n",
       "50%     50.000000    1.000000   25.700000   93.000000  186.000000  113.000000   \n",
       "75%     59.000000    2.000000   29.275000  105.000000  209.750000  134.500000   \n",
       "max     79.000000    2.000000   42.200000  133.000000  301.000000  242.400000   \n",
       "\n",
       "               S3          S4          S5          S6           Y  \n",
       "count  442.000000  442.000000  442.000000  442.000000  442.000000  \n",
       "mean    49.788462    4.070249    4.641411   91.260181  152.133484  \n",
       "std     12.934202    1.290450    0.522391   11.496335   77.093005  \n",
       "min     22.000000    2.000000    3.258100   58.000000   25.000000  \n",
       "25%     40.250000    3.000000    4.276700   83.250000   87.000000  \n",
       "50%     48.000000    4.000000    4.620050   91.000000  140.500000  \n",
       "75%     57.750000    5.000000    4.997200   98.000000  211.500000  \n",
       "max     99.000000    9.090000    6.107000  124.000000  346.000000  "
      ]
     },
     "execution_count": 4,
     "metadata": {},
     "output_type": "execute_result"
    }
   ],
   "source": [
    "# el método describe() genera una tabla con informacion estadistica de cada uno de los rasgos y del objetivo.\n",
    "\n",
    "df.describe()\n",
    "\n"
   ]
  },
  {
   "cell_type": "markdown",
   "metadata": {},
   "source": [
    "## Se crean los histogramas para cada uno de los rasgos que caracteriza a los pacientes con diabetes:"
   ]
  },
  {
   "cell_type": "code",
   "execution_count": 5,
   "metadata": {
    "ExecuteTime": {
     "end_time": "2020-10-14T18:33:34.982874Z",
     "start_time": "2020-10-14T18:33:34.438236Z"
    }
   },
   "outputs": [
    {
     "data": {
      "image/png": "[encoded data removed]",
      "text/plain": [
       "<Figure size 1440x576 with 4 Axes>"
      ]
     },
     "metadata": {
      "needs_background": "light"
     },
     "output_type": "display_data"
    }
   ],
   "source": [
    "plt.figure(figsize=(20,8)) \n",
    "\n",
    "ax1 = plt.subplot(2,4,1)\n",
    "ax2 = plt.subplot(2,4,2)\n",
    "ax3 = plt.subplot(2,4,3)\n",
    "ax4 = plt.subplot(2,4,4)\n",
    "\n",
    "ax1.hist(df.AGE, bins=30, color='green',edgecolor='purple', alpha=0.5)\n",
    "ax1.set_xlabel('Age (years)', size=15)\n",
    "ax1.set_ylabel('Frequency', size=15)\n",
    "\n",
    "ax2.hist(df.SEX, bins=30, color='orange',edgecolor='purple', alpha=0.5)\n",
    "ax2.set_xlabel('Sex', size=15)\n",
    "\n",
    "ax3.hist(df.BMI, bins=30, color='red',edgecolor='purple', alpha=0.5)\n",
    "ax3.set_xlabel('Body_mass_index', size=15)\n",
    "\n",
    "ax4.hist(df.BP, bins=30, color='blue',edgecolor='purple', alpha=0.5)\n",
    "ax4.set_xlabel('Average_blood_pressure', size=15);"
   ]
  },
  {
   "cell_type": "code",
   "execution_count": 6,
   "metadata": {
    "ExecuteTime": {
     "end_time": "2020-10-14T18:33:35.489346Z",
     "start_time": "2020-10-14T18:33:34.984462Z"
    }
   },
   "outputs": [
    {
     "data": {
      "image/png": "[encoded data removed]",
      "text/plain": [
       "<Figure size 1440x576 with 4 Axes>"
      ]
     },
     "metadata": {
      "needs_background": "light"
     },
     "output_type": "display_data"
    }
   ],
   "source": [
    "plt.figure(figsize=(20,8)) \n",
    "\n",
    "ax1 = plt.subplot(2,4,1)\n",
    "ax2 = plt.subplot(2,4,2)\n",
    "ax3 = plt.subplot(2,4,3)\n",
    "ax4 = plt.subplot(2,4,4)\n",
    "\n",
    "ax1.hist(df.S1, bins=30, color='green',edgecolor='purple', alpha=0.5)\n",
    "ax1.set_xlabel('S1', size=15)\n",
    "ax1.set_ylabel('Frequency', size=15)\n",
    "\n",
    "ax2.hist(df.S2, bins=30, color='orange',edgecolor='purple', alpha=0.5)\n",
    "ax2.set_xlabel('S2', size=15)\n",
    "\n",
    "ax3.hist(df.S3, bins=30, color='red',edgecolor='purple', alpha=0.5)\n",
    "ax3.set_xlabel('S3', size=15)\n",
    "\n",
    "ax4.hist(df.S4, bins=30, color='blue',edgecolor='purple', alpha=0.5)\n",
    "ax4.set_xlabel('S4', size=15);"
   ]
  },
  {
   "cell_type": "code",
   "execution_count": 7,
   "metadata": {
    "ExecuteTime": {
     "end_time": "2020-10-14T18:33:35.876060Z",
     "start_time": "2020-10-14T18:33:35.491058Z"
    }
   },
   "outputs": [
    {
     "data": {
      "text/plain": [
       "Text(0.5, 0, 'Y')"
      ]
     },
     "execution_count": 7,
     "metadata": {},
     "output_type": "execute_result"
    },
    {
     "data": {
      "image/png": "[encoded data removed]",
      "text/plain": [
       "<Figure size 1080x576 with 3 Axes>"
      ]
     },
     "metadata": {
      "needs_background": "light"
     },
     "output_type": "display_data"
    }
   ],
   "source": [
    "plt.figure(figsize=(15,8)) \n",
    "\n",
    "ax1 = plt.subplot(2,3,1)\n",
    "ax2 = plt.subplot(2,3,2)\n",
    "ax3 = plt.subplot(2,3,3)\n",
    "\n",
    "ax1.hist(df.S5, bins=30, color='green',edgecolor='purple', alpha=0.5)\n",
    "ax1.set_xlabel('S5', size=15)\n",
    "ax1.set_ylabel('Frequency', size=15)\n",
    "\n",
    "ax2.hist(df.S6, bins=30, color='orange',edgecolor='purple', alpha=0.5)\n",
    "ax2.set_xlabel('S6', size=15)\n",
    "\n",
    "ax3.hist(df.Y, bins=30, color='purple',edgecolor='black', alpha=0.5)\n",
    "ax3.set_xlabel('Y', size=15)\n"
   ]
  },
  {
   "cell_type": "markdown",
   "metadata": {
    "ExecuteTime": {
     "end_time": "2020-10-13T21:40:41.245228Z",
     "start_time": "2020-10-13T21:40:41.238690Z"
    }
   },
   "source": [
    "<font size=5 color='blue'>\n",
    "\n",
    "# <center> Linear Regression Analysis </center>"
   ]
  },
  {
   "cell_type": "markdown",
   "metadata": {
    "ExecuteTime": {
     "end_time": "2020-10-13T19:15:39.725146Z",
     "start_time": "2020-10-13T19:15:39.717561Z"
    }
   },
   "source": [
    "<font size=5 color='blue'>\n",
    "\n",
    "Regression analysis"
   ]
  },
  {
   "cell_type": "markdown",
   "metadata": {},
   "source": [
    "<font size=4 color='black'>\n",
    "    \n",
    "In statistical modeling, $\\textbf {regression analysis}$ is a set of statistical processes for estimating the relationships between a dependent variable (often called the 'outcome variable') and one or more independent variables (often called 'predictors', 'covariates', or 'features').\n",
    "    \n",
    "More: [Regression analysis](https://en.wikipedia.org/wiki/Regression_analysis)"
   ]
  },
  {
   "cell_type": "markdown",
   "metadata": {},
   "source": [
    "<font size=5 color='blue'>\n",
    "    \n",
    "Implementacion de un sistema de aprendizaje, empleando un análisis de regresion lineal"
   ]
  },
  {
   "cell_type": "markdown",
   "metadata": {},
   "source": [
    "<font size=4 >\n",
    "Los pasos principales para construir el sistema son:\n",
    "\n",
    "1. Definir un modelo proponiendo un algoritmo que relacione las variables X y Y.\n",
    "2. Inicializar las variables asociadas al modelo, $w, b$ (pesos y biases).\n",
    "3. Realizar lo siguiente en cada época:\n",
    "     - Calcular el costo ($J$).\n",
    "     - Calcular el gradiente del costo respecto a las variables asociadas al modelo.\n",
    "     - Actualizar los pesos y los biases empleando el algoritmo propuesto para optimización. Por ejemplo, gradiente descendente "
   ]
  },
  {
   "cell_type": "markdown",
   "metadata": {
    "ExecuteTime": {
     "end_time": "2020-10-13T20:46:28.106905Z",
     "start_time": "2020-10-13T20:46:28.101767Z"
    }
   },
   "source": [
    "<font size=5 color='blue'>\n",
    "Algoritmo que relaciona las variables X y Y"
   ]
  },
  {
   "cell_type": "markdown",
   "metadata": {},
   "source": [
    "<font size=4 >\n",
    "    \n",
    "Se tienen $m$ muestras.\n",
    "    \n",
    "Para una muestra $x^{(i)}$:\n",
    "\n",
    "$$z^{(i)} = w^T x^{(i)} + b \\tag{1}$$\n",
    "\n",
    "$z^{(i)}$ es la combinacion lineal entre los pesos (w) y la muestra $x^{(i)}$ + el bias b. Posteriormente esta sumatoria es transformada (activada) con una función, para generar le valor de salida $a^{(i)}$. En el presente caso, la función es la identidad (*identity*), porque realizaremos una regresión lineal.\n",
    "\n",
    "$$F(x^{(i)}) = a^{(i)} = identity(z^{(i)}\\tag{2})$$ \n",
    "\n",
    "La funcion de perdida (*loss*), tambien llamada costo *cost*, $J$, es el promedio, sobre todas las muestras, de la diferencia al cuadrado entre el valor medido ($y^{(i)}$) y el valor que predice la funcion de activacion.  \n",
    "\n",
    "$$ J = \\frac{1}{m} \\sum_{i=1}^m (y^{(i)} -F(x^{(i)}))^2\\tag{3}$$\n",
    "\n",
    "\n"
   ]
  },
  {
   "cell_type": "markdown",
   "metadata": {
    "ExecuteTime": {
     "end_time": "2020-10-13T20:21:23.071130Z",
     "start_time": "2020-10-13T20:21:23.062454Z"
    }
   },
   "source": [
    "<font size=4>\n",
    "\n",
    "Para quitar cuarquier posible correlación entre las muestras (los renglones del DataFrame), estos se reordenan al azar."
   ]
  },
  {
   "cell_type": "code",
   "execution_count": 8,
   "metadata": {
    "ExecuteTime": {
     "end_time": "2020-10-14T18:33:35.882000Z",
     "start_time": "2020-10-14T18:33:35.878524Z"
    }
   },
   "outputs": [],
   "source": [
    "df = df.sample(frac=1)"
   ]
  },
  {
   "cell_type": "code",
   "execution_count": 9,
   "metadata": {
    "ExecuteTime": {
     "end_time": "2020-10-14T18:33:35.893909Z",
     "start_time": "2020-10-14T18:33:35.884011Z"
    }
   },
   "outputs": [
    {
     "name": "stdout",
     "output_type": "stream",
     "text": [
      "(442, 11)\n"
     ]
    }
   ],
   "source": [
    "print(df.shape)"
   ]
  },
  {
   "cell_type": "code",
   "execution_count": 10,
   "metadata": {
    "ExecuteTime": {
     "end_time": "2020-10-14T18:33:35.906158Z",
     "start_time": "2020-10-14T18:33:35.895449Z"
    }
   },
   "outputs": [
    {
     "name": "stdout",
     "output_type": "stream",
     "text": [
      "442\n"
     ]
    }
   ],
   "source": [
    "print(len(df.values[:,:]))"
   ]
  },
  {
   "cell_type": "markdown",
   "metadata": {},
   "source": [
    "<font size=4>\n",
    "    \n",
    "Se dividen la muestras originales en 2 conjuntos: 90 % para el entrenamiento y 10 % para hacer inferencias predicciones) con lo aprendido."
   ]
  },
  {
   "cell_type": "code",
   "execution_count": 11,
   "metadata": {
    "ExecuteTime": {
     "end_time": "2020-10-14T18:33:35.918114Z",
     "start_time": "2020-10-14T18:33:35.907480Z"
    }
   },
   "outputs": [],
   "source": [
    "test_ratio = 0.1\n",
    "\n",
    "train_ratio = int((1.0-test_ratio)*len(df.values[:,:]))\n",
    "\n",
    "df_train = df.iloc[0:train_ratio,:]\n",
    "df_test  = df.iloc[train_ratio:,:]"
   ]
  },
  {
   "cell_type": "code",
   "execution_count": 12,
   "metadata": {
    "ExecuteTime": {
     "end_time": "2020-10-14T18:33:35.930239Z",
     "start_time": "2020-10-14T18:33:35.919372Z"
    }
   },
   "outputs": [
    {
     "name": "stdout",
     "output_type": "stream",
     "text": [
      "(397, 11)\n",
      "(45, 11)\n"
     ]
    }
   ],
   "source": [
    "print(df_train.shape)\n",
    "print(df_test.shape)"
   ]
  },
  {
   "cell_type": "markdown",
   "metadata": {},
   "source": [
    "<font size=4>\n",
    "\n",
    "Para trabajar con los modelos se requiere que todas las variables tengan el mismo orden de magnitud. Por ello, se normalizan sus valores en las muestras que se van a emplear en el entrenamiento, tanto los rasgos (X) y las objetivo o referencia (Y):\n",
    "\n",
    "$$x_{norm} = \\dfrac{x-\\bar{x}}{\\sigma}$$"
   ]
  },
  {
   "cell_type": "code",
   "execution_count": 13,
   "metadata": {
    "ExecuteTime": {
     "end_time": "2020-10-14T18:33:35.958676Z",
     "start_time": "2020-10-14T18:33:35.931520Z"
    }
   },
   "outputs": [
    {
     "data": {
      "text/html": [
       "<div>\n",
       "<style scoped>\n",
       "    .dataframe tbody tr th:only-of-type {\n",
       "        vertical-align: middle;\n",
       "    }\n",
       "\n",
       "    .dataframe tbody tr th {\n",
       "        vertical-align: top;\n",
       "    }\n",
       "\n",
       "    .dataframe thead th {\n",
       "        text-align: right;\n",
       "    }\n",
       "</style>\n",
       "<table border=\"1\" class=\"dataframe\">\n",
       "  <thead>\n",
       "    <tr style=\"text-align: right;\">\n",
       "      <th></th>\n",
       "      <th>AGE</th>\n",
       "      <th>SEX</th>\n",
       "      <th>BMI</th>\n",
       "      <th>BP</th>\n",
       "      <th>S1</th>\n",
       "      <th>S2</th>\n",
       "      <th>S3</th>\n",
       "      <th>S4</th>\n",
       "      <th>S5</th>\n",
       "      <th>S6</th>\n",
       "      <th>Y</th>\n",
       "    </tr>\n",
       "  </thead>\n",
       "  <tbody>\n",
       "    <tr>\n",
       "      <th>363</th>\n",
       "      <td>-1.047532</td>\n",
       "      <td>1.042463</td>\n",
       "      <td>-0.522921</td>\n",
       "      <td>0.004661</td>\n",
       "      <td>-0.985950</td>\n",
       "      <td>-0.580905</td>\n",
       "      <td>-1.363144</td>\n",
       "      <td>0.615600</td>\n",
       "      <td>0.415430</td>\n",
       "      <td>0.272327</td>\n",
       "      <td>-1.219165</td>\n",
       "    </tr>\n",
       "    <tr>\n",
       "      <th>111</th>\n",
       "      <td>0.400696</td>\n",
       "      <td>-0.956850</td>\n",
       "      <td>0.115047</td>\n",
       "      <td>-0.548237</td>\n",
       "      <td>0.496599</td>\n",
       "      <td>0.231158</td>\n",
       "      <td>1.341570</td>\n",
       "      <td>-0.805290</td>\n",
       "      <td>-0.488884</td>\n",
       "      <td>-0.959239</td>\n",
       "      <td>-1.205909</td>\n",
       "    </tr>\n",
       "    <tr>\n",
       "      <th>301</th>\n",
       "      <td>-0.056639</td>\n",
       "      <td>1.042463</td>\n",
       "      <td>-0.522921</td>\n",
       "      <td>1.109736</td>\n",
       "      <td>0.583808</td>\n",
       "      <td>0.647092</td>\n",
       "      <td>0.590260</td>\n",
       "      <td>-0.033067</td>\n",
       "      <td>-0.441359</td>\n",
       "      <td>0.800142</td>\n",
       "      <td>-1.126374</td>\n",
       "    </tr>\n",
       "    <tr>\n",
       "      <th>3</th>\n",
       "      <td>-1.885980</td>\n",
       "      <td>-0.956850</td>\n",
       "      <td>-0.239379</td>\n",
       "      <td>-0.764494</td>\n",
       "      <td>0.264043</td>\n",
       "      <td>0.541458</td>\n",
       "      <td>-0.762097</td>\n",
       "      <td>0.739155</td>\n",
       "      <td>0.489122</td>\n",
       "      <td>-0.167518</td>\n",
       "      <td>0.742691</td>\n",
       "    </tr>\n",
       "    <tr>\n",
       "      <th>94</th>\n",
       "      <td>-1.657312</td>\n",
       "      <td>-0.956850</td>\n",
       "      <td>-0.357522</td>\n",
       "      <td>-0.259894</td>\n",
       "      <td>0.002416</td>\n",
       "      <td>-0.270604</td>\n",
       "      <td>1.416701</td>\n",
       "      <td>-0.805290</td>\n",
       "      <td>-0.858882</td>\n",
       "      <td>-1.926899</td>\n",
       "      <td>-0.794980</td>\n",
       "    </tr>\n",
       "  </tbody>\n",
       "</table>\n",
       "</div>"
      ],
      "text/plain": [
       "          AGE       SEX       BMI        BP        S1        S2        S3  \\\n",
       "363 -1.047532  1.042463 -0.522921  0.004661 -0.985950 -0.580905 -1.363144   \n",
       "111  0.400696 -0.956850  0.115047 -0.548237  0.496599  0.231158  1.341570   \n",
       "301 -0.056639  1.042463 -0.522921  1.109736  0.583808  0.647092  0.590260   \n",
       "3   -1.885980 -0.956850 -0.239379 -0.764494  0.264043  0.541458 -0.762097   \n",
       "94  -1.657312 -0.956850 -0.357522 -0.259894  0.002416 -0.270604  1.416701   \n",
       "\n",
       "           S4        S5        S6         Y  \n",
       "363  0.615600  0.415430  0.272327 -1.219165  \n",
       "111 -0.805290 -0.488884 -0.959239 -1.205909  \n",
       "301 -0.033067 -0.441359  0.800142 -1.126374  \n",
       "3    0.739155  0.489122 -0.167518  0.742691  \n",
       "94  -0.805290 -0.858882 -1.926899 -0.794980  "
      ]
     },
     "execution_count": 13,
     "metadata": {},
     "output_type": "execute_result"
    }
   ],
   "source": [
    "df_train_norm = (df_train - df_train.mean()) / df_train.std()\n",
    "df_train_norm.head()"
   ]
  },
  {
   "cell_type": "code",
   "execution_count": 14,
   "metadata": {
    "ExecuteTime": {
     "end_time": "2020-10-14T18:33:35.981641Z",
     "start_time": "2020-10-14T18:33:35.960390Z"
    }
   },
   "outputs": [
    {
     "data": {
      "text/html": [
       "<div>\n",
       "<style scoped>\n",
       "    .dataframe tbody tr th:only-of-type {\n",
       "        vertical-align: middle;\n",
       "    }\n",
       "\n",
       "    .dataframe tbody tr th {\n",
       "        vertical-align: top;\n",
       "    }\n",
       "\n",
       "    .dataframe thead th {\n",
       "        text-align: right;\n",
       "    }\n",
       "</style>\n",
       "<table border=\"1\" class=\"dataframe\">\n",
       "  <thead>\n",
       "    <tr style=\"text-align: right;\">\n",
       "      <th></th>\n",
       "      <th>AGE</th>\n",
       "      <th>SEX</th>\n",
       "      <th>BMI</th>\n",
       "      <th>BP</th>\n",
       "      <th>S1</th>\n",
       "      <th>S2</th>\n",
       "      <th>S3</th>\n",
       "      <th>S4</th>\n",
       "      <th>S5</th>\n",
       "      <th>S6</th>\n",
       "      <th>Y</th>\n",
       "    </tr>\n",
       "  </thead>\n",
       "  <tbody>\n",
       "    <tr>\n",
       "      <th>416</th>\n",
       "      <td>-0.590197</td>\n",
       "      <td>-0.956850</td>\n",
       "      <td>1.769039</td>\n",
       "      <td>2.070639</td>\n",
       "      <td>-0.055723</td>\n",
       "      <td>0.396211</td>\n",
       "      <td>-0.386442</td>\n",
       "      <td>0.090488</td>\n",
       "      <td>-0.612986</td>\n",
       "      <td>0.800142</td>\n",
       "      <td>1.418736</td>\n",
       "    </tr>\n",
       "    <tr>\n",
       "      <th>118</th>\n",
       "      <td>-1.199977</td>\n",
       "      <td>1.042463</td>\n",
       "      <td>-0.215751</td>\n",
       "      <td>0.533050</td>\n",
       "      <td>0.496599</td>\n",
       "      <td>0.858361</td>\n",
       "      <td>-0.837227</td>\n",
       "      <td>0.739155</td>\n",
       "      <td>0.445253</td>\n",
       "      <td>1.239987</td>\n",
       "      <td>0.384785</td>\n",
       "    </tr>\n",
       "    <tr>\n",
       "      <th>63</th>\n",
       "      <td>-0.742642</td>\n",
       "      <td>-0.956850</td>\n",
       "      <td>-0.806462</td>\n",
       "      <td>-1.269094</td>\n",
       "      <td>0.438460</td>\n",
       "      <td>0.930984</td>\n",
       "      <td>-0.311311</td>\n",
       "      <td>-0.033067</td>\n",
       "      <td>-0.638769</td>\n",
       "      <td>-1.487053</td>\n",
       "      <td>-0.291260</td>\n",
       "    </tr>\n",
       "    <tr>\n",
       "      <th>239</th>\n",
       "      <td>0.476919</td>\n",
       "      <td>-0.956850</td>\n",
       "      <td>0.445846</td>\n",
       "      <td>-0.259894</td>\n",
       "      <td>1.775661</td>\n",
       "      <td>0.831952</td>\n",
       "      <td>1.266439</td>\n",
       "      <td>-0.033067</td>\n",
       "      <td>1.404402</td>\n",
       "      <td>1.064049</td>\n",
       "      <td>1.485015</td>\n",
       "    </tr>\n",
       "    <tr>\n",
       "      <th>86</th>\n",
       "      <td>-1.504867</td>\n",
       "      <td>1.042463</td>\n",
       "      <td>-1.633458</td>\n",
       "      <td>-0.836580</td>\n",
       "      <td>-1.073158</td>\n",
       "      <td>-0.303615</td>\n",
       "      <td>-0.837227</td>\n",
       "      <td>-0.033067</td>\n",
       "      <td>-2.025254</td>\n",
       "      <td>-0.695332</td>\n",
       "      <td>-1.258932</td>\n",
       "    </tr>\n",
       "  </tbody>\n",
       "</table>\n",
       "</div>"
      ],
      "text/plain": [
       "          AGE       SEX       BMI        BP        S1        S2        S3  \\\n",
       "416 -0.590197 -0.956850  1.769039  2.070639 -0.055723  0.396211 -0.386442   \n",
       "118 -1.199977  1.042463 -0.215751  0.533050  0.496599  0.858361 -0.837227   \n",
       "63  -0.742642 -0.956850 -0.806462 -1.269094  0.438460  0.930984 -0.311311   \n",
       "239  0.476919 -0.956850  0.445846 -0.259894  1.775661  0.831952  1.266439   \n",
       "86  -1.504867  1.042463 -1.633458 -0.836580 -1.073158 -0.303615 -0.837227   \n",
       "\n",
       "           S4        S5        S6         Y  \n",
       "416  0.090488 -0.612986  0.800142  1.418736  \n",
       "118  0.739155  0.445253  1.239987  0.384785  \n",
       "63  -0.033067 -0.638769 -1.487053 -0.291260  \n",
       "239 -0.033067  1.404402  1.064049  1.485015  \n",
       "86  -0.033067 -2.025254 -0.695332 -1.258932  "
      ]
     },
     "execution_count": 14,
     "metadata": {},
     "output_type": "execute_result"
    }
   ],
   "source": [
    "df_test_norm = (df_test - df_train.mean()) / df_train.std()\n",
    "df_test_norm.head()"
   ]
  },
  {
   "cell_type": "markdown",
   "metadata": {},
   "source": [
    "<font size=4>\n",
    "    \n",
    "Histogramas de las variables que se emplearán en el entrenamiento:"
   ]
  },
  {
   "cell_type": "code",
   "execution_count": 15,
   "metadata": {
    "ExecuteTime": {
     "end_time": "2020-10-14T18:33:36.465460Z",
     "start_time": "2020-10-14T18:33:35.983301Z"
    }
   },
   "outputs": [
    {
     "data": {
      "image/png": "[encoded data removed]",
      "text/plain": [
       "<Figure size 1440x576 with 4 Axes>"
      ]
     },
     "metadata": {
      "needs_background": "light"
     },
     "output_type": "display_data"
    }
   ],
   "source": [
    "plt.figure(figsize=(20,8)) \n",
    "\n",
    "ax1 = plt.subplot(2,4,1)\n",
    "ax2 = plt.subplot(2,4,2)\n",
    "ax3 = plt.subplot(2,4,3)\n",
    "ax4 = plt.subplot(2,4,4)\n",
    "\n",
    "ax1.hist(df_train_norm.AGE, bins=30, color='green',edgecolor='purple', alpha=0.5)\n",
    "ax1.set_xlabel('x1(Age)', size=15)\n",
    "ax1.set_ylabel('Frequency', size=15)\n",
    "\n",
    "ax2.hist(df_train_norm.SEX, bins=30, color='orange',edgecolor='purple', alpha=0.5)\n",
    "ax2.set_xlabel('x2(Sex)', size=15)\n",
    "\n",
    "ax3.hist(df_train_norm.BMI, bins=30, color='red',edgecolor='purple', alpha=0.5)\n",
    "ax3.set_xlabel('x3(Body_mass_index)', size=15)\n",
    "\n",
    "ax4.hist(df_train_norm.BP, bins=30, color='blue',edgecolor='purple', alpha=0.5)\n",
    "ax4.set_xlabel('x4(Average_blood_pressure)', size=15);"
   ]
  },
  {
   "cell_type": "code",
   "execution_count": 16,
   "metadata": {
    "ExecuteTime": {
     "end_time": "2020-10-14T18:33:37.009582Z",
     "start_time": "2020-10-14T18:33:36.467237Z"
    }
   },
   "outputs": [
    {
     "data": {
      "image/png": "[encoded data removed]",
      "text/plain": [
       "<Figure size 1440x576 with 4 Axes>"
      ]
     },
     "metadata": {
      "needs_background": "light"
     },
     "output_type": "display_data"
    }
   ],
   "source": [
    "plt.figure(figsize=(20,8)) \n",
    "\n",
    "ax1 = plt.subplot(2,4,1)\n",
    "ax2 = plt.subplot(2,4,2)\n",
    "ax3 = plt.subplot(2,4,3)\n",
    "ax4 = plt.subplot(2,4,4)\n",
    "\n",
    "ax1.hist(df_train_norm.S1, bins=30, color='green',edgecolor='purple', alpha=0.5)\n",
    "ax1.set_xlabel('x5(S1)', size=15)\n",
    "ax1.set_ylabel('Frequency', size=15)\n",
    "\n",
    "ax2.hist(df_train_norm.S2, bins=30, color='orange',edgecolor='purple', alpha=0.5)\n",
    "ax2.set_xlabel('x6(S2)', size=15)\n",
    "\n",
    "ax3.hist(df_train_norm.S3, bins=30, color='red',edgecolor='purple', alpha=0.5)\n",
    "ax3.set_xlabel('x7(S3)', size=15)\n",
    "\n",
    "ax4.hist(df_train_norm.S4, bins=30, color='blue',edgecolor='purple', alpha=0.5)\n",
    "ax4.set_xlabel('x8(S4)', size=15);"
   ]
  },
  {
   "cell_type": "code",
   "execution_count": 17,
   "metadata": {
    "ExecuteTime": {
     "end_time": "2020-10-14T18:33:37.362353Z",
     "start_time": "2020-10-14T18:33:37.011204Z"
    }
   },
   "outputs": [
    {
     "data": {
      "text/plain": [
       "Text(0.5, 0, 'Y')"
      ]
     },
     "execution_count": 17,
     "metadata": {},
     "output_type": "execute_result"
    },
    {
     "data": {
      "image/png": "[encoded data removed]",
      "text/plain": [
       "<Figure size 1440x576 with 3 Axes>"
      ]
     },
     "metadata": {
      "needs_background": "light"
     },
     "output_type": "display_data"
    }
   ],
   "source": [
    "plt.figure(figsize=(20,8)) \n",
    "\n",
    "ax1 = plt.subplot(2,3,1)\n",
    "ax2 = plt.subplot(2,3,2)\n",
    "ax3 = plt.subplot(2,3,3)\n",
    "\n",
    "ax1.hist(df_train_norm.S5, bins=30, color='green',edgecolor='purple', alpha=0.5)\n",
    "ax1.set_xlabel('x9(S5)', size=15)\n",
    "ax1.set_ylabel('Frequency', size=15)\n",
    "\n",
    "ax2.hist(df_train_norm.S6, bins=30, color='orange',edgecolor='purple', alpha=0.5)\n",
    "ax2.set_xlabel('x10(S6)', size=15)\n",
    "\n",
    "ax3.hist(df_train_norm.Y, bins=30, color='purple',edgecolor='black', alpha=0.5)\n",
    "ax3.set_xlabel('Y', size=15)\n"
   ]
  },
  {
   "cell_type": "markdown",
   "metadata": {},
   "source": [
    "<font size=4>\n",
    "Los valores de las variables X e Y se extraen de las columnas del DataFrame."
   ]
  },
  {
   "cell_type": "code",
   "execution_count": 18,
   "metadata": {
    "ExecuteTime": {
     "end_time": "2020-10-14T18:33:37.368645Z",
     "start_time": "2020-10-14T18:33:37.364023Z"
    }
   },
   "outputs": [
    {
     "name": "stdout",
     "output_type": "stream",
     "text": [
      "<class 'numpy.ndarray'> <class 'numpy.ndarray'>\n",
      "(397, 10)\n",
      "(397, 1)\n"
     ]
    }
   ],
   "source": [
    "x_train = df_train_norm.values[:,:-1]\n",
    "y_train = df_train_norm.values[:,-1:]\n",
    "print(type(x_train), type(y_train))\n",
    "print(x_train.shape)\n",
    "print(y_train.shape)"
   ]
  },
  {
   "cell_type": "code",
   "execution_count": 19,
   "metadata": {
    "ExecuteTime": {
     "end_time": "2020-10-14T18:33:37.380443Z",
     "start_time": "2020-10-14T18:33:37.370290Z"
    }
   },
   "outputs": [
    {
     "name": "stdout",
     "output_type": "stream",
     "text": [
      "<class 'numpy.ndarray'> <class 'numpy.ndarray'>\n",
      "(45, 10)\n",
      "(45, 1)\n"
     ]
    }
   ],
   "source": [
    "x_test = df_test_norm.values[:,:-1]\n",
    "y_test = df_test_norm.values[:,-1:]\n",
    "print(type(x_test), type(y_test))\n",
    "print(x_test.shape)\n",
    "print(y_test.shape)"
   ]
  },
  {
   "cell_type": "code",
   "execution_count": 20,
   "metadata": {
    "ExecuteTime": {
     "end_time": "2020-10-14T18:33:37.395412Z",
     "start_time": "2020-10-14T18:33:37.381714Z"
    }
   },
   "outputs": [],
   "source": [
    "train_x = x_train.T\n",
    "test_x = x_test.T\n",
    "\n",
    "train_y = y_train\n",
    "test_y =  y_test"
   ]
  },
  {
   "cell_type": "code",
   "execution_count": 21,
   "metadata": {
    "ExecuteTime": {
     "end_time": "2020-10-14T18:33:37.411090Z",
     "start_time": "2020-10-14T18:33:37.396888Z"
    }
   },
   "outputs": [
    {
     "name": "stdout",
     "output_type": "stream",
     "text": [
      "(10, 397)\n",
      "(397, 1)\n",
      "(10, 45)\n",
      "(45, 1)\n"
     ]
    }
   ],
   "source": [
    "print(train_x.shape)\n",
    "print(train_y.shape)\n",
    "print(test_x.shape)\n",
    "print(test_y.shape)"
   ]
  },
  {
   "cell_type": "code",
   "execution_count": 22,
   "metadata": {
    "ExecuteTime": {
     "end_time": "2020-10-14T18:33:37.423890Z",
     "start_time": "2020-10-14T18:33:37.412726Z"
    }
   },
   "outputs": [
    {
     "data": {
      "text/plain": [
       "array([[ 0.40069636, -0.05663892],\n",
       "       [-0.95685023,  1.04246315],\n",
       "       [ 0.11504736, -0.5229209 ],\n",
       "       [-0.54823676,  1.10973586],\n",
       "       [ 0.49659941,  0.58380818],\n",
       "       [ 0.23115784,  0.64709229],\n",
       "       [ 1.34156994,  0.59026049],\n",
       "       [-0.80529014, -0.03306747],\n",
       "       [-0.48888355, -0.44135901],\n",
       "       [-0.95923924,  0.80014158]])"
      ]
     },
     "execution_count": 22,
     "metadata": {},
     "output_type": "execute_result"
    }
   ],
   "source": [
    "train_x[:,1:3]"
   ]
  },
  {
   "cell_type": "markdown",
   "metadata": {},
   "source": [
    "    \n",
    "## 1. Se inicializan las variables del algoritmo que define la relación entre X y Y. "
   ]
  },
  {
   "cell_type": "markdown",
   "metadata": {},
   "source": [
    "<font size=4>\n",
    "Debido a que las variables X y Y fueron normalizadas a distribuciones con un deviación estándard de 1, las variables $w$ se inicializan con valores pequeños, mientras que los biases se inicializan a cero."
   ]
  },
  {
   "cell_type": "code",
   "execution_count": 23,
   "metadata": {
    "ExecuteTime": {
     "end_time": "2020-10-14T18:33:37.435589Z",
     "start_time": "2020-10-14T18:33:37.427599Z"
    }
   },
   "outputs": [],
   "source": [
    "def initialize_params(dim):\n",
    "    \"\"\"\n",
    "    This function creates a vector of zeros of shape (dim, 1) for w and initializes b to 0.\n",
    "    \n",
    "    Argument:\n",
    "    dim -- size of the w vector we want (or number of parameters in this case)\n",
    "    \n",
    "    Returns:\n",
    "    w -- initialized vector of shape (dim, 1)\n",
    "    b -- initialized scalar (corresponds to the bias)\n",
    "    \"\"\"\n",
    "    \n",
    "    w = np.reshape(np.random.uniform(-0.1, 0.1, dim), (dim, 1))\n",
    "    b = 0\n",
    "\n",
    "    assert(w.shape == (dim, 1))\n",
    "    assert(isinstance(b, float) or isinstance(b, int))\n",
    "    \n",
    "    return w, b"
   ]
  },
  {
   "cell_type": "code",
   "execution_count": 24,
   "metadata": {
    "ExecuteTime": {
     "end_time": "2020-10-14T18:33:37.448428Z",
     "start_time": "2020-10-14T18:33:37.438395Z"
    }
   },
   "outputs": [
    {
     "name": "stdout",
     "output_type": "stream",
     "text": [
      "w = [[-0.05032168]\n",
      " [ 0.09113527]\n",
      " [-0.01397849]\n",
      " [-0.01823775]\n",
      " [ 0.02540766]\n",
      " [-0.04455884]\n",
      " [-0.02532309]\n",
      " [ 0.03895808]\n",
      " [ 0.05265563]\n",
      " [ 0.00060459]]\n",
      "b = 0\n"
     ]
    }
   ],
   "source": [
    "#Testing the function initialize_params (dim)\n",
    "\n",
    "dim = train_x.shape[0]\n",
    "w, b = initialize_params(dim)\n",
    "print (\"w = \" + str(w))\n",
    "print (\"b = \" + str(b))"
   ]
  },
  {
   "cell_type": "markdown",
   "metadata": {},
   "source": [
    "   \n",
    "## 2. Calculo de la función de costo y sus derivadas parciales"
   ]
  },
  {
   "cell_type": "markdown",
   "metadata": {},
   "source": [
    "<font size=4>\n",
    "Una vez inicializados los pesos y los biases, se calcula la función de costo, y también sus derivadas parciales respecto a cada uno de los pesos y los biases. Estas derivadas serán empleadas para proponer nuevos valores tanto para los pesos como para los biases. \n",
    "\n",
    "La funcion *propagate( )* calcula la función de costo y su gradiente:\n",
    "\n",
    "- Se tiene X\n",
    "- Se calcula $A = (w^T X + b) = (a^{(1)}, a^{(2)}, ..., a^{(m-1)}, a^{(m)})$\n",
    "- Se calcula la función de costo: $J = \\frac{1}{m}\\sum_{i=1}^{m}(y^{(i)} -F(x^{(i)}))^2$\n",
    "\n",
    "\n",
    "Las derivadas de la funcion de costo respecto a los pesos $ w$ y el bias $ b$ son:\n",
    "\n",
    "\n",
    "$$ \\frac{\\partial J}{\\partial w} = \\frac{1}{m}X(A-Y)^T\\tag{7}$$\n",
    "$$ \\frac{\\partial J}{\\partial b} = \\frac{1}{m} \\sum_{i=1}^m (F(x^{(i)})-y^{(i)}))\\tag{8}$$"
   ]
  },
  {
   "cell_type": "code",
   "execution_count": 25,
   "metadata": {
    "ExecuteTime": {
     "end_time": "2020-10-14T18:33:37.459177Z",
     "start_time": "2020-10-14T18:33:37.450181Z"
    }
   },
   "outputs": [],
   "source": [
    "#Función para transformar los efectos no lineales. En el presente caso se considera un modelo completamente\n",
    "#lineal. Por ello la función es la identidad.\n",
    "\n",
    "def identity(z):\n",
    "    \"\"\"\n",
    "    Arguments:\n",
    "    z -- A scalar or numpy array of any size.\n",
    "\n",
    "    Return:\n",
    "    s -- z\n",
    "    \"\"\"\n",
    "    s = 1.0 * z\n",
    "    \n",
    "    return s"
   ]
  },
  {
   "cell_type": "code",
   "execution_count": 26,
   "metadata": {
    "ExecuteTime": {
     "end_time": "2020-10-14T18:33:37.471071Z",
     "start_time": "2020-10-14T18:33:37.460634Z"
    }
   },
   "outputs": [],
   "source": [
    "def propagate(w, b, X, Y,X_val,Y_val):\n",
    "    \n",
    "    m = X.shape[1]\n",
    "    m_val = X.shape[1]\n",
    "    \n",
    "    A = identity(np.dot(w.T, X)+b)\n",
    "    A_val = identity(np.dot(w.T,X_val)+b)\n",
    "    \n",
    "    cost = (1/m)*np.sum((Y-A)**2)\n",
    "    cost_val = (1/m_val)*np.sum((Y_val-A_val)**2)\n",
    "    \n",
    "    dw = (1/m)*np.dot(X, (A-Y).T)\n",
    "    \n",
    "    db = (1/m)*np.sum(A-Y)\n",
    "    \n",
    "\n",
    "    assert(dw.shape == w.shape)\n",
    "    assert(db.dtype == float)\n",
    "    cost = np.squeeze(cost)\n",
    "    cost_val = np.squeeze(cost_val)\n",
    "    assert(cost.shape == ())\n",
    "    \n",
    "    grads = {\"dw\": dw,\n",
    "             \"db\": db}\n",
    "    \n",
    "    return grads, cost, cost_val"
   ]
  },
  {
   "cell_type": "markdown",
   "metadata": {},
   "source": [
    "## 3. Actualizacion de los pesos y el bias"
   ]
  },
  {
   "cell_type": "markdown",
   "metadata": {},
   "source": [
    "<font size=4>\n",
    "    \n",
    "La función *optimize(  )*  actualiza a los pesos $w$ y al bias $b$ usando el método de gradiente descendente.\n",
    "Se calcula la función de costo tanto para las muestras empleadas en el entrenamiento como para las muestras en el desarrollo del aprendizaje.\n",
    "    \n",
    "Los pesos $ w $ y el bias $ b $ son modificados en cada época hasta que la función de costo $ J $ llega a su valor mínimo. \n",
    "\n",
    "Para el peso $ w $, la regla de actualización es $ w = w - \\alpha \\text {} dw $, donde $ \\alpha $ es el parámetro de aprendizaje.\n",
    "\n",
    "Para el bias $ b $, la regla de actualización es $ b = b - \\alpha \\text {} db $, donde $ \\alpha $ es el parámetro de define la relación de aprendizaje."
   ]
  },
  {
   "cell_type": "code",
   "execution_count": 27,
   "metadata": {
    "ExecuteTime": {
     "end_time": "2020-10-14T18:33:37.482979Z",
     "start_time": "2020-10-14T18:33:37.472754Z"
    }
   },
   "outputs": [],
   "source": [
    "def optimize(w, b, X, Y, X_val, Y_val, epochs, learning_rate, print_cost = False):\n",
    "    \n",
    "    costs = []\n",
    "    costs_val = []\n",
    "    \n",
    "    for i in range(epochs):\n",
    "        \n",
    "        \n",
    "        grads, cost, cost_val = propagate(w, b, X, Y,X_val,Y_val)\n",
    "        \n",
    "        dw = grads[\"dw\"]\n",
    "        db = grads[\"db\"]\n",
    "        \n",
    "        w = w-learning_rate*dw\n",
    "        b = b-learning_rate*db\n",
    "        \n",
    "        if i % 100 == 0:\n",
    "            costs.append(cost)\n",
    "            costs_val.append(cost_val)\n",
    "        \n",
    "        # Print the cost every 100 training iterations\n",
    "        if print_cost and i % 100 == 0:\n",
    "            print (\"Cost and Cost_val after epoch %i: %f %f\" %(i, cost, cost_val))\n",
    "    \n",
    "    params = {\"w\": w,\n",
    "              \"b\": b}\n",
    "    \n",
    "    grads = {\"dw\": dw,\n",
    "             \"db\": db}\n",
    "    \n",
    "    return params, grads, costs, costs_val"
   ]
  },
  {
   "cell_type": "markdown",
   "metadata": {},
   "source": [
    "## 4. Calculo de inferencias (predicciones)"
   ]
  },
  {
   "cell_type": "markdown",
   "metadata": {},
   "source": [
    "<font size=4>\n",
    "    \n",
    "Una vez que se encuentran los valores del peso w y del bias b que minimizan la función de costo, se emplean para inferir los valores Y asociados con un conjunto de datos X.\n",
    "\n",
    "La función `predic()` calcula $F(w ^ T X + b)$ empleando los valores de $w$ y $b$ para los cuales el costo es mínimo.\n"
   ]
  },
  {
   "cell_type": "code",
   "execution_count": 28,
   "metadata": {
    "ExecuteTime": {
     "end_time": "2020-10-14T18:33:37.496831Z",
     "start_time": "2020-10-14T18:33:37.484436Z"
    }
   },
   "outputs": [],
   "source": [
    "def predict(w, b, X):\n",
    "    \n",
    "    w = w.reshape(X.shape[0], 1)\n",
    "    \n",
    "    A = identity(np.dot(w.T, X)+b)\n",
    "    \n",
    "    return A"
   ]
  },
  {
   "cell_type": "markdown",
   "metadata": {},
   "source": [
    "<font size=4>\n",
    "Para calcular la precision del modelo se usa el error medio cuadático, MSE:\n",
    "\n",
    "$$100-MSE*100$$\n",
    "\n",
    "es decir\n",
    "\n",
    "$$100-(\\dfrac{1}{m}\\Sigma_{i}(y_{i}-a_{i})^2)*100$$"
   ]
  },
  {
   "cell_type": "markdown",
   "metadata": {},
   "source": [
    "## 5. Modelo: se juntan los pasos 1, 2,  y 3"
   ]
  },
  {
   "cell_type": "code",
   "execution_count": 29,
   "metadata": {
    "ExecuteTime": {
     "end_time": "2020-10-14T18:33:37.513704Z",
     "start_time": "2020-10-14T18:33:37.499558Z"
    }
   },
   "outputs": [],
   "source": [
    "def model(X_train, Y_train, val_ratio, epochs = 2000, learning_rate = 0.5, print_cost = False):\n",
    "\n",
    "    \n",
    "    train_ratio = int((1-val_ratio)*X_train.shape[1])\n",
    "    X_val = X_train[:,train_ratio:]\n",
    "    Y_val = Y_train[:,train_ratio:]\n",
    "\n",
    "    X_train = X_train[:,:train_ratio]\n",
    "    Y_train = Y_train[:,:train_ratio]\n",
    "    \n",
    "    print(\"Train\",X_train.shape,Y_train.shape)\n",
    "    print(\"val\",X_val.shape,Y_val.shape)\n",
    "    \n",
    "    # 1. inicializacion de parametros\n",
    "    w, b = initialize_params(X_train.shape[0])\n",
    "\n",
    "    # 2. y 3. Actualizacion de parametros\n",
    "    parameters, grads, costs, costs_val = optimize(w, b, X_train, Y_train, X_val, Y_val, epochs, learning_rate, print_cost = print_cost)\n",
    "    \n",
    "    w = parameters[\"w\"]\n",
    "    b = parameters[\"b\"]\n",
    "    \n",
    "    # 4. Predicciones\n",
    "    Y_prediction_val = predict(w, b, X_val)\n",
    "    Y_prediction_train = predict(w, b, X_train)\n",
    "\n",
    "    # Print train/test Errors\n",
    "    print(\"train accuracy: {} %\".format(100 - np.mean(np.power(Y_prediction_train - Y_train, 2)) * 100))\n",
    "    print(\"test accuracy: {} %\".format(100 - np.mean(np.power(Y_prediction_val - Y_val, 2)) * 100))\n",
    "\n",
    "    \n",
    "    d = {\"costs\": costs, \"costs_val\": costs_val,\n",
    "         \"Y_prediction_val\": Y_prediction_val, \n",
    "         \"Y_prediction_train\" : Y_prediction_train, \n",
    "         \"w\" : w, \n",
    "         \"b\" : b,\n",
    "         \"learning_rate\" : learning_rate,\n",
    "         \"epochs\": epochs}\n",
    "    \n",
    "    return d"
   ]
  },
  {
   "cell_type": "code",
   "execution_count": 30,
   "metadata": {
    "ExecuteTime": {
     "end_time": "2020-10-14T18:33:37.528465Z",
     "start_time": "2020-10-14T18:33:37.516206Z"
    }
   },
   "outputs": [
    {
     "name": "stdout",
     "output_type": "stream",
     "text": [
      "397\n"
     ]
    }
   ],
   "source": [
    "print(train_x.shape[1])\n"
   ]
  },
  {
   "cell_type": "code",
   "execution_count": 31,
   "metadata": {
    "ExecuteTime": {
     "end_time": "2020-10-14T18:33:37.678437Z",
     "start_time": "2020-10-14T18:33:37.530493Z"
    }
   },
   "outputs": [
    {
     "name": "stdout",
     "output_type": "stream",
     "text": [
      "Train (10, 357) (1, 357)\n",
      "val (10, 40) (1, 40)\n",
      "Cost and Cost_val after epoch 0: 1.347040 0.166166\n",
      "Cost and Cost_val after epoch 100: 0.512336 0.067794\n",
      "Cost and Cost_val after epoch 200: 0.482178 0.066584\n",
      "Cost and Cost_val after epoch 300: 0.476992 0.067064\n",
      "Cost and Cost_val after epoch 400: 0.475809 0.067449\n",
      "Cost and Cost_val after epoch 500: 0.475436 0.067672\n",
      "Cost and Cost_val after epoch 600: 0.475265 0.067794\n",
      "Cost and Cost_val after epoch 700: 0.475159 0.067860\n",
      "Cost and Cost_val after epoch 800: 0.475079 0.067895\n",
      "Cost and Cost_val after epoch 900: 0.475011 0.067913\n",
      "Cost and Cost_val after epoch 1000: 0.474951 0.067921\n",
      "Cost and Cost_val after epoch 1100: 0.474898 0.067924\n",
      "Cost and Cost_val after epoch 1200: 0.474849 0.067923\n",
      "Cost and Cost_val after epoch 1300: 0.474803 0.067920\n",
      "Cost and Cost_val after epoch 1400: 0.474761 0.067916\n",
      "Cost and Cost_val after epoch 1500: 0.474722 0.067912\n",
      "Cost and Cost_val after epoch 1600: 0.474686 0.067907\n",
      "Cost and Cost_val after epoch 1700: 0.474651 0.067901\n",
      "Cost and Cost_val after epoch 1800: 0.474619 0.067896\n",
      "Cost and Cost_val after epoch 1900: 0.474588 0.067890\n",
      "train accuracy: 52.54417537092734 %\n",
      "test accuracy: 39.41363661091998 %\n"
     ]
    }
   ],
   "source": [
    "epochs = 2000\n",
    "learning_rate = 0.01\n",
    "val_ratio = 0.1\n",
    "d = model(train_x, train_y.T, val_ratio=val_ratio, epochs = epochs, \n",
    "          learning_rate = learning_rate, print_cost = True)"
   ]
  },
  {
   "cell_type": "code",
   "execution_count": 32,
   "metadata": {
    "ExecuteTime": {
     "end_time": "2020-10-14T18:33:37.802355Z",
     "start_time": "2020-10-14T18:33:37.680051Z"
    }
   },
   "outputs": [
    {
     "data": {
      "image/png": "[encoded data removed]",
      "text/plain": [
       "<Figure size 432x288 with 1 Axes>"
      ]
     },
     "metadata": {
      "needs_background": "light"
     },
     "output_type": "display_data"
    }
   ],
   "source": [
    "costs = np.squeeze(d['costs'])\n",
    "costs_val = np.squeeze(d['costs_val'])\n",
    "\n",
    "plt.plot(costs)\n",
    "plt.plot(costs_val)\n",
    "plt.ylabel('cost')\n",
    "plt.xlabel('epochs (x100)')\n",
    "plt.title(\"Learning rate =\" + str(d[\"learning_rate\"]))\n",
    "plt.show()"
   ]
  },
  {
   "cell_type": "code",
   "execution_count": 33,
   "metadata": {
    "ExecuteTime": {
     "end_time": "2020-10-14T18:33:38.217284Z",
     "start_time": "2020-10-14T18:33:37.803920Z"
    }
   },
   "outputs": [
    {
     "name": "stdout",
     "output_type": "stream",
     "text": [
      "learning rate is:  0.01\n",
      "Train (10, 357) (1, 357)\n",
      "val (10, 40) (1, 40)\n",
      "train accuracy: 52.47021669215092 %\n",
      "test accuracy: 39.13880026149532 %\n",
      "\n",
      "-------------------------------------------------------\n",
      "\n",
      "learning rate is:  0.005\n",
      "Train (10, 357) (1, 357)\n",
      "val (10, 40) (1, 40)\n",
      "train accuracy: 52.52634541908226 %\n",
      "test accuracy: 39.40955924431974 %\n",
      "\n",
      "-------------------------------------------------------\n",
      "\n",
      "learning rate is:  0.001\n",
      "Train (10, 357) (1, 357)\n",
      "val (10, 40) (1, 40)\n",
      "train accuracy: 51.758110656663796 %\n",
      "test accuracy: 39.64692105445009 %\n",
      "\n",
      "-------------------------------------------------------\n",
      "\n"
     ]
    },
    {
     "data": {
      "image/png": "[encoded data removed]",
      "text/plain": [
       "<Figure size 432x288 with 1 Axes>"
      ]
     },
     "metadata": {
      "needs_background": "light"
     },
     "output_type": "display_data"
    }
   ],
   "source": [
    "learning_rates = [0.01, 0.005, 0.001]\n",
    "val_ratio = 0.1\n",
    "models = {}\n",
    "for i in learning_rates:\n",
    "    print (\"learning rate is: \", i)\n",
    "    models[str(i)] = model(train_x, train_y.T, val_ratio=val_ratio, epochs = 2000, learning_rate = i, print_cost = False)\n",
    "    print ('\\n' + \"-------------------------------------------------------\" + '\\n')\n",
    "\n",
    "for i in learning_rates:\n",
    "    plt.plot(np.squeeze(models[str(i)][\"costs\"]), label= str(models[str(i)][\"learning_rate\"]))\n",
    "    plt.plot(np.squeeze(models[str(i)][\"costs_val\"]), label= str(models[str(i)][\"learning_rate\"]))\n",
    "    \n",
    "plt.ylabel('cost')\n",
    "plt.xlabel('epocs (x100)')\n",
    "\n",
    "legend = plt.legend(loc='upper center', shadow=True)\n",
    "frame = legend.get_frame()\n",
    "frame.set_facecolor('0.90')\n",
    "plt.show()"
   ]
  },
  {
   "cell_type": "markdown",
   "metadata": {},
   "source": [
    "<font size=5 color='blue'>\n",
    "\n",
    "# <center> Non-Linear Regression Analysis </center>"
   ]
  },
  {
   "cell_type": "markdown",
   "metadata": {},
   "source": [
    "<font size=4>\n",
    "    \n",
    "Par nuestro nuevo modelo de aprendizaje, consideramos que la variable objetivo Y no varía linealmente con los rasgos X, sino que la variación es ligeramente no lineal. Esto lo modelamos empleandp como función de transformación una función del tipo sigmoid. Es decir que tenga una forma de $\\textbf {S}$. Por ejemplo: $$ $$\n",
    "    $$ tanh(x) $$"
   ]
  },
  {
   "cell_type": "code",
   "execution_count": 34,
   "metadata": {
    "ExecuteTime": {
     "end_time": "2020-10-14T18:33:38.221849Z",
     "start_time": "2020-10-14T18:33:38.218917Z"
    }
   },
   "outputs": [],
   "source": [
    "def tanh(x):\n",
    "    return (np.exp(x)-np.exp(-x))/(np.exp(x)+np.exp(-x))"
   ]
  },
  {
   "cell_type": "code",
   "execution_count": 35,
   "metadata": {
    "ExecuteTime": {
     "end_time": "2020-10-14T18:33:38.392002Z",
     "start_time": "2020-10-14T18:33:38.223161Z"
    }
   },
   "outputs": [
    {
     "data": {
      "text/plain": [
       "<Figure size 936x576 with 0 Axes>"
      ]
     },
     "metadata": {},
     "output_type": "display_data"
    },
    {
     "data": {
      "image/png": "[encoded data removed]",
      "text/plain": [
       "<Figure size 936x576 with 1 Axes>"
      ]
     },
     "metadata": {
      "needs_background": "light"
     },
     "output_type": "display_data"
    }
   ],
   "source": [
    "#The following arrays are generated for plotting the Function F(x, weight_0, bias_0)\n",
    "x_ = np.arange(-2, 2.0, 0.1)\n",
    "y_ = 1.7159*tanh((2/3*x_))\n",
    "\n",
    "#Samples and function F are plotted\n",
    "plt.figure(figsize=(13,8))\n",
    "plt.figure(figsize=(13,8))\n",
    "plt.rc('xtick', labelsize=16)\n",
    "plt.rc('ytick', labelsize=16)\n",
    "plt.rc('legend', fontsize=16)\n",
    "plt.ylabel('Y', fontsize=16)\n",
    "plt.xlabel('X', fontsize=16)\n",
    "plt.grid(True)\n",
    "plt.title('Sigmoid-type = 2.7159*tanh((2/3*x)', size=20)\n",
    "\n",
    "#Plotting function\n",
    "plt.plot(x_, y_, color='green', lw=4)\n",
    "\n",
    "plt.show()"
   ]
  },
  {
   "cell_type": "markdown",
   "metadata": {
    "ExecuteTime": {
     "end_time": "2020-10-13T20:46:28.106905Z",
     "start_time": "2020-10-13T20:46:28.101767Z"
    }
   },
   "source": [
    "<font size=5 color='blue'>\n",
    "Sistema de aprendizaje que relaciona las variables X y Y"
   ]
  },
  {
   "cell_type": "markdown",
   "metadata": {},
   "source": [
    "<font size= 4>\n",
    "Se tienen $m$ muestras. \n",
    "    \n",
    "Para una muestra $x^{(i)}$:\n",
    "\n",
    "$$z^{(i)} = w^T x^{(i)} + b \\tag{1}$$\n",
    "\n",
    "$z^{(i)}$ es la combinacion lineal entre los pesos ($w$) y la muestra $x^{(i)}$ + el bias b. Posteriormente esta sumatoria es transformada, para generar le valor de salida $a^{(i)}$, mediante una función. En el presente caso función es una función del tipo sigmoide (*tanh*), porque consideramos que la relación es ligeramente no-lineal.\n",
    "\n",
    "$$ a^{(i)} = sigmoid-type(z^{(i)}\\tag{2})$$ \n",
    "\n",
    "La funcion de perdida (*loss*), tambien llamada costo *cost*, $\\textbf {J}$, es el promedio, sobre todas las muestras, de la diferencia al cuadrado entre el valor medido ($y^{(i)}$) y el valor que predice la funcion de activacion ($a^{(i)}$).  \n",
    "\n",
    "$$ J = \\frac{1}{m} \\sum_{i=1}^m (a^{(i)} - y^{(i)})^2\\tag{3}$$\n",
    "\n",
    "\n"
   ]
  },
  {
   "cell_type": "markdown",
   "metadata": {},
   "source": [
    "<font size=4>\n",
    "\n",
    "Si la función del tipo sigmoide empleada es: $$ 1.7159*tanh(2*z^{(i)}/3) $$\n",
    "\n",
    "\n",
    "La funcion de costo, $J$ está dada por:\n",
    "\n",
    "$$ J = \\dfrac{1}{m}\\sum_{i=0}^{m}(1.7159*tanh(2*z^{(i)}/3)-y^{(i)})^2$$\n",
    "\n",
    "\n",
    "Las derivadas de la funcion de costo respecto a los pesos $ w$ y el bias $ b$ es:\n",
    "\n",
    "\n",
    "$$ \\dfrac{\\partial J(\\omega, b)}{\\partial \\omega} = \\dfrac{2}{m}\\sum_{i}(a_1tanh(a_2(\\omega x_i + b)) -y_i)(a_1(1-tanh^2(a_2(\\omega x_i + b))))(a_2x_i)$$\n",
    "\n",
    "$$ \\dfrac{\\partial J(\\omega, b)}{\\partial b} = \\dfrac{2}{m}\\sum_{i}(a_1tanh(a_2(\\omega x_i + b)) -y_i)(a_1(1-tanh^2(a_2(\\omega x_i + b))))a_2$$\n",
    "\n"
   ]
  },
  {
   "cell_type": "markdown",
   "metadata": {},
   "source": [
    "    \n",
    "## 1. Se inicializan las variables del sistema de aprendizaje que define la relación entre X y Y. "
   ]
  },
  {
   "cell_type": "code",
   "execution_count": 36,
   "metadata": {
    "ExecuteTime": {
     "end_time": "2020-10-14T18:33:38.397288Z",
     "start_time": "2020-10-14T18:33:38.393454Z"
    }
   },
   "outputs": [],
   "source": [
    "def initialize_params_1(dim):\n",
    "    \"\"\"\n",
    "    This function creates a vector of zeros of shape (dim, 1) for w and initializes b to 0.\n",
    "    \n",
    "    Argument:\n",
    "    dim -- size of the w vector we want (or number of parameters in this case)\n",
    "    \n",
    "    Returns:\n",
    "    w -- initialized vector of shape (dim, 1)\n",
    "    b -- initialized scalar (corresponds to the bias)\n",
    "    \"\"\"\n",
    "    \n",
    "    w = np.reshape(np.random.uniform(-0.1, 0.1, dim), (dim, 1))\n",
    "    b = 0\n",
    "\n",
    "    assert(w.shape == (dim, 1))\n",
    "    assert(isinstance(b, float) or isinstance(b, int))\n",
    "    \n",
    "    return w, b"
   ]
  },
  {
   "cell_type": "code",
   "execution_count": 37,
   "metadata": {
    "ExecuteTime": {
     "end_time": "2020-10-14T18:33:38.409423Z",
     "start_time": "2020-10-14T18:33:38.398526Z"
    }
   },
   "outputs": [],
   "source": [
    "def atanh(x):\n",
    "    return 1.7159*tanh(2*x/3)"
   ]
  },
  {
   "cell_type": "code",
   "execution_count": 38,
   "metadata": {
    "ExecuteTime": {
     "end_time": "2020-10-14T18:33:38.421088Z",
     "start_time": "2020-10-14T18:33:38.411227Z"
    }
   },
   "outputs": [],
   "source": [
    "def d_atanh(z):\n",
    "    return 1.7159*(1-np.square(atanh(z)))*(2/3)"
   ]
  },
  {
   "cell_type": "code",
   "execution_count": 39,
   "metadata": {
    "ExecuteTime": {
     "end_time": "2020-10-14T18:33:38.433673Z",
     "start_time": "2020-10-14T18:33:38.422227Z"
    }
   },
   "outputs": [
    {
     "name": "stdout",
     "output_type": "stream",
     "text": [
      "w = [[ 0.06435358]\n",
      " [-0.01386676]\n",
      " [ 0.06921225]\n",
      " [ 0.00335994]\n",
      " [-0.05425479]\n",
      " [ 0.01739253]\n",
      " [ 0.09390941]\n",
      " [ 0.03064898]\n",
      " [-0.02841182]\n",
      " [ 0.08999564]]\n",
      "b = 0\n"
     ]
    }
   ],
   "source": [
    "# Probando el código\n",
    "\n",
    "dim = train_x.shape[0]\n",
    "w, b = initialize_params(dim)\n",
    "print (\"w = \" + str(w))\n",
    "print (\"b = \" + str(b))"
   ]
  },
  {
   "cell_type": "code",
   "execution_count": 40,
   "metadata": {
    "ExecuteTime": {
     "end_time": "2020-10-14T18:33:38.448424Z",
     "start_time": "2020-10-14T18:33:38.434880Z"
    }
   },
   "outputs": [],
   "source": [
    "def propagate_1(w, b, X, Y, X_val, Y_val):\n",
    "    \n",
    "    m = X.shape[1]\n",
    "    m_val = X.shape[1]\n",
    "    \n",
    "    A = atanh(np.dot(w.T, X)+b)\n",
    "    A_val = atanh(np.dot(w.T,X_val)+b)\n",
    "    \n",
    "    cost = (1/m)*np.sum((Y-A)**2)\n",
    "    cost_val = (1/m_val)*np.sum((Y_val-A_val)**2)\n",
    "    \n",
    "    dA = A-Y\n",
    "    dZ = d_atanh(np.dot(w.T, X)+b)\n",
    "    \n",
    "    dw = (1/m)*np.dot(dA, (dZ*X).T).T    \n",
    "    db = (1/m)*np.sum((A-Y)*(1-np.power(A, 2)), axis=1, keepdims=True)  \n",
    "    \n",
    "    \n",
    "    assert(dw.shape == w.shape)\n",
    "    assert(db.dtype == float)\n",
    "    cost = np.squeeze(cost)\n",
    "    assert(cost.shape == ())\n",
    "    \n",
    "    grads = {\"dw\": dw,\n",
    "             \"db\": db}\n",
    "    \n",
    "    return grads, cost, cost_val"
   ]
  },
  {
   "cell_type": "code",
   "execution_count": 41,
   "metadata": {
    "ExecuteTime": {
     "end_time": "2020-10-14T18:33:38.464687Z",
     "start_time": "2020-10-14T18:33:38.449808Z"
    }
   },
   "outputs": [
    {
     "name": "stdout",
     "output_type": "stream",
     "text": [
      "dw = [[ -5.07757178]\n",
      " [-13.08893287]]\n",
      "db = [[0.17455838]]\n",
      "cost = 3.6063356189939464\n"
     ]
    }
   ],
   "source": [
    "x1_val = np.array([[1.,2.,-2.],[2.,4.,-3.2]])\n",
    "y1_val = np.array([[1,0,2]])\n",
    "\n",
    "w, b, X, Y = np.array([[1.],[2.]]), 2., np.array([[1.,2.,-1.],[3.,4.,-3.2]]), np.array([[1,0,1]])\n",
    "grads, cost, cost_val = propagate_1(w, b, X, Y,x1_val, y1_val)\n",
    "print (\"dw = \" + str(grads[\"dw\"]))\n",
    "print (\"db = \" + str(grads[\"db\"]))\n",
    "print (\"cost = \" + str(cost))\n"
   ]
  },
  {
   "cell_type": "markdown",
   "metadata": {},
   "source": [
    "<font size=4>\n",
    "    \n",
    "La funcion *optimize_1(  )*  actualiza los pesos $w$ y el bias $b$ empleando el método de gradiente descendente.\n",
    "\n",
    "Los pesos $ w $ y el bias $ b $ son modificados hasta alcanzar el mínimo de la función de costo $ J $. \n",
    "\n",
    "Para el peso $ w $, la regla de actualización es $ w = w - \\alpha \\text {} dw $, donde $ \\alpha $ es el parámetro de aprendizaje (learning_rate).\n",
    "\n",
    "Para el bias $ b $, la regla de actualización es $ b = b - \\alpha \\text {} db $, donde $ \\alpha $ es el parámetro que define la relación de aprendizaje (learning_rate)."
   ]
  },
  {
   "cell_type": "code",
   "execution_count": 42,
   "metadata": {
    "ExecuteTime": {
     "end_time": "2020-10-14T18:33:38.476696Z",
     "start_time": "2020-10-14T18:33:38.465852Z"
    }
   },
   "outputs": [],
   "source": [
    "def optimize_1(w, b, X, Y, X_val, Y_val, epochs, learning_rate, print_cost = False):\n",
    "    \n",
    "    costs = []\n",
    "    costs_val = []\n",
    "    \n",
    "    for i in range(epochs):\n",
    "        \n",
    "        grads, cost, cost_val = propagate_1(w, b, X, Y, X_val, Y_val)\n",
    "        \n",
    "        # Retrieve derivatives from grads\n",
    "        dw = grads[\"dw\"]\n",
    "        db = grads[\"db\"]\n",
    "        \n",
    "        # update parameters\n",
    "        w = w-learning_rate*dw\n",
    "        b = b-learning_rate*db\n",
    "        \n",
    "        # Record the costs\n",
    "        if i % 100 == 0:\n",
    "            costs.append(cost)\n",
    "            costs_val.append(cost_val)\n",
    "        \n",
    "        # Print the cost every 100 training iterations\n",
    "        if print_cost and i % 100 == 0:\n",
    "            print (\"Cost and Cost_val after iteration %i: %f %f\" %(i, cost, cost_val))\n",
    "    \n",
    "    params = {\"w\": w,\n",
    "              \"b\": b}\n",
    "    \n",
    "    grads = {\"dw\": dw,\n",
    "             \"db\": db}\n",
    "    \n",
    "    return params, grads, costs, costs_val"
   ]
  },
  {
   "cell_type": "code",
   "execution_count": 43,
   "metadata": {
    "ExecuteTime": {
     "end_time": "2020-10-14T18:33:38.499549Z",
     "start_time": "2020-10-14T18:33:38.478014Z"
    }
   },
   "outputs": [
    {
     "name": "stdout",
     "output_type": "stream",
     "text": [
      "w = [[ 5.57950249]\n",
      " [13.81103216]]\n",
      "b = [[1.83448553]]\n",
      "dw = [[ -5.08859121]\n",
      " [-13.12418521]]\n",
      "db = [[0.18412642]]\n"
     ]
    }
   ],
   "source": [
    "epochs = 100\n",
    "params, grads, costs, costs_val = optimize_1(w, b, X, Y, x1_val, y1_val, epochs=epochs, learning_rate = 0.009, print_cost = False)\n",
    "\n",
    "print (\"w = \" + str(params[\"w\"]))\n",
    "print (\"b = \" + str(params[\"b\"]))\n",
    "print (\"dw = \" + str(grads[\"dw\"]))\n",
    "print (\"db = \" + str(grads[\"db\"]))"
   ]
  },
  {
   "cell_type": "markdown",
   "metadata": {},
   "source": [
    "<font size=4>\n",
    "Una vez que se encuentran los valores del peso w y del bias b que minimizan la función de costo, se emplean para inferir los valores Y asociados a un conjunto de datos X.\n",
    "\n",
    "La función *predic ()* calcula $ Y = F(w ^ T X + b) $\n"
   ]
  },
  {
   "cell_type": "code",
   "execution_count": 44,
   "metadata": {
    "ExecuteTime": {
     "end_time": "2020-10-14T18:33:38.511873Z",
     "start_time": "2020-10-14T18:33:38.500772Z"
    }
   },
   "outputs": [],
   "source": [
    "def predict_1(w, b, X):\n",
    "    \n",
    "    #m = X.shape[1]\n",
    "    #Y_prediction = np.zeros((1,m))\n",
    "    w = w.reshape(X.shape[0], 1)\n",
    "    \n",
    "    # Compute vector \"A\" predicting the probabilities of a cat being present in the picture\n",
    "    #A = sigmoid(np.dot(w.T, X)+b)\n",
    "    A = atanh(np.dot(w.T, X)+b)\n",
    "    \n",
    "    return A"
   ]
  },
  {
   "cell_type": "code",
   "execution_count": 45,
   "metadata": {
    "ExecuteTime": {
     "end_time": "2020-10-14T18:33:38.529391Z",
     "start_time": "2020-10-14T18:33:38.513353Z"
    }
   },
   "outputs": [
    {
     "name": "stdout",
     "output_type": "stream",
     "text": [
      "predictions = [[ 0.43606665  0.38070532 -0.37888495]]\n"
     ]
    }
   ],
   "source": [
    "w = np.array([[0.1124579],[0.23106775]])\n",
    "b = 0.0\n",
    "X = np.array([[1.,-1.1,-3.2],[1.2,2.,0.1]])\n",
    "print (\"predictions = \" + str(predict_1(w, b, X)))"
   ]
  },
  {
   "cell_type": "markdown",
   "metadata": {},
   "source": [
    "<font size=4>\n",
    "Para estructurar el modelo, se juntan todos las funciones implementadas en las partes anteriores, en el orden correcto.\n"
   ]
  },
  {
   "cell_type": "code",
   "execution_count": 46,
   "metadata": {
    "ExecuteTime": {
     "end_time": "2020-10-14T18:33:38.541160Z",
     "start_time": "2020-10-14T18:33:38.530742Z"
    }
   },
   "outputs": [],
   "source": [
    "def model_1(X_train, Y_train, val_ratio, epochs = 2000, learning_rate = 0.5, print_cost = False):\n",
    "    \"\"\"\n",
    "    Builds the logistic regression model by calling the function you've implemented previously\n",
    "    \n",
    "    Arguments:\n",
    "    X_train -- training set represented by a numpy array of shape (num_px * num_px * 3, m_train)\n",
    "    Y_train -- training labels represented by a numpy array (vector) of shape (1, m_train)\n",
    "    X_test -- test set represented by a numpy array of shape (num_px * num_px * 3, m_test)\n",
    "    Y_test -- test labels represented by a numpy array (vector) of shape (1, m_test)\n",
    "    epochs -- hyperparameter representing the number of iterations to optimize the parameters\n",
    "    learning_rate -- hyperparameter representing the learning rate used in the update rule of optimize()\n",
    "    print_cost -- Set to true to print the cost every 100 iterations\n",
    "    \n",
    "    Returns:\n",
    "    d -- dictionary containing information about the model.\n",
    "    \"\"\"\n",
    "    \n",
    "    train_ratio = int((1-val_ratio)*X_train.shape[1])\n",
    "    X_val = X_train[:,train_ratio:]\n",
    "    Y_val = Y_train[:,train_ratio:]\n",
    "\n",
    "    X_train = X_train[:,:train_ratio]\n",
    "    Y_train = Y_train[:,:train_ratio]\n",
    "    \n",
    "    print(\"Train\",X_train.shape,Y_train.shape)\n",
    "    print(\"val\",X_val.shape,Y_val.shape)\n",
    "\n",
    "    \n",
    "    # initialize parameters\n",
    "    w, b = initialize_params_1(X_train.shape[0])\n",
    "\n",
    "    # Gradient descent \n",
    "    parameters, grads, costs, costs_val = optimize_1(w, b, X_train, Y_train, X_val, Y_val, epochs, learning_rate, print_cost = print_cost)\n",
    "    \n",
    "    # Retrieve parameters w and b from dictionary \"parameters\"\n",
    "    w = parameters[\"w\"]\n",
    "    b = parameters[\"b\"]\n",
    "    \n",
    "    print(w.shape)\n",
    "    \n",
    "    # Predict test/train set examples\n",
    "    Y_prediction_val = predict_1(w, b, X_val)\n",
    "    Y_prediction_train = predict_1(w, b, X_train)\n",
    "\n",
    "    # Print train/test Errors\n",
    "    print(\"train accuracy: {} %\".format(100 - np.mean(np.power(Y_prediction_train - Y_train, 2)) * 100))\n",
    "    print(\"test accuracy: {} %\".format(100 - np.mean(np.power(Y_prediction_val - Y_val, 2)) * 100))\n",
    "\n",
    "    \n",
    "    d = {\"costs\": costs,\"costs_val\": costs_val,\n",
    "         \"Y_prediction_val\": Y_prediction_val, \n",
    "         \"Y_prediction_train\" : Y_prediction_train, \n",
    "         \"w\" : w, \n",
    "         \"b\" : b,\n",
    "         \"learning_rate\" : learning_rate,\n",
    "         \"num_iterations\": epochs}\n",
    "    \n",
    "    return d"
   ]
  },
  {
   "cell_type": "code",
   "execution_count": 47,
   "metadata": {
    "ExecuteTime": {
     "end_time": "2020-10-14T18:33:38.762666Z",
     "start_time": "2020-10-14T18:33:38.542481Z"
    }
   },
   "outputs": [
    {
     "name": "stdout",
     "output_type": "stream",
     "text": [
      "Train (10, 357) (1, 357)\n",
      "val (10, 40) (1, 40)\n",
      "Cost and Cost_val after iteration 0: 1.172081 0.151387\n",
      "Cost and Cost_val after iteration 100: 0.553085 0.073357\n",
      "Cost and Cost_val after iteration 200: 0.512948 0.070094\n",
      "Cost and Cost_val after iteration 300: 0.499078 0.069148\n",
      "Cost and Cost_val after iteration 400: 0.492433 0.068698\n",
      "Cost and Cost_val after iteration 500: 0.488739 0.068426\n",
      "Cost and Cost_val after iteration 600: 0.486493 0.068240\n",
      "Cost and Cost_val after iteration 700: 0.485041 0.068104\n",
      "Cost and Cost_val after iteration 800: 0.484062 0.067998\n",
      "Cost and Cost_val after iteration 900: 0.483381 0.067915\n",
      "(10, 1)\n",
      "train accuracy: 51.710117948281045 %\n",
      "test accuracy: 39.445300442300244 %\n"
     ]
    }
   ],
   "source": [
    "epochs = 1000\n",
    "learning_rate = 0.005\n",
    "val_ratio = 0.1\n",
    "\n",
    "d = model_1(train_x, train_y.T, val_ratio=val_ratio, epochs = epochs, \n",
    "          learning_rate = learning_rate, print_cost = True)"
   ]
  },
  {
   "cell_type": "code",
   "execution_count": 48,
   "metadata": {
    "ExecuteTime": {
     "end_time": "2020-10-14T18:33:38.861909Z",
     "start_time": "2020-10-14T18:33:38.764148Z"
    }
   },
   "outputs": [
    {
     "data": {
      "image/png": "[encoded data removed]",
      "text/plain": [
       "<Figure size 432x288 with 1 Axes>"
      ]
     },
     "metadata": {
      "needs_background": "light"
     },
     "output_type": "display_data"
    }
   ],
   "source": [
    "costs = np.squeeze(d['costs'])\n",
    "costs_val = np.squeeze(d['costs_val'])\n",
    "\n",
    "plt.plot(costs, color='red')\n",
    "plt.plot(costs_val, color='green')\n",
    "plt.ylabel('cost')\n",
    "plt.xlabel('epoch x 100')\n",
    "plt.title(\"Learning rate =\" + str(d[\"learning_rate\"]))\n",
    "plt.show()"
   ]
  },
  {
   "cell_type": "code",
   "execution_count": 49,
   "metadata": {
    "ExecuteTime": {
     "end_time": "2020-10-14T18:33:39.471981Z",
     "start_time": "2020-10-14T18:33:38.864023Z"
    }
   },
   "outputs": [
    {
     "name": "stdout",
     "output_type": "stream",
     "text": [
      "learning rate is:  0.005\n",
      "Train (10, 357) (1, 357)\n",
      "val (10, 40) (1, 40)\n",
      "(10, 1)\n",
      "train accuracy: 51.701114975484806 %\n",
      "test accuracy: 39.554982030738586 %\n",
      "\n",
      "-------------------------------------------------------\n",
      "\n",
      "learning rate is:  0.003\n",
      "Train (10, 357) (1, 357)\n",
      "val (10, 40) (1, 40)\n",
      "(10, 1)\n",
      "train accuracy: 51.09530843998319 %\n",
      "test accuracy: 38.72934164758449 %\n",
      "\n",
      "-------------------------------------------------------\n",
      "\n",
      "learning rate is:  0.001\n",
      "Train (10, 357) (1, 357)\n",
      "val (10, 40) (1, 40)\n",
      "(10, 1)\n",
      "train accuracy: 47.95370254402774 %\n",
      "test accuracy: 38.131759699020776 %\n",
      "\n",
      "-------------------------------------------------------\n",
      "\n"
     ]
    },
    {
     "data": {
      "image/png": "[encoded data removed]",
      "text/plain": [
       "<Figure size 432x288 with 1 Axes>"
      ]
     },
     "metadata": {
      "needs_background": "light"
     },
     "output_type": "display_data"
    }
   ],
   "source": [
    "learning_rates = [0.005, 0.003, 0.001]\n",
    "val_ratio = 0.1\n",
    "models = {}\n",
    "for i in learning_rates:\n",
    "    print (\"learning rate is: \", i)\n",
    "    models[str(i)] = model_1(train_x, train_y.T, val_ratio=val_ratio, epochs = 1000, learning_rate = i, print_cost = False)\n",
    "    print ('\\n' + \"-------------------------------------------------------\" + '\\n')\n",
    "\n",
    "for i in learning_rates:\n",
    "    plt.plot(np.squeeze(models[str(i)][\"costs\"]), label= str(models[str(i)][\"learning_rate\"]))\n",
    "    plt.plot(np.squeeze(models[str(i)][\"costs_val\"]), label= str(models[str(i)][\"learning_rate\"]))\n",
    "plt.ylabel('cost')\n",
    "plt.xlabel('epochx100')\n",
    "\n",
    "legend = plt.legend(loc='upper center', shadow=True)\n",
    "frame = legend.get_frame()\n",
    "frame.set_facecolor('0.90')\n",
    "plt.show()"
   ]
  },
  {
   "cell_type": "markdown",
   "metadata": {},
   "source": [
    "<font size=5 color='blue'>\n",
    "\n",
    "# <center> Artificial Neural Networks </center>\n",
    "\n",
    "\n"
   ]
  },
  {
   "cell_type": "markdown",
   "metadata": {},
   "source": [
    "<font size=4>\n",
    "\n",
    "Inspirandose en modelos que intentan describir las conecciones entre las neuronas en nuestro cerebro, se propusieron (y se siguen proponiendo) modelos de redes neuronales para generar sistemas de aprendizaje. Se les conoce con el nombre de redes neuronales artificiales, o simplemente como redes neuronales."
   ]
  },
  {
   "cell_type": "markdown",
   "metadata": {},
   "source": [
    "<font size=5 color='blue'>\n",
    "Implementación de una red neuronal del tipo \"Full Feed-forward (FFF)\"."
   ]
  },
  {
   "cell_type": "markdown",
   "metadata": {},
   "source": [
    "<font size=4>\n",
    "\n",
    "<p>En nuestro primer modelo, la red neuronal tiene 3 capas: la capa de entrada, la capa de salida y una capa interior (en la literatura, a esta capa interna se le da el nombre de capa oculta). </p>\n",
    "<p>El objetivo del modelo es encontrar una función que describa la evolución de la diabetes con los rasgos de la persona que se consideran importantes para su evolución. Los rasgos propuestos son: edad, sexo, índice de masa corporal, presión arterial promedio y seis mediciones de suero sanguíneo.</p>\n",
    "<p>Esta función se genera mediante una red de neuronas artificiales. Se entiende como neurona un modelo matemático simple de una neurona biológica.</p>\n",
    "</font>"
   ]
  },
  {
   "cell_type": "markdown",
   "metadata": {
    "ExecuteTime": {
     "end_time": "2020-10-14T17:48:13.294187Z",
     "start_time": "2020-10-14T17:48:13.290898Z"
    }
   },
   "source": [
    "<font size=5 color='blue'>\n",
    "\n",
    "Adecuando lo datos de alimentación al sistema de aprendizaje"
   ]
  },
  {
   "cell_type": "markdown",
   "metadata": {},
   "source": [
    "<font size=4>\n",
    "\n",
    "Antes de inciar el desarrollo del sistema, transformamos los datos de entrada para que sean compatibles con el modelo que desarrollaremos. El fomato de entrada de las variables X y Y, tanto para el entrenamiento como para la prueba es un poco diferente al empleado en los sistemas de aprendizaje anteriores."
   ]
  },
  {
   "cell_type": "code",
   "execution_count": 50,
   "metadata": {
    "ExecuteTime": {
     "end_time": "2020-10-14T18:33:39.477431Z",
     "start_time": "2020-10-14T18:33:39.473490Z"
    }
   },
   "outputs": [
    {
     "name": "stdout",
     "output_type": "stream",
     "text": [
      "(10, 397)\n",
      "(397, 1)\n",
      "(10, 45)\n",
      "(45, 1)\n"
     ]
    }
   ],
   "source": [
    "print(train_x.shape)\n",
    "print(train_y.shape)\n",
    "print(test_x.shape)\n",
    "print(test_y.shape)"
   ]
  },
  {
   "cell_type": "code",
   "execution_count": 51,
   "metadata": {
    "ExecuteTime": {
     "end_time": "2020-10-14T18:33:39.490115Z",
     "start_time": "2020-10-14T18:33:39.479018Z"
    }
   },
   "outputs": [],
   "source": [
    "train_y = train_y.T\n",
    "test_y = test_y.T"
   ]
  },
  {
   "cell_type": "code",
   "execution_count": 52,
   "metadata": {
    "ExecuteTime": {
     "end_time": "2020-10-14T18:33:39.507238Z",
     "start_time": "2020-10-14T18:33:39.491469Z"
    }
   },
   "outputs": [
    {
     "name": "stdout",
     "output_type": "stream",
     "text": [
      "(10, 397)\n",
      "(1, 397)\n",
      "(10, 45)\n",
      "(1, 45)\n"
     ]
    }
   ],
   "source": [
    "print(train_x.shape)\n",
    "print(train_y.shape)\n",
    "print(test_x.shape)\n",
    "print(test_y.shape)"
   ]
  },
  {
   "cell_type": "markdown",
   "metadata": {
    "ExecuteTime": {
     "end_time": "2020-10-13T17:06:46.389123Z",
     "start_time": "2020-10-13T17:06:46.381702Z"
    }
   },
   "source": [
    "<font size=4>\n",
    "    \n",
    "1.1 Definición de la arquitectura de la red neuronal.\n",
    "\n",
    "Se emplea indistintamente la palabra neurona o nodo para referirse al modelo matematico de la neurona.\n",
    "\n",
    "El número de nodos en la capa de entrada depende del numero de rasgos del sistema que definen la variable objetivo, la evolución de la diabetes. En el presente caso el número de rasgos es diez.\n",
    "\n",
    "El número de nodos en la capa de salida depende del tipo de problema. En el presente caso, se tiene una sola neurona, cuya salida nos da un número que cuantifica la evolución de la diabetes.\n",
    "\n",
    "En el presente modelo, sólo tenemos una capa interna, el número de nodos en ella es variable. Se hacen pruebas con diferentes números y se adopta el valor que da mejores resultados.\n",
    "\n",
    "La función layer_sizes() genera la arquitectura de la red neuronal partiendo de los datos con que se van a alimentar a la red.\n"
   ]
  },
  {
   "cell_type": "code",
   "execution_count": 53,
   "metadata": {
    "ExecuteTime": {
     "end_time": "2020-10-14T18:33:39.518512Z",
     "start_time": "2020-10-14T18:33:39.512333Z"
    }
   },
   "outputs": [],
   "source": [
    "def layer_sizes(X, Y, n_h):\n",
    "    \"\"\"\n",
    "    Arguments:\n",
    "    X -- input dataset of shape (input size, number of examples)\n",
    "    Y -- labels of shape (output size, number of examples)\n",
    "    \n",
    "    Returns:\n",
    "    n_x -- the size of the input layer\n",
    "    n_h -- the size of the hidden layer\n",
    "    n_y -- the size of the output layer\n",
    "    \"\"\"\n",
    "    \n",
    "    n_x = X.shape[0] \n",
    "    \n",
    "    n_h = n_h\n",
    "    \n",
    "    n_y = Y.shape[0]\n",
    "    \n",
    "    return (n_x, n_h, n_y)"
   ]
  },
  {
   "cell_type": "code",
   "execution_count": 54,
   "metadata": {
    "ExecuteTime": {
     "end_time": "2020-10-14T18:33:39.530793Z",
     "start_time": "2020-10-14T18:33:39.519949Z"
    }
   },
   "outputs": [],
   "source": [
    "n_h = 4\n",
    "n_x, n_h, n_y = layer_sizes(train_x, train_y, n_h = n_h)"
   ]
  },
  {
   "cell_type": "code",
   "execution_count": 55,
   "metadata": {
    "ExecuteTime": {
     "end_time": "2020-10-14T18:33:39.542612Z",
     "start_time": "2020-10-14T18:33:39.532087Z"
    }
   },
   "outputs": [
    {
     "name": "stdout",
     "output_type": "stream",
     "text": [
      "10 4 1\n"
     ]
    }
   ],
   "source": [
    "print(n_x, n_h, n_y)"
   ]
  },
  {
   "cell_type": "code",
   "execution_count": 56,
   "metadata": {
    "ExecuteTime": {
     "end_time": "2020-10-14T18:33:39.554072Z",
     "start_time": "2020-10-14T18:33:39.543983Z"
    }
   },
   "outputs": [],
   "source": [
    "# Viualización de la arquitectura que define a la red neuronal:"
   ]
  },
  {
   "cell_type": "code",
   "execution_count": 57,
   "metadata": {
    "ExecuteTime": {
     "end_time": "2020-10-14T18:33:40.044879Z",
     "start_time": "2020-10-14T18:33:39.555487Z"
    }
   },
   "outputs": [
    {
     "name": "stdout",
     "output_type": "stream",
     "text": [
      "Tu red quedo asignada por:  [10, 4, 1]\n"
     ]
    },
    {
     "data": {
      "image/png": "[encoded data removed]",
      "text/plain": [
       "<Figure size 432x288 with 1 Axes>"
      ]
     },
     "metadata": {
      "needs_background": "light"
     },
     "output_type": "display_data"
    }
   ],
   "source": [
    "import matplotlib.pyplot as plt\n",
    "import numpy as np\n",
    "from matplotlib.patches import Circle\n",
    "from matplotlib.patches import ConnectionPatch\n",
    "\n",
    "import math as M\n",
    "import random\n",
    "\n",
    "\n",
    "#Vector principal, este lo modifica el usuario.\n",
    "vector = [10, 4, 1]\n",
    "\n",
    "'''#Esta seccion de abajo en rojo es por si el usuario gusta interactuar un poco.\n",
    "\n",
    "valor=int(input(\"Ingresar valor de la capa de entrada (-1 para finalizar): \"))\n",
    "while valor!=-1:\n",
    "    vector.append(valor)\n",
    "    valor=int(input(\"Ingresar valor (-1 para finalizar): \"))'''\n",
    "\n",
    "print('Tu red quedo asignada por: ', vector)\n",
    "\n",
    "fig, ax = plt.subplots(1)\n",
    "\n",
    "num_capas = len(vector)  \n",
    "\n",
    "radio = 0.5                  \n",
    "\n",
    "margen_x = 0\n",
    "margen_y = 3\n",
    "\n",
    "d_nodos = 5*radio                 \n",
    "\n",
    "origen_x = radio*4 +  margen_x     \n",
    "origen_y = radio*4 +  margen_y    \n",
    "\n",
    "lista_general_x=[]\n",
    "lista_general_y=[]\n",
    "\n",
    "for i in range(num_capas):                 \n",
    "    exec('Nnodos_capa{} = vector[i]'.format(i))            \n",
    "\n",
    "for i in range(num_capas):              \n",
    "    exec('lista_capa{}_x = []'.format(i))\n",
    "    exec('lista_capa{}_y = []'.format(i))\n",
    "\n",
    "    \n",
    "#____________________________________________________CIRCULOS_______________________________________________#\n",
    "\n",
    "\n",
    "delta_post = 0  \n",
    "delta_ante = 0\n",
    "k_i_1 = 0\n",
    "\n",
    "Nodo_max_y=max(vector)\n",
    "Y_nodo_max_y = round(origen_y + ((Nodo_max_y-1)*d_nodos), 6)  \n",
    "for m in range(num_capas):       \n",
    "    exec('k = Nnodos_capa{}'.format(m))  \n",
    "    \n",
    "    Rc=round(random.random(),4)\n",
    "    Gc=round(random.random(),4)\n",
    "    Bc=round(random.random(),4)\n",
    "    \n",
    "    for i in range(k):     \n",
    "        delta_post = (M.log(k_i_1 + 1))**3 + 2 \n",
    "        \n",
    "        X = round(origen_x + delta_ante + delta_post , 6)    \n",
    "        \n",
    "        altmax_capak = round(origen_y + (k*d_nodos), 6)\n",
    "        \n",
    "        delta_h = ((Y_nodo_max_y)-(altmax_capak-1))/2 \n",
    "        \n",
    "        Y = round(origen_y + (i*d_nodos) + delta_h, 6)\n",
    "        \n",
    "        exec('lista_capa{}_x.append(X)'.format(m))\n",
    "        exec('lista_capa{}_y.append(Y)'.format(m))\n",
    "        \n",
    "        circ = Circle((X, Y), radio, zorder=5, color=(Rc,Gc,Bc)) \n",
    "        \n",
    "        ax.add_patch(circ)  \n",
    "    delta_ante = X - origen_x         \n",
    "    k_i_1 = k        \n",
    "    exec('lista_general_x.append(lista_capa{}_x)'.format(m)) \n",
    "    exec('lista_general_y.append(lista_capa{}_y)'.format(m)) \n",
    "\n",
    "\n",
    "for l in range(num_capas):\n",
    "    exec('stalker_neuronal{} = list(zip(lista_general_x[l], lista_general_y[l]))'.format(l)) \n",
    "\n",
    "    \n",
    "#_______________________________________________________LINEAS______________________________________#\n",
    "\n",
    "\n",
    "for n in range(num_capas-1):    \n",
    "    exec('long_capa_inicial = len(stalker_neuronal{})'.format(n))\n",
    "    \n",
    "    for i in range(long_capa_inicial):  \n",
    "        exec('xyA = stalker_neuronal{} [i]'.format(n))        \n",
    "        \n",
    "        exec('long_capa_final = len(stalker_neuronal{})'.format(n+1))  \n",
    "        \n",
    "        Rl=round(random.random(),4)\n",
    "        Gl=round(random.random(),4)\n",
    "        Bl=round(random.random(),4)\n",
    "        \n",
    "        for l in range(long_capa_final):  \n",
    "            exec('xyB = stalker_neuronal{} [l]'.format(n+1))  \n",
    "            \n",
    "            linea = ConnectionPatch(xyA, xyB, coordsA = \"data\", coordsB = \"data\",   \n",
    "                      arrowstyle=\"-\", linewidth=2.5,color=(Rl,Gl,Bl),shrinkA=5, shrinkB=5,\n",
    "                      mutation_scale=1)\n",
    "            \n",
    "            ax.add_artist(linea)      \n",
    "                \n",
    "                \n",
    "#___________________________________________CONFIGURACION DE LA IMAGEN_______________________________#            \n",
    "            \n",
    "altura_img = Y_nodo_max_y + margen_y  \n",
    "\n",
    "encuadre_x = lista_general_x[num_capas - 1][0] + margen_x \n",
    "largo_img = encuadre_x + 3      \n",
    "\n",
    "ax.set_xlim(0,largo_img)   \n",
    "ax.set_ylim(0,altura_img)    \n",
    "\n",
    "\n",
    "nombre_marcas_x = [] \n",
    "\n",
    "for i in range(num_capas):\n",
    "    if i == 0:\n",
    "        nombre = str('Capa de entrada')  \n",
    "    elif i <= (num_capas-2):\n",
    "        nombre = str('Capa ' + str(i))       \n",
    "    elif i == (num_capas-1):\n",
    "        nombre = str('Capa de salida') \n",
    "        \n",
    "    nombre_marcas_x.append(nombre)       \n",
    "\n",
    "\n",
    "\n",
    "marcas_en_x = []  \n",
    "for i in range(num_capas):\n",
    "    marca = lista_general_x[i][0]  \n",
    "    marcas_en_x.append(marca)     \n",
    "\n",
    "\n",
    "    \n",
    "ax.set_xticks(marcas_en_x)           \n",
    "ax.set_xticklabels(nombre_marcas_x)   \n",
    "\n",
    "plt.setp(ax.get_xticklabels(), fontsize = 12,     \n",
    "         rotation=50, ha=\"right\")  \n",
    "\n",
    "string_de_red = str(vector)  \n",
    "titulo_completo = ('Arquitectura de Red Neuronal: ' + string_de_red)   \n",
    "\n",
    "ax.set_title(titulo_completo, fontsize = 15)   \n",
    "ax.set_ylabel('Neuronas', fontsize = 15)       \n",
    "\n",
    "ax.set_aspect('equal')   \n",
    "ax.grid(axis = 'x')  \n"
   ]
  },
  {
   "cell_type": "markdown",
   "metadata": {},
   "source": [
    "<font size=5 color='blue'>\n",
    "    \n",
    " 1. Inicializacion de los pesos y el bias."
   ]
  },
  {
   "cell_type": "markdown",
   "metadata": {},
   "source": [
    "<font size=4>\n",
    "\n",
    "La funcion initialize_parameters() inicializa a los pesos $W$ y el bias $b$. \n",
    "\n",
    "Dado que se tiene un conjunto de variables independientes, se debe definir un peso para cada variable, esto para una sola neurona de la siguiente capa. \n",
    "\n",
    "Entonces $W_1$ ahora es una matriz de tamaño $(n_h, n_x)$, en donde $n_h$ es el numero de nodos en la capa intera y $n_x$ es el numero de nodos en la capa de entrada, es decir, es el numero de variables independientes.\n",
    "\n",
    "Por cada neurona en la capa interna hay un bias, por lo que ahora $b_1$ es un vector de tamaño $(n_h, 1)$. \n",
    "\n",
    "En general para cada par de capas consecutivas debe haber un $W$ y un $b$.\n",
    "\n",
    "Generalizando:\n",
    "\n",
    "$W_i$ y $b_i$ son los parametros a definir entre la capa $i$ y la capa $i+1$. Si la capa $i$ tiene $n_i$ neuronas y la capa $i+1$ tiene $n_i+1$ neuronas entonces, las dimensiones de $Wi$ son $(n_i+1, n_i)$ y las dimensiones de $b_i$ son $(n_i+1, 1)$."
   ]
  },
  {
   "cell_type": "code",
   "execution_count": 58,
   "metadata": {
    "ExecuteTime": {
     "end_time": "2020-10-14T18:33:40.052590Z",
     "start_time": "2020-10-14T18:33:40.046656Z"
    }
   },
   "outputs": [],
   "source": [
    "def initialize_parameters(n_x, n_h, n_y):\n",
    "    \"\"\"\n",
    "    Argument:\n",
    "    n_x -- size of the input layer\n",
    "    n_h -- size of the hidden layer\n",
    "    n_y -- size of the output layer\n",
    "    \n",
    "    Returns:\n",
    "    params -- python dictionary containing your parameters:\n",
    "                    W1 -- weight matrix of shape (n_h, n_x)\n",
    "                    b1 -- bias vector of shape (n_h, 1)\n",
    "                    W2 -- weight matrix of shape (n_y, n_h)\n",
    "                    b2 -- bias vector of shape (n_y, 1)\n",
    "    \"\"\"\n",
    "    \n",
    "    np.random.seed(2) \n",
    "    \n",
    "    W1 = np.reshape(np.random.uniform(-0.1, 0.1, n_h*n_x), (n_h, n_x))\n",
    "        \n",
    "    b1 = np.zeros((n_h, 1))\n",
    "    \n",
    "    W2 = np.reshape(np.random.uniform(-0.1, 0.1, n_y*n_h), (n_y, n_h))\n",
    "        \n",
    "    b2 = np.zeros((n_y, 1))\n",
    "    \n",
    "    \n",
    "    assert (W1.shape == (n_h, n_x))\n",
    "    assert (b1.shape == (n_h, 1))\n",
    "    assert (W2.shape == (n_y, n_h))\n",
    "    assert (b2.shape == (n_y, 1))\n",
    "    \n",
    "    parameters = {\"W1\": W1,\n",
    "                  \"b1\": b1,\n",
    "                  \"W2\": W2,\n",
    "                  \"b2\": b2}\n",
    "    \n",
    "    return parameters"
   ]
  },
  {
   "cell_type": "code",
   "execution_count": 59,
   "metadata": {
    "ExecuteTime": {
     "end_time": "2020-10-14T18:33:40.067332Z",
     "start_time": "2020-10-14T18:33:40.054125Z"
    }
   },
   "outputs": [
    {
     "data": {
      "text/plain": [
       "{'W1': array([[-0.01280102, -0.09481475,  0.0099325 , -0.01293552, -0.01592644,\n",
       "         -0.03393304, -0.05907027,  0.02385419, -0.04006907, -0.04663454],\n",
       "        [ 0.02422677,  0.00582842, -0.07308401,  0.00271562, -0.06311203,\n",
       "          0.05706703,  0.07079506, -0.00115263,  0.0693123 , -0.0840709 ],\n",
       "        [ 0.00104922, -0.0869427 , -0.01437553, -0.08069382, -0.07456801,\n",
       "          0.01934906, -0.0547976 , -0.07861086, -0.05593876, -0.03003474],\n",
       "        [-0.0064425 , -0.05965135,  0.02808135, -0.00338603,  0.00104734,\n",
       "         -0.02262147,  0.05872749,  0.01600084, -0.06754028,  0.04015047]]),\n",
       " 'b1': array([[0.],\n",
       "        [0.],\n",
       "        [0.],\n",
       "        [0.]]),\n",
       " 'W2': array([[ 9.29102160e-02,  1.67223404e-06,  7.79040128e-02,\n",
       "         -3.16772695e-02]]),\n",
       " 'b2': array([[0.]])}"
      ]
     },
     "execution_count": 59,
     "metadata": {},
     "output_type": "execute_result"
    }
   ],
   "source": [
    "initialize_parameters(n_x, n_h, n_y)"
   ]
  },
  {
   "cell_type": "markdown",
   "metadata": {
    "ExecuteTime": {
     "end_time": "2020-10-14T18:02:21.703636Z",
     "start_time": "2020-10-14T18:02:21.700427Z"
    }
   },
   "source": [
    "<font size=5 color='blue'>\n",
    "\n",
    "2. Conección entre las neuronas de capas contiguas."
   ]
  },
  {
   "cell_type": "markdown",
   "metadata": {},
   "source": [
    "<font size=4>\n",
    "\n",
    "La funcion *propagate()* realiza la combinacion lineal entre los valores de salida de los nodos de una capa con los pesos y bias definidos entre esa capa y la siguiente. \n",
    "\n",
    "La función de activación que se aplica a esta sumatoria, es para considerar efectos no lineales.\n",
    "\n",
    "\n",
    "___\n",
    "\n",
    "Funciones de activación disponibles en la presente notebook: "
   ]
  },
  {
   "cell_type": "code",
   "execution_count": 60,
   "metadata": {
    "ExecuteTime": {
     "end_time": "2020-10-14T18:33:40.080854Z",
     "start_time": "2020-10-14T18:33:40.069175Z"
    }
   },
   "outputs": [],
   "source": [
    "#Función para considerar los efectos no lineales.\n",
    "#En el presente caso se considera un modelo completamente lineal.\n",
    "#Por ello la función es la identidad.\n",
    "\n",
    "def identity(z):\n",
    "    \"\"\"\n",
    "    Arguments:\n",
    "    z -- A scalar or numpy array of any size.\n",
    "\n",
    "    Return:\n",
    "    s -- z\n",
    "    \"\"\"\n",
    "    s = 1.0 * z\n",
    "    \n",
    "    return s"
   ]
  },
  {
   "cell_type": "code",
   "execution_count": 61,
   "metadata": {
    "ExecuteTime": {
     "end_time": "2020-10-14T18:33:40.092849Z",
     "start_time": "2020-10-14T18:33:40.082035Z"
    }
   },
   "outputs": [],
   "source": [
    "def identity_derivative(z):\n",
    "    return 1.0 * z * (1/z)"
   ]
  },
  {
   "cell_type": "code",
   "execution_count": 62,
   "metadata": {
    "ExecuteTime": {
     "end_time": "2020-10-14T18:33:40.104481Z",
     "start_time": "2020-10-14T18:33:40.094009Z"
    }
   },
   "outputs": [],
   "source": [
    "def tanh(z):\n",
    "    return (np.exp(z)-np.exp(-z))/(np.exp(z)+np.exp(-z))"
   ]
  },
  {
   "cell_type": "code",
   "execution_count": 63,
   "metadata": {
    "ExecuteTime": {
     "end_time": "2020-10-14T18:33:40.116073Z",
     "start_time": "2020-10-14T18:33:40.105918Z"
    }
   },
   "outputs": [],
   "source": [
    "def tanh_derivative(z):\n",
    "    return 1-np.power(tanh(z), 2)"
   ]
  },
  {
   "cell_type": "code",
   "execution_count": 64,
   "metadata": {
    "ExecuteTime": {
     "end_time": "2020-10-14T18:33:40.127194Z",
     "start_time": "2020-10-14T18:33:40.117438Z"
    }
   },
   "outputs": [],
   "source": [
    "def sigmoid(z):\n",
    "    \"\"\"\n",
    "    Compute the sigmoid of z\n",
    "\n",
    "    Arguments:\n",
    "    z -- A scalar or numpy array of any size.\n",
    "\n",
    "    Return:\n",
    "    s -- sigmoid(z)\n",
    "    \"\"\"\n",
    "    s = 1/(1+np.exp(-z))\n",
    "    \n",
    "    return s"
   ]
  },
  {
   "cell_type": "code",
   "execution_count": 65,
   "metadata": {
    "ExecuteTime": {
     "end_time": "2020-10-14T18:33:40.138395Z",
     "start_time": "2020-10-14T18:33:40.128531Z"
    }
   },
   "outputs": [],
   "source": [
    "def sigmoid_derivative(z):\n",
    "    return sigmoid(z)*(1-sigmoid(z))"
   ]
  },
  {
   "cell_type": "code",
   "execution_count": 66,
   "metadata": {
    "ExecuteTime": {
     "end_time": "2020-10-14T18:33:40.201338Z",
     "start_time": "2020-10-14T18:33:40.140036Z"
    }
   },
   "outputs": [],
   "source": [
    "def propagate(X, Y, parameters):\n",
    "    \"\"\"\n",
    "    Argument:\n",
    "    X -- input data of size (n_x, m)\n",
    "    parameters -- python dictionary containing your parameters (output of initialization function)\n",
    "    \n",
    "    Returns:\n",
    "    A2 -- The sigmoid output of the second activation\n",
    "    cache -- a dictionary containing \"Z1\", \"A1\", \"Z2\" and \"A2\"\n",
    "    \"\"\"\n",
    "    # Retrieve each parameter from the dictionary \"parameters\"\n",
    "    W1 = parameters[\"W1\"]\n",
    "    b1 = parameters[\"b1\"]\n",
    "    W2 = parameters[\"W2\"]\n",
    "    b2 = parameters[\"b2\"]\n",
    "    \n",
    "    # Zi es la combinacion lineal entre x y w\n",
    "    # Ai es la aplicacion de una funcion de activacion a Zi\n",
    "    \n",
    "    Z1 = np.dot(W1, X) + b1\n",
    "    A1 = tanh(Z1)\n",
    "    Z2 = np.dot(W2, A1) + b2\n",
    "    A2 = Z2\n",
    "    \n",
    "    \n",
    "    assert(A2.shape == (1, X.shape[1]))\n",
    "    \n",
    "    cache = {\"Z1\": Z1,\n",
    "             \"A1\": A1,\n",
    "             \"Z2\": Z2,\n",
    "             \"A2\": A2}\n",
    "    \n",
    "    m = Y.shape[1] # number of samples\n",
    "\n",
    "    cost = (1/m)*np.sum((Y-A2)**2)\n",
    "    \n",
    "    cost = np.squeeze(cost)     # makes sure cost is the dimension we expect. \n",
    "                                # E.g., turns [[17]] into 17 \n",
    "    assert(isinstance(cost, float))\n",
    "    \n",
    "    \n",
    "    m = X.shape[1]\n",
    "    \n",
    "    W1 = parameters[\"W1\"]\n",
    "    W2 = parameters[\"W2\"]\n",
    "        \n",
    "    A1 = cache[\"A1\"]\n",
    "    A2 = cache[\"A2\"]\n",
    "    \n",
    "    # Calculo de derivadas\n",
    "    \n",
    "    dZ2 = 2*(A2-Y)\n",
    "    dW2 = (1/m)*np.dot(dZ2, A1.T)\n",
    "    db2 = (1/m)*np.sum(dZ2, axis = 1, keepdims = True)\n",
    "    dZ1 = np.dot(W2.T, dZ2)*tanh_derivative(A1)\n",
    "    dW1 = (1/m)*np.dot(dZ1, X.T)\n",
    "    db1 = (1/m)*np.sum(dZ1, axis = 1, keepdims = True)\n",
    "    \n",
    "    grads = {\"dW1\": dW1,\n",
    "             \"db1\": db1,\n",
    "             \"dW2\": dW2,\n",
    "             \"db2\": db2}\n",
    "    \n",
    "    \n",
    "    return A2, cache, cost, grads"
   ]
  },
  {
   "cell_type": "code",
   "execution_count": 67,
   "metadata": {
    "ExecuteTime": {
     "end_time": "2020-10-14T18:33:40.213939Z",
     "start_time": "2020-10-14T18:33:40.203172Z"
    }
   },
   "outputs": [],
   "source": [
    "def validation(X, Y, parameters):\n",
    "    \"\"\"\n",
    "    Argument:\n",
    "    X -- input data of size (n_x, m)\n",
    "    Y -- output data of size (n_y, m)\n",
    "    parameters -- python dictionary containing your parameters (output of initialization function)\n",
    "    \n",
    "    Returns:\n",
    "    A2 -- The sigmoid output of the second activation\n",
    "    cache -- a dictionary containing \"Z1\", \"A1\", \"Z2\" and \"A2\"\n",
    "    cost -- the value of cost\n",
    "    grads -- a dictionary contains derivatives to update parameters\n",
    "    \"\"\"\n",
    "    # Regresa cada parametro del diccionario \"parameters\"\n",
    "    \n",
    "    W1 = parameters[\"W1\"]\n",
    "    b1 = parameters[\"b1\"]\n",
    "    W2 = parameters[\"W2\"]\n",
    "    b2 = parameters[\"b2\"]\n",
    "    \n",
    "    # Pasos 1 y 2:\n",
    "    \n",
    "    # Zi es la combinacion lineal entre x y w\n",
    "    # Ai es la aplicacion de una funcion de activacion a Zi:\n",
    "    \n",
    "    Z1 = np.dot(W1, X) + b1\n",
    "    A1 = tanh(Z1)\n",
    "    Z2 = np.dot(W2, A1) + b2\n",
    "    A2 = Z2\n",
    "    \n",
    "    # se verifican las dimensiones de A2:\n",
    "    \n",
    "    assert(A2.shape == (1, X.shape[1]))\n",
    "\n",
    "    # Paso 3:\n",
    "    \n",
    "    # numero de muestras:\n",
    "    \n",
    "    m = Y.shape[1] \n",
    "    \n",
    "    # se calcula el costo:\n",
    "\n",
    "    cost = (1/m)*np.sum((Y-A2)**2)\n",
    "    \n",
    "    # Asegura que cost sea un escalar:\n",
    "    \n",
    "    cost = np.squeeze(cost)      \n",
    "                                \n",
    "    assert(isinstance(cost, float))  \n",
    "    \n",
    "    return cost"
   ]
  },
  {
   "cell_type": "markdown",
   "metadata": {},
   "source": [
    "<font size=5 color='blue'>\n",
    "\n",
    "3. Cálculo de la función de costo durante la optimización de los parámetros que definen al modelo."
   ]
  },
  {
   "cell_type": "markdown",
   "metadata": {},
   "source": [
    "<font size=4>\n",
    "\n",
    "Recordemos que la funcion de costo, J, nos permite saber qué tan bien se esta ajustando el modelo a la variable objetivo de las muestras. \n",
    "\n",
    "Para ello se buscan los parámetros que minimizen a esta función. \n",
    "\n",
    "En el presente caso, la función de costo está definida por la relación siguiente: \n",
    "\n",
    "$$J = \\dfrac{1}{m}\\Sigma_{i=0}^{m}(y_i-a_i)^2$$"
   ]
  },
  {
   "cell_type": "code",
   "execution_count": 68,
   "metadata": {
    "ExecuteTime": {
     "end_time": "2020-10-14T18:33:40.230583Z",
     "start_time": "2020-10-14T18:33:40.219441Z"
    }
   },
   "outputs": [],
   "source": [
    "def compute_cost(A2, Y, parameters):\n",
    "    \"\"\"\n",
    "    Computes the cross-entropy cost given in equation (13)\n",
    "    \n",
    "    Arguments:\n",
    "    A2 -- The sigmoid output of the second activation, of shape (1, number of examples)\n",
    "    Y -- \"true\" labels vector of shape (1, number of examples)\n",
    "    parameters -- python dictionary containing your parameters W1, b1, W2 and b2\n",
    "    \n",
    "    Returns:\n",
    "    cost -- cross-entropy cost given equation (13)\n",
    "    \"\"\"\n",
    "    \n",
    "    m = Y.shape[1] # number of samples\n",
    "\n",
    "    cost = (1/m)*np.sum((Y-A2)**2)\n",
    "    \n",
    "    cost = np.squeeze(cost)     # makes sure cost is the dimension we expect. \n",
    "                                # E.g., turns [[17]] into 17 \n",
    "    assert(isinstance(cost, float))\n",
    "    \n",
    "    return cost"
   ]
  },
  {
   "cell_type": "markdown",
   "metadata": {},
   "source": [
    "<font size=4>\n",
    "\n",
    "Para encontrar a los valores optimos de los parametros, estos se acualizan en cada época empleando el algoritmo de gradiente descendente. El cual esta definido por la siguientes relaciones:\n",
    "\n",
    "$$ \\omega := \\omega - \\alpha \\dfrac{\\partial J(\\omega, b)}{\\partial \\omega}$$\n",
    "\n",
    "$$ b := b - \\alpha \\dfrac{\\partial J(\\omega, b)}{\\partial b}$$\n",
    "\n",
    "Es por ello necesario calcular las derivadas del costo respecto a cada uno de los parametros."
   ]
  },
  {
   "cell_type": "code",
   "execution_count": 69,
   "metadata": {
    "ExecuteTime": {
     "end_time": "2020-10-14T18:33:40.247386Z",
     "start_time": "2020-10-14T18:33:40.232283Z"
    }
   },
   "outputs": [],
   "source": [
    "def calculation_of_derivatives(parameters, cache, X, Y):\n",
    "    \"\"\"\n",
    "    Implement the backward propagation using the instructions above.\n",
    "    \n",
    "    Arguments:\n",
    "    parameters -- python dictionary containing our parameters \n",
    "    cache -- a dictionary containing \"Z1\", \"A1\", \"Z2\" and \"A2\".\n",
    "    X -- input data of shape (2, number of examples)\n",
    "    Y -- \"true\" labels vector of shape (1, number of examples)\n",
    "    \n",
    "    Returns:\n",
    "    grads -- python dictionary containing your gradients with respect to different parameters\n",
    "    \"\"\"\n",
    "    m = X.shape[1]\n",
    "    \n",
    "    W1 = parameters[\"W1\"]\n",
    "    W2 = parameters[\"W2\"]\n",
    "        \n",
    "    A1 = cache[\"A1\"]\n",
    "    A2 = cache[\"A2\"]\n",
    "    \n",
    "    # Calculo de derivadas\n",
    "    \n",
    "    dZ2 = 2*(A2-Y)\n",
    "    dW2 = (1/m)*np.dot(dZ2, A1.T)\n",
    "    db2 = (1/m)*np.sum(dZ2, axis = 1, keepdims = True)\n",
    "    dZ1 = np.dot(W2.T, dZ2)*(1-np.power(A1, 2))\n",
    "    dW1 = (1/m)*np.dot(dZ1, X.T)\n",
    "    db1 = (1/m)*np.sum(dZ1, axis = 1, keepdims = True)\n",
    "    \n",
    "    grads = {\"dW1\": dW1,\n",
    "             \"db1\": db1,\n",
    "             \"dW2\": dW2,\n",
    "             \"db2\": db2}\n",
    "    \n",
    "    return grads"
   ]
  },
  {
   "cell_type": "markdown",
   "metadata": {},
   "source": [
    "<font size=5 color='blue'>\n",
    "4. Optimizacion de los pesos y los bias."
   ]
  },
  {
   "cell_type": "code",
   "execution_count": 70,
   "metadata": {
    "ExecuteTime": {
     "end_time": "2020-10-14T18:33:40.261811Z",
     "start_time": "2020-10-14T18:33:40.248847Z"
    }
   },
   "outputs": [],
   "source": [
    "def optimize(parameters, grads, learning_rate = 0.1):\n",
    "    \"\"\"\n",
    "    Updates parameters using the gradient descent update rule given above\n",
    "    \n",
    "    Arguments:\n",
    "    parameters -- python dictionary containing your parameters \n",
    "    grads -- python dictionary containing your gradients \n",
    "    \n",
    "    Returns:\n",
    "    parameters -- python dictionary containing your updated parameters \n",
    "    \"\"\"\n",
    "    # Retrieve each parameter from the dictionary \"parameters\"\n",
    "    W1 = parameters[\"W1\"]\n",
    "    b1 = parameters[\"b1\"]\n",
    "    W2 = parameters[\"W2\"]\n",
    "    b2 = parameters[\"b2\"]\n",
    "    \n",
    "    # Retrieve each gradient from the dictionary \"grads\"\n",
    "    dW1 = grads[\"dW1\"]\n",
    "    db1 = grads[\"db1\"]\n",
    "    dW2 = grads[\"dW2\"]\n",
    "    db2 = grads[\"db2\"]\n",
    "    \n",
    "    # Update rule for each parameter\n",
    "    W1 = W1-learning_rate*dW1\n",
    "    b1 = b1-learning_rate*db1\n",
    "    W2 = W2-learning_rate*dW2\n",
    "    b2 = b2-learning_rate*db2\n",
    "    \n",
    "    parameters = {\"W1\": W1,\n",
    "                  \"b1\": b1,\n",
    "                  \"W2\": W2,\n",
    "                  \"b2\": b2}\n",
    "    \n",
    "    return parameters"
   ]
  },
  {
   "cell_type": "markdown",
   "metadata": {},
   "source": [
    "<font size=5 color='blue'>\n",
    "5. Las predicciones se realizan con los parametros óptimos encontrados en el entrenamiento."
   ]
  },
  {
   "cell_type": "code",
   "execution_count": 71,
   "metadata": {
    "ExecuteTime": {
     "end_time": "2020-10-14T18:33:40.278145Z",
     "start_time": "2020-10-14T18:33:40.263241Z"
    }
   },
   "outputs": [],
   "source": [
    "def predict(parameters, X, Y):\n",
    "    \"\"\"\n",
    "    Using the learned parameters, predicts a class for each example in X\n",
    "    \n",
    "    Arguments:\n",
    "    parameters -- python dictionary containing your parameters \n",
    "    X -- input data of size (n_x, m)\n",
    "    \n",
    "    Returns\n",
    "    predictions -- vector of predictions of our model (red: 0 / blue: 1)\n",
    "    \"\"\"\n",
    "    predictions =  []\n",
    "    A2, cache, cost, grads = propagate(X, Y, parameters)\n",
    "    predictions = identity(A2) \n",
    "    \n",
    "    return predictions"
   ]
  },
  {
   "cell_type": "markdown",
   "metadata": {},
   "source": [
    "<font size=5 color='blue'>\n",
    "    \n",
    "Las funciones anteriores se integran para generar, entrenar y validar la red neuronal."
   ]
  },
  {
   "cell_type": "code",
   "execution_count": 72,
   "metadata": {
    "ExecuteTime": {
     "end_time": "2020-10-14T18:33:40.294815Z",
     "start_time": "2020-10-14T18:33:40.280003Z"
    }
   },
   "outputs": [],
   "source": [
    "def nn_model(X, Y, val_ratio, n_h, epochs, alpha, print_cost=False):\n",
    "    \"\"\"\n",
    "    Arguments:\n",
    "    X -- dataset of shape (2, number of examples)\n",
    "    Y -- labels of shape (1, number of examples)\n",
    "    n_h -- size of the hidden layer\n",
    "    num_iterations -- Number of iterations in gradient descent loop\n",
    "    print_cost -- if True, print the cost every 1000 iterations\n",
    "    \n",
    "    Returns:\n",
    "    parameters -- parameters learnt by the model. They can then be used to predict.\n",
    "    \"\"\"\n",
    "    \n",
    "    train_ratio = int((1-val_ratio)*X.shape[1])\n",
    "    X_dev = X[:,train_ratio:]\n",
    "    Y_dev = Y[:,train_ratio:]\n",
    "\n",
    "    X = X[:,:train_ratio]\n",
    "    Y = Y[:,:train_ratio]\n",
    "    \n",
    "    print(\"Train\",X.shape,Y.shape)\n",
    "    print(\"val\",X_dev.shape,Y_dev.shape)\n",
    "    \n",
    "    np.random.seed(3)\n",
    "    \n",
    "    n_x, n_h, n_y = layer_sizes(X, Y, n_h = n_h)\n",
    "        \n",
    "    # Initialize parameters, then retrieve W1, b1, W2, b2. Inputs: \"n_x, n_h, n_y\". Outputs = \"W1, b1, W2, b2, parameters\".\n",
    "    parameters = initialize_parameters(n_x, n_h, n_y)\n",
    "    W1 = parameters[\"W1\"]\n",
    "    b1 = parameters[\"b1\"] \n",
    "    W2 = parameters[\"W2\"]\n",
    "    b2 = parameters[\"b2\"]\n",
    "    \n",
    "    # Loop (gradient descent)\n",
    "    \n",
    "    costs=[]\n",
    "    costs_dev = []\n",
    "    params = []\n",
    "    \n",
    "\n",
    "    for i in range(0, epochs):\n",
    "         \n",
    "        A2, cache, cost, grads = propagate(X, Y, parameters)\n",
    "        \n",
    "        cost_dev = validation(X_dev, Y_dev, parameters)\n",
    " \n",
    "        parameters = optimize(parameters, grads, alpha)\n",
    "        \n",
    "        params.append(parameters)\n",
    "        \n",
    "        costs.append(cost)\n",
    "        \n",
    "        costs_dev.append(cost_dev)\n",
    "                \n",
    "        # Print the cost every 1000 iterations\n",
    "        if print_cost and i % 100 == 0:\n",
    "            print (\"Cost and Cost_val in epoch %i: %f %f\" %(i, cost, cost_dev))\n",
    "            \n",
    "    return parameters, costs, params, costs_dev"
   ]
  },
  {
   "cell_type": "markdown",
   "metadata": {
    "ExecuteTime": {
     "end_time": "2020-10-13T17:25:36.366411Z",
     "start_time": "2020-10-13T17:25:36.359140Z"
    }
   },
   "source": [
    "<font size=5 color='blue'>\n",
    "\n",
    "Entrenamiento:"
   ]
  },
  {
   "cell_type": "code",
   "execution_count": 73,
   "metadata": {
    "ExecuteTime": {
     "end_time": "2020-10-14T18:33:40.998201Z",
     "start_time": "2020-10-14T18:33:40.296221Z"
    }
   },
   "outputs": [
    {
     "name": "stdout",
     "output_type": "stream",
     "text": [
      "Train (10, 357) (1, 357)\n",
      "val (10, 40) (1, 40)\n",
      "Cost and Cost_val in epoch 0: 1.003786 1.132021\n",
      "Cost and Cost_val in epoch 100: 0.823446 0.933677\n",
      "Cost and Cost_val in epoch 200: 0.559011 0.671466\n",
      "Cost and Cost_val in epoch 300: 0.497183 0.628823\n",
      "Cost and Cost_val in epoch 400: 0.480947 0.614537\n",
      "Cost and Cost_val in epoch 500: 0.476903 0.611314\n",
      "Cost and Cost_val in epoch 600: 0.475473 0.610306\n",
      "Cost and Cost_val in epoch 700: 0.474699 0.609772\n",
      "Cost and Cost_val in epoch 800: 0.474169 0.609454\n",
      "Cost and Cost_val in epoch 900: 0.473755 0.609260\n",
      "Cost and Cost_val in epoch 1000: 0.473399 0.609135\n",
      "Cost and Cost_val in epoch 1100: 0.473074 0.609046\n",
      "Cost and Cost_val in epoch 1200: 0.472763 0.608978\n",
      "Cost and Cost_val in epoch 1300: 0.472459 0.608921\n",
      "Cost and Cost_val in epoch 1400: 0.472155 0.608871\n",
      "Cost and Cost_val in epoch 1500: 0.471848 0.608828\n",
      "Cost and Cost_val in epoch 1600: 0.471537 0.608790\n",
      "Cost and Cost_val in epoch 1700: 0.471218 0.608758\n",
      "Cost and Cost_val in epoch 1800: 0.470890 0.608730\n",
      "Cost and Cost_val in epoch 1900: 0.470553 0.608708\n"
     ]
    }
   ],
   "source": [
    "epochs = 2000\n",
    "learning_rate = 0.008\n",
    "val_ratio = 0.1\n",
    "n_h = 4\n",
    "\n",
    "opt_parameters, costs, params, costs_dev = nn_model(train_x, train_y, val_ratio=val_ratio, n_h = n_h, epochs = epochs, alpha=learning_rate, print_cost=True)\n"
   ]
  },
  {
   "cell_type": "code",
   "execution_count": 74,
   "metadata": {
    "ExecuteTime": {
     "end_time": "2020-10-14T18:33:41.087204Z",
     "start_time": "2020-10-14T18:33:40.999691Z"
    }
   },
   "outputs": [
    {
     "data": {
      "image/png": "[encoded data removed]",
      "text/plain": [
       "<Figure size 432x288 with 1 Axes>"
      ]
     },
     "metadata": {
      "needs_background": "light"
     },
     "output_type": "display_data"
    }
   ],
   "source": [
    "costs = np.squeeze(costs)\n",
    "plt.plot(costs, color='red')\n",
    "plt.plot(costs_dev, color='green')\n",
    "\n",
    "plt.ylabel('Cost')\n",
    "plt.xlabel('epochs')\n",
    "plt.show()"
   ]
  },
  {
   "cell_type": "markdown",
   "metadata": {},
   "source": [
    "<font size=4>\n",
    "    \n",
    " ## Precision:\n",
    "\n",
    "Para calcular la precision del modelo se usa MSE:\n",
    "\n",
    "$$100-MSE*100$$\n",
    "\n",
    "es decir\n",
    "\n",
    "$$100-(\\dfrac{1}{m}\\Sigma_{i}(y_{i}-a_{i})^2)*100$$"
   ]
  },
  {
   "cell_type": "code",
   "execution_count": 75,
   "metadata": {
    "ExecuteTime": {
     "end_time": "2020-10-14T18:33:41.092949Z",
     "start_time": "2020-10-14T18:33:41.088677Z"
    }
   },
   "outputs": [
    {
     "name": "stdout",
     "output_type": "stream",
     "text": [
      "train accuracy: 51.584273505798365 %\n"
     ]
    }
   ],
   "source": [
    "predictions_train = predict(opt_parameters, train_x, train_y)\n",
    "\n",
    "print(\"train accuracy: {} %\".format(100 - np.mean(np.power(predictions_train-train_y, 2)) * 100))\n"
   ]
  },
  {
   "cell_type": "code",
   "execution_count": 76,
   "metadata": {
    "ExecuteTime": {
     "end_time": "2020-10-14T18:33:41.104298Z",
     "start_time": "2020-10-14T18:33:41.094278Z"
    }
   },
   "outputs": [
    {
     "name": "stdout",
     "output_type": "stream",
     "text": [
      "test accuracy: 30.810059047981554 %\n"
     ]
    }
   ],
   "source": [
    "predictions_test = predict(opt_parameters, test_x, test_y)\n",
    "\n",
    "print(\"test accuracy: {} %\".format(100 - np.mean(np.power(predictions_test-test_y, 2)) * 100))\n"
   ]
  },
  {
   "cell_type": "code",
   "execution_count": null,
   "metadata": {},
   "outputs": [],
   "source": []
  }
 ],
 "metadata": {
  "kernelspec": {
   "display_name": "Python 3",
   "language": "python",
   "name": "python3"
  },
  "language_info": {
   "codemirror_mode": {
    "name": "ipython",
    "version": 3
   },
   "file_extension": ".py",
   "mimetype": "text/x-python",
   "name": "python",
   "nbconvert_exporter": "python",
   "pygments_lexer": "ipython3",
   "version": "3.7.0"
  }
 },
 "nbformat": 4,
 "nbformat_minor": 4
}
