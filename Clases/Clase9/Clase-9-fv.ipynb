{
 "cells": [
  {
   "cell_type": "markdown",
   "metadata": {},
   "source": [
    "<font size=4 color='blue'>\n",
    "\n",
    "# <center>Clase 9, noviembre 25 del 2020</center>\n"
   ]
  },
  {
   "cell_type": "markdown",
   "metadata": {
    "ExecuteTime": {
     "end_time": "2020-11-22T12:50:36.354304Z",
     "start_time": "2020-11-22T12:50:36.345388Z"
    }
   },
   "source": [
    "<font size=5 color=\"blue\">\n",
    "\n",
    "Overfitting"
   ]
  },
  {
   "cell_type": "markdown",
   "metadata": {},
   "source": [
    "<img src=\"./images/1024px-Regularization.svg.png\" width=300 height=300 align = \"left\" > \n",
    " <img src=\"./images/Loss-function-no-dropout.png\" width=420 height=420 align = \"center\" >    "
   ]
  },
  {
   "cell_type": "markdown",
   "metadata": {
    "ExecuteTime": {
     "end_time": "2020-11-25T00:57:23.623361Z",
     "start_time": "2020-11-25T00:57:23.618614Z"
    }
   },
   "source": [
    "<img src=\"./images/Loss-function-dropout.png\" width=420 height=420 align = \"center\" >"
   ]
  },
  {
   "cell_type": "markdown",
   "metadata": {},
   "source": [
    "<font size=5 color=\"blue\">\n",
    "\n",
    "Regularization as a method to reduce overfitting"
   ]
  },
  {
   "cell_type": "markdown",
   "metadata": {},
   "source": [
    "<font size=4 color=\"black\">\n",
    "\n",
    "When an artificial intelligence method (for example neural networks) has many irrelevant features, the method presents overfitting, which is corrected by regularization, so that only a few features that are highly predictive of the outcome have large non-zero weights."
   ]
  },
  {
   "cell_type": "markdown",
   "metadata": {},
   "source": [
    "<font size=5 color=\"blue\">\n",
    "\n",
    "L1 regularization"
   ]
  },
  {
   "cell_type": "markdown",
   "metadata": {
    "ExecuteTime": {
     "end_time": "2020-03-30T13:12:56.281916Z",
     "start_time": "2020-03-30T13:12:56.277895Z"
    }
   },
   "source": [
    "<font size=4 color=\"black\">\n",
    "    \n",
    "[L1 regularization](./literature/Statistical_Debugging_of_Sampled_Programs.pdf)\n",
    "    \n",
    "<font size=5 color='black'>    \n",
    "$$   J = Error(y, F(x)) $$\n",
    "\n",
    "<font size=4 color='black'>    \n",
    "L1 regularization uses a penalty term which encourages the sum of the absolute values of the parameters (weights) to be small:\n",
    "        \n",
    "<font size=5 color='black'>\n",
    "$$   J = Error(y, F(x)) + \\lambda \\sum_{i = 1 }^{N} | \\omega_i | $$\n",
    "  \n",
    "<font size=4 color='black'>\n",
    "\n",
    "In many learning systems, it has frequently been observed that L1 regularization causes many parameters to equal zero, so that the parameter vector is sparse.\n",
    "    \n",
    "$$ $$\n",
    "[More about L1 regularization](./literature/lasso.pdf)    "
   ]
  },
  {
   "cell_type": "markdown",
   "metadata": {},
   "source": [
    "<font size=5 color=\"blue\">\n",
    "\n",
    "L2 regularization"
   ]
  },
  {
   "cell_type": "markdown",
   "metadata": {
    "ExecuteTime": {
     "end_time": "2020-03-30T13:12:56.281916Z",
     "start_time": "2020-03-30T13:12:56.277895Z"
    }
   },
   "source": [
    "<font size=4 color=\"black\">\n",
    "\n",
    "[L2 regularization](./literature/L2_1999.pdf)\n",
    "    \n",
    "<font size=5 color='black'>    \n",
    "$$   J = Error(y, F(x)) $$\n",
    "\n",
    "<font size=4 color='black'> \n",
    "L2 regularization, encourages the sum of the squares of the parameters (weights) to be small:\n",
    "$$ $$\n",
    "    \n",
    "<font size=5 color='black'>     \n",
    "$$   J = Error(y, F(x)) + \\lambda \\sum_{i = 1 }^{N}  \\omega_i{^2}  $$  "
   ]
  },
  {
   "cell_type": "markdown",
   "metadata": {},
   "source": [
    "<font size=4 color=\"black\">\n",
    "\n",
    "[L1 versus L2 regularization](./literature/Regularization_Ng_2004.pdf)"
   ]
  },
  {
   "cell_type": "markdown",
   "metadata": {},
   "source": [
    "<font size=5 color=\"blue\">\n",
    "Dropout   "
   ]
  },
  {
   "cell_type": "markdown",
   "metadata": {},
   "source": [
    "<font size=4 color=\"black\">\n",
    "    \n",
    "[Dropout](./literature/dropout_2014.pdf)\n",
    "    \n"
   ]
  },
  {
   "cell_type": "markdown",
   "metadata": {
    "ExecuteTime": {
     "end_time": "2020-03-30T19:39:59.411767Z",
     "start_time": "2020-03-30T19:39:59.406252Z"
    }
   },
   "source": [
    "<font size=4 color=\"black\">\n",
    "    \n",
    "This method prevents overfitting and provides a way of approximately combining exponentially many different neural network architectures efficiently. The term “dropout” refers to dropping out units (hidden and visible) in a neural network.\n",
    "    \n",
    "<img src=\"./images/dropout_image.jpeg\" width=600 height=600 align = \"midle\" >     \n",
    "    \n"
   ]
  },
  {
   "cell_type": "markdown",
   "metadata": {},
   "source": [
    "<font size=5 color=\"blue\">\n",
    "More regularization methods\n",
    "    \n",
    "<font size=4 color=\"black\">\n",
    "    \n",
    "[Example: early stopping](./literature/early_stopping_1998.pdf)    "
   ]
  },
  {
   "cell_type": "markdown",
   "metadata": {},
   "source": [
    "<font size=5 color='blue'>\n",
    "Object Recognition through images"
   ]
  },
  {
   "cell_type": "markdown",
   "metadata": {},
   "source": [
    "<font size=5 color='blue'>\n",
    "CIFAR-10 database"
   ]
  },
  {
   "cell_type": "markdown",
   "metadata": {},
   "source": [
    "<font size=4 color=\"black\">\n",
    "\n",
    "[80 million tiny images from internet](./literature/80millionImages.pdf)\n",
    "\n",
    "The CIFAR-10 and CIFAR-100 are labeled subsets of a 80 million tiny images dataset. They were collected by Alex Krizhevsky, Vinod Nair, and Geoffrey Hinton. \n"
   ]
  },
  {
   "cell_type": "markdown",
   "metadata": {},
   "source": [
    " <font size=4 color='black'>   \n",
    "\n",
    "The data base can be downloaded from the following URL: \n",
    "    \n",
    "[CIFAR-10 data download](https://www.cs.toronto.edu/~kriz/cifar.html)\n",
    "\n",
    "$$ $$\n",
    " The CIFAR-10 dataset consists of 60,000 32x32 colour images in 10 classes, with 6000 images per class. There are 50.000 training images and 10,000 test images.\n",
    "\n",
    "The ten classes are:\n",
    "\n",
    " \n",
    "| index | class name |\n",
    "| --- | --- |\n",
    "| 0 | airplane |\n",
    "| 1 | automobile | \t\t\t\t\t\t\t\t\t\t\n",
    "| 2 | bird |\t\t\t\t\t\t\t\t\t\t\n",
    "| 3 | cat |\t\t\t\t\t\t\t\t\t\t\n",
    "| 4 | deer |\t\t\t\t\t\t\t\t\t\t\n",
    "| 5 | dog |\t\t\t\t\t\t\t\t\t\t\n",
    "| 6 | frog |\t\t\t\t\t\t\t\t\t\t\n",
    "| 7 | horse |\t\t\t\t\t\t\t\t\t\t\n",
    "| 8 | ship |\t\t\t\t\t\t\t\t\t\t\n",
    "| 9 | truck|"
   ]
  },
  {
   "cell_type": "code",
   "execution_count": 1,
   "metadata": {
    "ExecuteTime": {
     "end_time": "2020-11-25T01:04:19.488897Z",
     "start_time": "2020-11-25T01:04:18.001701Z"
    }
   },
   "outputs": [],
   "source": [
    "import numpy as np\n",
    "import keras\n",
    "\n",
    "from keras import layers\n",
    "from keras.layers import Input, Dense, Activation, Flatten\n",
    "from keras.layers import Dropout\n",
    "from keras.models import Model\n",
    "from keras.preprocessing import image\n",
    "from keras.utils import layer_utils\n",
    "from keras.utils.data_utils import get_file\n",
    "from keras.applications.imagenet_utils import preprocess_input\n",
    "import pydot\n",
    "from IPython.display import SVG\n",
    "from keras.utils.vis_utils import model_to_dot\n",
    "from keras.utils import plot_model\n",
    "from keras.optimizers import SGD\n",
    "import keras.backend as K\n",
    "\n",
    "import matplotlib.pyplot as plt\n",
    "from matplotlib.pyplot import imshow\n",
    "\n",
    "import pickle\n",
    "\n",
    "\n",
    "np.random.seed(1)\n",
    "\n",
    "%matplotlib inline"
   ]
  },
  {
   "cell_type": "markdown",
   "metadata": {},
   "source": [
    "<font size = 5 color=\"blue\">\n",
    "\n",
    "CIFAR-10 data is also available from Keras: \n",
    "    \n"
   ]
  },
  {
   "cell_type": "markdown",
   "metadata": {},
   "source": [
    "<font size = 4 color=\"black\">\n",
    "\n",
    "[CIFAR-10 Keras](https://keras.io/api/datasets/cifar10/)"
   ]
  },
  {
   "cell_type": "code",
   "execution_count": 2,
   "metadata": {
    "ExecuteTime": {
     "end_time": "2020-11-25T01:04:19.493686Z",
     "start_time": "2020-11-25T01:04:19.490560Z"
    }
   },
   "outputs": [],
   "source": [
    "from keras.datasets import cifar10"
   ]
  },
  {
   "cell_type": "code",
   "execution_count": 3,
   "metadata": {
    "ExecuteTime": {
     "end_time": "2020-11-25T01:04:19.723378Z",
     "start_time": "2020-11-25T01:04:19.495667Z"
    }
   },
   "outputs": [],
   "source": [
    "(x_train, y_train), (x_test, y_test) = cifar10.load_data()"
   ]
  },
  {
   "cell_type": "code",
   "execution_count": 4,
   "metadata": {
    "ExecuteTime": {
     "end_time": "2020-11-25T01:04:19.728584Z",
     "start_time": "2020-11-25T01:04:19.724692Z"
    }
   },
   "outputs": [
    {
     "name": "stdout",
     "output_type": "stream",
     "text": [
      "The type of x_train is <class 'numpy.ndarray'>\n",
      "The type of y_train is <class 'numpy.ndarray'>\n",
      "\n",
      "The type of x_test is <class 'numpy.ndarray'>\n",
      "The type of y_test is <class 'numpy.ndarray'>\n"
     ]
    }
   ],
   "source": [
    "print('The type of x_train is', type(x_train))\n",
    "print('The type of y_train is', type(y_train))\n",
    "\n",
    "print('\\nThe type of x_test is', type(x_test))\n",
    "print('The type of y_test is', type(y_test))"
   ]
  },
  {
   "cell_type": "code",
   "execution_count": 5,
   "metadata": {
    "ExecuteTime": {
     "end_time": "2020-11-25T01:04:19.740407Z",
     "start_time": "2020-11-25T01:04:19.730347Z"
    }
   },
   "outputs": [
    {
     "name": "stdout",
     "output_type": "stream",
     "text": [
      "The shape of x_train is (50000, 32, 32, 3)\n",
      "The shape of y_train is (50000, 1)\n",
      "\n",
      "The shape of x_test is (10000, 32, 32, 3)\n",
      "The shape of y_test is (10000, 1)\n"
     ]
    }
   ],
   "source": [
    "print('The shape of x_train is', x_train.shape)\n",
    "print('The shape of y_train is', y_train.shape)\n",
    "\n",
    "print('\\nThe shape of x_test is', x_test.shape)\n",
    "print('The shape of y_test is', y_test.shape)"
   ]
  },
  {
   "cell_type": "markdown",
   "metadata": {},
   "source": [
    "<font size=5 color=\"blue\">\n",
    "\n",
    "Analyzing the data extracted from CIFAR-10"
   ]
  },
  {
   "cell_type": "markdown",
   "metadata": {
    "ExecuteTime": {
     "end_time": "2020-03-24T20:18:56.606700Z",
     "start_time": "2020-03-24T20:18:56.598151Z"
    }
   },
   "source": [
    "<font size=5 color=\"blue\">\n",
    "    \n",
    "View a sample from the data sets"
   ]
  },
  {
   "cell_type": "markdown",
   "metadata": {},
   "source": [
    "<font size=4 color=\"black\">\n",
    "    \n",
    "The input for a sample of the data sets is an array, where each value is the value of a single pixel. "
   ]
  },
  {
   "cell_type": "code",
   "execution_count": 6,
   "metadata": {
    "ExecuteTime": {
     "end_time": "2020-11-25T01:04:19.753374Z",
     "start_time": "2020-11-25T01:04:19.741888Z"
    }
   },
   "outputs": [
    {
     "name": "stdout",
     "output_type": "stream",
     "text": [
      "The features of a training sample \n",
      " \n",
      " [[[ 59  62  63]\n",
      "  [ 43  46  45]\n",
      "  [ 50  48  43]\n",
      "  ...\n",
      "  [158 132 108]\n",
      "  [152 125 102]\n",
      "  [148 124 103]]\n",
      "\n",
      " [[ 16  20  20]\n",
      "  [  0   0   0]\n",
      "  [ 18   8   0]\n",
      "  ...\n",
      "  [123  88  55]\n",
      "  [119  83  50]\n",
      "  [122  87  57]]\n",
      "\n",
      " [[ 25  24  21]\n",
      "  [ 16   7   0]\n",
      "  [ 49  27   8]\n",
      "  ...\n",
      "  [118  84  50]\n",
      "  [120  84  50]\n",
      "  [109  73  42]]\n",
      "\n",
      " ...\n",
      "\n",
      " [[208 170  96]\n",
      "  [201 153  34]\n",
      "  [198 161  26]\n",
      "  ...\n",
      "  [160 133  70]\n",
      "  [ 56  31   7]\n",
      "  [ 53  34  20]]\n",
      "\n",
      " [[180 139  96]\n",
      "  [173 123  42]\n",
      "  [186 144  30]\n",
      "  ...\n",
      "  [184 148  94]\n",
      "  [ 97  62  34]\n",
      "  [ 83  53  34]]\n",
      "\n",
      " [[177 144 116]\n",
      "  [168 129  94]\n",
      "  [179 142  87]\n",
      "  ...\n",
      "  [216 184 140]\n",
      "  [151 118  84]\n",
      "  [123  92  72]]]\n"
     ]
    }
   ],
   "source": [
    "sample = 0\n",
    "print(\"The features of a training sample \\n \\n\", x_train[sample])"
   ]
  },
  {
   "cell_type": "markdown",
   "metadata": {},
   "source": [
    "<font size=4 color=\"black\">\n",
    "    \n",
    "Each value of X in the example is between 0 and 255, they are not normalized."
   ]
  },
  {
   "cell_type": "code",
   "execution_count": 7,
   "metadata": {
    "ExecuteTime": {
     "end_time": "2020-11-25T01:04:19.768886Z",
     "start_time": "2020-11-25T01:04:19.754999Z"
    }
   },
   "outputs": [],
   "source": [
    "# We define a dictionary to associate the class number to a class name.\n",
    "\n",
    "dic = {0: 'airplane', 1: 'automobile', 2: 'bird', 3: 'cat', 4: 'deer', \n",
    "       5: 'dog', 6: 'frog', 7:'horse', 8: 'ship', 9: 'truck'}"
   ]
  },
  {
   "cell_type": "markdown",
   "metadata": {},
   "source": [
    "<font size=5 color=\"blue\">\n",
    "    \n",
    "Showing the image and label(y) of any sample"
   ]
  },
  {
   "cell_type": "code",
   "execution_count": 8,
   "metadata": {
    "ExecuteTime": {
     "end_time": "2020-11-25T01:04:19.900662Z",
     "start_time": "2020-11-25T01:04:19.771155Z"
    }
   },
   "outputs": [
    {
     "name": "stdout",
     "output_type": "stream",
     "text": [
      "\n",
      "The y value of the first training sample is 6\n",
      "It correspons to a frog\n"
     ]
    },
    {
     "data": {
      "image/png": "[encoded data removed]",
      "text/plain": [
       "<Figure size 432x288 with 1 Axes>"
      ]
     },
     "metadata": {
      "needs_background": "light"
     },
     "output_type": "display_data"
    }
   ],
   "source": [
    "plt.imshow(x_train[sample]);\n",
    "\n",
    "print(\"\\nThe y value of the first training sample is\",np.squeeze(y_train[sample]))\n",
    "print(\"It correspons to a\", dic[int(np.squeeze(y_train[sample]))])"
   ]
  },
  {
   "cell_type": "markdown",
   "metadata": {},
   "source": [
    "<font size=5 color=\"blue\">\n",
    "\n",
    "Features (X values) normalization"
   ]
  },
  {
   "cell_type": "markdown",
   "metadata": {},
   "source": [
    "\n",
    "<font size=4 color=\"black\">\n",
    "To normalize x values, we divide them by 255"
   ]
  },
  {
   "cell_type": "code",
   "execution_count": 9,
   "metadata": {
    "ExecuteTime": {
     "end_time": "2020-11-25T01:04:20.580926Z",
     "start_time": "2020-11-25T01:04:19.903282Z"
    }
   },
   "outputs": [],
   "source": [
    "train_x = x_train/255\n",
    "test_x = x_test/255"
   ]
  },
  {
   "cell_type": "markdown",
   "metadata": {},
   "source": [
    "<font size=4 color=\"black\">    \n",
    "\n",
    "Now the pixel values are between 0 and 1."
   ]
  },
  {
   "cell_type": "code",
   "execution_count": 10,
   "metadata": {
    "ExecuteTime": {
     "end_time": "2020-11-25T01:04:20.588377Z",
     "start_time": "2020-11-25T01:04:20.582492Z"
    }
   },
   "outputs": [
    {
     "data": {
      "text/plain": [
       "array([[[0.23137255, 0.24313725, 0.24705882],\n",
       "        [0.16862745, 0.18039216, 0.17647059],\n",
       "        [0.19607843, 0.18823529, 0.16862745],\n",
       "        ...,\n",
       "        [0.61960784, 0.51764706, 0.42352941],\n",
       "        [0.59607843, 0.49019608, 0.4       ],\n",
       "        [0.58039216, 0.48627451, 0.40392157]],\n",
       "\n",
       "       [[0.0627451 , 0.07843137, 0.07843137],\n",
       "        [0.        , 0.        , 0.        ],\n",
       "        [0.07058824, 0.03137255, 0.        ],\n",
       "        ...,\n",
       "        [0.48235294, 0.34509804, 0.21568627],\n",
       "        [0.46666667, 0.3254902 , 0.19607843],\n",
       "        [0.47843137, 0.34117647, 0.22352941]],\n",
       "\n",
       "       [[0.09803922, 0.09411765, 0.08235294],\n",
       "        [0.0627451 , 0.02745098, 0.        ],\n",
       "        [0.19215686, 0.10588235, 0.03137255],\n",
       "        ...,\n",
       "        [0.4627451 , 0.32941176, 0.19607843],\n",
       "        [0.47058824, 0.32941176, 0.19607843],\n",
       "        [0.42745098, 0.28627451, 0.16470588]],\n",
       "\n",
       "       ...,\n",
       "\n",
       "       [[0.81568627, 0.66666667, 0.37647059],\n",
       "        [0.78823529, 0.6       , 0.13333333],\n",
       "        [0.77647059, 0.63137255, 0.10196078],\n",
       "        ...,\n",
       "        [0.62745098, 0.52156863, 0.2745098 ],\n",
       "        [0.21960784, 0.12156863, 0.02745098],\n",
       "        [0.20784314, 0.13333333, 0.07843137]],\n",
       "\n",
       "       [[0.70588235, 0.54509804, 0.37647059],\n",
       "        [0.67843137, 0.48235294, 0.16470588],\n",
       "        [0.72941176, 0.56470588, 0.11764706],\n",
       "        ...,\n",
       "        [0.72156863, 0.58039216, 0.36862745],\n",
       "        [0.38039216, 0.24313725, 0.13333333],\n",
       "        [0.3254902 , 0.20784314, 0.13333333]],\n",
       "\n",
       "       [[0.69411765, 0.56470588, 0.45490196],\n",
       "        [0.65882353, 0.50588235, 0.36862745],\n",
       "        [0.70196078, 0.55686275, 0.34117647],\n",
       "        ...,\n",
       "        [0.84705882, 0.72156863, 0.54901961],\n",
       "        [0.59215686, 0.4627451 , 0.32941176],\n",
       "        [0.48235294, 0.36078431, 0.28235294]]])"
      ]
     },
     "execution_count": 10,
     "metadata": {},
     "output_type": "execute_result"
    }
   ],
   "source": [
    "train_x[sample]"
   ]
  },
  {
   "cell_type": "code",
   "execution_count": 11,
   "metadata": {
    "ExecuteTime": {
     "end_time": "2020-11-25T01:04:20.733802Z",
     "start_time": "2020-11-25T01:04:20.590348Z"
    }
   },
   "outputs": [
    {
     "data": {
      "text/plain": [
       "<matplotlib.image.AxesImage at 0x2614fb492b0>"
      ]
     },
     "execution_count": 11,
     "metadata": {},
     "output_type": "execute_result"
    },
    {
     "data": {
      "image/png": "[encoded data removed]",
      "text/plain": [
       "<Figure size 432x288 with 1 Axes>"
      ]
     },
     "metadata": {
      "needs_background": "light"
     },
     "output_type": "display_data"
    }
   ],
   "source": [
    "plt.imshow(train_x[sample])"
   ]
  },
  {
   "cell_type": "code",
   "execution_count": 12,
   "metadata": {
    "ExecuteTime": {
     "end_time": "2020-11-25T01:04:20.739436Z",
     "start_time": "2020-11-25T01:04:20.736021Z"
    }
   },
   "outputs": [
    {
     "data": {
      "text/plain": [
       "array([[6],\n",
       "       [9],\n",
       "       [9],\n",
       "       ...,\n",
       "       [9],\n",
       "       [1],\n",
       "       [1]], dtype=uint8)"
      ]
     },
     "execution_count": 12,
     "metadata": {},
     "output_type": "execute_result"
    }
   ],
   "source": [
    "y_train"
   ]
  },
  {
   "cell_type": "markdown",
   "metadata": {},
   "source": [
    "<font size=5 color='blue'>\n",
    "One-hot encoding of target variable (y)"
   ]
  },
  {
   "cell_type": "markdown",
   "metadata": {},
   "source": [
    "<font size=4 color='black'>\n",
    "The target value can have one of ten elements (classes), the digits (0, 1, 2, 3, 4, 5, 6, 7, 8, 9). \n",
    "\n",
    "The sets train_y and test_y are arrays in which each entry contains a digit represented as a integer of 64 bits.\n",
    "    \n",
    "We change this representation to a vector following the One-hot encoding \n",
    "[One-hot encoding](https://en.wikipedia.org/wiki/One-hot).\n",
    "    \n",
    "In One-Hot encoding, a digit is represented with a vector that has dimension 10 (because we have 10 classes) with 1.0 in the vector index corresponding to the digit and 0.0 elsewhere in the vector. \n"
   ]
  },
  {
   "cell_type": "code",
   "execution_count": 13,
   "metadata": {
    "ExecuteTime": {
     "end_time": "2020-11-25T01:04:20.752394Z",
     "start_time": "2020-11-25T01:04:20.740797Z"
    }
   },
   "outputs": [
    {
     "data": {
      "text/plain": [
       "(50000, 1)"
      ]
     },
     "execution_count": 13,
     "metadata": {},
     "output_type": "execute_result"
    }
   ],
   "source": [
    "y_train.shape"
   ]
  },
  {
   "cell_type": "code",
   "execution_count": 14,
   "metadata": {
    "ExecuteTime": {
     "end_time": "2020-11-25T01:04:20.763793Z",
     "start_time": "2020-11-25T01:04:20.753933Z"
    }
   },
   "outputs": [
    {
     "data": {
      "text/plain": [
       "(50000,)"
      ]
     },
     "execution_count": 14,
     "metadata": {},
     "output_type": "execute_result"
    }
   ],
   "source": [
    "y_train.reshape(-1).shape"
   ]
  },
  {
   "cell_type": "code",
   "execution_count": 15,
   "metadata": {
    "ExecuteTime": {
     "end_time": "2020-11-25T01:04:20.776474Z",
     "start_time": "2020-11-25T01:04:20.765245Z"
    }
   },
   "outputs": [],
   "source": [
    "train_y = np.eye(10)[y_train.reshape(-1)]\n",
    "test_y = np.eye(10)[y_test.reshape(-1)]"
   ]
  },
  {
   "cell_type": "code",
   "execution_count": 16,
   "metadata": {
    "ExecuteTime": {
     "end_time": "2020-11-25T01:04:20.787059Z",
     "start_time": "2020-11-25T01:04:20.777754Z"
    }
   },
   "outputs": [
    {
     "name": "stdout",
     "output_type": "stream",
     "text": [
      "[[6]\n",
      " [9]\n",
      " [9]\n",
      " [4]\n",
      " [1]]\n"
     ]
    }
   ],
   "source": [
    "print(y_train[0:5])"
   ]
  },
  {
   "cell_type": "code",
   "execution_count": 17,
   "metadata": {
    "ExecuteTime": {
     "end_time": "2020-11-25T01:04:20.801053Z",
     "start_time": "2020-11-25T01:04:20.788418Z"
    }
   },
   "outputs": [
    {
     "data": {
      "text/plain": [
       "array([[0., 0., 0., 0., 0., 0., 1., 0., 0., 0.],\n",
       "       [0., 0., 0., 0., 0., 0., 0., 0., 0., 1.],\n",
       "       [0., 0., 0., 0., 0., 0., 0., 0., 0., 1.],\n",
       "       [0., 0., 0., 0., 1., 0., 0., 0., 0., 0.],\n",
       "       [0., 1., 0., 0., 0., 0., 0., 0., 0., 0.]])"
      ]
     },
     "execution_count": 17,
     "metadata": {},
     "output_type": "execute_result"
    }
   ],
   "source": [
    "train_y[0:5]"
   ]
  },
  {
   "cell_type": "markdown",
   "metadata": {
    "ExecuteTime": {
     "end_time": "2020-11-23T17:58:01.255256Z",
     "start_time": "2020-11-23T17:58:01.245993Z"
    }
   },
   "source": [
    "<font size=5 color=\"blue\">\n",
    "    \n",
    "Viewing one sample from the data set."
   ]
  },
  {
   "cell_type": "code",
   "execution_count": 18,
   "metadata": {
    "ExecuteTime": {
     "end_time": "2020-11-25T01:04:20.936381Z",
     "start_time": "2020-11-25T01:04:20.802811Z"
    }
   },
   "outputs": [
    {
     "name": "stdout",
     "output_type": "stream",
     "text": [
      "The sample 9 corresponds to a cat\n",
      "Its one-hot representation is = [0. 0. 0. 1. 0. 0. 0. 0. 0. 0.]\n"
     ]
    },
    {
     "data": {
      "image/png": "[encoded data removed]",
      "text/plain": [
       "<Figure size 432x288 with 1 Axes>"
      ]
     },
     "metadata": {
      "needs_background": "light"
     },
     "output_type": "display_data"
    }
   ],
   "source": [
    "sample = 9\n",
    "\n",
    "plt.imshow(train_x[sample]);\n",
    "\n",
    "print('The sample', sample, 'corresponds to a', dic[int(np.argmax(train_y[sample]))])\n",
    "print(\"Its one-hot representation is =\", train_y[sample])"
   ]
  },
  {
   "cell_type": "markdown",
   "metadata": {},
   "source": [
    "<font size=4 color=\"black\">\n",
    "    \n",
    "In summary, the training and test sample sets have the following dimensions:"
   ]
  },
  {
   "cell_type": "code",
   "execution_count": 19,
   "metadata": {
    "ExecuteTime": {
     "end_time": "2020-11-25T01:04:20.943141Z",
     "start_time": "2020-11-25T01:04:20.938086Z"
    }
   },
   "outputs": [
    {
     "name": "stdout",
     "output_type": "stream",
     "text": [
      "number of training examples = 50000\n",
      "number of test examples = 10000\n",
      "X_train shape: (50000, 32, 32, 3)\n",
      "Y_train shape: (50000, 10)\n",
      "X_test shape: (10000, 32, 32, 3)\n",
      "Y_test shape: (10000, 10)\n"
     ]
    }
   ],
   "source": [
    "print (\"number of training examples = \" + str(train_x.shape[0]))\n",
    "print (\"number of test examples = \" + str(test_x.shape[0]))\n",
    "print (\"X_train shape: \" + str(train_x.shape))\n",
    "print (\"Y_train shape: \" + str(train_y.shape))\n",
    "print (\"X_test shape: \" + str(test_x.shape))\n",
    "print (\"Y_test shape: \" + str(test_y.shape))"
   ]
  },
  {
   "cell_type": "markdown",
   "metadata": {},
   "source": [
    "<font size=5 color=\"blue\">\n",
    "\n",
    "Building the Learning System"
   ]
  },
  {
   "cell_type": "markdown",
   "metadata": {
    "ExecuteTime": {
     "end_time": "2020-11-23T18:05:49.800018Z",
     "start_time": "2020-11-23T18:05:49.790932Z"
    }
   },
   "source": [
    "<font size=5 color='blue'>\n",
    "\n",
    "Definition of the neural network architecture"
   ]
  },
  {
   "cell_type": "markdown",
   "metadata": {},
   "source": [
    "<font size=5 color='black'> \n",
    "    \n",
    "Keras has two different modes to define the architecture:\n",
    "\n",
    "<font size=4 color='black'> \n",
    "    \n",
    "1.- The sequential model. It is a sequential stack of layers.\n",
    "    \n",
    "2.- The functional API. It is the way to go for defining complex models, such as multi-output models, directed acyclic graphs, or models with shared layers.  \n",
    "\n",
    "In the present case, we will use the latter mode to build the network architecture.\n",
    "    \n",
    "Documentation: [Keras Functional API](https://keras.io/getting-started/functional-api-guide/)"
   ]
  },
  {
   "cell_type": "code",
   "execution_count": 20,
   "metadata": {
    "ExecuteTime": {
     "end_time": "2020-11-25T01:04:20.955049Z",
     "start_time": "2020-11-25T01:04:20.944554Z"
    }
   },
   "outputs": [],
   "source": [
    "def architecture(input_shape, num_classes, dropout=False):\n",
    "    \n",
    "    # Defining the input as a tensor with shape input_shape. \n",
    "    InputLayer = Input(input_shape)\n",
    "    \n",
    "    # Flattening the input tensor of dimensions (32, 32, 3) to a tensor of dimensions (3072)\n",
    "    x = Flatten()(InputLayer)\n",
    "    if dropout == True:\n",
    "        x = Dropout(0.0)(x)\n",
    "    \n",
    "    # Defining the first hidden layer with 50 nodes and sigmoid as activation function\n",
    "    x = Dense(50, kernel_initializer='random_uniform', bias_initializer='zeros', name='hl_1')(x)\n",
    "    x = Activation('sigmoid')(x)\n",
    "    if dropout == True:\n",
    "        x = Dropout(0.0)(x)\n",
    "\n",
    "    # Defining the second hidden layer with 50 nodes and sigmoid as activation function\n",
    "    x = Dense(50, kernel_initializer='random_uniform', bias_initializer='zeros', name='hl_2')(x)\n",
    "    x = Activation('sigmoid')(x)\n",
    "    if dropout == True:\n",
    "        x = Dropout(0.0)(x)\n",
    "    \n",
    "    \n",
    "    # For the output layer we use the activation function 'softmax')\n",
    "    x = Dense(num_classes, kernel_initializer='random_uniform', bias_initializer='zeros')(x)\n",
    "    OutputLayer = Activation('softmax', name='output-layer')(x)\n",
    "    \n",
    "    # This creates the Keras model instance, you'll use this instance to train/test the model.\n",
    "    model = Model(inputs = InputLayer, outputs = OutputLayer, name='Cifar10Model')\n",
    "\n",
    "    return model"
   ]
  },
  {
   "attachments": {
    "image.png": {
     "image/png": "[encoded data removed]"
    }
   },
   "cell_type": "markdown",
   "metadata": {},
   "source": [
    "<font size=4 color='black'>    \n",
    "The softmax activation function is always used for classification when the number (K) of classes is greater than two: \n",
    "\n",
    "![image.png](attachment:image.png)    "
   ]
  },
  {
   "cell_type": "markdown",
   "metadata": {
    "ExecuteTime": {
     "end_time": "2020-03-24T18:29:47.071906Z",
     "start_time": "2020-03-24T18:29:47.067719Z"
    }
   },
   "source": [
    "<font size=5 color=\"blue\">\n",
    "\n",
    "Building the neural network model for the learning system"
   ]
  },
  {
   "cell_type": "code",
   "execution_count": 21,
   "metadata": {
    "ExecuteTime": {
     "end_time": "2020-11-25T01:04:21.034836Z",
     "start_time": "2020-11-25T01:04:20.956277Z"
    }
   },
   "outputs": [],
   "source": [
    "one_image = (32, 32, 3)\n",
    "num_classes=10\n",
    "dropout=True\n",
    "\n",
    "cifar10_model = architecture(one_image,num_classes,dropout)"
   ]
  },
  {
   "cell_type": "markdown",
   "metadata": {
    "ExecuteTime": {
     "end_time": "2020-03-24T00:03:50.539765Z",
     "start_time": "2020-03-24T00:03:50.534266Z"
    }
   },
   "source": [
    "<font size=5 color=\"blue\">\n",
    "    \n",
    "Graph of the model and summary"
   ]
  },
  {
   "cell_type": "markdown",
   "metadata": {},
   "source": [
    "<font size=4 color='black'> \n",
    "The 'plot_model()' function generates a graphic with the layers and their number of input ands output weights.\n",
    "$$ $$\n",
    "Documentation: [Model visualization](https://keras.io/visualization/#training-history-visualization)"
   ]
  },
  {
   "cell_type": "code",
   "execution_count": 22,
   "metadata": {
    "ExecuteTime": {
     "end_time": "2020-11-25T01:04:21.169514Z",
     "start_time": "2020-11-25T01:04:21.036001Z"
    }
   },
   "outputs": [
    {
     "data": {
      "image/png": "[encoded data removed]",
      "text/plain": [
       "<IPython.core.display.Image object>"
      ]
     },
     "execution_count": 22,
     "metadata": {},
     "output_type": "execute_result"
    }
   ],
   "source": [
    "plot_model(cifar10_model, to_file='cifar10_blocks.png', show_shapes=False, rankdir='LR',show_layer_names=False)"
   ]
  },
  {
   "cell_type": "code",
   "execution_count": 23,
   "metadata": {
    "ExecuteTime": {
     "end_time": "2020-11-25T01:04:21.349419Z",
     "start_time": "2020-11-25T01:04:21.173997Z"
    }
   },
   "outputs": [
    {
     "data": {
      "image/png": "[encoded data removed]",
      "text/plain": [
       "<IPython.core.display.Image object>"
      ]
     },
     "execution_count": 23,
     "metadata": {},
     "output_type": "execute_result"
    }
   ],
   "source": [
    "plot_model(cifar10_model, to_file='cifar10_model.png', show_shapes=True, rankdir='TB', show_layer_names=True)"
   ]
  },
  {
   "cell_type": "code",
   "execution_count": 24,
   "metadata": {
    "ExecuteTime": {
     "end_time": "2020-11-25T01:04:21.359047Z",
     "start_time": "2020-11-25T01:04:21.351966Z"
    }
   },
   "outputs": [
    {
     "name": "stdout",
     "output_type": "stream",
     "text": [
      "Model: \"Cifar10Model\"\n",
      "_________________________________________________________________\n",
      "Layer (type)                 Output Shape              Param #   \n",
      "=================================================================\n",
      "input_1 (InputLayer)         [(None, 32, 32, 3)]       0         \n",
      "_________________________________________________________________\n",
      "flatten (Flatten)            (None, 3072)              0         \n",
      "_________________________________________________________________\n",
      "dropout (Dropout)            (None, 3072)              0         \n",
      "_________________________________________________________________\n",
      "hl_1 (Dense)                 (None, 50)                153650    \n",
      "_________________________________________________________________\n",
      "activation (Activation)      (None, 50)                0         \n",
      "_________________________________________________________________\n",
      "dropout_1 (Dropout)          (None, 50)                0         \n",
      "_________________________________________________________________\n",
      "hl_2 (Dense)                 (None, 50)                2550      \n",
      "_________________________________________________________________\n",
      "activation_1 (Activation)    (None, 50)                0         \n",
      "_________________________________________________________________\n",
      "dropout_2 (Dropout)          (None, 50)                0         \n",
      "_________________________________________________________________\n",
      "dense (Dense)                (None, 10)                510       \n",
      "_________________________________________________________________\n",
      "output-layer (Activation)    (None, 10)                0         \n",
      "=================================================================\n",
      "Total params: 156,710\n",
      "Trainable params: 156,710\n",
      "Non-trainable params: 0\n",
      "_________________________________________________________________\n"
     ]
    }
   ],
   "source": [
    "cifar10_model.summary()"
   ]
  },
  {
   "cell_type": "markdown",
   "metadata": {},
   "source": [
    "<font size=5 color='blue'>\n",
    "Optimization method"
   ]
  },
  {
   "cell_type": "markdown",
   "metadata": {},
   "source": [
    "<font size=3 color=\"black\">\n",
    "This requires defining the optimization algorithm, loss function and metric.\n",
    "    \n",
    "In the present case we are using the Stochastic Gradient descent algorithm with learning rate \"lr\", \"momentum\",  and without Nesterov acceleration\".\n",
    "\n",
    "\n",
    "[An overview of gradient descent optimization algorithms](./literature/SGD_overview_2016-17.pdf)\n",
    "\n",
    "This post also comments on some other optimization variants of this algorithm; Adagrad, Adadelta, RMStrop and Adam."
   ]
  },
  {
   "cell_type": "markdown",
   "metadata": {},
   "source": [
    "<font size=5 color='blue'>\n",
    "Optimizer"
   ]
  },
  {
   "cell_type": "markdown",
   "metadata": {
    "ExecuteTime": {
     "end_time": "2020-11-24T00:09:25.688121Z",
     "start_time": "2020-11-24T00:09:25.680769Z"
    }
   },
   "source": [
    "<font size=5 color='blue'>\n",
    "Mini-batch stocastic gradient descent(SGD) method.  "
   ]
  },
  {
   "cell_type": "markdown",
   "metadata": {},
   "source": [
    "<font size=4 color='black'> \n",
    "The training samples are divided into mini-batches that have the size batch_size (B). Updates of weights and biases are based on an average of the gradient within each block of B samples. \n",
    "    \n",
    "$$ \\omega^{(t)} := \\omega^{(t-1)} - \\alpha \\dfrac{1}{B} \\sum_{t^1=Bt +1}^{B(t+1)}\\dfrac{\\partial J(x^{(t^1)},y^{(t^1)},\\omega, b)}{\\partial \\omega}$$\n",
    "\n",
    "$$ b^{(t)} := b^{(t-1)} - \\alpha \\dfrac{1}{B} \\sum_{t^1=Bt +1}^{B(t+1)}\\dfrac{\\partial J(x^{(t^1)},y^{(t^1)},\\omega, b)}{\\partial b}$$\n",
    "\n",
    "$ \\alpha $ represents the learning rate and *t* represents an iteration. \n",
    "    \n",
    "This method is specially useful for large sets of training data.\n",
    "    \n",
    "[Gradient-Based Training](./literature/Practical_rec_DL_Bengio_2012.pdf)"
   ]
  },
  {
   "cell_type": "code",
   "execution_count": 25,
   "metadata": {
    "ExecuteTime": {
     "end_time": "2020-11-25T01:04:21.389711Z",
     "start_time": "2020-11-25T01:04:21.361526Z"
    }
   },
   "outputs": [],
   "source": [
    "learning_rate = 0.01\n",
    "\n",
    "optimizer = keras.optimizers.SGD(learning_rate=learning_rate, momentum=0.0, nesterov=False)"
   ]
  },
  {
   "cell_type": "markdown",
   "metadata": {},
   "source": [
    "<font size=5 color='blue'>\n",
    "The cost (loss) and Metric functions"
   ]
  },
  {
   "cell_type": "markdown",
   "metadata": {},
   "source": [
    "<font size=4 color=\"black\">\n",
    "    \n",
    "The cost function *J* is defined as \"categorical_crossentropy\"\n",
    "    \n",
    "$$ J = \\frac{1}{m} \\sum_{i=1}^m \\sum_{k=0}^{K-1}(y_k^{(i)}*\\log{(F_k(x^{(i)})))}$$\n",
    "    \n",
    " where $F_k(x^{(i)})$ is the predicted value and $y_k^{(i)}$ is the target value for the sample *i*; *K* is the number of classes and *m* is the number of samples.\n",
    "    \n",
    "[Cross entropy](https://en.wikipedia.org/wiki/Cross_entropy)\n",
    "    \n",
    "[Categorical cross entropy](https://www.deeplearningbook.org/)\n",
    "    \n",
    "\n",
    "A metric function is similar to a loss function, except that the results from evaluating a metric are not used when training the model. You may use any of the loss functions as a metric function. In the present example, we are using \"accuracy\" as metrics:\n",
    "    \n",
    "*Accuracy = Number of correct predictions / Total number of predictions made*\n",
    "    \n",
    "\n",
    "Categorical crossentropy will compare the distribution of the predictions (the activations in the output layer, one for each class) with the true distribution, where the probability of the true class is set to 1, and 0 for the other classes.\n",
    "\n",
    "To put it in a different way, the true class is represented as an encoded vector, and the closer the model’s outputs are to that vector, the lower the loss.\n",
    "    \n",
    "Documentation: [keras.compile(...)](https://keras.io/models/model/#compile)"
   ]
  },
  {
   "cell_type": "code",
   "execution_count": 26,
   "metadata": {
    "ExecuteTime": {
     "end_time": "2020-11-25T01:04:21.394462Z",
     "start_time": "2020-11-25T01:04:21.391556Z"
    }
   },
   "outputs": [],
   "source": [
    "loss_function = 'categorical_crossentropy'\n",
    "metric_function = 'accuracy'"
   ]
  },
  {
   "cell_type": "markdown",
   "metadata": {
    "ExecuteTime": {
     "end_time": "2020-11-23T19:12:50.153175Z",
     "start_time": "2020-11-23T19:12:50.148215Z"
    }
   },
   "source": [
    "<font size=5 color='blue'>\n",
    "Compiling the model"
   ]
  },
  {
   "cell_type": "code",
   "execution_count": 27,
   "metadata": {
    "ExecuteTime": {
     "end_time": "2020-11-25T01:04:21.454852Z",
     "start_time": "2020-11-25T01:04:21.396776Z"
    }
   },
   "outputs": [],
   "source": [
    "cifar10_model.compile(optimizer = optimizer, loss = loss_function, metrics = [metric_function])"
   ]
  },
  {
   "cell_type": "markdown",
   "metadata": {},
   "source": [
    "<font size=5 color='blue'>\n",
    "    \n",
    "Training the learning system"
   ]
  },
  {
   "cell_type": "markdown",
   "metadata": {},
   "source": [
    "<font size=5 color='blue'>\n",
    "    \n",
    "Shuffle"
   ]
  },
  {
   "cell_type": "markdown",
   "metadata": {
    "ExecuteTime": {
     "end_time": "2020-11-23T21:49:35.336666Z",
     "start_time": "2020-11-23T21:49:35.331145Z"
    }
   },
   "source": [
    "<font size=4 color='black'>\n",
    "\n",
    "Shuffling the training data before each epoch has a large effect on the loss associated with the test samples. Shuffling the training data, the samples for each mini-batch change with the epoch.\n",
    "    \n",
    "To speed up the convergence of weights and biases, it is also possible to fix the samples associated with each mini-batch. Then, the mini-batches will be called randomly in each epoch.  \n",
    "    \n",
    "[An overview of gradient descent optimization algorithms](./literature/SGD_overview_2016-17.pdf)"
   ]
  },
  {
   "cell_type": "markdown",
   "metadata": {},
   "source": [
    "<font size=4 color=\"black\">\n",
    "    \n",
    "Documentation: [keras.fit(...)](https://keras.io/models/model/#fit)"
   ]
  },
  {
   "cell_type": "code",
   "execution_count": 28,
   "metadata": {
    "ExecuteTime": {
     "end_time": "2020-11-25T01:10:06.042123Z",
     "start_time": "2020-11-25T01:04:21.456027Z"
    },
    "scrolled": true
   },
   "outputs": [
    {
     "name": "stdout",
     "output_type": "stream",
     "text": [
      "Epoch 1/100\n",
      "1407/1407 [==============================] - 7s 5ms/step - loss: 2.3037 - accuracy: 0.0985 - val_loss: 2.3028 - val_accuracy: 0.1064\n",
      "Epoch 2/100\n",
      "1407/1407 [==============================] - 6s 4ms/step - loss: 2.3033 - accuracy: 0.0999 - val_loss: 2.3030 - val_accuracy: 0.0958\n",
      "Epoch 3/100\n",
      "1407/1407 [==============================] - 6s 4ms/step - loss: 2.3028 - accuracy: 0.1027 - val_loss: 2.3027 - val_accuracy: 0.1238\n",
      "Epoch 4/100\n",
      "1407/1407 [==============================] - 7s 5ms/step - loss: 2.3021 - accuracy: 0.1066 - val_loss: 2.3025 - val_accuracy: 0.0986\n",
      "Epoch 5/100\n",
      "1407/1407 [==============================] - 8s 5ms/step - loss: 2.3012 - accuracy: 0.1081 - val_loss: 2.2994 - val_accuracy: 0.0976\n",
      "Epoch 6/100\n",
      "1407/1407 [==============================] - 6s 5ms/step - loss: 2.2989 - accuracy: 0.1175 - val_loss: 2.2970 - val_accuracy: 0.0974\n",
      "Epoch 7/100\n",
      "1407/1407 [==============================] - 7s 5ms/step - loss: 2.2929 - accuracy: 0.1324 - val_loss: 2.2861 - val_accuracy: 0.1596\n",
      "Epoch 8/100\n",
      "1407/1407 [==============================] - 7s 5ms/step - loss: 2.2734 - accuracy: 0.1573 - val_loss: 2.2531 - val_accuracy: 0.1570\n",
      "Epoch 9/100\n",
      "1407/1407 [==============================] - 7s 5ms/step - loss: 2.2146 - accuracy: 0.1684 - val_loss: 2.1711 - val_accuracy: 0.1812\n",
      "Epoch 10/100\n",
      "1407/1407 [==============================] - 6s 4ms/step - loss: 2.1359 - accuracy: 0.1754 - val_loss: 2.1103 - val_accuracy: 0.1892\n",
      "Epoch 11/100\n",
      "1407/1407 [==============================] - 5s 4ms/step - loss: 2.0918 - accuracy: 0.1846 - val_loss: 2.0818 - val_accuracy: 0.1870\n",
      "Epoch 12/100\n",
      "1407/1407 [==============================] - 6s 4ms/step - loss: 2.0712 - accuracy: 0.1896 - val_loss: 2.0655 - val_accuracy: 0.1894\n",
      "Epoch 13/100\n",
      "1407/1407 [==============================] - 6s 4ms/step - loss: 2.0610 - accuracy: 0.1924 - val_loss: 2.0580 - val_accuracy: 0.1830\n",
      "Epoch 14/100\n",
      "1407/1407 [==============================] - 5s 3ms/step - loss: 2.0545 - accuracy: 0.1953 - val_loss: 2.0533 - val_accuracy: 0.1966\n",
      "Epoch 15/100\n",
      "1407/1407 [==============================] - 4s 3ms/step - loss: 2.0494 - accuracy: 0.1995 - val_loss: 2.0465 - val_accuracy: 0.2002\n",
      "Epoch 16/100\n",
      "1407/1407 [==============================] - 5s 4ms/step - loss: 2.0443 - accuracy: 0.2030 - val_loss: 2.0454 - val_accuracy: 0.2032\n",
      "Epoch 17/100\n",
      "1407/1407 [==============================] - 5s 3ms/step - loss: 2.0389 - accuracy: 0.2109 - val_loss: 2.0367 - val_accuracy: 0.2140\n",
      "Epoch 18/100\n",
      "1407/1407 [==============================] - 5s 3ms/step - loss: 2.0325 - accuracy: 0.2164 - val_loss: 2.0357 - val_accuracy: 0.2256\n",
      "Epoch 19/100\n",
      "1407/1407 [==============================] - 4s 3ms/step - loss: 2.0243 - accuracy: 0.2281 - val_loss: 2.0223 - val_accuracy: 0.2366\n",
      "Epoch 20/100\n",
      "1407/1407 [==============================] - 4s 3ms/step - loss: 2.0138 - accuracy: 0.2387 - val_loss: 2.0102 - val_accuracy: 0.2546\n",
      "Epoch 21/100\n",
      "1407/1407 [==============================] - ETA: 0s - loss: 1.9987 - accuracy: 0.25 - 4s 3ms/step - loss: 1.9985 - accuracy: 0.2534 - val_loss: 1.9953 - val_accuracy: 0.2544\n",
      "Epoch 22/100\n",
      "1407/1407 [==============================] - 4s 3ms/step - loss: 1.9797 - accuracy: 0.2671 - val_loss: 1.9795 - val_accuracy: 0.2678\n",
      "Epoch 23/100\n",
      "1407/1407 [==============================] - 5s 3ms/step - loss: 1.9585 - accuracy: 0.2781 - val_loss: 1.9567 - val_accuracy: 0.2750\n",
      "Epoch 24/100\n",
      "1407/1407 [==============================] - 5s 3ms/step - loss: 1.9368 - accuracy: 0.2880 - val_loss: 1.9352 - val_accuracy: 0.2902\n",
      "Epoch 25/100\n",
      "1407/1407 [==============================] - 4s 3ms/step - loss: 1.9164 - accuracy: 0.2974 - val_loss: 1.9195 - val_accuracy: 0.2988\n",
      "Epoch 26/100\n",
      "1407/1407 [==============================] - 6s 4ms/step - loss: 1.8995 - accuracy: 0.3052 - val_loss: 1.9251 - val_accuracy: 0.2946\n",
      "Epoch 27/100\n",
      "1407/1407 [==============================] - 4s 3ms/step - loss: 1.8857 - accuracy: 0.3116 - val_loss: 1.8941 - val_accuracy: 0.3086\n",
      "Epoch 28/100\n",
      "1407/1407 [==============================] - 4s 3ms/step - loss: 1.8737 - accuracy: 0.3174 - val_loss: 1.8848 - val_accuracy: 0.3152\n",
      "Epoch 29/100\n",
      "1407/1407 [==============================] - 4s 3ms/step - loss: 1.8631 - accuracy: 0.3220 - val_loss: 1.8726 - val_accuracy: 0.3200\n",
      "Epoch 30/100\n",
      "1407/1407 [==============================] - 3s 2ms/step - loss: 1.8535 - accuracy: 0.3278 - val_loss: 1.8731 - val_accuracy: 0.3122\n",
      "Epoch 31/100\n",
      "1407/1407 [==============================] - 5s 3ms/step - loss: 1.8440 - accuracy: 0.3304 - val_loss: 1.8557 - val_accuracy: 0.3264\n",
      "Epoch 32/100\n",
      "1407/1407 [==============================] - 4s 3ms/step - loss: 1.8342 - accuracy: 0.3348 - val_loss: 1.8511 - val_accuracy: 0.3234\n",
      "Epoch 33/100\n",
      "1407/1407 [==============================] - 4s 3ms/step - loss: 1.8239 - accuracy: 0.3387 - val_loss: 1.8349 - val_accuracy: 0.3308\n",
      "Epoch 34/100\n",
      "1407/1407 [==============================] - 4s 3ms/step - loss: 1.8139 - accuracy: 0.3443 - val_loss: 1.8271 - val_accuracy: 0.3312\n",
      "Epoch 35/100\n",
      "1407/1407 [==============================] - 4s 3ms/step - loss: 1.8038 - accuracy: 0.3480 - val_loss: 1.8200 - val_accuracy: 0.3370\n",
      "Epoch 36/100\n",
      "1407/1407 [==============================] - 4s 3ms/step - loss: 1.7948 - accuracy: 0.3503 - val_loss: 1.8087 - val_accuracy: 0.3394\n",
      "Epoch 37/100\n",
      "1407/1407 [==============================] - 4s 3ms/step - loss: 1.7852 - accuracy: 0.3527 - val_loss: 1.8054 - val_accuracy: 0.3426\n",
      "Epoch 38/100\n",
      "1407/1407 [==============================] - 4s 3ms/step - loss: 1.7771 - accuracy: 0.3548 - val_loss: 1.7936 - val_accuracy: 0.3484\n",
      "Epoch 39/100\n",
      "1407/1407 [==============================] - 5s 3ms/step - loss: 1.7691 - accuracy: 0.3576 - val_loss: 1.7917 - val_accuracy: 0.3498\n",
      "Epoch 40/100\n",
      "1407/1407 [==============================] - 6s 4ms/step - loss: 1.7615 - accuracy: 0.3603 - val_loss: 1.7821 - val_accuracy: 0.3550\n",
      "Epoch 41/100\n",
      "1407/1407 [==============================] - 6s 4ms/step - loss: 1.7542 - accuracy: 0.3628 - val_loss: 1.7724 - val_accuracy: 0.3608\n",
      "Epoch 42/100\n",
      "1407/1407 [==============================] - 6s 4ms/step - loss: 1.7474 - accuracy: 0.3653 - val_loss: 1.7685 - val_accuracy: 0.3606\n",
      "Epoch 43/100\n",
      "1407/1407 [==============================] - 7s 5ms/step - loss: 1.7406 - accuracy: 0.3674 - val_loss: 1.7593 - val_accuracy: 0.3638\n",
      "Epoch 44/100\n",
      "1407/1407 [==============================] - 7s 5ms/step - loss: 1.7330 - accuracy: 0.3715 - val_loss: 1.7510 - val_accuracy: 0.3618\n",
      "Epoch 45/100\n",
      "1407/1407 [==============================] - 6s 4ms/step - loss: 1.7273 - accuracy: 0.3742 - val_loss: 1.7597 - val_accuracy: 0.3640\n",
      "Epoch 46/100\n",
      "1407/1407 [==============================] - 5s 3ms/step - loss: 1.7203 - accuracy: 0.3776 - val_loss: 1.7460 - val_accuracy: 0.3740\n",
      "Epoch 47/100\n",
      "1407/1407 [==============================] - 4s 3ms/step - loss: 1.7143 - accuracy: 0.3771 - val_loss: 1.7401 - val_accuracy: 0.3740\n",
      "Epoch 48/100\n",
      "1407/1407 [==============================] - 4s 3ms/step - loss: 1.7073 - accuracy: 0.3798 - val_loss: 1.7448 - val_accuracy: 0.3726\n",
      "Epoch 49/100\n",
      "1407/1407 [==============================] - 4s 3ms/step - loss: 1.7005 - accuracy: 0.3828 - val_loss: 1.7287 - val_accuracy: 0.3792\n",
      "Epoch 50/100\n",
      "1407/1407 [==============================] - 4s 3ms/step - loss: 1.6944 - accuracy: 0.3840 - val_loss: 1.7301 - val_accuracy: 0.3708\n",
      "Epoch 51/100\n",
      "1407/1407 [==============================] - 4s 3ms/step - loss: 1.6874 - accuracy: 0.3877 - val_loss: 1.7150 - val_accuracy: 0.3854\n",
      "Epoch 52/100\n",
      "1407/1407 [==============================] - 4s 3ms/step - loss: 1.6811 - accuracy: 0.3872 - val_loss: 1.7167 - val_accuracy: 0.3840\n",
      "Epoch 53/100\n",
      "1407/1407 [==============================] - 4s 3ms/step - loss: 1.6741 - accuracy: 0.3914 - val_loss: 1.6996 - val_accuracy: 0.3866\n",
      "Epoch 54/100\n",
      "1407/1407 [==============================] - 4s 3ms/step - loss: 1.6680 - accuracy: 0.3939 - val_loss: 1.7052 - val_accuracy: 0.3786\n",
      "Epoch 55/100\n",
      "1407/1407 [==============================] - 4s 3ms/step - loss: 1.6615 - accuracy: 0.3953 - val_loss: 1.6968 - val_accuracy: 0.3824\n",
      "Epoch 56/100\n",
      "1407/1407 [==============================] - 4s 3ms/step - loss: 1.6556 - accuracy: 0.3971 - val_loss: 1.6871 - val_accuracy: 0.3818\n"
     ]
    },
    {
     "name": "stdout",
     "output_type": "stream",
     "text": [
      "Epoch 57/100\n",
      "1407/1407 [==============================] - 4s 3ms/step - loss: 1.6489 - accuracy: 0.4003 - val_loss: 1.6882 - val_accuracy: 0.3914\n",
      "Epoch 58/100\n",
      "1407/1407 [==============================] - 4s 3ms/step - loss: 1.6423 - accuracy: 0.4010 - val_loss: 1.6745 - val_accuracy: 0.3968\n",
      "Epoch 59/100\n",
      "1407/1407 [==============================] - 4s 3ms/step - loss: 1.6366 - accuracy: 0.4021 - val_loss: 1.6724 - val_accuracy: 0.3938\n",
      "Epoch 60/100\n",
      "1407/1407 [==============================] - 4s 3ms/step - loss: 1.6300 - accuracy: 0.4062 - val_loss: 1.6654 - val_accuracy: 0.3926\n",
      "Epoch 61/100\n",
      "1407/1407 [==============================] - 4s 3ms/step - loss: 1.6239 - accuracy: 0.4094 - val_loss: 1.6773 - val_accuracy: 0.3930\n",
      "Epoch 62/100\n",
      "1407/1407 [==============================] - 4s 3ms/step - loss: 1.6176 - accuracy: 0.4120 - val_loss: 1.6506 - val_accuracy: 0.4030\n",
      "Epoch 63/100\n",
      "1407/1407 [==============================] - 3s 2ms/step - loss: 1.6113 - accuracy: 0.4139 - val_loss: 1.6494 - val_accuracy: 0.3984\n",
      "Epoch 64/100\n",
      "1407/1407 [==============================] - 4s 3ms/step - loss: 1.6050 - accuracy: 0.4138 - val_loss: 1.6433 - val_accuracy: 0.3996\n",
      "Epoch 65/100\n",
      "1407/1407 [==============================] - 4s 3ms/step - loss: 1.5990 - accuracy: 0.4188 - val_loss: 1.6366 - val_accuracy: 0.4058\n",
      "Epoch 66/100\n",
      "1407/1407 [==============================] - 4s 3ms/step - loss: 1.5943 - accuracy: 0.4199 - val_loss: 1.6322 - val_accuracy: 0.4080\n",
      "Epoch 67/100\n",
      "1407/1407 [==============================] - 4s 3ms/step - loss: 1.5883 - accuracy: 0.4216 - val_loss: 1.6263 - val_accuracy: 0.4096\n",
      "Epoch 68/100\n",
      "1407/1407 [==============================] - 4s 3ms/step - loss: 1.5825 - accuracy: 0.4249 - val_loss: 1.6322 - val_accuracy: 0.4130\n",
      "Epoch 69/100\n",
      "1407/1407 [==============================] - 4s 3ms/step - loss: 1.5774 - accuracy: 0.4261 - val_loss: 1.6447 - val_accuracy: 0.4100\n",
      "Epoch 70/100\n",
      "1407/1407 [==============================] - 4s 3ms/step - loss: 1.5713 - accuracy: 0.4281 - val_loss: 1.6342 - val_accuracy: 0.4098\n",
      "Epoch 71/100\n",
      "1407/1407 [==============================] - 4s 3ms/step - loss: 1.5657 - accuracy: 0.4314 - val_loss: 1.6366 - val_accuracy: 0.4146\n",
      "Epoch 72/100\n",
      "1407/1407 [==============================] - 4s 3ms/step - loss: 1.5604 - accuracy: 0.4322 - val_loss: 1.6488 - val_accuracy: 0.4066\n",
      "Epoch 73/100\n",
      "1407/1407 [==============================] - 4s 3ms/step - loss: 1.5554 - accuracy: 0.4348 - val_loss: 1.5990 - val_accuracy: 0.4256\n",
      "Epoch 74/100\n",
      "1407/1407 [==============================] - 4s 3ms/step - loss: 1.5495 - accuracy: 0.4370 - val_loss: 1.6058 - val_accuracy: 0.4120\n",
      "Epoch 75/100\n",
      "1407/1407 [==============================] - 4s 3ms/step - loss: 1.5448 - accuracy: 0.4371 - val_loss: 1.6089 - val_accuracy: 0.4168\n",
      "Epoch 76/100\n",
      "1407/1407 [==============================] - 4s 3ms/step - loss: 1.5390 - accuracy: 0.4408 - val_loss: 1.6270 - val_accuracy: 0.4162\n",
      "Epoch 77/100\n",
      "1407/1407 [==============================] - 4s 3ms/step - loss: 1.5349 - accuracy: 0.4421 - val_loss: 1.5887 - val_accuracy: 0.4228\n",
      "Epoch 78/100\n",
      "1407/1407 [==============================] - 4s 3ms/step - loss: 1.5293 - accuracy: 0.4444 - val_loss: 1.5963 - val_accuracy: 0.4220\n",
      "Epoch 79/100\n",
      "1407/1407 [==============================] - 4s 3ms/step - loss: 1.5241 - accuracy: 0.4457 - val_loss: 1.5771 - val_accuracy: 0.4214\n",
      "Epoch 80/100\n",
      "1407/1407 [==============================] - 4s 3ms/step - loss: 1.5194 - accuracy: 0.4487 - val_loss: 1.5877 - val_accuracy: 0.4226\n",
      "Epoch 81/100\n",
      "1407/1407 [==============================] - 4s 3ms/step - loss: 1.5152 - accuracy: 0.4505 - val_loss: 1.5780 - val_accuracy: 0.4244\n",
      "Epoch 82/100\n",
      "1407/1407 [==============================] - 4s 3ms/step - loss: 1.5097 - accuracy: 0.4511 - val_loss: 1.5670 - val_accuracy: 0.4296\n",
      "Epoch 83/100\n",
      "1407/1407 [==============================] - 4s 3ms/step - loss: 1.5045 - accuracy: 0.4545 - val_loss: 1.5823 - val_accuracy: 0.4222\n",
      "Epoch 84/100\n",
      "1407/1407 [==============================] - 4s 3ms/step - loss: 1.4993 - accuracy: 0.4561 - val_loss: 1.5653 - val_accuracy: 0.4344\n",
      "Epoch 85/100\n",
      "1407/1407 [==============================] - 4s 3ms/step - loss: 1.4951 - accuracy: 0.4584 - val_loss: 1.5742 - val_accuracy: 0.4334\n",
      "Epoch 86/100\n",
      "1407/1407 [==============================] - 4s 3ms/step - loss: 1.4903 - accuracy: 0.4586 - val_loss: 1.5560 - val_accuracy: 0.4348\n",
      "Epoch 87/100\n",
      "1407/1407 [==============================] - 4s 3ms/step - loss: 1.4849 - accuracy: 0.4607 - val_loss: 1.5461 - val_accuracy: 0.4416\n",
      "Epoch 88/100\n",
      "1407/1407 [==============================] - 4s 3ms/step - loss: 1.4807 - accuracy: 0.4643 - val_loss: 1.5430 - val_accuracy: 0.4408\n",
      "Epoch 89/100\n",
      "1407/1407 [==============================] - 4s 3ms/step - loss: 1.4760 - accuracy: 0.4654 - val_loss: 1.5517 - val_accuracy: 0.4374\n",
      "Epoch 90/100\n",
      "1407/1407 [==============================] - 4s 3ms/step - loss: 1.4710 - accuracy: 0.4658 - val_loss: 1.5415 - val_accuracy: 0.4420\n",
      "Epoch 91/100\n",
      "1407/1407 [==============================] - 4s 3ms/step - loss: 1.4673 - accuracy: 0.4691 - val_loss: 1.5903 - val_accuracy: 0.4256\n",
      "Epoch 92/100\n",
      "1407/1407 [==============================] - 4s 3ms/step - loss: 1.4628 - accuracy: 0.4705 - val_loss: 1.5275 - val_accuracy: 0.4398\n",
      "Epoch 93/100\n",
      "1407/1407 [==============================] - 4s 2ms/step - loss: 1.4582 - accuracy: 0.4720 - val_loss: 1.5284 - val_accuracy: 0.4468\n",
      "Epoch 94/100\n",
      "1407/1407 [==============================] - 4s 3ms/step - loss: 1.4538 - accuracy: 0.4739 - val_loss: 1.5318 - val_accuracy: 0.4484\n",
      "Epoch 95/100\n",
      "1407/1407 [==============================] - 4s 3ms/step - loss: 1.4500 - accuracy: 0.4749 - val_loss: 1.5085 - val_accuracy: 0.4576\n",
      "Epoch 96/100\n",
      "1407/1407 [==============================] - 4s 3ms/step - loss: 1.4448 - accuracy: 0.4761 - val_loss: 1.5190 - val_accuracy: 0.4480\n",
      "Epoch 97/100\n",
      "1407/1407 [==============================] - 4s 3ms/step - loss: 1.4400 - accuracy: 0.4793 - val_loss: 1.5332 - val_accuracy: 0.4406\n",
      "Epoch 98/100\n",
      "1407/1407 [==============================] - 5s 3ms/step - loss: 1.4356 - accuracy: 0.4795 - val_loss: 1.5153 - val_accuracy: 0.4520\n",
      "Epoch 99/100\n",
      "1407/1407 [==============================] - 5s 4ms/step - loss: 1.4317 - accuracy: 0.4806 - val_loss: 1.5323 - val_accuracy: 0.4494\n",
      "Epoch 100/100\n",
      "1407/1407 [==============================] - 5s 4ms/step - loss: 1.4297 - accuracy: 0.4804 - val_loss: 1.4989 - val_accuracy: 0.4564\n"
     ]
    }
   ],
   "source": [
    "#10 % of the training data will be used to validate the training\n",
    "validation_portion = 0.1\n",
    "num_epochs = 100\n",
    "\n",
    "history = cifar10_model.fit(x = train_x, y = train_y, epochs = num_epochs, batch_size = 32, \\\n",
    "                            validation_split = validation_portion, shuffle=True, verbose=1)"
   ]
  },
  {
   "cell_type": "markdown",
   "metadata": {},
   "source": [
    "<font size=5 color=\"blue\">\n",
    "Graph of cost functions as a function of epoch"
   ]
  },
  {
   "cell_type": "code",
   "execution_count": 29,
   "metadata": {
    "ExecuteTime": {
     "end_time": "2020-11-25T01:10:06.168583Z",
     "start_time": "2020-11-25T01:10:06.043535Z"
    },
    "scrolled": false
   },
   "outputs": [
    {
     "data": {
      "image/png": "[encoded data removed]",
      "text/plain": [
       "<Figure size 432x288 with 1 Axes>"
      ]
     },
     "metadata": {
      "needs_background": "light"
     },
     "output_type": "display_data"
    }
   ],
   "source": [
    "plt.plot(history.history['loss'])\n",
    "plt.plot(history.history['val_loss'])\n",
    "plt.title('Lr = 0.01, Dropout: Inp = 0.0, hl_1 = 0.0, hl_2 = 0.0')\n",
    "plt.ylabel('Cost')\n",
    "plt.xlabel('Epoch')\n",
    "plt.legend(['Train', 'Validation'], loc='upper right')\n",
    "plt.show()"
   ]
  },
  {
   "cell_type": "markdown",
   "metadata": {},
   "source": [
    "<font size=5 color=\"blue\">\n",
    "Graph of accuracy functions as a function of epoch"
   ]
  },
  {
   "cell_type": "code",
   "execution_count": 30,
   "metadata": {
    "ExecuteTime": {
     "end_time": "2020-11-25T01:10:06.402134Z",
     "start_time": "2020-11-25T01:10:06.170322Z"
    }
   },
   "outputs": [
    {
     "data": {
      "image/png": "[encoded data removed]",
      "text/plain": [
       "<Figure size 432x288 with 1 Axes>"
      ]
     },
     "metadata": {
      "needs_background": "light"
     },
     "output_type": "display_data"
    }
   ],
   "source": [
    "plt.plot(history.history['accuracy'])\n",
    "plt.plot(history.history['val_accuracy'])\n",
    "plt.title('Lr = 0.01, Dropout: Inp = 0.0, hl1 = 0.15, hl2 = 0.0')\n",
    "plt.ylabel('Accuracy')\n",
    "plt.xlabel('Epoch')\n",
    "plt.legend(['Train', 'Validation'], loc='lower right')\n",
    "plt.show()"
   ]
  },
  {
   "cell_type": "markdown",
   "metadata": {},
   "source": [
    "<font size = 5 color='blue'>\n",
    "Loss and accuracy evaluation"
   ]
  },
  {
   "cell_type": "markdown",
   "metadata": {},
   "source": [
    "<font size= 4 color='black'>    \n",
    "After training the network, the loss and accuracy functions are evaluated using the test samples (test_x, test_y).    \n",
    "\n",
    "    \n",
    "[Method evaluate in Keras](https://keras.io/models/model/)"
   ]
  },
  {
   "cell_type": "code",
   "execution_count": 31,
   "metadata": {
    "ExecuteTime": {
     "end_time": "2020-11-25T01:10:06.949800Z",
     "start_time": "2020-11-25T01:10:06.403687Z"
    }
   },
   "outputs": [
    {
     "name": "stdout",
     "output_type": "stream",
     "text": [
      "313/313 [==============================] - 0s 1ms/step - loss: 1.5038 - accuracy: 0.4571\n",
      "Loss = 1.5038011074066162\n",
      "Test Accuracy = 0.4571000039577484\n"
     ]
    }
   ],
   "source": [
    "evaluations = cifar10_model.evaluate(x = test_x, y = test_y)\n",
    "\n",
    "print (\"Loss = \" + str(evaluations[0]))\n",
    "print (\"Test Accuracy = \" + str(evaluations[1]))\n"
   ]
  },
  {
   "cell_type": "code",
   "execution_count": 32,
   "metadata": {
    "ExecuteTime": {
     "end_time": "2020-11-25T01:10:06.963444Z",
     "start_time": "2020-11-25T01:10:06.951157Z"
    }
   },
   "outputs": [
    {
     "name": "stdout",
     "output_type": "stream",
     "text": [
      "4/4 [==============================] - 0s 3ms/step - loss: 1.3895 - accuracy: 0.5700\n",
      "Loss = 1.3894671201705933\n",
      "Test Accuracy = 0.5699999928474426\n"
     ]
    }
   ],
   "source": [
    "# Evaluation using the first 100 samples of the test set\n",
    "\n",
    "evaluations = cifar10_model.evaluate(x = test_x[:100], y = test_y[:100])\n",
    "\n",
    "print (\"Loss = \" + str(evaluations[0]))\n",
    "print (\"Test Accuracy = \" + str(evaluations[1]))\n"
   ]
  },
  {
   "cell_type": "markdown",
   "metadata": {},
   "source": [
    "<font size = 5 color='blue'>\n",
    "Image prediction"
   ]
  },
  {
   "cell_type": "markdown",
   "metadata": {},
   "source": [
    "<font size= 4 color='black'>    \n",
    "The trained learning system can predict the object content of an image. For example, we take an image of the test dataset (test_x, test_y). \n",
    "    \n",
    "[Method predict in Keras](https://keras.io/models/model/)"
   ]
  },
  {
   "cell_type": "code",
   "execution_count": 33,
   "metadata": {
    "ExecuteTime": {
     "end_time": "2020-11-25T01:10:07.385602Z",
     "start_time": "2020-11-25T01:10:06.964734Z"
    }
   },
   "outputs": [],
   "source": [
    "# Predicting the image associated to the each sample in the test set (X_test)\n",
    "predictions = cifar10_model.predict(test_x)"
   ]
  },
  {
   "cell_type": "code",
   "execution_count": 38,
   "metadata": {
    "ExecuteTime": {
     "end_time": "2020-11-25T01:10:07.389232Z",
     "start_time": "2020-11-25T01:10:07.386781Z"
    }
   },
   "outputs": [],
   "source": [
    "sample = 4"
   ]
  },
  {
   "cell_type": "markdown",
   "metadata": {},
   "source": [
    "<font size=4 color=\"black\"> \n",
    "Displaying the image associated (not predicted!) to this sample."
   ]
  },
  {
   "cell_type": "code",
   "execution_count": 39,
   "metadata": {
    "ExecuteTime": {
     "end_time": "2020-11-25T01:10:07.507172Z",
     "start_time": "2020-11-25T01:10:07.390916Z"
    }
   },
   "outputs": [
    {
     "name": "stdout",
     "output_type": "stream",
     "text": [
      "the sample 4 corresponds to a frog\n"
     ]
    },
    {
     "data": {
      "image/png": "[encoded data removed]",
      "text/plain": [
       "<Figure size 432x288 with 1 Axes>"
      ]
     },
     "metadata": {
      "needs_background": "light"
     },
     "output_type": "display_data"
    }
   ],
   "source": [
    "\n",
    "plt.imshow(test_x[sample].reshape((32, 32, 3)))\n",
    "\n",
    "print('the sample', sample, 'corresponds to a', dic[int(np.argmax(test_y[sample]))])\n"
   ]
  },
  {
   "cell_type": "code",
   "execution_count": 40,
   "metadata": {
    "ExecuteTime": {
     "end_time": "2020-11-25T01:10:07.513686Z",
     "start_time": "2020-11-25T01:10:07.509188Z"
    }
   },
   "outputs": [
    {
     "name": "stdout",
     "output_type": "stream",
     "text": [
      "For the sample number 4 the prediction is a(n) deer\n"
     ]
    }
   ],
   "source": [
    "# Predicting the image associated to the sample \n",
    "# np.argmax returns the index of the maximum value\n",
    "\n",
    "prediction = np.argmax(predictions[sample])\n",
    "\n",
    "print('For the sample number', sample, 'the prediction is a(n)', dic[prediction])"
   ]
  },
  {
   "cell_type": "markdown",
   "metadata": {},
   "source": [
    "<font size = 4 color=\"black\">\n",
    "    \n",
    "The next function finds the number of samples where the network made an incorrect prediction in a region of the test dataset. For example, in the first 40 samples from this dataset."
   ]
  },
  {
   "cell_type": "code",
   "execution_count": 37,
   "metadata": {
    "ExecuteTime": {
     "end_time": "2020-11-25T01:10:20.963938Z",
     "start_time": "2020-11-25T01:10:07.516565Z"
    }
   },
   "outputs": [
    {
     "data": {
      "text/plain": [
       "[4, 6, 8, 10, 12, 14, 17, 20, 22, 23, 24, 25, 26, 27, 31, 33, 35, 36]"
      ]
     },
     "execution_count": 37,
     "metadata": {},
     "output_type": "execute_result"
    }
   ],
   "source": [
    "\n",
    "mislabeled_images = []\n",
    "\n",
    "for i in range(len(test_x[:40])):\n",
    "    \n",
    "    if np.argmax(cifar10_model.predict(test_x)[i]) != np.argmax(test_y[i]):\n",
    "        \n",
    "        mislabeled_images.append(i)\n",
    " \n",
    "\n",
    "\n",
    "mislabeled_images"
   ]
  },
  {
   "cell_type": "markdown",
   "metadata": {},
   "source": [
    "<font size=4 color='black'>\n",
    "Keras has the several options to use regularizers L1, L2 or both simultaneously. \n",
    "It also has the option of creating custom regulirizers.\n",
    "    \n",
    "[Keras layer weight regularizers](https://keras.io/api/layers/regularizers/)"
   ]
  },
  {
   "cell_type": "markdown",
   "metadata": {},
   "source": [
    "<font size=4 color='black'>\n",
    "    \n",
    "[Runs summary](clase9-figures.odt)"
   ]
  },
  {
   "cell_type": "code",
   "execution_count": null,
   "metadata": {},
   "outputs": [],
   "source": []
  }
 ],
 "metadata": {
  "kernelspec": {
   "display_name": "Python 3",
   "language": "python",
   "name": "python3"
  },
  "language_info": {
   "codemirror_mode": {
    "name": "ipython",
    "version": 3
   },
   "file_extension": ".py",
   "mimetype": "text/x-python",
   "name": "python",
   "nbconvert_exporter": "python",
   "pygments_lexer": "ipython3",
   "version": "3.7.0"
  }
 },
 "nbformat": 4,
 "nbformat_minor": 2
}
