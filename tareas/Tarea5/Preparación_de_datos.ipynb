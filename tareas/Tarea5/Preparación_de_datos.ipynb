{
 "cells": [
  {
   "cell_type": "markdown",
   "metadata": {},
   "source": [
    "<font size=4 color='indianred'>\n",
    "    \n",
    " # Análisis de datos usando Pandas"
   ]
  },
  {
   "cell_type": "markdown",
   "metadata": {},
   "source": [
    "<font size=4>\n",
    "    \n",
    "  Pandas es una biblioteca de Python que facilita el análisis de datos. \n",
    " \n",
    "Pandas trabaja con dos tipos de objetos principales: **DataFrame** y **Serie**.\n",
    "\n",
    "Un **DataFrame** es como una tabla y una **serie** es como una columna. \n",
    "\n",
    "La sintaxis para declarar a un **DataFrame** es declarando un diccionario, en donde las palabras clave seran el nombre de las columnas y los valores serán el listado de entradas para la columna dada. \n",
    "\n"
   ]
  },
  {
   "cell_type": "markdown",
   "metadata": {},
   "source": [
    "<font size=4 color='indianred'>\n",
    "    \n",
    "> ### Leer un archivo de datos."
   ]
  },
  {
   "cell_type": "markdown",
   "metadata": {},
   "source": [
    "<font size=4>\n",
    "    \n",
    "Un archivo csv es una tabla de valores separadas por comas (\"Comma-Separated-Values\").\n",
    "\n",
    "Usando la siguiente función, Pandas nos permite leer archivos csv e interpretarlo como un **DataFrame**:\n",
    "\n",
    "csv ------------> **pd.read_csv(** file_name **)** --------------> DataFrame\n",
    "\n",
    "___\n"
   ]
  },
  {
   "cell_type": "markdown",
   "metadata": {},
   "source": [
    "<font size=4>\n",
    "    \n",
    "  Ejemplo: Se descargó la base de datos *Superconductivty Data Data Set*.\n",
    "\n",
    "    \n",
    "[UCI Machine Learning Repository: Superconductivty Data Data Set ](https://archive.ics.uci.edu/ml/datasets/Superconductivty+Data)\n",
    "\n",
    "\n",
    "\n",
    "Hay dos archivos: \n",
    "\n",
    "    (1) train.csv: contiene 81 características extraídas de 21263 superconductores junto con la temperatura crítica en la columna 82, \n",
    "\n",
    "\n",
    "    (2) unique_m.csv: contiene la fórmula química dividida para todos los 21263 superconductores del archivo  train.csv \n",
    "\n",
    "\n",
    "\n",
    "Las dos últimas columnas tienen la temperatura crítica y la fórmula química. Los datos originales provienen de [aquí](https://supercon.nims.go.jp/index_en.html) que es público. \n",
    "\n",
    "**El objetivo aquí es predecir la temperatura crítica en función de las características extraídas.**"
   ]
  },
  {
   "cell_type": "code",
   "execution_count": null,
   "metadata": {},
   "outputs": [],
   "source": [
    "import pandas as pd"
   ]
  },
  {
   "cell_type": "code",
   "execution_count": null,
   "metadata": {},
   "outputs": [],
   "source": [
    "data = pd.read_csv('superconduct/train.csv')"
   ]
  },
  {
   "cell_type": "markdown",
   "metadata": {},
   "source": [
    "[read_csv( )](https://pandas.pydata.org/pandas-docs/stable/reference/api/pandas.read_csv.html)"
   ]
  },
  {
   "cell_type": "code",
   "execution_count": null,
   "metadata": {},
   "outputs": [],
   "source": [
    "data"
   ]
  },
  {
   "cell_type": "markdown",
   "metadata": {},
   "source": [
    "<font size=4>\n",
    "    \n",
    "El atributo  **shape** regresa el numero de datos por el numero de columnas: (#records, #column)"
   ]
  },
  {
   "cell_type": "code",
   "execution_count": null,
   "metadata": {},
   "outputs": [],
   "source": [
    "data.shape"
   ]
  },
  {
   "cell_type": "markdown",
   "metadata": {},
   "source": [
    "<font size=4>\n",
    "    \n",
    "Los metodos **head()** y **tail()** permiten ver los primeros 5 y los ultimos 5 renglones, respectivamente. \n",
    "\n",
    "También se puede especificar dentro de los paréntesis el numero de renglones a ver. "
   ]
  },
  {
   "cell_type": "code",
   "execution_count": null,
   "metadata": {},
   "outputs": [],
   "source": [
    "#data.head()\n",
    "data.tail(15)"
   ]
  },
  {
   "cell_type": "markdown",
   "metadata": {},
   "source": [
    "<font size=4 color='indianred'>\n",
    "    \n",
    "> ### Seleccionar una columna específica"
   ]
  },
  {
   "cell_type": "markdown",
   "metadata": {},
   "source": [
    "<font size=4>\n",
    "    \n",
    "Para seleccionar una columna (serie) especifica de un DataFrame (df) se usa la sintaxis:\n",
    "    \n",
    "    \n",
    "**df.column_name** o **df['column_name']**\n",
    "\n",
    "por ejemplo:"
   ]
  },
  {
   "cell_type": "code",
   "execution_count": null,
   "metadata": {},
   "outputs": [],
   "source": [
    "data.critical_temp\n",
    "\n",
    "#data['critical_temp']"
   ]
  },
  {
   "cell_type": "markdown",
   "metadata": {},
   "source": [
    "<font size=4 color='indianred'>\n",
    "    \n",
    "> ### Seleccionar un valor específico"
   ]
  },
  {
   "cell_type": "markdown",
   "metadata": {},
   "source": [
    "<font size=4>\n",
    "    \n",
    "Para seleccionar un valor especifico de un DataFrame (df) se usa la sintaxis:\n",
    "    \n",
    "**df['column_name'][index]**\n",
    "\n",
    "El indexado en Pandas funciona de la misma manera que en Python.\n",
    "\n",
    "por ejemplo:"
   ]
  },
  {
   "cell_type": "code",
   "execution_count": null,
   "metadata": {},
   "outputs": [],
   "source": [
    "#data.critical_temp\n",
    "\n",
    "data['critical_temp'][567]"
   ]
  },
  {
   "cell_type": "markdown",
   "metadata": {},
   "source": [
    "<font size=4 color='indianred'>\n",
    "    \n",
    "> ### Operadores de acceso"
   ]
  },
  {
   "cell_type": "markdown",
   "metadata": {},
   "source": [
    "<font size=4>\n",
    "    \n",
    "Pandas tiene sus propios operadores de acceso.\n",
    "\n"
   ]
  },
  {
   "cell_type": "markdown",
   "metadata": {},
   "source": [
    "<font size=4 color='indianred'>\n",
    "    \n",
    ">> ### Selección basada en el índice. 'iloc'"
   ]
  },
  {
   "cell_type": "markdown",
   "metadata": {},
   "source": [
    "<font size=4>\n",
    "    \n",
    "Selecciona a los datos basado en su posicion numérica.(Ignora el indice del conjunto de datos)\n",
    "\n",
    "**df.iloc[i]** ---> muestra el renglón i+1\n",
    "\n",
    "**df.iloc[row, column]**\n"
   ]
  },
  {
   "cell_type": "code",
   "execution_count": null,
   "metadata": {},
   "outputs": [],
   "source": [
    "index = 0\n",
    "\n",
    "row = 0\n",
    "\n",
    "column = 1\n",
    "\n",
    "#data.iloc[index]   # muestra el renglon 'index'\n",
    "\n",
    "#data.iloc[row, column]   # muestra el dato del renglon 'row' y la columna 'column'\n",
    "\n",
    "data.iloc[:, column]    # muestra todos los elementos de la columna 'column'\n"
   ]
  },
  {
   "cell_type": "markdown",
   "metadata": {},
   "source": [
    "<font size=4 color='indianred'>\n",
    "    \n",
    ">> ### Selección basada en la etiqueta. 'loc'"
   ]
  },
  {
   "cell_type": "markdown",
   "metadata": {},
   "source": [
    "<font size=4>\n",
    "    \n",
    "Selecciona a los datos basado en el valor del índice de datos, no en su posición.\n",
    "\n",
    "**df.loc[i, 'name_column']**\n"
   ]
  },
  {
   "cell_type": "code",
   "execution_count": null,
   "metadata": {},
   "outputs": [],
   "source": [
    "data.loc[0, 'number_of_elements']\n",
    "\n",
    "data.loc[:, ['number_of_elements', 'critical_temp']]"
   ]
  },
  {
   "cell_type": "markdown",
   "metadata": {},
   "source": [
    "<font size=4>\n",
    "    \n",
    "iloc[0:10] ---> 0, 1, 2, ..., 9 \n",
    "\n",
    "\n",
    "loc[0:10] ---> 0, 1, 2, ..., 10\n"
   ]
  },
  {
   "cell_type": "markdown",
   "metadata": {},
   "source": [
    "<font size=4 color='indianred'>\n",
    "    \n",
    "> ### Selección condicional"
   ]
  },
  {
   "cell_type": "markdown",
   "metadata": {},
   "source": [
    "<font size=4>\n",
    "    \n",
    "Pandas tiene sus propios operadores de acceso.\n",
    "\n"
   ]
  },
  {
   "cell_type": "code",
   "execution_count": null,
   "metadata": {},
   "outputs": [],
   "source": [
    "data.number_of_elements == 4"
   ]
  },
  {
   "cell_type": "code",
   "execution_count": null,
   "metadata": {},
   "outputs": [],
   "source": [
    "data.loc[data.number_of_elements == 4]"
   ]
  },
  {
   "cell_type": "markdown",
   "metadata": {},
   "source": [
    "<font size=4>\n",
    "    \n",
    "Para seleccionar datos que estan en una lista de valores:\n",
    "\n"
   ]
  },
  {
   "cell_type": "code",
   "execution_count": null,
   "metadata": {},
   "outputs": [],
   "source": [
    "data.loc[data.number_of_elements.isin([5, 11])]"
   ]
  },
  {
   "cell_type": "markdown",
   "metadata": {},
   "source": [
    "<font size=4>\n",
    "    \n",
    "Para resaltar valores que estan vacios (NaN):\n",
    "\n"
   ]
  },
  {
   "cell_type": "code",
   "execution_count": null,
   "metadata": {},
   "outputs": [],
   "source": [
    "data.loc[data.number_of_elements.notnull()]\n",
    "#data.loc[data.number_of_elements.isnull()]"
   ]
  },
  {
   "cell_type": "markdown",
   "metadata": {},
   "source": [
    "<font size=4 color='indianred'>\n",
    "    \n",
    "> ### Funciones utiles"
   ]
  },
  {
   "cell_type": "markdown",
   "metadata": {},
   "source": [
    "<font size=4>\n",
    "    \n",
    "**describe()** ---> aplicado a valores numéricos da un resumen estadístico.\n"
   ]
  },
  {
   "cell_type": "code",
   "execution_count": null,
   "metadata": {},
   "outputs": [],
   "source": [
    "data.number_of_elements.describe()\n",
    "data.describe()\n"
   ]
  },
  {
   "cell_type": "markdown",
   "metadata": {},
   "source": [
    "<font size=4>\n",
    "    \n",
    "**mean()** \n"
   ]
  },
  {
   "cell_type": "code",
   "execution_count": null,
   "metadata": {},
   "outputs": [],
   "source": [
    "data.mean_atomic_mass.mean()\n",
    "data.mean()"
   ]
  },
  {
   "cell_type": "markdown",
   "metadata": {},
   "source": [
    "<font size=4>\n",
    "    \n",
    "\n",
    "\n",
    "**unique()** ---> Indica los valores diferentes que se pueden tomar en una columna en específico.\n",
    "\n"
   ]
  },
  {
   "cell_type": "code",
   "execution_count": null,
   "metadata": {},
   "outputs": [],
   "source": [
    "data.number_of_elements.unique()\n",
    "\n",
    "# unique() es atributo de series no de dataframe"
   ]
  },
  {
   "cell_type": "markdown",
   "metadata": {},
   "source": [
    "<font size=4>\n",
    "    \n",
    "**value_counts()** ---> Indica el numero de muestras para los valores que una determinada columna puede tomar."
   ]
  },
  {
   "cell_type": "code",
   "execution_count": null,
   "metadata": {},
   "outputs": [],
   "source": [
    "data.number_of_elements.value_counts()"
   ]
  },
  {
   "cell_type": "markdown",
   "metadata": {},
   "source": [
    "<font size=4>\n",
    "\n",
    "[UCI Machine Learning Repository](https://archive.ics.uci.edu/ml/index.php)\n",
    "\n",
    "[Kaggle](https://www.kaggle.com/)\n",
    "\n",
    "[sklearn](https://scikit-learn.org/stable/datasets/index.html)\n",
    "\n",
    "[Google datasets](https://datasetsearch.research.google.com/)\n",
    "\n",
    "[CDMX data](https://datos.cdmx.gob.mx/pages/home/)"
   ]
  },
  {
   "cell_type": "code",
   "execution_count": null,
   "metadata": {},
   "outputs": [],
   "source": []
  }
 ],
 "metadata": {
  "kernelspec": {
   "display_name": "Python 3",
   "language": "python",
   "name": "python3"
  },
  "language_info": {
   "codemirror_mode": {
    "name": "ipython",
    "version": 3
   },
   "file_extension": ".py",
   "mimetype": "text/x-python",
   "name": "python",
   "nbconvert_exporter": "python",
   "pygments_lexer": "ipython3",
   "version": "3.7.4"
  }
 },
 "nbformat": 4,
 "nbformat_minor": 4
}
