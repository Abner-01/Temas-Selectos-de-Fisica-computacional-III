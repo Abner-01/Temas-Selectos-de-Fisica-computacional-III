{
 "cells": [
  {
   "cell_type": "markdown",
   "metadata": {},
   "source": [
    "<font size=4 color='blue'>\n",
    "\n",
    "# <center>Clase 10, diciembre 2 del 2020</center>\n"
   ]
  },
  {
   "cell_type": "markdown",
   "metadata": {
    "ExecuteTime": {
     "end_time": "2020-11-22T12:50:36.354304Z",
     "start_time": "2020-11-22T12:50:36.345388Z"
    }
   },
   "source": [
    "<font size=5 color=\"blue\">\n",
    "\n",
    "Convolutional Neural Networks"
   ]
  },
  {
   "cell_type": "markdown",
   "metadata": {
    "ExecuteTime": {
     "end_time": "2020-11-22T12:50:36.354304Z",
     "start_time": "2020-11-22T12:50:36.345388Z"
    }
   },
   "source": [
    "<font size=4 color=\"black\">\n",
    "\n",
    "[Interactive Visualizing of Convolutional Neural Networks](./literature/CNN-explainer_2020.pdf)"
   ]
  },
  {
   "cell_type": "markdown",
   "metadata": {},
   "source": [
    "<font size=4>\n",
    "    \n",
    "\n",
    "Some applications of these networks:\n",
    "\n",
    "- Object recognition.\n",
    "\n",
    "<img src='images/clasification.jpeg' style=\"width: 800px;\"/>\n",
    "\n",
    "- Object detection; for example in a camera for face detection or in autonomous vehicles.\n",
    "\n",
    "<img src='images/detection.jpeg' style=\"width: 300px;\"/>\n",
    "\n",
    "\n",
    "- Neural Style Transfer: two images are superimposed to mixe their content.\n",
    "\n",
    "<img src='images/style.jpeg' style=\"width: 800px;\"/>\n",
    "    "
   ]
  },
  {
   "cell_type": "markdown",
   "metadata": {},
   "source": [
    "<font size=5 color=\"blue\">\n",
    "\n",
    "Convolution of two functions   "
   ]
  },
  {
   "cell_type": "markdown",
   "metadata": {},
   "source": [
    "<font size=4 color=\"black\">\n",
    "    \n",
    "Given the functions *f* and *g* over the finite range [0,t], their convolution is given by:\n",
    "    \n",
    "$$  [f*g] = \\int_0^1 f(\\tau)g(t-\\tau) d\\tau$$"
   ]
  },
  {
   "cell_type": "markdown",
   "metadata": {},
   "source": [
    "<font size=4 color=\"black\">\n",
    "\n",
    "Definition of the functions $f_1$ and $f_2$"
   ]
  },
  {
   "cell_type": "code",
   "execution_count": 1,
   "metadata": {
    "ExecuteTime": {
     "end_time": "2020-12-02T13:42:54.360836Z",
     "start_time": "2020-12-02T13:42:54.134366Z"
    }
   },
   "outputs": [],
   "source": [
    "import numpy as np\n",
    "import matplotlib.pyplot as plt\n",
    "\n",
    "f1 = lambda t: np.maximum(0, 1-abs(t))\n",
    "f2 = lambda t: (t>0) * np.exp(-2*t)\n"
   ]
  },
  {
   "cell_type": "code",
   "execution_count": 2,
   "metadata": {
    "ExecuteTime": {
     "end_time": "2020-12-02T13:42:54.365008Z",
     "start_time": "2020-12-02T13:42:54.362248Z"
    }
   },
   "outputs": [],
   "source": [
    "Fs = 50  # our sampling frequency for the plotting\n",
    "T = 5    # the time range we are interested in\n",
    "t = np.arange(-T, T, 1/Fs)  # the time samples"
   ]
  },
  {
   "cell_type": "code",
   "execution_count": 3,
   "metadata": {
    "ExecuteTime": {
     "end_time": "2020-12-02T13:42:54.688525Z",
     "start_time": "2020-12-02T13:42:54.366701Z"
    }
   },
   "outputs": [
    {
     "data": {
      "text/plain": [
       "<matplotlib.legend.Legend at 0x7f8dcc4156d0>"
      ]
     },
     "execution_count": 3,
     "metadata": {},
     "output_type": "execute_result"
    },
    {
     "data": {
      "image/png": "[encoded data removed]",
      "text/plain": [
       "<Figure size 576x216 with 1 Axes>"
      ]
     },
     "metadata": {
      "needs_background": "light"
     },
     "output_type": "display_data"
    }
   ],
   "source": [
    "plt.figure(figsize=(8,3))\n",
    "plt.plot(t, f1(t), color='blue', label='$f_1(t)$')\n",
    "plt.plot(t, f2(t), color='green', label='$f_2(t)$')\n",
    "plt.legend(['$f_1(t)$', '$f_2(t)$'], loc='upper right')\n"
   ]
  },
  {
   "cell_type": "markdown",
   "metadata": {},
   "source": [
    "<font size=4 color=\"black\">\n",
    "\n",
    "Convolution of $f_1$ and $f_2$\n",
    "    \n",
    "The shaded area is the result of the convolution."
   ]
  },
  {
   "cell_type": "code",
   "execution_count": 4,
   "metadata": {
    "ExecuteTime": {
     "end_time": "2020-12-02T13:42:54.932266Z",
     "start_time": "2020-12-02T13:42:54.690247Z"
    }
   },
   "outputs": [
    {
     "data": {
      "text/html": [
       "Result of the convolution (red shaded area): $(f_1*f_2)(t_0=1) = 0.19$"
      ],
      "text/plain": [
       "<IPython.core.display.HTML object>"
      ]
     },
     "metadata": {},
     "output_type": "display_data"
    },
    {
     "data": {
      "image/png": "[encoded data removed]",
      "text/plain": [
       "<Figure size 576x216 with 1 Axes>"
      ]
     },
     "metadata": {
      "needs_background": "light"
     },
     "output_type": "display_data"
    }
   ],
   "source": [
    "from IPython.display import HTML\n",
    "import scipy\n",
    "from scipy import integrate\n",
    "import pylab as p\n",
    "\n",
    "\n",
    "t0 = 1\n",
    "flipped = lambda tau: f2(t0-tau)\n",
    "product = lambda tau: f1(tau)*f2(t0-tau)\n",
    "\n",
    "plt.figure(figsize=(8,3))\n",
    "\n",
    "plt.plot(t, f1(t), color='blue',label=r'$f_1(\\tau)$')\n",
    "plt.plot(t, flipped(t), color='green',label=r'$f_2(t_0-\\tau)$')\n",
    "plt.plot(t, product(t), color='red',label=r'$f_1(\\tau)f_2(t_0-\\tau)$')\n",
    "p.fill(t, product(t),facecolor='red', alpha=0.6)\n",
    "         \n",
    "plt.legend(['$f_1(\\tau)$', '$f_2(t_0-\\tau)$','$f_1(\\tau)f_2(t_0-\\tau)$'], loc='upper right')\n",
    "\n",
    "# Explicitely calculate the integral, using the Simpson integration rule\n",
    "display(HTML(\"Result of the convolution (red shaded area): \\\n",
    "$(f_1*f_2)(t_0=%.0f) = %.2f$\" % (t0, scipy.integrate.simps(product(t), t))))"
   ]
  },
  {
   "cell_type": "markdown",
   "metadata": {},
   "source": [
    "<font size=4 color=\"black\">\n",
    "\n",
    "Convolution of $f_1$ and $f_2$ at different times"
   ]
  },
  {
   "cell_type": "code",
   "execution_count": 5,
   "metadata": {
    "ExecuteTime": {
     "end_time": "2020-12-02T13:42:54.942375Z",
     "start_time": "2020-12-02T13:42:54.933923Z"
    }
   },
   "outputs": [],
   "source": [
    "def showConvolution(f1, f2, t0):\n",
    "    # Calculate the overall convolution result using Simpson integration\n",
    "    convolution = np.zeros(len(t))\n",
    "    for n, t_ in enumerate(t):\n",
    "        prod = lambda tau: f1(tau) * f2(t_-tau)\n",
    "        convolution[n] = scipy.integrate.simps(prod(t), t)\n",
    "    \n",
    "    # Create the shifted and flipped function\n",
    "    f_shift = lambda t: f2(t0-t)\n",
    "    prod = lambda tau: f1(tau) * f2(t0-tau)\n",
    "\n",
    "    # Plot the curves\n",
    "\n",
    "    plt.subplot(211)\n",
    "    plt.plot(t, f1(t), color='blue',label=r'$f_1(\\tau)$')\n",
    "    plt.plot(t, f_shift(t), color='green',label=r'$f_2(t_0-\\tau)$')\n",
    "    plt.plot(t, prod(t), color='red', label=r'$f_1(\\tau)f_2(t_0-\\tau)$')\n",
    "    p.fill(t, prod(t),facecolor='red', alpha=0.6)\n",
    "    plt.legend(['$f_1(\\tau)$', '$f_2(t_0-\\tau)$','$f_1(\\tau)f_2(t_0-\\tau)$'], loc='upper right')\n",
    "    \n",
    "    # plot the convolution curve\n",
    "    plt.subplot(212)\n",
    "    plt.plot(t, convolution, label='$(f_1*f_2)(t)$')\n",
    "    plt.legend(['$(f_1*f_2)(t)$'], loc='upper right')  \n",
    "    \n",
    "    # recalculate the value of the convolution integral at the current time-shift t0\n",
    "    current_value = scipy.integrate.simps(prod(t), t)\n",
    "    display(HTML(\"Result of the convolution (red shaded area): \\\n",
    "    $(f_1*f_2)(t_0=%.1f) = %.2f$\" % (t0, current_value)))\n",
    "    plt.plot(t0, current_value, 'ro')  # plot the point\n"
   ]
  },
  {
   "cell_type": "code",
   "execution_count": 6,
   "metadata": {
    "ExecuteTime": {
     "end_time": "2020-12-02T13:42:55.261377Z",
     "start_time": "2020-12-02T13:42:54.944440Z"
    }
   },
   "outputs": [
    {
     "data": {
      "text/html": [
       "Result of the convolution (red shaded area):     $(f_1*f_2)(t_0=0.0) = 0.29$"
      ],
      "text/plain": [
       "<IPython.core.display.HTML object>"
      ]
     },
     "metadata": {},
     "output_type": "display_data"
    },
    {
     "data": {
      "image/png": "[encoded data removed]",
      "text/plain": [
       "<Figure size 432x288 with 2 Axes>"
      ]
     },
     "metadata": {
      "needs_background": "light"
     },
     "output_type": "display_data"
    }
   ],
   "source": [
    "showConvolution(f1,f2, 0)"
   ]
  },
  {
   "cell_type": "code",
   "execution_count": 7,
   "metadata": {
    "ExecuteTime": {
     "end_time": "2020-12-02T13:42:55.612863Z",
     "start_time": "2020-12-02T13:42:55.263135Z"
    }
   },
   "outputs": [
    {
     "data": {
      "text/html": [
       "Result of the convolution (red shaded area):     $(f_1*f_2)(t_0=0.5) = 0.33$"
      ],
      "text/plain": [
       "<IPython.core.display.HTML object>"
      ]
     },
     "metadata": {},
     "output_type": "display_data"
    },
    {
     "data": {
      "image/png": "[encoded data removed]",
      "text/plain": [
       "<Figure size 432x288 with 2 Axes>"
      ]
     },
     "metadata": {
      "needs_background": "light"
     },
     "output_type": "display_data"
    }
   ],
   "source": [
    "showConvolution(f1,f2, 0.5)"
   ]
  },
  {
   "cell_type": "code",
   "execution_count": 8,
   "metadata": {
    "ExecuteTime": {
     "end_time": "2020-12-02T13:42:55.932020Z",
     "start_time": "2020-12-02T13:42:55.616317Z"
    }
   },
   "outputs": [
    {
     "data": {
      "text/html": [
       "Result of the convolution (red shaded area):     $(f_1*f_2)(t_0=1.1) = 0.15$"
      ],
      "text/plain": [
       "<IPython.core.display.HTML object>"
      ]
     },
     "metadata": {},
     "output_type": "display_data"
    },
    {
     "data": {
      "image/png": "[encoded data removed]",
      "text/plain": [
       "<Figure size 432x288 with 2 Axes>"
      ]
     },
     "metadata": {
      "needs_background": "light"
     },
     "output_type": "display_data"
    }
   ],
   "source": [
    "showConvolution(f1,f2, 1.1)"
   ]
  },
  {
   "cell_type": "markdown",
   "metadata": {
    "ExecuteTime": {
     "end_time": "2020-12-01T19:24:00.092972Z",
     "start_time": "2020-12-01T19:24:00.085696Z"
    }
   },
   "source": [
    "<font size=5 color=\"blue\">\n",
    "\n",
    "Feature extraction using convolution and pooling layers\n",
    "    "
   ]
  },
  {
   "cell_type": "markdown",
   "metadata": {},
   "source": [
    "<font size=4 color=\"black\">\n",
    "    \n",
    "[CNN, LeCun-90](./literature/lecun-90c.pdf)\n",
    "    \n",
    "[CNN, LeCun-Bengio-95](./literature/lecun-bengio-95a.pdf)"
   ]
  },
  {
   "cell_type": "markdown",
   "metadata": {
    "ExecuteTime": {
     "end_time": "2020-12-01T22:08:20.192136Z",
     "start_time": "2020-12-01T22:08:20.182928Z"
    }
   },
   "source": [
    "<font size=5 color=\"blue\">\n",
    "\n",
    "Convolution layer   "
   ]
  },
  {
   "cell_type": "markdown",
   "metadata": {
    "ExecuteTime": {
     "end_time": "2020-11-25T00:57:23.623361Z",
     "start_time": "2020-11-25T00:57:23.618614Z"
    }
   },
   "source": [
    "<font size=4 color='black'>\n",
    "\n",
    "Convolution between a filter (kernel) and an image. \n",
    "\n",
    "<img src='./images/conv.gif' style=\"width: 400px;\"/>\n"
   ]
  },
  {
   "cell_type": "markdown",
   "metadata": {},
   "source": [
    "<font size=4 color='black'>\n",
    "\n",
    "The left frame represents the input data. When it is an image each value corresponds to a pixel value.\n",
    "\n",
    "The frame in the mittle represents the filter (kernel) with dimensions (3,3). The right frame represents the result of the convolution operation between filter and image.\n",
    "\n",
    "The convolution operation starts at the left upper corner of the image. The filter is superpossed to the image: each pixel value in the image is multiplied by the corresponding filter value superimpossed on it. \n",
    "\n",
    "   0 x (−1) + 0 x (−2) + 75 x (−1) +\n",
    "  \n",
    "   0 x 0 + 75 x 0 + 80 x 0 +\n",
    "$$ $$\n",
    "   0 x 1 + 75 x 2 + 80 x 1 = 155.  \n",
    "\n",
    "This is the value for the first pixel of the image produced by the convolution.\n",
    "\n",
    "Then, the filter moves the stride *s* to the right and repeats the operation until it reaches the image right border. Thereafter, the filter moves the stride *s* down in the image, simultaneously it moves to the left of the image to repeat the convolution operation. \n",
    "\n",
    "The filter values are learned (represented by the corresponding weight values $\\omega$) during training of the convolutional neural network."
   ]
  },
  {
   "cell_type": "markdown",
   "metadata": {},
   "source": [
    "<font size=4 color='black'>\n",
    "\n",
    "In general, the stride to move the filter takes the value 1, but it can take any other integer value larger than 1. In the following example we illustrate a convolution using a stride value s = 2.\n",
    "\n",
    "\n",
    "<img src='./images/stri.png' style=\"width: 700px;\"/>\n"
   ]
  },
  {
   "cell_type": "markdown",
   "metadata": {},
   "source": [
    "<font size=5 color='blue'>\n",
    "\n",
    "Padding"
   ]
  },
  {
   "cell_type": "markdown",
   "metadata": {},
   "source": [
    "<font size=4 color='black'>\n",
    "\n",
    "The produced image after the convolution operations has a smaller dimension than the original image. \n",
    "    \n",
    "<img src='./images/dimconv.png' style=\"width: 600px;\"/>\n",
    "    \n",
    "Many times, it is desired  that the original and convoluted images have the same dimension. For getting this, the original image is padded with extra zero value pixels around it before the convolution operation is applied. \n",
    "    \n",
    "<img src='./images/padd.png' style=\"width: 700px;\"/>\n",
    "    \n",
    "The padding depends on filter size and stride. "
   ]
  },
  {
   "cell_type": "markdown",
   "metadata": {},
   "source": [
    "<font size=4 color='black'>\n",
    "\n",
    "If the original image has dimensions *(n, n)*, and the filter has dimensions *(f, f)*, the dimension of the image after the convolution operation is given by the following realtionship:\n",
    "    \n",
    "$$[\\dfrac{n+2p-f}{s}+1] x [\\dfrac{n+2p-f}{s}+1]$$\n",
    "    \n",
    "where s and p are the stride and padding values respectively.\n"
   ]
  },
  {
   "cell_type": "markdown",
   "metadata": {
    "ExecuteTime": {
     "end_time": "2020-12-01T23:36:19.593405Z",
     "start_time": "2020-12-01T23:36:19.586964Z"
    }
   },
   "source": [
    "<font size=5 color='blue'>\n",
    "\n",
    "Pooling layer"
   ]
  },
  {
   "cell_type": "markdown",
   "metadata": {},
   "source": [
    "<font size=4 color='black'>\n",
    "\n",
    "In general, after applying one or more convolutional layers, it is recommended to reduce the dimensions of the generated images. This is done by pooling neighboring pixels, which reduces the dimension of the image. For example, averaging (Average Pooling) locally the pixel values over a region or de image, or by taking into account only the pixels with the largest values (Max Pooling) in the local region. Sometimes the dimension reduction is more drastic (Global Average Pooling, Global Max Pooling).\n",
    "    \n",
    "Example of max pooling:\n",
    "    \n",
    "<img src='images/maxpool.gif' style=\"width: 400px;\"/>\n"
   ]
  },
  {
   "cell_type": "markdown",
   "metadata": {},
   "source": [
    "<font size=5 color='blue'>\n",
    "\n",
    "Feed Forward \"Full\" connected layer"
   ]
  },
  {
   "cell_type": "markdown",
   "metadata": {},
   "source": [
    "<font size=4 color='black'>\n",
    "\n",
    "Finally, the ouput of the convolution and pooling layers is the input of a feed forward  \"full\" connected layer.\n",
    "    \n",
    " <img src=\"./images/dropout_image.jpeg\" width=600 height=600 align = \"midle\" >   "
   ]
  },
  {
   "cell_type": "markdown",
   "metadata": {},
   "source": [
    "<font size=5 color='blue'>\n",
    "\n",
    "Graph of the Convolutional Neural Network (CNN) correspondig to the Model 3"
   ]
  },
  {
   "cell_type": "markdown",
   "metadata": {},
   "source": [
    "<font size=4 color='black'>\n",
    "\n",
    "This is the model that generates the best accuracy in the present notebook."
   ]
  },
  {
   "cell_type": "markdown",
   "metadata": {
    "ExecuteTime": {
     "end_time": "2020-12-02T01:12:57.570872Z",
     "start_time": "2020-12-02T01:12:57.567699Z"
    }
   },
   "source": [
    "<font size=5 color='blue'>\n",
    "\n",
    " <img src=\"./images/CNN_IMAGE_V3.png\" width=800 height=800 align = \"midle\" >   "
   ]
  },
  {
   "cell_type": "markdown",
   "metadata": {},
   "source": [
    "<font size=5 color='blue'>\n",
    "Object Recognition through images using CNN"
   ]
  },
  {
   "cell_type": "markdown",
   "metadata": {},
   "source": [
    "<font size=5 color='blue'>\n",
    "CIFAR-10 database"
   ]
  },
  {
   "cell_type": "markdown",
   "metadata": {},
   "source": [
    "<font size=4 color=\"black\">\n",
    "\n",
    "[80 million tiny images from internet](./literature/80millionImages.pdf)\n",
    "\n",
    "The CIFAR-10 and CIFAR-100 are labeled subsets of a 80 million tiny images dataset. They were collected by Alex Krizhevsky, Vinod Nair, and Geoffrey Hinton. \n"
   ]
  },
  {
   "cell_type": "markdown",
   "metadata": {},
   "source": [
    " <font size=4 color='black'>   \n",
    "\n",
    "The data base can be downloaded from the following URL: \n",
    "    \n",
    "[CIFAR-10 data download](https://www.cs.toronto.edu/~kriz/cifar.html)\n",
    "\n",
    "$$ $$\n",
    " The CIFAR-10 dataset consists of 60,000 32x32 colour images in 10 classes, with 6000 images per class. There are 50.000 training images and 10,000 test images.\n",
    "\n",
    "The ten classes are:\n",
    "\n",
    " \n",
    "| index | class name |\n",
    "| --- | --- |\n",
    "| 0 | airplane |\n",
    "| 1 | automobile | \t\t\t\t\t\t\t\t\t\t\n",
    "| 2 | bird |\t\t\t\t\t\t\t\t\t\t\n",
    "| 3 | cat |\t\t\t\t\t\t\t\t\t\t\n",
    "| 4 | deer |\t\t\t\t\t\t\t\t\t\t\n",
    "| 5 | dog |\t\t\t\t\t\t\t\t\t\t\n",
    "| 6 | frog |\t\t\t\t\t\t\t\t\t\t\n",
    "| 7 | horse |\t\t\t\t\t\t\t\t\t\t\n",
    "| 8 | ship |\t\t\t\t\t\t\t\t\t\t\n",
    "| 9 | truck|"
   ]
  },
  {
   "cell_type": "code",
   "execution_count": 9,
   "metadata": {
    "ExecuteTime": {
     "end_time": "2020-12-02T13:42:57.248890Z",
     "start_time": "2020-12-02T13:42:55.934292Z"
    }
   },
   "outputs": [
    {
     "name": "stderr",
     "output_type": "stream",
     "text": [
      "Using TensorFlow backend.\n"
     ]
    }
   ],
   "source": [
    "import keras\n",
    "\n",
    "from keras import layers\n",
    "from keras.layers import Input, Dense, Activation, Flatten\n",
    "from keras.layers import Dropout\n",
    "from keras.models import Model\n",
    "from keras.preprocessing import image\n",
    "from keras.utils import layer_utils\n",
    "from keras.utils.data_utils import get_file\n",
    "from keras.applications.imagenet_utils import preprocess_input\n",
    "import pydot\n",
    "from IPython.display import SVG\n",
    "from keras.utils.vis_utils import model_to_dot\n",
    "from keras.utils import plot_model\n",
    "from keras.optimizers import SGD\n",
    "import keras.backend as K\n",
    "\n",
    "from keras.layers import BatchNormalization                       \n",
    "from keras.layers import Conv2D, MaxPooling2D\n",
    "from keras.models import Sequential\n",
    "import time\n",
    "\n",
    "\n",
    "import matplotlib.pyplot as plt\n",
    "from matplotlib.pyplot import imshow\n",
    "\n",
    "import pickle\n",
    "\n",
    "\n",
    "np.random.seed(1)\n",
    "\n",
    "%matplotlib inline"
   ]
  },
  {
   "cell_type": "markdown",
   "metadata": {},
   "source": [
    "<font size = 5 color=\"blue\">\n",
    "\n",
    "CIFAR-10 data is also available from Keras: \n",
    "    \n"
   ]
  },
  {
   "cell_type": "markdown",
   "metadata": {},
   "source": [
    "<font size = 4 color=\"black\">\n",
    "\n",
    "[CIFAR-10 Keras](https://keras.io/api/datasets/cifar10/)"
   ]
  },
  {
   "cell_type": "code",
   "execution_count": 10,
   "metadata": {
    "ExecuteTime": {
     "end_time": "2020-12-02T13:42:57.252842Z",
     "start_time": "2020-12-02T13:42:57.250374Z"
    }
   },
   "outputs": [],
   "source": [
    "from keras.datasets import cifar10"
   ]
  },
  {
   "cell_type": "code",
   "execution_count": 11,
   "metadata": {
    "ExecuteTime": {
     "end_time": "2020-12-02T13:42:57.473557Z",
     "start_time": "2020-12-02T13:42:57.254615Z"
    }
   },
   "outputs": [],
   "source": [
    "(x_train, y_train), (x_test, y_test) = cifar10.load_data()"
   ]
  },
  {
   "cell_type": "code",
   "execution_count": 12,
   "metadata": {
    "ExecuteTime": {
     "end_time": "2020-12-02T13:42:57.479287Z",
     "start_time": "2020-12-02T13:42:57.474719Z"
    }
   },
   "outputs": [
    {
     "name": "stdout",
     "output_type": "stream",
     "text": [
      "The type of x_train is <class 'numpy.ndarray'>\n",
      "The type of y_train is <class 'numpy.ndarray'>\n",
      "\n",
      "The type of x_test is <class 'numpy.ndarray'>\n",
      "The type of y_test is <class 'numpy.ndarray'>\n"
     ]
    }
   ],
   "source": [
    "print('The type of x_train is', type(x_train))\n",
    "print('The type of y_train is', type(y_train))\n",
    "\n",
    "print('\\nThe type of x_test is', type(x_test))\n",
    "print('The type of y_test is', type(y_test))"
   ]
  },
  {
   "cell_type": "code",
   "execution_count": 13,
   "metadata": {
    "ExecuteTime": {
     "end_time": "2020-12-02T13:42:57.491504Z",
     "start_time": "2020-12-02T13:42:57.480685Z"
    }
   },
   "outputs": [
    {
     "name": "stdout",
     "output_type": "stream",
     "text": [
      "The shape of x_train is (50000, 32, 32, 3)\n",
      "The shape of y_train is (50000, 1)\n",
      "\n",
      "The shape of x_test is (10000, 32, 32, 3)\n",
      "The shape of y_test is (10000, 1)\n"
     ]
    }
   ],
   "source": [
    "print('The shape of x_train is', x_train.shape)\n",
    "print('The shape of y_train is', y_train.shape)\n",
    "\n",
    "print('\\nThe shape of x_test is', x_test.shape)\n",
    "print('The shape of y_test is', y_test.shape)"
   ]
  },
  {
   "cell_type": "markdown",
   "metadata": {},
   "source": [
    "<font size=5 color=\"blue\">\n",
    "\n",
    "Analyzing the data extracted from CIFAR-10"
   ]
  },
  {
   "cell_type": "markdown",
   "metadata": {
    "ExecuteTime": {
     "end_time": "2020-03-24T20:18:56.606700Z",
     "start_time": "2020-03-24T20:18:56.598151Z"
    }
   },
   "source": [
    "<font size=5 color=\"blue\">\n",
    "    \n",
    "View a sample from the data sets"
   ]
  },
  {
   "cell_type": "markdown",
   "metadata": {},
   "source": [
    "<font size=4 color=\"black\">\n",
    "    \n",
    "The input for a sample of the data sets is an array, where each value is the value of a single pixel. "
   ]
  },
  {
   "cell_type": "code",
   "execution_count": 14,
   "metadata": {
    "ExecuteTime": {
     "end_time": "2020-12-02T13:42:57.504031Z",
     "start_time": "2020-12-02T13:42:57.492888Z"
    }
   },
   "outputs": [
    {
     "name": "stdout",
     "output_type": "stream",
     "text": [
      "The features of a training sample \n",
      " \n",
      " [[[ 59  62  63]\n",
      "  [ 43  46  45]\n",
      "  [ 50  48  43]\n",
      "  ...\n",
      "  [158 132 108]\n",
      "  [152 125 102]\n",
      "  [148 124 103]]\n",
      "\n",
      " [[ 16  20  20]\n",
      "  [  0   0   0]\n",
      "  [ 18   8   0]\n",
      "  ...\n",
      "  [123  88  55]\n",
      "  [119  83  50]\n",
      "  [122  87  57]]\n",
      "\n",
      " [[ 25  24  21]\n",
      "  [ 16   7   0]\n",
      "  [ 49  27   8]\n",
      "  ...\n",
      "  [118  84  50]\n",
      "  [120  84  50]\n",
      "  [109  73  42]]\n",
      "\n",
      " ...\n",
      "\n",
      " [[208 170  96]\n",
      "  [201 153  34]\n",
      "  [198 161  26]\n",
      "  ...\n",
      "  [160 133  70]\n",
      "  [ 56  31   7]\n",
      "  [ 53  34  20]]\n",
      "\n",
      " [[180 139  96]\n",
      "  [173 123  42]\n",
      "  [186 144  30]\n",
      "  ...\n",
      "  [184 148  94]\n",
      "  [ 97  62  34]\n",
      "  [ 83  53  34]]\n",
      "\n",
      " [[177 144 116]\n",
      "  [168 129  94]\n",
      "  [179 142  87]\n",
      "  ...\n",
      "  [216 184 140]\n",
      "  [151 118  84]\n",
      "  [123  92  72]]]\n"
     ]
    }
   ],
   "source": [
    "sample = 0\n",
    "print(\"The features of a training sample \\n \\n\", x_train[sample])"
   ]
  },
  {
   "cell_type": "markdown",
   "metadata": {},
   "source": [
    "<font size=4 color=\"black\">\n",
    "    \n",
    "Each value of X in the example is between 0 and 255, they are not normalized."
   ]
  },
  {
   "cell_type": "code",
   "execution_count": 15,
   "metadata": {
    "ExecuteTime": {
     "end_time": "2020-12-02T13:42:57.514897Z",
     "start_time": "2020-12-02T13:42:57.505139Z"
    }
   },
   "outputs": [],
   "source": [
    "# We define a dictionary to associate the class number to a class name.\n",
    "\n",
    "dic = {0: 'airplane', 1: 'automobile', 2: 'bird', 3: 'cat', 4: 'deer', \n",
    "       5: 'dog', 6: 'frog', 7:'horse', 8: 'ship', 9: 'truck'}"
   ]
  },
  {
   "cell_type": "markdown",
   "metadata": {},
   "source": [
    "<font size=5 color=\"blue\">\n",
    "    \n",
    "Showing the image and label(y) of any sample"
   ]
  },
  {
   "cell_type": "code",
   "execution_count": 16,
   "metadata": {
    "ExecuteTime": {
     "end_time": "2020-12-02T13:42:57.655218Z",
     "start_time": "2020-12-02T13:42:57.516569Z"
    }
   },
   "outputs": [
    {
     "name": "stdout",
     "output_type": "stream",
     "text": [
      "\n",
      "The y value of the first training sample is 6\n",
      "It correspons to a frog\n"
     ]
    },
    {
     "data": {
      "image/png": "[encoded data removed]",
      "text/plain": [
       "<Figure size 432x288 with 1 Axes>"
      ]
     },
     "metadata": {
      "needs_background": "light"
     },
     "output_type": "display_data"
    }
   ],
   "source": [
    "plt.imshow(x_train[sample]);\n",
    "\n",
    "print(\"\\nThe y value of the first training sample is\",np.squeeze(y_train[sample]))\n",
    "print(\"It correspons to a\", dic[int(np.squeeze(y_train[sample]))])"
   ]
  },
  {
   "cell_type": "markdown",
   "metadata": {},
   "source": [
    "<font size=5 color=\"blue\">\n",
    "\n",
    "Features (X values) normalization"
   ]
  },
  {
   "cell_type": "markdown",
   "metadata": {},
   "source": [
    "\n",
    "<font size=4 color=\"black\">\n",
    "To normalize x values, we divide them by 255"
   ]
  },
  {
   "cell_type": "code",
   "execution_count": 17,
   "metadata": {
    "ExecuteTime": {
     "end_time": "2020-12-02T13:42:58.353233Z",
     "start_time": "2020-12-02T13:42:57.657027Z"
    }
   },
   "outputs": [],
   "source": [
    "train_x = x_train/255\n",
    "test_x = x_test/255"
   ]
  },
  {
   "cell_type": "markdown",
   "metadata": {},
   "source": [
    "<font size=4 color=\"black\">    \n",
    "\n",
    "Now the pixel values are between 0 and 1."
   ]
  },
  {
   "cell_type": "code",
   "execution_count": 18,
   "metadata": {
    "ExecuteTime": {
     "end_time": "2020-12-02T13:42:58.359142Z",
     "start_time": "2020-12-02T13:42:58.354521Z"
    }
   },
   "outputs": [
    {
     "data": {
      "text/plain": [
       "array([[[0.23137255, 0.24313725, 0.24705882],\n",
       "        [0.16862745, 0.18039216, 0.17647059],\n",
       "        [0.19607843, 0.18823529, 0.16862745],\n",
       "        ...,\n",
       "        [0.61960784, 0.51764706, 0.42352941],\n",
       "        [0.59607843, 0.49019608, 0.4       ],\n",
       "        [0.58039216, 0.48627451, 0.40392157]],\n",
       "\n",
       "       [[0.0627451 , 0.07843137, 0.07843137],\n",
       "        [0.        , 0.        , 0.        ],\n",
       "        [0.07058824, 0.03137255, 0.        ],\n",
       "        ...,\n",
       "        [0.48235294, 0.34509804, 0.21568627],\n",
       "        [0.46666667, 0.3254902 , 0.19607843],\n",
       "        [0.47843137, 0.34117647, 0.22352941]],\n",
       "\n",
       "       [[0.09803922, 0.09411765, 0.08235294],\n",
       "        [0.0627451 , 0.02745098, 0.        ],\n",
       "        [0.19215686, 0.10588235, 0.03137255],\n",
       "        ...,\n",
       "        [0.4627451 , 0.32941176, 0.19607843],\n",
       "        [0.47058824, 0.32941176, 0.19607843],\n",
       "        [0.42745098, 0.28627451, 0.16470588]],\n",
       "\n",
       "       ...,\n",
       "\n",
       "       [[0.81568627, 0.66666667, 0.37647059],\n",
       "        [0.78823529, 0.6       , 0.13333333],\n",
       "        [0.77647059, 0.63137255, 0.10196078],\n",
       "        ...,\n",
       "        [0.62745098, 0.52156863, 0.2745098 ],\n",
       "        [0.21960784, 0.12156863, 0.02745098],\n",
       "        [0.20784314, 0.13333333, 0.07843137]],\n",
       "\n",
       "       [[0.70588235, 0.54509804, 0.37647059],\n",
       "        [0.67843137, 0.48235294, 0.16470588],\n",
       "        [0.72941176, 0.56470588, 0.11764706],\n",
       "        ...,\n",
       "        [0.72156863, 0.58039216, 0.36862745],\n",
       "        [0.38039216, 0.24313725, 0.13333333],\n",
       "        [0.3254902 , 0.20784314, 0.13333333]],\n",
       "\n",
       "       [[0.69411765, 0.56470588, 0.45490196],\n",
       "        [0.65882353, 0.50588235, 0.36862745],\n",
       "        [0.70196078, 0.55686275, 0.34117647],\n",
       "        ...,\n",
       "        [0.84705882, 0.72156863, 0.54901961],\n",
       "        [0.59215686, 0.4627451 , 0.32941176],\n",
       "        [0.48235294, 0.36078431, 0.28235294]]])"
      ]
     },
     "execution_count": 18,
     "metadata": {},
     "output_type": "execute_result"
    }
   ],
   "source": [
    "train_x[sample]"
   ]
  },
  {
   "cell_type": "code",
   "execution_count": 19,
   "metadata": {
    "ExecuteTime": {
     "end_time": "2020-12-02T13:42:58.477009Z",
     "start_time": "2020-12-02T13:42:58.360469Z"
    }
   },
   "outputs": [
    {
     "data": {
      "text/plain": [
       "<matplotlib.image.AxesImage at 0x7f8d64194e50>"
      ]
     },
     "execution_count": 19,
     "metadata": {},
     "output_type": "execute_result"
    },
    {
     "data": {
      "image/png": "[encoded data removed]",
      "text/plain": [
       "<Figure size 432x288 with 1 Axes>"
      ]
     },
     "metadata": {
      "needs_background": "light"
     },
     "output_type": "display_data"
    }
   ],
   "source": [
    "plt.imshow(train_x[sample])"
   ]
  },
  {
   "cell_type": "code",
   "execution_count": 20,
   "metadata": {
    "ExecuteTime": {
     "end_time": "2020-12-02T13:42:58.482143Z",
     "start_time": "2020-12-02T13:42:58.478430Z"
    }
   },
   "outputs": [
    {
     "data": {
      "text/plain": [
       "array([[6],\n",
       "       [9],\n",
       "       [9],\n",
       "       ...,\n",
       "       [9],\n",
       "       [1],\n",
       "       [1]], dtype=uint8)"
      ]
     },
     "execution_count": 20,
     "metadata": {},
     "output_type": "execute_result"
    }
   ],
   "source": [
    "y_train"
   ]
  },
  {
   "cell_type": "markdown",
   "metadata": {},
   "source": [
    "<font size=5 color='blue'>\n",
    "One-hot encoding of target variable (y)"
   ]
  },
  {
   "cell_type": "markdown",
   "metadata": {},
   "source": [
    "<font size=4 color='black'>\n",
    "The target value can have one of ten elements (classes), the digits (0, 1, 2, 3, 4, 5, 6, 7, 8, 9). \n",
    "\n",
    "The sets train_y and test_y are arrays in which each entry contains a digit represented as a integer of 64 bits.\n",
    "    \n",
    "We change this representation to a vector following the One-hot encoding \n",
    "[One-hot encoding](https://en.wikipedia.org/wiki/One-hot).\n",
    "    \n",
    "In One-Hot encoding, a digit is represented with a vector that has dimension 10 (because we have 10 classes) with 1.0 in the vector index corresponding to the digit and 0.0 elsewhere in the vector. \n"
   ]
  },
  {
   "cell_type": "code",
   "execution_count": 21,
   "metadata": {
    "ExecuteTime": {
     "end_time": "2020-12-02T13:42:58.494582Z",
     "start_time": "2020-12-02T13:42:58.483876Z"
    }
   },
   "outputs": [
    {
     "data": {
      "text/plain": [
       "(50000, 1)"
      ]
     },
     "execution_count": 21,
     "metadata": {},
     "output_type": "execute_result"
    }
   ],
   "source": [
    "y_train.shape"
   ]
  },
  {
   "cell_type": "code",
   "execution_count": 22,
   "metadata": {
    "ExecuteTime": {
     "end_time": "2020-12-02T13:42:58.505127Z",
     "start_time": "2020-12-02T13:42:58.496234Z"
    }
   },
   "outputs": [
    {
     "data": {
      "text/plain": [
       "(50000,)"
      ]
     },
     "execution_count": 22,
     "metadata": {},
     "output_type": "execute_result"
    }
   ],
   "source": [
    "y_train.reshape(-1).shape"
   ]
  },
  {
   "cell_type": "code",
   "execution_count": 23,
   "metadata": {
    "ExecuteTime": {
     "end_time": "2020-12-02T13:42:58.518256Z",
     "start_time": "2020-12-02T13:42:58.507916Z"
    }
   },
   "outputs": [],
   "source": [
    "train_y = np.eye(10)[y_train.reshape(-1)]\n",
    "test_y = np.eye(10)[y_test.reshape(-1)]"
   ]
  },
  {
   "cell_type": "code",
   "execution_count": 24,
   "metadata": {
    "ExecuteTime": {
     "end_time": "2020-12-02T13:42:58.531069Z",
     "start_time": "2020-12-02T13:42:58.520557Z"
    }
   },
   "outputs": [
    {
     "name": "stdout",
     "output_type": "stream",
     "text": [
      "[[6]\n",
      " [9]\n",
      " [9]\n",
      " [4]\n",
      " [1]]\n"
     ]
    }
   ],
   "source": [
    "print(y_train[0:5])"
   ]
  },
  {
   "cell_type": "code",
   "execution_count": 25,
   "metadata": {
    "ExecuteTime": {
     "end_time": "2020-12-02T13:42:58.547926Z",
     "start_time": "2020-12-02T13:42:58.532285Z"
    }
   },
   "outputs": [
    {
     "data": {
      "text/plain": [
       "array([[0., 0., 0., 0., 0., 0., 1., 0., 0., 0.],\n",
       "       [0., 0., 0., 0., 0., 0., 0., 0., 0., 1.],\n",
       "       [0., 0., 0., 0., 0., 0., 0., 0., 0., 1.],\n",
       "       [0., 0., 0., 0., 1., 0., 0., 0., 0., 0.],\n",
       "       [0., 1., 0., 0., 0., 0., 0., 0., 0., 0.]])"
      ]
     },
     "execution_count": 25,
     "metadata": {},
     "output_type": "execute_result"
    }
   ],
   "source": [
    "train_y[0:5]"
   ]
  },
  {
   "cell_type": "markdown",
   "metadata": {
    "ExecuteTime": {
     "end_time": "2020-11-23T17:58:01.255256Z",
     "start_time": "2020-11-23T17:58:01.245993Z"
    }
   },
   "source": [
    "<font size=5 color=\"blue\">\n",
    "    \n",
    "Viewing one sample from the data set."
   ]
  },
  {
   "cell_type": "code",
   "execution_count": 26,
   "metadata": {
    "ExecuteTime": {
     "end_time": "2020-12-02T13:42:58.664829Z",
     "start_time": "2020-12-02T13:42:58.549616Z"
    }
   },
   "outputs": [
    {
     "name": "stdout",
     "output_type": "stream",
     "text": [
      "The sample 9 corresponds to a cat\n",
      "Its one-hot representation is = [0. 0. 0. 1. 0. 0. 0. 0. 0. 0.]\n"
     ]
    },
    {
     "data": {
      "image/png": "[encoded data removed]",
      "text/plain": [
       "<Figure size 432x288 with 1 Axes>"
      ]
     },
     "metadata": {
      "needs_background": "light"
     },
     "output_type": "display_data"
    }
   ],
   "source": [
    "sample = 9\n",
    "\n",
    "plt.imshow(train_x[sample]);\n",
    "\n",
    "print('The sample', sample, 'corresponds to a', dic[int(np.argmax(train_y[sample]))])\n",
    "print(\"Its one-hot representation is =\", train_y[sample])"
   ]
  },
  {
   "cell_type": "markdown",
   "metadata": {},
   "source": [
    "<font size=4 color=\"black\">\n",
    "    \n",
    "In summary, the training and test sample sets have the following dimensions:"
   ]
  },
  {
   "cell_type": "code",
   "execution_count": 27,
   "metadata": {
    "ExecuteTime": {
     "end_time": "2020-12-02T13:42:58.671231Z",
     "start_time": "2020-12-02T13:42:58.666238Z"
    }
   },
   "outputs": [
    {
     "name": "stdout",
     "output_type": "stream",
     "text": [
      "number of training examples = 50000\n",
      "number of test examples = 10000\n",
      "X_train shape: (50000, 32, 32, 3)\n",
      "Y_train shape: (50000, 10)\n",
      "X_test shape: (10000, 32, 32, 3)\n",
      "Y_test shape: (10000, 10)\n"
     ]
    }
   ],
   "source": [
    "print (\"number of training examples = \" + str(train_x.shape[0]))\n",
    "print (\"number of test examples = \" + str(test_x.shape[0]))\n",
    "print (\"X_train shape: \" + str(train_x.shape))\n",
    "print (\"Y_train shape: \" + str(train_y.shape))\n",
    "print (\"X_test shape: \" + str(test_x.shape))\n",
    "print (\"Y_test shape: \" + str(test_y.shape))"
   ]
  },
  {
   "cell_type": "markdown",
   "metadata": {},
   "source": [
    "<font size=5 color=\"blue\">\n",
    "\n",
    "Building the Learning System"
   ]
  },
  {
   "cell_type": "markdown",
   "metadata": {
    "ExecuteTime": {
     "end_time": "2020-11-23T18:05:49.800018Z",
     "start_time": "2020-11-23T18:05:49.790932Z"
    }
   },
   "source": [
    "<font size=5 color='blue'>\n",
    "\n",
    "Definition of the neural network architecture"
   ]
  },
  {
   "cell_type": "markdown",
   "metadata": {},
   "source": [
    "<font size=5 color='black'> \n",
    "    \n",
    "Keras has two different modes to define the architecture:\n",
    "\n",
    "<font size=4 color='black'> \n",
    "    \n",
    "1.- The sequential model. It is a sequential stack of layers.\n",
    "    \n",
    "2.- The functional API. It is the way to go for defining complex models, such as multi-output models, directed acyclic graphs, or models with shared layers.  \n",
    "\n",
    "In the present case, we will use the first mode to build the network architecture.\n",
    "    \n",
    "Documentation: [Keras Sequential class](https://keras.io/api/models/sequential/)"
   ]
  },
  {
   "attachments": {
    "image.png": {
     "image/png": "[encoded data removed]"
    }
   },
   "cell_type": "markdown",
   "metadata": {},
   "source": [
    "<font size=4 color='black'>    \n",
    "The softmax activation function is always used for classification when the number (K) of classes is greater than two: \n",
    "\n",
    "![image.png](attachment:image.png)    "
   ]
  },
  {
   "cell_type": "markdown",
   "metadata": {},
   "source": [
    "<font size=5 color='blue'>\n",
    "\n",
    "Construction of the architecture for several models"
   ]
  },
  {
   "cell_type": "markdown",
   "metadata": {},
   "source": [
    "<font size=4 color='black'>\n",
    "\n",
    "[CNN, Keras](https://keras.io/api/layers/convolution_layers/)"
   ]
  },
  {
   "cell_type": "markdown",
   "metadata": {},
   "source": [
    "<font size=5 color='red'>\n",
    "\n",
    "To activate a model, change the content of the respective markdown cell to code"
   ]
  },
  {
   "cell_type": "raw",
   "metadata": {
    "ExecuteTime": {
     "end_time": "2020-12-01T18:07:52.155781Z",
     "start_time": "2020-12-01T18:07:52.145075Z"
    }
   },
   "source": [
    "#Model 000-9\n",
    "def architecture(input_shape, num_classes, activation, dropout=False, batch_normalization=False):\n",
    "    \n",
    "    model = Sequential()\n",
    "    \n",
    "    model.add(Conv2D(12, 3, padding='same', input_shape=input_shape))\n",
    "    model.add(Activation(activation))    \n",
    "    if batch_normalization: \n",
    "        model.add(BatchNormalization())  # Performing batch normalization to the output of the input layer\n",
    "\n",
    "    model.add(Conv2D(12, 3, padding='same', input_shape=input_shape))\n",
    "    model.add(Activation(activation))    \n",
    "    if batch_normalization: \n",
    "        model.add(BatchNormalization())  # Performing batch normalization to the output of the input layer\n",
    "\n",
    "    model.add(MaxPooling2D()) \n",
    "               \n",
    "    model.add(Conv2D(12, 3, padding='same', input_shape=input_shape))\n",
    "    model.add(Activation(activation))    \n",
    "    if batch_normalization: \n",
    "        model.add(BatchNormalization())  # Performing batch normalization to the output of the input layer\n",
    "\n",
    "    model.add(Conv2D(12, 3, padding='same', input_shape=input_shape))\n",
    "    model.add(Activation(activation))    \n",
    "    if batch_normalization: \n",
    "        model.add(BatchNormalization())  # Performing batch normalization to the output of the input layer\n",
    "\n",
    "    model.add(Conv2D(12, 3, padding='same', input_shape=input_shape))\n",
    "    model.add(Activation(activation))    \n",
    "    if batch_normalization: \n",
    "        model.add(BatchNormalization())  # Performing batch normalization to the output of the input layer\n",
    " \n",
    "    \n",
    "    \n",
    "    model.add(Flatten())\n",
    "    if dropout:\n",
    "        model.add(Dropout(0.30))\n",
    "    \n",
    "    model.add(Dense(50, kernel_initializer='he_uniform',bias_initializer='zeros'))\n",
    "    model.add(Activation(activation))    \n",
    "    if batch_normalization:\n",
    "        model.add(BatchNormalization())  \n",
    "    if dropout:\n",
    "        model.add(Dropout(0.30))\n",
    "    \n",
    "    model.add(Dense(50, kernel_initializer='he_uniform',bias_initializer='zeros'))\n",
    "    model.add(Activation(activation))    \n",
    "    if batch_normalization:\n",
    "        model.add(BatchNormalization())      \n",
    "    if dropout:\n",
    "        model.add(Dropout(0.30))\n",
    "    \n",
    "    model.add(Dense(num_classes))\n",
    "    model.add(Activation('softmax',name='CNN_Cifar10Model'))\n",
    "    \n",
    "    return model\n"
   ]
  },
  {
   "cell_type": "raw",
   "metadata": {
    "ExecuteTime": {
     "end_time": "2020-12-01T18:36:31.800685Z",
     "start_time": "2020-12-01T18:36:31.787579Z"
    }
   },
   "source": [
    "#Model 000-8\n",
    "def architecture(input_shape, num_classes, activation, dropout=False, batch_normalization=False):\n",
    "    \n",
    "    model = Sequential()\n",
    "    \n",
    "    model.add(Conv2D(12, 3, padding='same', input_shape=input_shape))\n",
    "    model.add(Activation(activation))    \n",
    "    if batch_normalization: \n",
    "        model.add(BatchNormalization())  # Performing batch normalization to the output of the input layer\n",
    "\n",
    "    model.add(Conv2D(12, 3, padding='same', input_shape=input_shape))\n",
    "    model.add(Activation(activation))    \n",
    "    if batch_normalization: \n",
    "        model.add(BatchNormalization())  # Performing batch normalization to the output of the input layer\n",
    "\n",
    "    model.add(MaxPooling2D()) \n",
    "               \n",
    "    model.add(Conv2D(12, 3, padding='same', input_shape=input_shape))\n",
    "    model.add(Activation(activation))    \n",
    "    if batch_normalization: \n",
    "        model.add(BatchNormalization())  # Performing batch normalization to the output of the input layer\n",
    "\n",
    "    model.add(Conv2D(12, 3, padding='same', input_shape=input_shape))\n",
    "    model.add(Activation(activation))    \n",
    "    if batch_normalization: \n",
    "        model.add(BatchNormalization())  # Performing batch normalization to the output of the input layer\n",
    "\n",
    "    model.add(MaxPooling2D()) \n",
    "    \n",
    "    \n",
    "    model.add(Flatten())\n",
    "    if dropout:\n",
    "        model.add(Dropout(0.30))\n",
    "    \n",
    "    model.add(Dense(50, kernel_initializer='he_uniform',bias_initializer='zeros'))\n",
    "    model.add(Activation(activation))    \n",
    "    if batch_normalization:\n",
    "        model.add(BatchNormalization())  \n",
    "    if dropout:\n",
    "        model.add(Dropout(0.30))\n",
    "    \n",
    "    model.add(Dense(50, kernel_initializer='he_uniform',bias_initializer='zeros'))\n",
    "    model.add(Activation(activation))    \n",
    "    if batch_normalization:\n",
    "        model.add(BatchNormalization())      \n",
    "    if dropout:\n",
    "        model.add(Dropout(0.30))\n",
    "    \n",
    "    model.add(Dense(num_classes))\n",
    "    model.add(Activation('softmax',name='CNN_Cifar10Model'))\n",
    "    \n",
    "    return model\n"
   ]
  },
  {
   "cell_type": "raw",
   "metadata": {
    "ExecuteTime": {
     "end_time": "2020-12-01T18:23:15.773402Z",
     "start_time": "2020-12-01T18:23:15.762621Z"
    }
   },
   "source": [
    "#Model 000-7\n",
    "def architecture(input_shape, num_classes, activation, dropout=False, batch_normalization=False):\n",
    "    \n",
    "    model = Sequential()\n",
    "    \n",
    "    model.add(Conv2D(12, 3, padding='same', input_shape=input_shape))\n",
    "    model.add(Activation(activation))    \n",
    "    if batch_normalization: \n",
    "        model.add(BatchNormalization())  # Performing batch normalization to the output of the input layer\n",
    "\n",
    "    model.add(Conv2D(12, 3, padding='same', input_shape=input_shape))\n",
    "    model.add(Activation(activation))    \n",
    "    if batch_normalization: \n",
    "        model.add(BatchNormalization())  # Performing batch normalization to the output of the input layer\n",
    "\n",
    "    model.add(MaxPooling2D()) \n",
    "               \n",
    "    model.add(Conv2D(12, 3, padding='same', input_shape=input_shape))\n",
    "    model.add(Activation(activation))    \n",
    "    if batch_normalization: \n",
    "        model.add(BatchNormalization())  # Performing batch normalization to the output of the input layer\n",
    "\n",
    "    model.add(Conv2D(12, 3, padding='same', input_shape=input_shape))\n",
    "    model.add(Activation(activation))    \n",
    "    if batch_normalization: \n",
    "        model.add(BatchNormalization())  # Performing batch normalization to the output of the input layer\n",
    "\n",
    "        \n",
    "    model.add(Flatten())\n",
    "    if dropout:\n",
    "        model.add(Dropout(0.30))\n",
    "    \n",
    "    model.add(Dense(50, kernel_initializer='he_uniform',bias_initializer='zeros'))\n",
    "    model.add(Activation(activation))    \n",
    "    if batch_normalization:\n",
    "        model.add(BatchNormalization())  \n",
    "    if dropout:\n",
    "        model.add(Dropout(0.30))\n",
    "    \n",
    "    model.add(Dense(50, kernel_initializer='he_uniform',bias_initializer='zeros'))\n",
    "    model.add(Activation(activation))    \n",
    "    if batch_normalization:\n",
    "        model.add(BatchNormalization())      \n",
    "    if dropout:\n",
    "        model.add(Dropout(0.30))\n",
    "    \n",
    "    model.add(Dense(num_classes))\n",
    "    model.add(Activation('softmax',name='CNN_Cifar10Model'))\n",
    "    \n",
    "    return model\n"
   ]
  },
  {
   "cell_type": "raw",
   "metadata": {
    "ExecuteTime": {
     "end_time": "2020-12-01T17:26:05.613310Z",
     "start_time": "2020-12-01T17:26:05.601347Z"
    }
   },
   "source": [
    "#Model 000-6\n",
    "def architecture(input_shape, num_classes, activation, dropout=False, batch_normalization=False):\n",
    "    \n",
    "    model = Sequential()\n",
    "    \n",
    "    model.add(Conv2D(12, 3, padding='same', input_shape=input_shape))\n",
    "    model.add(Activation(activation))    \n",
    "    if batch_normalization: \n",
    "        model.add(BatchNormalization())  # Performing batch normalization to the output of the input layer\n",
    "\n",
    "    model.add(Conv2D(12, 3, padding='same', input_shape=input_shape))\n",
    "    model.add(Activation(activation))    \n",
    "    if batch_normalization: \n",
    "        model.add(BatchNormalization())  # Performing batch normalization to the output of the input layer\n",
    "\n",
    "    model.add(MaxPooling2D()) \n",
    "               \n",
    "    model.add(Conv2D(12, 3, padding='same', input_shape=input_shape))\n",
    "    model.add(Activation(activation))    \n",
    "    if batch_normalization: \n",
    "        model.add(BatchNormalization())  # Performing batch normalization to the output of the input layer\n",
    "    \n",
    "    model.add(Flatten())\n",
    "    if dropout:\n",
    "        model.add(Dropout(0.30))\n",
    "    \n",
    "    model.add(Dense(50, kernel_initializer='he_uniform',bias_initializer='zeros'))\n",
    "    model.add(Activation(activation))    \n",
    "    if batch_normalization:\n",
    "        model.add(BatchNormalization())  \n",
    "    if dropout:\n",
    "        model.add(Dropout(0.30))\n",
    "    \n",
    "    model.add(Dense(50, kernel_initializer='he_uniform',bias_initializer='zeros'))\n",
    "    model.add(Activation(activation))    \n",
    "    if batch_normalization:\n",
    "        model.add(BatchNormalization())      \n",
    "    if dropout:\n",
    "        model.add(Dropout(0.30))\n",
    "    \n",
    "    model.add(Dense(num_classes))\n",
    "    model.add(Activation('softmax',name='CNN_Cifar10Model'))\n",
    "    \n",
    "    return model\n"
   ]
  },
  {
   "cell_type": "raw",
   "metadata": {
    "ExecuteTime": {
     "end_time": "2020-12-01T17:00:10.680832Z",
     "start_time": "2020-12-01T17:00:10.669409Z"
    }
   },
   "source": [
    "#Model 000-5\n",
    "def architecture(input_shape, num_classes, activation, dropout=False, batch_normalization=False):\n",
    "    \n",
    "    model = Sequential()\n",
    "    \n",
    "    model.add(Conv2D(12, 3, padding='same', input_shape=input_shape))\n",
    "    model.add(Activation(activation))    \n",
    "    if batch_normalization: \n",
    "        model.add(BatchNormalization())  # Performing batch normalization to the output of the input layer\n",
    "\n",
    "    model.add(Conv2D(12, 3, padding='same', input_shape=input_shape))\n",
    "    model.add(Activation(activation))    \n",
    "    if batch_normalization: \n",
    "        model.add(BatchNormalization())  # Performing batch normalization to the output of the input layer\n",
    "\n",
    "    model.add(MaxPooling2D()) \n",
    "               \n",
    "    \n",
    "    model.add(Flatten())\n",
    "    if dropout:\n",
    "        model.add(Dropout(0.30))\n",
    "    \n",
    "    model.add(Dense(50, kernel_initializer='he_uniform',bias_initializer='zeros'))\n",
    "    model.add(Activation(activation))    \n",
    "    if batch_normalization:\n",
    "        model.add(BatchNormalization())  \n",
    "    if dropout:\n",
    "        model.add(Dropout(0.30))\n",
    "    \n",
    "    model.add(Dense(50, kernel_initializer='he_uniform',bias_initializer='zeros'))\n",
    "    model.add(Activation(activation))    \n",
    "    if batch_normalization:\n",
    "        model.add(BatchNormalization())      \n",
    "    if dropout:\n",
    "        model.add(Dropout(0.30))\n",
    "    \n",
    "    model.add(Dense(num_classes))\n",
    "    model.add(Activation('softmax',name='CNN_Cifar10Model'))\n",
    "    \n",
    "    return model\n"
   ]
  },
  {
   "cell_type": "raw",
   "metadata": {
    "ExecuteTime": {
     "end_time": "2020-12-01T16:44:05.350199Z",
     "start_time": "2020-12-01T16:44:05.340602Z"
    }
   },
   "source": [
    "#Model 000-4\n",
    "def architecture(input_shape, num_classes, activation, dropout=False, batch_normalization=False):\n",
    "    \n",
    "    model = Sequential()\n",
    "    \n",
    "    model.add(Conv2D(12, 3, padding='same', input_shape=input_shape))\n",
    "    model.add(Activation(activation))    \n",
    "    if batch_normalization: \n",
    "        model.add(BatchNormalization())  # Performing batch normalization to the output of the input layer\n",
    "\n",
    "    model.add(Conv2D(12, 3, padding='same', input_shape=input_shape))\n",
    "    model.add(Activation(activation))    \n",
    "    if batch_normalization: \n",
    "        model.add(BatchNormalization())  # Performing batch normalization to the output of the input layer\n",
    "               \n",
    "    \n",
    "    model.add(Flatten())\n",
    "    if dropout:\n",
    "        model.add(Dropout(0.30))\n",
    "    \n",
    "    model.add(Dense(50, kernel_initializer='he_uniform',bias_initializer='zeros'))\n",
    "    model.add(Activation(activation))    \n",
    "    if batch_normalization:\n",
    "        model.add(BatchNormalization())  \n",
    "    if dropout:\n",
    "        model.add(Dropout(0.30))\n",
    "    \n",
    "    model.add(Dense(50, kernel_initializer='he_uniform',bias_initializer='zeros'))\n",
    "    model.add(Activation(activation))    \n",
    "    if batch_normalization:\n",
    "        model.add(BatchNormalization())      \n",
    "    if dropout:\n",
    "        model.add(Dropout(0.30))\n",
    "    \n",
    "    model.add(Dense(num_classes))\n",
    "    model.add(Activation('softmax',name='CNN_Cifar10Model'))\n",
    "    \n",
    "    return model\n"
   ]
  },
  {
   "cell_type": "raw",
   "metadata": {
    "ExecuteTime": {
     "end_time": "2020-12-01T16:29:22.588957Z",
     "start_time": "2020-12-01T16:29:22.578670Z"
    }
   },
   "source": [
    "#Model 000-3\n",
    "def architecture(input_shape, num_classes, activation, dropout=False, batch_normalization=False):\n",
    "    \n",
    "    model = Sequential()\n",
    "    \n",
    "    model.add(Conv2D(12, 3, padding='same', input_shape=input_shape))\n",
    "    model.add(Activation(activation))    \n",
    "    if batch_normalization: \n",
    "        model.add(BatchNormalization())  # Performing batch normalization to the output of the input layer\n",
    "               \n",
    "    \n",
    "    model.add(Flatten())\n",
    "    if dropout:\n",
    "        model.add(Dropout(0.30))\n",
    "    \n",
    "    model.add(Dense(50, kernel_initializer='he_uniform',bias_initializer='zeros'))\n",
    "    model.add(Activation(activation))    \n",
    "    if batch_normalization:\n",
    "        model.add(BatchNormalization())  \n",
    "    if dropout:\n",
    "        model.add(Dropout(0.30))\n",
    "    \n",
    "    model.add(Dense(50, kernel_initializer='he_uniform',bias_initializer='zeros'))\n",
    "    model.add(Activation(activation))    \n",
    "    if batch_normalization:\n",
    "        model.add(BatchNormalization())      \n",
    "    if dropout:\n",
    "        model.add(Dropout(0.30))\n",
    "    \n",
    "    model.add(Dense(num_classes))\n",
    "    model.add(Activation('softmax',name='CNN_Cifar10Model'))\n",
    "    \n",
    "    return model\n"
   ]
  },
  {
   "cell_type": "raw",
   "metadata": {
    "ExecuteTime": {
     "end_time": "2020-12-01T16:17:54.465288Z",
     "start_time": "2020-12-01T16:17:54.455121Z"
    }
   },
   "source": [
    "#Model 000-2\n",
    "def architecture(input_shape, num_classes, activation, dropout=False, batch_normalization=False):\n",
    "    \n",
    "    model = Sequential()\n",
    "    \n",
    "    model.add(Conv2D(9, 3, padding='same', input_shape=input_shape))\n",
    "    model.add(Activation(activation))    \n",
    "    if batch_normalization: \n",
    "        model.add(BatchNormalization())  # Performing batch normalization to the output of the input layer\n",
    "               \n",
    "    \n",
    "    model.add(Flatten())\n",
    "    if dropout:\n",
    "        model.add(Dropout(0.30))\n",
    "    \n",
    "    model.add(Dense(50, kernel_initializer='he_uniform',bias_initializer='zeros'))\n",
    "    model.add(Activation(activation))    \n",
    "    if batch_normalization:\n",
    "        model.add(BatchNormalization())  \n",
    "    if dropout:\n",
    "        model.add(Dropout(0.30))\n",
    "    \n",
    "    model.add(Dense(50, kernel_initializer='he_uniform',bias_initializer='zeros'))\n",
    "    model.add(Activation(activation))    \n",
    "    if batch_normalization:\n",
    "        model.add(BatchNormalization())      \n",
    "    if dropout:\n",
    "        model.add(Dropout(0.30))\n",
    "    \n",
    "    model.add(Dense(num_classes))\n",
    "    model.add(Activation('softmax',name='CNN_Cifar10Model'))\n",
    "    \n",
    "    return model\n"
   ]
  },
  {
   "cell_type": "raw",
   "metadata": {
    "ExecuteTime": {
     "end_time": "2020-12-01T16:08:37.505958Z",
     "start_time": "2020-12-01T16:08:37.496356Z"
    }
   },
   "source": [
    "#Model 000-1\n",
    "def architecture(input_shape, num_classes, activation, dropout=False, batch_normalization=False):\n",
    "    \n",
    "    model = Sequential()\n",
    "    \n",
    "    model.add(Conv2D(6, 3, padding='same', input_shape=input_shape))\n",
    "    model.add(Activation(activation))    \n",
    "    if batch_normalization: \n",
    "        model.add(BatchNormalization())  # Performing batch normalization to the output of the input layer\n",
    "               \n",
    "    \n",
    "    model.add(Flatten())\n",
    "    if dropout:\n",
    "        model.add(Dropout(0.30))\n",
    "    \n",
    "    model.add(Dense(50, kernel_initializer='he_uniform',bias_initializer='zeros'))\n",
    "    model.add(Activation(activation))    \n",
    "    if batch_normalization:\n",
    "        model.add(BatchNormalization())  \n",
    "    if dropout:\n",
    "        model.add(Dropout(0.30))\n",
    "    \n",
    "    model.add(Dense(50, kernel_initializer='he_uniform',bias_initializer='zeros'))\n",
    "    model.add(Activation(activation))    \n",
    "    if batch_normalization:\n",
    "        model.add(BatchNormalization())      \n",
    "    if dropout:\n",
    "        model.add(Dropout(0.30))\n",
    "    \n",
    "    model.add(Dense(num_classes))\n",
    "    model.add(Activation('softmax',name='CNN_Cifar10Model'))\n",
    "    \n",
    "    return model\n"
   ]
  },
  {
   "cell_type": "raw",
   "metadata": {
    "ExecuteTime": {
     "end_time": "2020-12-01T16:05:12.037489Z",
     "start_time": "2020-12-01T16:05:12.026332Z"
    }
   },
   "source": [
    "#Model 000\n",
    "def architecture(input_shape, num_classes, activation, dropout=False, batch_normalization=False):\n",
    "    \n",
    "    model = Sequential()\n",
    "    \n",
    "    model.add(Conv2D(3, 3, padding='same', input_shape=input_shape))\n",
    "    model.add(Activation(activation))    \n",
    "    if batch_normalization: \n",
    "        model.add(BatchNormalization())  # Performing batch normalization to the output of the input layer\n",
    "               \n",
    "    \n",
    "    model.add(Flatten())\n",
    "    if dropout:\n",
    "        model.add(Dropout(0.30))\n",
    "    \n",
    "    model.add(Dense(50, kernel_initializer='he_uniform',bias_initializer='zeros'))\n",
    "    model.add(Activation(activation))    \n",
    "    if batch_normalization:\n",
    "        model.add(BatchNormalization())  \n",
    "    if dropout:\n",
    "        model.add(Dropout(0.30))\n",
    "    \n",
    "    model.add(Dense(50, kernel_initializer='he_uniform',bias_initializer='zeros'))\n",
    "    model.add(Activation(activation))    \n",
    "    if batch_normalization:\n",
    "        model.add(BatchNormalization())      \n",
    "    if dropout:\n",
    "        model.add(Dropout(0.30))\n",
    "    \n",
    "    model.add(Dense(num_classes))\n",
    "    model.add(Activation('softmax',name='CNN_Cifar10Model'))\n",
    "    \n",
    "    return model\n"
   ]
  },
  {
   "cell_type": "raw",
   "metadata": {
    "ExecuteTime": {
     "end_time": "2020-12-01T15:13:15.529906Z",
     "start_time": "2020-12-01T15:13:15.520375Z"
    }
   },
   "source": [
    "#Model 00\n",
    "def architecture(input_shape, num_classes, activation, dropout=False, batch_normalization=False):\n",
    "    \n",
    "    model = Sequential()\n",
    "    \n",
    "    model.add(Conv2D(32, 3, padding='same', input_shape=input_shape))\n",
    "    model.add(Activation(activation))    \n",
    "    if batch_normalization: \n",
    "        model.add(BatchNormalization())  # Performing batch normalization to the output of the input layer\n",
    "               \n",
    "    \n",
    "    model.add(Flatten())\n",
    "    if dropout:\n",
    "        model.add(Dropout(0.30))\n",
    "    \n",
    "    model.add(Dense(50, kernel_initializer='he_uniform',bias_initializer='zeros'))\n",
    "    model.add(Activation(activation))    \n",
    "    if batch_normalization:\n",
    "        model.add(BatchNormalization())  \n",
    "    if dropout:\n",
    "        model.add(Dropout(0.30))\n",
    "    \n",
    "    model.add(Dense(50, kernel_initializer='he_uniform',bias_initializer='zeros'))\n",
    "    model.add(Activation(activation))    \n",
    "    if batch_normalization:\n",
    "        model.add(BatchNormalization())      \n",
    "    if dropout:\n",
    "        model.add(Dropout(0.30))\n",
    "    \n",
    "    model.add(Dense(num_classes))\n",
    "    model.add(Activation('softmax',name='CNN_Cifar10Model'))\n",
    "    \n",
    "    return model\n"
   ]
  },
  {
   "cell_type": "raw",
   "metadata": {
    "ExecuteTime": {
     "end_time": "2020-12-01T15:00:41.963517Z",
     "start_time": "2020-12-01T15:00:41.947223Z"
    }
   },
   "source": [
    "#Model 0\n",
    "def architecture(input_shape, num_classes, activation, dropout=False, batch_normalization=False):\n",
    "    \n",
    "    model = Sequential()\n",
    "    \n",
    "    model.add(Conv2D(32, 3, padding='same', input_shape=input_shape))\n",
    "    model.add(Activation(activation))    \n",
    "    if batch_normalization: \n",
    "        model.add(BatchNormalization())  # Performing batch normalization to the output of the input layer\n",
    "               \n",
    "    model.add(MaxPooling2D()) \n",
    "    \n",
    "    \n",
    "    model.add(Flatten())\n",
    "    if dropout:\n",
    "        model.add(Dropout(0.30))\n",
    "    \n",
    "    model.add(Dense(50, kernel_initializer='he_uniform',bias_initializer='zeros'))\n",
    "    model.add(Activation(activation))    \n",
    "    if batch_normalization:\n",
    "        model.add(BatchNormalization())  \n",
    "    if dropout:\n",
    "        model.add(Dropout(0.30))\n",
    "    \n",
    "    model.add(Dense(50, kernel_initializer='he_uniform',bias_initializer='zeros'))\n",
    "    model.add(Activation(activation))    \n",
    "    if batch_normalization:\n",
    "        model.add(BatchNormalization())      \n",
    "    if dropout:\n",
    "        model.add(Dropout(0.30))\n",
    "    \n",
    "    model.add(Dense(num_classes))\n",
    "    model.add(Activation('softmax',name='CNN_Cifar10Model'))\n",
    "    \n",
    "    return model\n"
   ]
  },
  {
   "cell_type": "raw",
   "metadata": {
    "ExecuteTime": {
     "end_time": "2020-12-01T00:41:50.533523Z",
     "start_time": "2020-12-01T00:41:50.522263Z"
    }
   },
   "source": [
    "#Model 1\n",
    "def architecture(input_shape, num_classes, activation, dropout=False, batch_normalization=False):\n",
    "    \n",
    "    model = Sequential()\n",
    "    \n",
    "    model.add(Conv2D(32, 3, padding='same', input_shape=input_shape))\n",
    "    model.add(Activation(activation))    \n",
    "    if batch_normalization: \n",
    "        model.add(BatchNormalization())  # Performing batch normalization to the output of the input layer\n",
    "       \n",
    "    model.add(Conv2D(32, 3, padding='same',kernel_initializer='he_uniform',bias_initializer='zeros'))\n",
    "    model.add(Activation(activation))    \n",
    "    if batch_normalization:\n",
    "        model.add(BatchNormalization())  # Performing batch normalization to the convolution layer\n",
    "        \n",
    "    model.add(MaxPooling2D()) \n",
    "    \n",
    "    \n",
    "    model.add(Flatten())\n",
    "    if dropout:\n",
    "        model.add(Dropout(0.30))\n",
    "    \n",
    "    model.add(Dense(50, kernel_initializer='he_uniform',bias_initializer='zeros'))\n",
    "    model.add(Activation(activation))    \n",
    "    if batch_normalization:\n",
    "        model.add(BatchNormalization())  \n",
    "    if dropout:\n",
    "        model.add(Dropout(0.30))\n",
    "    \n",
    "    model.add(Dense(50, kernel_initializer='he_uniform',bias_initializer='zeros'))\n",
    "    model.add(Activation(activation))    \n",
    "    if batch_normalization:\n",
    "        model.add(BatchNormalization())      \n",
    "    if dropout:\n",
    "        model.add(Dropout(0.30))\n",
    "    \n",
    "    model.add(Dense(num_classes))\n",
    "    model.add(Activation('softmax',name='CNN_Cifar10Model'))\n",
    "    \n",
    "    return model\n"
   ]
  },
  {
   "cell_type": "raw",
   "metadata": {
    "ExecuteTime": {
     "end_time": "2020-12-01T14:55:49.621551Z",
     "start_time": "2020-12-01T14:55:49.607361Z"
    }
   },
   "source": [
    "#Model 1-1\n",
    "def architecture(input_shape, num_classes, activation, dropout=False, batch_normalization=False):\n",
    "    \n",
    "    model = Sequential()\n",
    "    \n",
    "    model.add(Conv2D(64, 3, padding='same', kernel_initializer='he_uniform',bias_initializer='zeros', \\\n",
    "                     input_shape=input_shape))\n",
    "    model.add(Activation(activation))    \n",
    "    if batch_normalization: \n",
    "        model.add(BatchNormalization())  # Performing batch normalization to the output of the input layer\n",
    "       \n",
    "    model.add(Conv2D(64, 3, padding='same',kernel_initializer='he_uniform',bias_initializer='zeros'))\n",
    "    model.add(Activation(activation))    \n",
    "    if batch_normalization:\n",
    "        model.add(BatchNormalization())  # Performing batch normalization to the convolution layer\n",
    "        \n",
    "    model.add(MaxPooling2D()) \n",
    "    \n",
    "    \n",
    "    model.add(Flatten())\n",
    "    if dropout:\n",
    "        model.add(Dropout(0.30))\n",
    "    \n",
    "    model.add(Dense(50, kernel_initializer='he_uniform',bias_initializer='zeros'))\n",
    "    model.add(Activation(activation))    \n",
    "    if batch_normalization:\n",
    "        model.add(BatchNormalization())  \n",
    "    if dropout:\n",
    "        model.add(Dropout(0.30))\n",
    "    \n",
    "    model.add(Dense(50, kernel_initializer='he_uniform',bias_initializer='zeros'))\n",
    "    model.add(Activation(activation))    \n",
    "    if batch_normalization:\n",
    "        model.add(BatchNormalization())      \n",
    "    if dropout:\n",
    "        model.add(Dropout(0.30))\n",
    "    \n",
    "    model.add(Dense(num_classes))\n",
    "    model.add(Activation('softmax',name='CNN_Cifar10Model'))\n",
    "    \n",
    "    return model\n"
   ]
  },
  {
   "cell_type": "raw",
   "metadata": {
    "ExecuteTime": {
     "end_time": "2020-12-01T00:20:50.241981Z",
     "start_time": "2020-12-01T00:20:50.228711Z"
    }
   },
   "source": [
    "#Model 2\n",
    "def architecture(input_shape, num_classes, activation, dropout=False, batch_normalization=False):\n",
    "    \n",
    "    model = Sequential()\n",
    "    \n",
    "    model.add(Conv2D(32, 3, padding='same', input_shape=input_shape))\n",
    "    model.add(Activation(activation))    \n",
    "       \n",
    "    model.add(Conv2D(32, 3, padding='same',kernel_initializer='he_uniform',bias_initializer='zeros'))\n",
    "    model.add(Activation(activation))    \n",
    "    model.add(MaxPooling2D())\n",
    "    if batch_normalization:\n",
    "        model.add(BatchNormalization())  # Performing batch normalization to the convolution layer\n",
    "\n",
    "        \n",
    "    model.add(Conv2D(64, 3, padding = 'same', kernel_initializer = 'he_uniform',bias_initializer='zeros'))\n",
    "    model.add(Activation(activation))    \n",
    "               \n",
    "    model.add(Conv2D(64, 3, padding = 'same', kernel_initializer = 'he_uniform',bias_initializer='zeros'))\n",
    "    model.add(Activation(activation))    \n",
    "    model.add(MaxPooling2D())\n",
    "    if batch_normalization:\n",
    "        model.add(BatchNormalization())  # Performing batch normalization to the convolution layer\n",
    "\n",
    "    \n",
    "    model.add(Flatten())\n",
    "    if dropout:\n",
    "        model.add(Dropout(0.30))\n",
    "    \n",
    "    model.add(Dense(50, kernel_initializer='he_uniform',bias_initializer='zeros'))\n",
    "    model.add(Activation(activation))    \n",
    "    if batch_normalization:\n",
    "        model.add(BatchNormalization())  \n",
    "    if dropout:\n",
    "        model.add(Dropout(0.30))\n",
    "    \n",
    "    model.add(Dense(50, kernel_initializer='he_uniform',bias_initializer='zeros'))\n",
    "    model.add(Activation(activation))    \n",
    "    if batch_normalization:\n",
    "        model.add(BatchNormalization())      \n",
    "    if dropout:\n",
    "        model.add(Dropout(0.30))\n",
    "    \n",
    "    model.add(Dense(num_classes))\n",
    "    model.add(Activation('softmax',name='CNN_Cifar10Model'))\n",
    "    \n",
    "    return model\n"
   ]
  },
  {
   "cell_type": "code",
   "execution_count": 28,
   "metadata": {
    "ExecuteTime": {
     "end_time": "2020-12-02T13:42:58.687289Z",
     "start_time": "2020-12-02T13:42:58.672779Z"
    }
   },
   "outputs": [],
   "source": [
    "#Model 3\n",
    "def architecture(input_shape, num_classes, activation, dropout=False, batch_normalization=False):\n",
    "    \n",
    "    model = Sequential()\n",
    "    \n",
    "    model.add(Conv2D(32, 3, padding='same', input_shape=input_shape))\n",
    "    model.add(Activation(activation))    \n",
    "    if batch_normalization: \n",
    "        model.add(BatchNormalization())  # Performing batch normalization to the output of the input layer\n",
    "       \n",
    "    model.add(Conv2D(32, 3, padding='same',kernel_initializer='he_uniform',bias_initializer='zeros'))\n",
    "    model.add(Activation(activation))    \n",
    "    if batch_normalization:\n",
    "        model.add(BatchNormalization())  # Performing batch normalization to the convolution layer\n",
    "        \n",
    "    model.add(MaxPooling2D()) \n",
    "    \n",
    "    model.add(Conv2D(64, 3, padding = 'same', kernel_initializer = 'he_uniform',bias_initializer='zeros'))\n",
    "    model.add(Activation(activation))    \n",
    "    if batch_normalization:\n",
    "        model.add(BatchNormalization())  # Performing batch normalization to the convolution layer\n",
    "               \n",
    "    model.add(Conv2D(64, 3, padding = 'same', kernel_initializer = 'he_uniform',bias_initializer='zeros'))\n",
    "    model.add(Activation(activation))    \n",
    "    if batch_normalization:\n",
    "        model.add(BatchNormalization())  # Performing batch normalization to the convolution layer\n",
    "    \n",
    "    model.add(MaxPooling2D())\n",
    "    \n",
    "    model.add(Flatten())\n",
    "    if dropout:\n",
    "        model.add(Dropout(0.30))\n",
    "    \n",
    "    model.add(Dense(50, kernel_initializer='he_uniform',bias_initializer='zeros'))\n",
    "    model.add(Activation(activation))    \n",
    "    if batch_normalization:\n",
    "        model.add(BatchNormalization())  \n",
    "    if dropout:\n",
    "        model.add(Dropout(0.30))\n",
    "    \n",
    "    model.add(Dense(50, kernel_initializer='he_uniform',bias_initializer='zeros'))\n",
    "    model.add(Activation(activation))    \n",
    "    if batch_normalization:\n",
    "        model.add(BatchNormalization())      \n",
    "    if dropout:\n",
    "        model.add(Dropout(0.30))\n",
    "    \n",
    "    model.add(Dense(num_classes))\n",
    "    model.add(Activation('softmax',name='CNN_Cifar10Model'))\n",
    "    \n",
    "    return model\n"
   ]
  },
  {
   "cell_type": "raw",
   "metadata": {
    "ExecuteTime": {
     "end_time": "2020-12-01T00:41:50.533523Z",
     "start_time": "2020-12-01T00:41:50.522263Z"
    }
   },
   "source": [
    "#Model 3-1\n",
    "def architecture(input_shape, num_classes, activation, dropout=False, batch_normalization=False):\n",
    "    \n",
    "    model = Sequential()\n",
    "    \n",
    "    model.add(Conv2D(32, 3, padding='same', input_shape=input_shape))\n",
    "    model.add(Activation(activation))    \n",
    "    if batch_normalization: \n",
    "        model.add(BatchNormalization())  # Performing batch normalization to the output of the input layer\n",
    "       \n",
    "    model.add(Conv2D(32, 3, padding='same',kernel_initializer='he_uniform',bias_initializer='zeros'))\n",
    "    model.add(Activation(activation))    \n",
    "    if batch_normalization:\n",
    "        model.add(BatchNormalization())  # Performing batch normalization to the convolution layer\n",
    "        \n",
    "    model.add(MaxPooling2D()) \n",
    "    \n",
    "    model.add(Conv2D(64, 3, padding = 'same', kernel_initializer = 'he_uniform',bias_initializer='zeros'))\n",
    "    model.add(Activation(activation))    \n",
    "    if batch_normalization:\n",
    "        model.add(BatchNormalization())  # Performing batch normalization to the convolution layer\n",
    "               \n",
    "    model.add(Conv2D(64, 3, padding = 'same', kernel_initializer = 'he_uniform',bias_initializer='zeros'))\n",
    "    model.add(Activation(activation))    \n",
    "    if batch_normalization:\n",
    "        model.add(BatchNormalization())  # Performing batch normalization to the convolution layer\n",
    "    \n",
    "    model.add(MaxPooling2D())\n",
    "    \n",
    "    model.add(Flatten())\n",
    "    if dropout:\n",
    "        model.add(Dropout(0.30))\n",
    "    \n",
    "    model.add(Dense(50, kernel_initializer='he_uniform',bias_initializer='zeros'))\n",
    "    model.add(Activation(activation))    \n",
    "    if batch_normalization:\n",
    "        model.add(BatchNormalization())  \n",
    "    if dropout:\n",
    "        model.add(Dropout(0.30))\n",
    "    \n",
    "    model.add(Dense(50, kernel_initializer='he_uniform',bias_initializer='zeros'))\n",
    "    model.add(Activation(activation))    \n",
    "    if batch_normalization:\n",
    "        model.add(BatchNormalization())      \n",
    "    if dropout:\n",
    "        model.add(Dropout(0.30))\n",
    "    \n",
    "    model.add(Dense(num_classes))\n",
    "    model.add(Activation('softmax',name='CNN_Cifar10Model'))\n",
    "    \n",
    "    return model\n"
   ]
  },
  {
   "cell_type": "raw",
   "metadata": {
    "ExecuteTime": {
     "end_time": "2020-11-30T23:20:30.373451Z",
     "start_time": "2020-11-30T23:20:30.359109Z"
    }
   },
   "source": [
    "#Model 4\n",
    "def architecture(input_shape, num_classes, activation, dropout=False, batch_normalization=False):\n",
    "    \n",
    "    model = Sequential()\n",
    "    \n",
    "    #First convolution module    \n",
    "    model.add(Conv2D(32, 3, padding='same', input_shape=input_shape))\n",
    "    model.add(Activation(activation))\n",
    "    model.add(MaxPooling2D())\n",
    "    if batch_normalization: \n",
    "        model.add(BatchNormalization())  # Performing batch normalization to the output of the input layer\n",
    "       \n",
    "    #Second convolution module\n",
    "    model.add(Conv2D(32, 3, padding='same',kernel_initializer='he_uniform',bias_initializer='zeros'))\n",
    "    model.add(Activation(activation))\n",
    "    model.add(MaxPooling2D())\n",
    "    if batch_normalization:\n",
    "        model.add(BatchNormalization())  # Performing batch normalization to the convolution layer\n",
    "            \n",
    "    #Third convolution module \n",
    "    model.add(Conv2D(64, 3, padding = 'same', kernel_initializer = 'he_uniform',bias_initializer='zeros'))\n",
    "    model.add(Activation(activation))\n",
    "    model.add(MaxPooling2D())\n",
    "    if batch_normalization:\n",
    "        model.add(BatchNormalization())  # Performing batch normalization to the convolution layer\n",
    "        \n",
    "    #Fourth convolution module\n",
    "    model.add(Conv2D(64, 3, padding = 'same', kernel_initializer = 'he_uniform',bias_initializer='zeros'))\n",
    "    model.add(Activation(activation))\n",
    "    model.add(MaxPooling2D())\n",
    "    if batch_normalization:\n",
    "        model.add(BatchNormalization())  # Performing batch normalization to the convolution layer\n",
    "    \n",
    "\n",
    "    #Feed forward \"full\" connected module\n",
    "    model.add(Flatten())\n",
    "    if dropout:\n",
    "        model.add(Dropout(0.30))\n",
    "        \n",
    "    model.add(Dense(50, kernel_initializer='he_uniform',bias_initializer='zeros'))\n",
    "    model.add(Activation(activation))    \n",
    "    if dropout:\n",
    "        model.add(Dropout(0.30))\n",
    "    if batch_normalization:\n",
    "        model.add(BatchNormalization())  \n",
    "    \n",
    "    model.add(Dense(50, kernel_initializer='he_uniform',bias_initializer='zeros'))\n",
    "    model.add(Activation(activation))    \n",
    "    if dropout:\n",
    "        model.add(Dropout(0.30))\n",
    "    if batch_normalization:\n",
    "        model.add(BatchNormalization())      \n",
    "   \n",
    "    model.add(Dense(num_classes))\n",
    "    model.add(Activation('softmax',name='CNN_Cifar10Model'))\n",
    "    \n",
    "    return model\n"
   ]
  },
  {
   "cell_type": "markdown",
   "metadata": {
    "ExecuteTime": {
     "end_time": "2020-03-24T18:29:47.071906Z",
     "start_time": "2020-03-24T18:29:47.067719Z"
    }
   },
   "source": [
    "<font size=5 color=\"blue\">\n",
    "\n",
    "Building the neural network model for the learning system"
   ]
  },
  {
   "cell_type": "code",
   "execution_count": 29,
   "metadata": {
    "ExecuteTime": {
     "end_time": "2020-12-02T13:42:59.874712Z",
     "start_time": "2020-12-02T13:42:58.688656Z"
    }
   },
   "outputs": [
    {
     "name": "stdout",
     "output_type": "stream",
     "text": [
      "WARNING:tensorflow:From /home/bokhimi/anaconda3/envs/keras1/lib/python3.7/site-packages/keras/backend/tensorflow_backend.py:4070: The name tf.nn.max_pool is deprecated. Please use tf.nn.max_pool2d instead.\n",
      "\n"
     ]
    }
   ],
   "source": [
    "one_image = (32, 32, 3)\n",
    "activation='sigmoid'\n",
    "num_classes=10\n",
    "dropout=True\n",
    "batch_normalization=True\n",
    "\n",
    "cifar10_model = architecture(one_image,num_classes,activation,dropout,batch_normalization)"
   ]
  },
  {
   "cell_type": "markdown",
   "metadata": {
    "ExecuteTime": {
     "end_time": "2020-03-24T00:03:50.539765Z",
     "start_time": "2020-03-24T00:03:50.534266Z"
    }
   },
   "source": [
    "<font size=5 color=\"blue\">\n",
    "    \n",
    "Graph of the model and summary"
   ]
  },
  {
   "cell_type": "markdown",
   "metadata": {},
   "source": [
    "<font size=4 color='black'> \n",
    "The 'plot_model()' function generates a graphic with the layers and their number of input ands output weights.\n",
    "$$ $$\n",
    "Documentation: [Model visualization](https://keras.io/visualization/#training-history-visualization)"
   ]
  },
  {
   "cell_type": "code",
   "execution_count": 30,
   "metadata": {
    "ExecuteTime": {
     "end_time": "2020-12-02T13:43:00.029199Z",
     "start_time": "2020-12-02T13:42:59.875979Z"
    }
   },
   "outputs": [
    {
     "data": {
      "image/png": "[encoded data removed]",
      "text/plain": [
       "<IPython.core.display.Image object>"
      ]
     },
     "execution_count": 30,
     "metadata": {},
     "output_type": "execute_result"
    }
   ],
   "source": [
    "plot_model(cifar10_model, to_file='cifar10_blocks.png', show_shapes=False, rankdir='LR',show_layer_names=False)"
   ]
  },
  {
   "cell_type": "code",
   "execution_count": 31,
   "metadata": {
    "ExecuteTime": {
     "end_time": "2020-12-02T13:43:00.327487Z",
     "start_time": "2020-12-02T13:43:00.031076Z"
    }
   },
   "outputs": [
    {
     "data": {
      "image/png": "[encoded data removed]",
      "text/plain": [
       "<IPython.core.display.Image object>"
      ]
     },
     "execution_count": 31,
     "metadata": {},
     "output_type": "execute_result"
    }
   ],
   "source": [
    "plot_model(cifar10_model, to_file='cifar10_model.png', show_shapes=True, rankdir='TB', show_layer_names=True)"
   ]
  },
  {
   "cell_type": "code",
   "execution_count": 32,
   "metadata": {
    "ExecuteTime": {
     "end_time": "2020-12-02T13:43:00.340630Z",
     "start_time": "2020-12-02T13:43:00.329197Z"
    }
   },
   "outputs": [
    {
     "name": "stdout",
     "output_type": "stream",
     "text": [
      "Model: \"sequential_1\"\n",
      "_________________________________________________________________\n",
      "Layer (type)                 Output Shape              Param #   \n",
      "=================================================================\n",
      "conv2d_1 (Conv2D)            (None, 32, 32, 32)        896       \n",
      "_________________________________________________________________\n",
      "activation_1 (Activation)    (None, 32, 32, 32)        0         \n",
      "_________________________________________________________________\n",
      "batch_normalization_1 (Batch (None, 32, 32, 32)        128       \n",
      "_________________________________________________________________\n",
      "conv2d_2 (Conv2D)            (None, 32, 32, 32)        9248      \n",
      "_________________________________________________________________\n",
      "activation_2 (Activation)    (None, 32, 32, 32)        0         \n",
      "_________________________________________________________________\n",
      "batch_normalization_2 (Batch (None, 32, 32, 32)        128       \n",
      "_________________________________________________________________\n",
      "max_pooling2d_1 (MaxPooling2 (None, 16, 16, 32)        0         \n",
      "_________________________________________________________________\n",
      "conv2d_3 (Conv2D)            (None, 16, 16, 64)        18496     \n",
      "_________________________________________________________________\n",
      "activation_3 (Activation)    (None, 16, 16, 64)        0         \n",
      "_________________________________________________________________\n",
      "batch_normalization_3 (Batch (None, 16, 16, 64)        256       \n",
      "_________________________________________________________________\n",
      "conv2d_4 (Conv2D)            (None, 16, 16, 64)        36928     \n",
      "_________________________________________________________________\n",
      "activation_4 (Activation)    (None, 16, 16, 64)        0         \n",
      "_________________________________________________________________\n",
      "batch_normalization_4 (Batch (None, 16, 16, 64)        256       \n",
      "_________________________________________________________________\n",
      "max_pooling2d_2 (MaxPooling2 (None, 8, 8, 64)          0         \n",
      "_________________________________________________________________\n",
      "flatten_1 (Flatten)          (None, 4096)              0         \n",
      "_________________________________________________________________\n",
      "dropout_1 (Dropout)          (None, 4096)              0         \n",
      "_________________________________________________________________\n",
      "dense_1 (Dense)              (None, 50)                204850    \n",
      "_________________________________________________________________\n",
      "activation_5 (Activation)    (None, 50)                0         \n",
      "_________________________________________________________________\n",
      "batch_normalization_5 (Batch (None, 50)                200       \n",
      "_________________________________________________________________\n",
      "dropout_2 (Dropout)          (None, 50)                0         \n",
      "_________________________________________________________________\n",
      "dense_2 (Dense)              (None, 50)                2550      \n",
      "_________________________________________________________________\n",
      "activation_6 (Activation)    (None, 50)                0         \n",
      "_________________________________________________________________\n",
      "batch_normalization_6 (Batch (None, 50)                200       \n",
      "_________________________________________________________________\n",
      "dropout_3 (Dropout)          (None, 50)                0         \n",
      "_________________________________________________________________\n",
      "dense_3 (Dense)              (None, 10)                510       \n",
      "_________________________________________________________________\n",
      "CNN_Cifar10Model (Activation (None, 10)                0         \n",
      "=================================================================\n",
      "Total params: 274,646\n",
      "Trainable params: 274,062\n",
      "Non-trainable params: 584\n",
      "_________________________________________________________________\n"
     ]
    }
   ],
   "source": [
    "\n",
    "cifar10_model.summary()"
   ]
  },
  {
   "cell_type": "markdown",
   "metadata": {},
   "source": [
    "<font size=5 color='blue'>\n",
    "Optimization method"
   ]
  },
  {
   "cell_type": "markdown",
   "metadata": {},
   "source": [
    "<font size=3 color=\"black\">\n",
    "This requires defining the optimization algorithm, loss function and metric.\n",
    "    \n",
    "In the present case we are using the Stochastic Gradient descent algorithm with learning rate \"lr\", \"momentum\",  and without Nesterov acceleration\".\n",
    "\n",
    "This post also comments on some other optimization variants of this algorithm; Adagrad, Adadelta, RMStrop and Adam."
   ]
  },
  {
   "cell_type": "markdown",
   "metadata": {},
   "source": [
    "<font size=5 color='blue'>\n",
    "Optimizer"
   ]
  },
  {
   "cell_type": "markdown",
   "metadata": {
    "ExecuteTime": {
     "end_time": "2020-11-24T00:09:25.688121Z",
     "start_time": "2020-11-24T00:09:25.680769Z"
    }
   },
   "source": [
    "<font size=5 color='blue'>\n",
    "Mini-batch stocastic gradient descent(SGD) method.  "
   ]
  },
  {
   "cell_type": "markdown",
   "metadata": {},
   "source": [
    "<font size=4 color='black'> \n",
    "The training samples are divided into mini-batches that have the size batch_size (B). Updates of weights and biases are based on an average of the gradient within each block of B samples. \n",
    "    \n",
    "$$ \\omega^{(t)} := \\omega^{(t-1)} - \\alpha \\dfrac{1}{B} \\sum_{t^1=Bt +1}^{B(t+1)}\\dfrac{\\partial J(x^{(t^1)},y^{(t^1)},\\omega, b)}{\\partial \\omega}$$\n",
    "\n",
    "$$ b^{(t)} := b^{(t-1)} - \\alpha \\dfrac{1}{B} \\sum_{t^1=Bt +1}^{B(t+1)}\\dfrac{\\partial J(x^{(t^1)},y^{(t^1)},\\omega, b)}{\\partial b}$$\n",
    "\n",
    "$ \\alpha $ represents the learning rate and *t* represents an iteration. \n",
    "    \n",
    "This method is specially useful for large sets of training data.\n",
    "    \n",
    "[Gradient-Based Training](./literature/Practical_rec_DL_Bengio_2012.pdf)"
   ]
  },
  {
   "cell_type": "code",
   "execution_count": 33,
   "metadata": {
    "ExecuteTime": {
     "end_time": "2020-12-02T13:43:00.366502Z",
     "start_time": "2020-12-02T13:43:00.342435Z"
    }
   },
   "outputs": [],
   "source": [
    "learning_rate = 0.01\n",
    "\n",
    "optimizer = keras.optimizers.SGD(learning_rate=learning_rate, momentum=0.0, nesterov=False)"
   ]
  },
  {
   "cell_type": "markdown",
   "metadata": {},
   "source": [
    "<font size=5 color='blue'>\n",
    "The cost (loss) and Metric functions"
   ]
  },
  {
   "cell_type": "markdown",
   "metadata": {},
   "source": [
    "<font size=4 color=\"black\">\n",
    "    \n",
    "The cost function *J* is defined as \"categorical_crossentropy\"\n",
    "    \n",
    "$$ J = \\frac{1}{m} \\sum_{i=1}^m \\sum_{k=0}^{K-1}(y_k^{(i)}*\\log{(F_k(x^{(i)})))}$$\n",
    "    \n",
    " where $F_k(x^{(i)})$ is the predicted value and $y_k^{(i)}$ is the target value for the sample *i*; *K* is the number of classes and *m* is the number of samples.    \n",
    "\n",
    "A metric function is similar to a loss function, except that the results from evaluating a metric are not used when training the model. You may use any of the loss functions as a metric function. In the present example, we are using \"accuracy\" as metrics:\n",
    "    \n",
    "*Accuracy = Number of correct predictions / Total number of predictions made*\n",
    "    \n",
    "\n",
    "Categorical crossentropy will compare the distribution of the predictions (the activations in the output layer, one for each class) with the true distribution, where the probability of the true class is set to 1, and 0 for the other classes.\n",
    "\n",
    "To put it in a different way, the true class is represented as an encoded vector, and the closer the model’s outputs are to that vector, the lower the loss.\n",
    "    \n",
    "Documentation: [keras.compile(...)](https://keras.io/models/model/#compile)"
   ]
  },
  {
   "cell_type": "code",
   "execution_count": 34,
   "metadata": {
    "ExecuteTime": {
     "end_time": "2020-12-02T13:43:00.370331Z",
     "start_time": "2020-12-02T13:43:00.367900Z"
    }
   },
   "outputs": [],
   "source": [
    "loss_function = 'categorical_crossentropy'\n",
    "metric_function = 'accuracy'"
   ]
  },
  {
   "cell_type": "markdown",
   "metadata": {
    "ExecuteTime": {
     "end_time": "2020-11-23T19:12:50.153175Z",
     "start_time": "2020-11-23T19:12:50.148215Z"
    }
   },
   "source": [
    "<font size=5 color='blue'>\n",
    "Compiling the model"
   ]
  },
  {
   "cell_type": "code",
   "execution_count": 35,
   "metadata": {
    "ExecuteTime": {
     "end_time": "2020-12-02T13:43:00.431071Z",
     "start_time": "2020-12-02T13:43:00.371791Z"
    }
   },
   "outputs": [],
   "source": [
    "cifar10_model.compile(optimizer = optimizer, loss = loss_function, metrics = [metric_function])"
   ]
  },
  {
   "cell_type": "markdown",
   "metadata": {},
   "source": [
    "<font size=5 color='blue'>\n",
    "    \n",
    "Training the learning system"
   ]
  },
  {
   "cell_type": "markdown",
   "metadata": {},
   "source": [
    "<font size=5 color='blue'>\n",
    "    \n",
    "Shuffle"
   ]
  },
  {
   "cell_type": "markdown",
   "metadata": {
    "ExecuteTime": {
     "end_time": "2020-11-23T21:49:35.336666Z",
     "start_time": "2020-11-23T21:49:35.331145Z"
    }
   },
   "source": [
    "<font size=4 color='black'>\n",
    "\n",
    "Shuffling the training data before each epoch has a large effect on the loss associated with the test samples. Shuffling the training data, the samples for each mini-batch change with the epoch.\n",
    "    \n",
    "To speed up the convergence of weights and biases, it is also possible to fix the samples associated with each mini-batch. Then, the mini-batches will be called randomly in each epoch.  \n",
    "    "
   ]
  },
  {
   "cell_type": "markdown",
   "metadata": {},
   "source": [
    "<font size=5 color=\"blue\">\n",
    "\n",
    "Batch normalization"
   ]
  },
  {
   "cell_type": "markdown",
   "metadata": {
    "ExecuteTime": {
     "end_time": "2020-11-30T17:47:17.345786Z",
     "start_time": "2020-11-30T17:47:17.340738Z"
    }
   },
   "source": [
    "<font size=4 color=\"black\">\n",
    "    \n",
    "[Batch normalization](./literature/Batch-normalization_2015.pdf)"
   ]
  },
  {
   "cell_type": "markdown",
   "metadata": {},
   "source": [
    "<font size=4 color='black'>\n",
    "    \n",
    "Training Deep Neural Networks is complicated by the fact that the distribution of each  layer’sinputs changes during training, as the parameters of the previous layers change.\n",
    "    \n",
    "Batch Normalization allows us to use much higher learning rates and be less careful about initialization, and in some cases eliminates the need for Dropout."
   ]
  },
  {
   "cell_type": "markdown",
   "metadata": {},
   "source": [
    "<font size=4 color='black'>\n",
    "    \n",
    "Using batch normalization in a layer,tThe layer normalizes its output using the mean and standard deviation of the current batch of inputs. That is to say, for each channel being normalized, the layer returns (batch - mean(batch)) / (var(batch) + epsilon) * gamma + beta, where:\n",
    "\n",
    "    epsilon is small constant (configurable as part of the constructor arguments)\n",
    "    gamma is a learned scaling factor (initialized as 1), which can be disabled by passing scale=False to the constructor.\n",
    "    beta is a learned offset factor (initialized as 0), which can be disabled by passing center=False to the constructor.\n"
   ]
  },
  {
   "cell_type": "markdown",
   "metadata": {},
   "source": [
    "<font size=4 color='black'>\n",
    "    \n",
    "Importantly, batch normalization works differently during training and during inference.\n",
    "    \n",
    "[Batch Normalization in Keras](https://keras.io/api/layers/normalization_layers/batch_normalization/)"
   ]
  },
  {
   "cell_type": "markdown",
   "metadata": {},
   "source": [
    "<font size=4 color=\"black\">\n",
    "    \n",
    "Documentation: [keras.fit(...)](https://keras.io/models/model/#fit)"
   ]
  },
  {
   "cell_type": "code",
   "execution_count": 36,
   "metadata": {
    "ExecuteTime": {
     "end_time": "2020-12-02T14:02:25.900128Z",
     "start_time": "2020-12-02T13:43:00.432463Z"
    },
    "scrolled": false
   },
   "outputs": [
    {
     "name": "stdout",
     "output_type": "stream",
     "text": [
      "WARNING:tensorflow:From /home/bokhimi/anaconda3/envs/keras1/lib/python3.7/site-packages/keras/backend/tensorflow_backend.py:422: The name tf.global_variables is deprecated. Please use tf.compat.v1.global_variables instead.\n",
      "\n",
      "Train on 45000 samples, validate on 5000 samples\n",
      "Epoch 1/100\n",
      "45000/45000 [==============================] - 13s 293us/step - loss: 2.0776 - accuracy: 0.3025 - val_loss: 2.6854 - val_accuracy: 0.1626\n",
      "Epoch 2/100\n",
      "45000/45000 [==============================] - 11s 254us/step - loss: 1.7286 - accuracy: 0.3898 - val_loss: 1.4658 - val_accuracy: 0.4674\n",
      "Epoch 3/100\n",
      "45000/45000 [==============================] - 11s 251us/step - loss: 1.5844 - accuracy: 0.4317 - val_loss: 1.3514 - val_accuracy: 0.5134\n",
      "Epoch 4/100\n",
      "45000/45000 [==============================] - 11s 252us/step - loss: 1.4898 - accuracy: 0.4632 - val_loss: 1.3307 - val_accuracy: 0.5168\n",
      "Epoch 5/100\n",
      "45000/45000 [==============================] - 11s 250us/step - loss: 1.4039 - accuracy: 0.4943 - val_loss: 1.2213 - val_accuracy: 0.5704\n",
      "Epoch 6/100\n",
      "45000/45000 [==============================] - 11s 251us/step - loss: 1.3382 - accuracy: 0.5206 - val_loss: 1.3559 - val_accuracy: 0.5410\n",
      "Epoch 7/100\n",
      "45000/45000 [==============================] - 11s 249us/step - loss: 1.2821 - accuracy: 0.5443 - val_loss: 1.3102 - val_accuracy: 0.5396\n",
      "Epoch 8/100\n",
      "45000/45000 [==============================] - 12s 260us/step - loss: 1.2392 - accuracy: 0.5604 - val_loss: 1.0545 - val_accuracy: 0.6250\n",
      "Epoch 9/100\n",
      "45000/45000 [==============================] - 11s 252us/step - loss: 1.1992 - accuracy: 0.5762 - val_loss: 1.0808 - val_accuracy: 0.6184\n",
      "Epoch 10/100\n",
      "45000/45000 [==============================] - 11s 249us/step - loss: 1.1679 - accuracy: 0.5872 - val_loss: 1.0916 - val_accuracy: 0.6126\n",
      "Epoch 11/100\n",
      "45000/45000 [==============================] - 11s 250us/step - loss: 1.1367 - accuracy: 0.6014 - val_loss: 1.0211 - val_accuracy: 0.6416\n",
      "Epoch 12/100\n",
      "45000/45000 [==============================] - 11s 251us/step - loss: 1.1127 - accuracy: 0.6139 - val_loss: 1.0017 - val_accuracy: 0.6464\n",
      "Epoch 13/100\n",
      "45000/45000 [==============================] - 11s 251us/step - loss: 1.0872 - accuracy: 0.6207 - val_loss: 0.9388 - val_accuracy: 0.6658\n",
      "Epoch 14/100\n",
      "45000/45000 [==============================] - 11s 252us/step - loss: 1.0608 - accuracy: 0.6301 - val_loss: 0.9528 - val_accuracy: 0.6616\n",
      "Epoch 15/100\n",
      "45000/45000 [==============================] - 11s 253us/step - loss: 1.0498 - accuracy: 0.6349 - val_loss: 0.9798 - val_accuracy: 0.6464\n",
      "Epoch 16/100\n",
      "45000/45000 [==============================] - 11s 252us/step - loss: 1.0330 - accuracy: 0.6402 - val_loss: 0.9031 - val_accuracy: 0.6802\n",
      "Epoch 17/100\n",
      "45000/45000 [==============================] - 11s 253us/step - loss: 1.0169 - accuracy: 0.6451 - val_loss: 0.8809 - val_accuracy: 0.6892\n",
      "Epoch 18/100\n",
      "45000/45000 [==============================] - 11s 251us/step - loss: 1.0021 - accuracy: 0.6515 - val_loss: 0.8677 - val_accuracy: 0.6890\n",
      "Epoch 19/100\n",
      "45000/45000 [==============================] - 11s 253us/step - loss: 0.9941 - accuracy: 0.6535 - val_loss: 0.9233 - val_accuracy: 0.6784\n",
      "Epoch 20/100\n",
      "45000/45000 [==============================] - 11s 253us/step - loss: 0.9803 - accuracy: 0.6602 - val_loss: 0.9091 - val_accuracy: 0.6846\n",
      "Epoch 21/100\n",
      "45000/45000 [==============================] - 11s 254us/step - loss: 0.9624 - accuracy: 0.6651 - val_loss: 0.8695 - val_accuracy: 0.6910\n",
      "Epoch 22/100\n",
      "45000/45000 [==============================] - 11s 254us/step - loss: 0.9504 - accuracy: 0.6732 - val_loss: 0.8551 - val_accuracy: 0.7062\n",
      "Epoch 23/100\n",
      "45000/45000 [==============================] - 11s 255us/step - loss: 0.9426 - accuracy: 0.6724 - val_loss: 0.8999 - val_accuracy: 0.6850\n",
      "Epoch 24/100\n",
      "45000/45000 [==============================] - 12s 256us/step - loss: 0.9309 - accuracy: 0.6779 - val_loss: 0.8538 - val_accuracy: 0.7004\n",
      "Epoch 25/100\n",
      "45000/45000 [==============================] - 12s 257us/step - loss: 0.9235 - accuracy: 0.6820 - val_loss: 0.8479 - val_accuracy: 0.6958\n",
      "Epoch 26/100\n",
      "45000/45000 [==============================] - 12s 258us/step - loss: 0.9096 - accuracy: 0.6863 - val_loss: 0.8377 - val_accuracy: 0.7078\n",
      "Epoch 27/100\n",
      "45000/45000 [==============================] - 12s 258us/step - loss: 0.9054 - accuracy: 0.6893 - val_loss: 0.8670 - val_accuracy: 0.6984\n",
      "Epoch 28/100\n",
      "45000/45000 [==============================] - 12s 258us/step - loss: 0.8985 - accuracy: 0.6914 - val_loss: 0.8382 - val_accuracy: 0.7058\n",
      "Epoch 29/100\n",
      "45000/45000 [==============================] - 12s 258us/step - loss: 0.8882 - accuracy: 0.6935 - val_loss: 0.8184 - val_accuracy: 0.7108\n",
      "Epoch 30/100\n",
      "45000/45000 [==============================] - 12s 259us/step - loss: 0.8800 - accuracy: 0.6948 - val_loss: 0.8350 - val_accuracy: 0.7152\n",
      "Epoch 31/100\n",
      "45000/45000 [==============================] - 12s 257us/step - loss: 0.8766 - accuracy: 0.6972 - val_loss: 0.7980 - val_accuracy: 0.7180\n",
      "Epoch 32/100\n",
      "45000/45000 [==============================] - 12s 258us/step - loss: 0.8627 - accuracy: 0.7040 - val_loss: 0.8039 - val_accuracy: 0.7252\n",
      "Epoch 33/100\n",
      "45000/45000 [==============================] - 12s 259us/step - loss: 0.8494 - accuracy: 0.7071 - val_loss: 0.8122 - val_accuracy: 0.7208\n",
      "Epoch 34/100\n",
      "45000/45000 [==============================] - 12s 259us/step - loss: 0.8445 - accuracy: 0.7087 - val_loss: 0.8521 - val_accuracy: 0.7022\n",
      "Epoch 35/100\n",
      "45000/45000 [==============================] - 12s 259us/step - loss: 0.8391 - accuracy: 0.7100 - val_loss: 0.8070 - val_accuracy: 0.7174\n",
      "Epoch 36/100\n",
      "45000/45000 [==============================] - 12s 259us/step - loss: 0.8349 - accuracy: 0.7113 - val_loss: 0.8013 - val_accuracy: 0.7166\n",
      "Epoch 37/100\n",
      "45000/45000 [==============================] - 12s 259us/step - loss: 0.8225 - accuracy: 0.7169 - val_loss: 0.7790 - val_accuracy: 0.7318\n",
      "Epoch 38/100\n",
      "45000/45000 [==============================] - 12s 259us/step - loss: 0.8163 - accuracy: 0.7183 - val_loss: 0.7811 - val_accuracy: 0.7274\n",
      "Epoch 39/100\n",
      "45000/45000 [==============================] - 12s 259us/step - loss: 0.8126 - accuracy: 0.7216 - val_loss: 0.8299 - val_accuracy: 0.7132\n",
      "Epoch 40/100\n",
      "45000/45000 [==============================] - 12s 259us/step - loss: 0.8077 - accuracy: 0.7197 - val_loss: 0.7671 - val_accuracy: 0.7300\n",
      "Epoch 41/100\n",
      "45000/45000 [==============================] - 12s 259us/step - loss: 0.7982 - accuracy: 0.7248 - val_loss: 0.7825 - val_accuracy: 0.7232\n",
      "Epoch 42/100\n",
      "45000/45000 [==============================] - 12s 260us/step - loss: 0.7887 - accuracy: 0.7293 - val_loss: 0.7880 - val_accuracy: 0.7312\n",
      "Epoch 43/100\n",
      "45000/45000 [==============================] - 12s 259us/step - loss: 0.7874 - accuracy: 0.7274 - val_loss: 0.7443 - val_accuracy: 0.7400\n",
      "Epoch 44/100\n",
      "45000/45000 [==============================] - 12s 259us/step - loss: 0.7809 - accuracy: 0.7318 - val_loss: 0.7466 - val_accuracy: 0.7410\n",
      "Epoch 45/100\n",
      "45000/45000 [==============================] - 12s 259us/step - loss: 0.7773 - accuracy: 0.7320 - val_loss: 0.7910 - val_accuracy: 0.7258\n",
      "Epoch 46/100\n",
      "45000/45000 [==============================] - 12s 260us/step - loss: 0.7684 - accuracy: 0.7374 - val_loss: 0.7640 - val_accuracy: 0.7360\n",
      "Epoch 47/100\n",
      "45000/45000 [==============================] - 12s 260us/step - loss: 0.7623 - accuracy: 0.7378 - val_loss: 0.7731 - val_accuracy: 0.7356\n",
      "Epoch 48/100\n",
      "45000/45000 [==============================] - 12s 259us/step - loss: 0.7531 - accuracy: 0.7405 - val_loss: 0.7595 - val_accuracy: 0.7372\n",
      "Epoch 49/100\n",
      "45000/45000 [==============================] - 12s 260us/step - loss: 0.7484 - accuracy: 0.7430 - val_loss: 0.8277 - val_accuracy: 0.7146\n",
      "Epoch 50/100\n",
      "45000/45000 [==============================] - 12s 259us/step - loss: 0.7407 - accuracy: 0.7475 - val_loss: 0.7433 - val_accuracy: 0.7388\n",
      "Epoch 51/100\n",
      "45000/45000 [==============================] - 12s 259us/step - loss: 0.7404 - accuracy: 0.7434 - val_loss: 0.7584 - val_accuracy: 0.7374\n",
      "Epoch 52/100\n",
      "45000/45000 [==============================] - 12s 259us/step - loss: 0.7338 - accuracy: 0.7480 - val_loss: 0.7298 - val_accuracy: 0.7524\n",
      "Epoch 53/100\n",
      "45000/45000 [==============================] - 11s 253us/step - loss: 0.7298 - accuracy: 0.7484 - val_loss: 0.7462 - val_accuracy: 0.7414\n",
      "Epoch 54/100\n",
      "45000/45000 [==============================] - 11s 254us/step - loss: 0.7224 - accuracy: 0.7501 - val_loss: 0.7298 - val_accuracy: 0.7466\n",
      "Epoch 55/100\n",
      "45000/45000 [==============================] - 11s 254us/step - loss: 0.7229 - accuracy: 0.7497 - val_loss: 0.7325 - val_accuracy: 0.7462\n",
      "Epoch 56/100\n",
      "45000/45000 [==============================] - 11s 255us/step - loss: 0.7086 - accuracy: 0.7564 - val_loss: 0.7525 - val_accuracy: 0.7412\n",
      "Epoch 57/100\n",
      "45000/45000 [==============================] - 12s 256us/step - loss: 0.7156 - accuracy: 0.7526 - val_loss: 0.7343 - val_accuracy: 0.7422\n",
      "Epoch 58/100\n",
      "45000/45000 [==============================] - 11s 255us/step - loss: 0.7010 - accuracy: 0.7572 - val_loss: 0.7155 - val_accuracy: 0.7462\n",
      "Epoch 59/100\n",
      "45000/45000 [==============================] - 11s 255us/step - loss: 0.7011 - accuracy: 0.7575 - val_loss: 0.8073 - val_accuracy: 0.7284\n",
      "Epoch 60/100\n",
      "45000/45000 [==============================] - 12s 257us/step - loss: 0.6905 - accuracy: 0.7631 - val_loss: 0.7423 - val_accuracy: 0.7438\n",
      "Epoch 61/100\n",
      "45000/45000 [==============================] - 12s 260us/step - loss: 0.6866 - accuracy: 0.7652 - val_loss: 0.7219 - val_accuracy: 0.7480\n",
      "Epoch 62/100\n",
      "45000/45000 [==============================] - 12s 261us/step - loss: 0.6855 - accuracy: 0.7637 - val_loss: 0.7470 - val_accuracy: 0.7440\n",
      "Epoch 63/100\n",
      "45000/45000 [==============================] - 12s 260us/step - loss: 0.6800 - accuracy: 0.7669 - val_loss: 0.7294 - val_accuracy: 0.7486\n",
      "Epoch 64/100\n",
      "45000/45000 [==============================] - 12s 260us/step - loss: 0.6768 - accuracy: 0.7655 - val_loss: 0.7453 - val_accuracy: 0.7404\n",
      "Epoch 65/100\n",
      "45000/45000 [==============================] - 12s 259us/step - loss: 0.6722 - accuracy: 0.7684 - val_loss: 0.7199 - val_accuracy: 0.7472\n",
      "Epoch 66/100\n",
      "45000/45000 [==============================] - 12s 261us/step - loss: 0.6663 - accuracy: 0.7698 - val_loss: 0.7332 - val_accuracy: 0.7500\n",
      "Epoch 67/100\n",
      "45000/45000 [==============================] - 12s 260us/step - loss: 0.6549 - accuracy: 0.7757 - val_loss: 0.7962 - val_accuracy: 0.7274\n",
      "Epoch 68/100\n",
      "45000/45000 [==============================] - 12s 260us/step - loss: 0.6566 - accuracy: 0.7754 - val_loss: 0.7243 - val_accuracy: 0.7522\n",
      "Epoch 69/100\n",
      "45000/45000 [==============================] - 12s 264us/step - loss: 0.6506 - accuracy: 0.7746 - val_loss: 0.7324 - val_accuracy: 0.7510\n",
      "Epoch 70/100\n",
      "45000/45000 [==============================] - 12s 261us/step - loss: 0.6472 - accuracy: 0.7782 - val_loss: 0.7172 - val_accuracy: 0.7482\n",
      "Epoch 71/100\n",
      "45000/45000 [==============================] - 12s 261us/step - loss: 0.6453 - accuracy: 0.7788 - val_loss: 0.7559 - val_accuracy: 0.7470\n",
      "Epoch 72/100\n",
      "45000/45000 [==============================] - 12s 262us/step - loss: 0.6393 - accuracy: 0.7794 - val_loss: 0.7430 - val_accuracy: 0.7500\n",
      "Epoch 73/100\n",
      "45000/45000 [==============================] - 12s 262us/step - loss: 0.6392 - accuracy: 0.7803 - val_loss: 0.7477 - val_accuracy: 0.7450\n",
      "Epoch 74/100\n",
      "45000/45000 [==============================] - 12s 262us/step - loss: 0.6347 - accuracy: 0.7809 - val_loss: 0.7504 - val_accuracy: 0.7412\n",
      "Epoch 75/100\n",
      "45000/45000 [==============================] - 12s 262us/step - loss: 0.6251 - accuracy: 0.7861 - val_loss: 0.7125 - val_accuracy: 0.7556\n",
      "Epoch 76/100\n",
      "45000/45000 [==============================] - 12s 263us/step - loss: 0.6180 - accuracy: 0.7858 - val_loss: 0.7191 - val_accuracy: 0.7492\n",
      "Epoch 77/100\n",
      "45000/45000 [==============================] - 12s 262us/step - loss: 0.6178 - accuracy: 0.7880 - val_loss: 0.7496 - val_accuracy: 0.7436\n",
      "Epoch 78/100\n",
      "45000/45000 [==============================] - 12s 263us/step - loss: 0.6104 - accuracy: 0.7898 - val_loss: 0.7184 - val_accuracy: 0.7522\n",
      "Epoch 79/100\n",
      "45000/45000 [==============================] - 12s 263us/step - loss: 0.6120 - accuracy: 0.7891 - val_loss: 0.7072 - val_accuracy: 0.7604\n",
      "Epoch 80/100\n",
      "45000/45000 [==============================] - 12s 262us/step - loss: 0.6103 - accuracy: 0.7903 - val_loss: 0.7051 - val_accuracy: 0.7586\n",
      "Epoch 81/100\n",
      "45000/45000 [==============================] - 12s 263us/step - loss: 0.5993 - accuracy: 0.7933 - val_loss: 0.8122 - val_accuracy: 0.7288\n",
      "Epoch 82/100\n",
      "45000/45000 [==============================] - 12s 262us/step - loss: 0.5985 - accuracy: 0.7925 - val_loss: 0.7362 - val_accuracy: 0.7516\n",
      "Epoch 83/100\n",
      "45000/45000 [==============================] - 12s 262us/step - loss: 0.5975 - accuracy: 0.7932 - val_loss: 0.7154 - val_accuracy: 0.7488\n",
      "Epoch 84/100\n",
      "45000/45000 [==============================] - 12s 262us/step - loss: 0.5870 - accuracy: 0.7991 - val_loss: 0.7294 - val_accuracy: 0.7546\n",
      "Epoch 85/100\n",
      "45000/45000 [==============================] - 12s 262us/step - loss: 0.5870 - accuracy: 0.7968 - val_loss: 0.7069 - val_accuracy: 0.7630\n",
      "Epoch 86/100\n",
      "45000/45000 [==============================] - 12s 263us/step - loss: 0.5802 - accuracy: 0.8003 - val_loss: 0.7000 - val_accuracy: 0.7550\n",
      "Epoch 87/100\n",
      "45000/45000 [==============================] - 12s 263us/step - loss: 0.5773 - accuracy: 0.8020 - val_loss: 0.7072 - val_accuracy: 0.7596\n",
      "Epoch 88/100\n",
      "45000/45000 [==============================] - 12s 262us/step - loss: 0.5752 - accuracy: 0.8031 - val_loss: 0.7225 - val_accuracy: 0.7538\n",
      "Epoch 89/100\n",
      "45000/45000 [==============================] - 12s 262us/step - loss: 0.5709 - accuracy: 0.8044 - val_loss: 0.7064 - val_accuracy: 0.7580\n",
      "Epoch 90/100\n",
      "45000/45000 [==============================] - 12s 264us/step - loss: 0.5693 - accuracy: 0.8034 - val_loss: 0.7153 - val_accuracy: 0.7618\n",
      "Epoch 91/100\n",
      "45000/45000 [==============================] - 12s 264us/step - loss: 0.5645 - accuracy: 0.8044 - val_loss: 0.7094 - val_accuracy: 0.7588\n",
      "Epoch 92/100\n",
      "45000/45000 [==============================] - 12s 262us/step - loss: 0.5571 - accuracy: 0.8060 - val_loss: 0.7476 - val_accuracy: 0.7504\n",
      "Epoch 93/100\n",
      "45000/45000 [==============================] - 12s 265us/step - loss: 0.5542 - accuracy: 0.8076 - val_loss: 0.7172 - val_accuracy: 0.7600\n",
      "Epoch 94/100\n",
      "45000/45000 [==============================] - 12s 262us/step - loss: 0.5486 - accuracy: 0.8114 - val_loss: 0.7139 - val_accuracy: 0.7608\n",
      "Epoch 95/100\n",
      "45000/45000 [==============================] - 12s 262us/step - loss: 0.5487 - accuracy: 0.8097 - val_loss: 0.7308 - val_accuracy: 0.7558\n",
      "Epoch 96/100\n",
      "45000/45000 [==============================] - 12s 263us/step - loss: 0.5468 - accuracy: 0.8128 - val_loss: 0.7014 - val_accuracy: 0.7724\n",
      "Epoch 97/100\n",
      "45000/45000 [==============================] - 12s 263us/step - loss: 0.5464 - accuracy: 0.8100 - val_loss: 0.7008 - val_accuracy: 0.7602\n",
      "Epoch 98/100\n",
      "45000/45000 [==============================] - 12s 262us/step - loss: 0.5382 - accuracy: 0.8150 - val_loss: 0.6999 - val_accuracy: 0.7638\n",
      "Epoch 99/100\n",
      "45000/45000 [==============================] - 12s 262us/step - loss: 0.5344 - accuracy: 0.8133 - val_loss: 0.6842 - val_accuracy: 0.7664\n",
      "Epoch 100/100\n",
      "45000/45000 [==============================] - 12s 263us/step - loss: 0.5281 - accuracy: 0.8182 - val_loss: 0.7285 - val_accuracy: 0.7554\n"
     ]
    }
   ],
   "source": [
    "#10 % of the training data will be used to validate the training\n",
    "validation_portion = 0.1\n",
    "batch_size=128\n",
    "num_epochs = 100\n",
    "\n",
    "history = cifar10_model.fit(x=train_x, y=train_y, epochs=num_epochs, batch_size=batch_size, \\\n",
    "                            validation_split=validation_portion, shuffle=True, verbose=1)"
   ]
  },
  {
   "cell_type": "markdown",
   "metadata": {},
   "source": [
    "<font size=5 color=\"blue\">\n",
    "Graph of cost functions as a function of epoch"
   ]
  },
  {
   "cell_type": "code",
   "execution_count": 37,
   "metadata": {
    "ExecuteTime": {
     "end_time": "2020-12-02T14:02:26.063106Z",
     "start_time": "2020-12-02T14:02:25.904833Z"
    },
    "scrolled": false
   },
   "outputs": [
    {
     "data": {
      "image/png": "[encoded data removed]",
      "text/plain": [
       "<Figure size 432x288 with 1 Axes>"
      ]
     },
     "metadata": {
      "needs_background": "light"
     },
     "output_type": "display_data"
    }
   ],
   "source": [
    "plt.plot(history.history['loss'])\n",
    "plt.plot(history.history['val_loss'])\n",
    "plt.title('Lr = 0.01, FF_Dropout: Inp = 0.30, hl_1 = 0.30, hl_2 = 0.30')\n",
    "plt.ylabel('Cost')\n",
    "plt.xlabel('Epoch')\n",
    "plt.legend(['Train', 'Validation'], loc='upper right')\n",
    "plt.show()"
   ]
  },
  {
   "cell_type": "markdown",
   "metadata": {},
   "source": [
    "<font size=5 color=\"blue\">\n",
    "Graph of accuracy functions as a function of epoch"
   ]
  },
  {
   "cell_type": "code",
   "execution_count": 38,
   "metadata": {
    "ExecuteTime": {
     "end_time": "2020-12-02T14:02:26.226520Z",
     "start_time": "2020-12-02T14:02:26.065232Z"
    },
    "scrolled": true
   },
   "outputs": [
    {
     "data": {
      "image/png": "[encoded data removed]",
      "text/plain": [
       "<Figure size 432x288 with 1 Axes>"
      ]
     },
     "metadata": {
      "needs_background": "light"
     },
     "output_type": "display_data"
    }
   ],
   "source": [
    "plt.plot(history.history['accuracy'])\n",
    "plt.plot(history.history['val_accuracy'])\n",
    "plt.title('Lr = 0.01, FF_Dropout: Inp = 0.30, hl1 = 0.30, hl2 = 0.30, \\n Acc=0.0.7570')\n",
    "plt.ylabel('Accuracy')\n",
    "plt.xlabel('Epoch')\n",
    "plt.legend(['Train', 'Validation'], loc='lower right')\n",
    "plt.show()"
   ]
  },
  {
   "cell_type": "markdown",
   "metadata": {},
   "source": [
    "<font size = 5 color='blue'>\n",
    "Loss and accuracy evaluation"
   ]
  },
  {
   "cell_type": "markdown",
   "metadata": {},
   "source": [
    "<font size= 4 color='black'>    \n",
    "After training the network, the loss and accuracy functions are evaluated using the test samples (test_x, test_y).    \n",
    "\n",
    "    \n",
    "[Method evaluate in Keras](https://keras.io/models/model/)"
   ]
  },
  {
   "cell_type": "code",
   "execution_count": 39,
   "metadata": {
    "ExecuteTime": {
     "end_time": "2020-12-02T14:02:27.892978Z",
     "start_time": "2020-12-02T14:02:26.228187Z"
    }
   },
   "outputs": [
    {
     "name": "stdout",
     "output_type": "stream",
     "text": [
      "10000/10000 [==============================] - 2s 166us/step\n",
      "Loss = 0.7596134796142578\n",
      "Test Accuracy = 0.7440999746322632\n"
     ]
    }
   ],
   "source": [
    "evaluations = cifar10_model.evaluate(x = test_x, y = test_y)\n",
    "\n",
    "print (\"Loss = \" + str(evaluations[0]))\n",
    "print (\"Test Accuracy = \" + str(evaluations[1]))\n"
   ]
  },
  {
   "cell_type": "code",
   "execution_count": 40,
   "metadata": {
    "ExecuteTime": {
     "end_time": "2020-12-02T14:02:27.933621Z",
     "start_time": "2020-12-02T14:02:27.894977Z"
    }
   },
   "outputs": [
    {
     "name": "stdout",
     "output_type": "stream",
     "text": [
      "100/100 [==============================] - 0s 299us/step\n",
      "Loss = 0.6344120305776596\n",
      "Test Accuracy = 0.800000011920929\n"
     ]
    }
   ],
   "source": [
    "# Evaluation using the first 100 samples of the test set\n",
    "\n",
    "evaluations = cifar10_model.evaluate(x = test_x[:100], y = test_y[:100])\n",
    "\n",
    "print (\"Loss = \" + str(evaluations[0]))\n",
    "print (\"Test Accuracy = \" + str(evaluations[1]))\n"
   ]
  },
  {
   "cell_type": "markdown",
   "metadata": {},
   "source": [
    "<font size = 5 color='blue'>\n",
    "Image prediction"
   ]
  },
  {
   "cell_type": "markdown",
   "metadata": {},
   "source": [
    "<font size= 4 color='black'>    \n",
    "The trained learning system can predict the object content of an image. For example, we take an image of the test dataset (test_x, test_y). \n",
    "    \n",
    "[Method predict in Keras](https://keras.io/models/model/)"
   ]
  },
  {
   "cell_type": "code",
   "execution_count": 41,
   "metadata": {
    "ExecuteTime": {
     "end_time": "2020-12-02T14:02:30.051605Z",
     "start_time": "2020-12-02T14:02:27.936070Z"
    }
   },
   "outputs": [],
   "source": [
    "# Predicting the image associated to the each sample in the test set (X_test)\n",
    "predictions = cifar10_model.predict(test_x)"
   ]
  },
  {
   "cell_type": "code",
   "execution_count": 42,
   "metadata": {
    "ExecuteTime": {
     "end_time": "2020-12-02T14:02:30.063337Z",
     "start_time": "2020-12-02T14:02:30.056522Z"
    }
   },
   "outputs": [],
   "source": [
    "sample = 31"
   ]
  },
  {
   "cell_type": "markdown",
   "metadata": {},
   "source": [
    "<font size=4 color=\"black\"> \n",
    "Displaying the image associated (not predicted!) to this sample."
   ]
  },
  {
   "cell_type": "code",
   "execution_count": 43,
   "metadata": {
    "ExecuteTime": {
     "end_time": "2020-12-02T14:02:30.196680Z",
     "start_time": "2020-12-02T14:02:30.067819Z"
    }
   },
   "outputs": [
    {
     "name": "stdout",
     "output_type": "stream",
     "text": [
      "the sample 31 corresponds to a dog\n"
     ]
    },
    {
     "data": {
      "image/png": "[encoded data removed]",
      "text/plain": [
       "<Figure size 432x288 with 1 Axes>"
      ]
     },
     "metadata": {
      "needs_background": "light"
     },
     "output_type": "display_data"
    }
   ],
   "source": [
    "\n",
    "plt.imshow(test_x[sample].reshape((32, 32, 3)))\n",
    "\n",
    "print('the sample', sample, 'corresponds to a', dic[int(np.argmax(test_y[sample]))])\n"
   ]
  },
  {
   "cell_type": "code",
   "execution_count": 44,
   "metadata": {
    "ExecuteTime": {
     "end_time": "2020-12-02T14:02:30.204327Z",
     "start_time": "2020-12-02T14:02:30.199041Z"
    }
   },
   "outputs": [
    {
     "name": "stdout",
     "output_type": "stream",
     "text": [
      "For the sample number 31 the prediction is a(n) dog\n"
     ]
    }
   ],
   "source": [
    "# Predicting the image associated to the sample \n",
    "# np.argmax returns the index of the maximum value\n",
    "\n",
    "prediction = np.argmax(predictions[sample])\n",
    "\n",
    "print('For the sample number', sample, 'the prediction is a(n)', dic[prediction])"
   ]
  },
  {
   "cell_type": "markdown",
   "metadata": {},
   "source": [
    "<font size = 4 color=\"black\">\n",
    "    \n",
    "The next function finds the number of samples where the network made an incorrect prediction in a region of the test dataset. For example, in the first 40 samples from this dataset."
   ]
  },
  {
   "cell_type": "code",
   "execution_count": null,
   "metadata": {
    "ExecuteTime": {
     "start_time": "2020-12-02T13:42:54.386Z"
    }
   },
   "outputs": [],
   "source": [
    "\n",
    "mislabeled_images = []\n",
    "\n",
    "for i in range(len(test_x[:50])):\n",
    "    \n",
    "    if np.argmax(cifar10_model.predict(test_x)[i]) != np.argmax(test_y[i]):\n",
    "        \n",
    "        mislabeled_images.append(i)\n",
    " \n",
    "\n",
    "\n",
    "mislabeled_images"
   ]
  },
  {
   "cell_type": "markdown",
   "metadata": {},
   "source": [
    "<font size=4 color='black'>\n",
    "    \n",
    "[Runs summary](Clase-10_figures.odt)"
   ]
  },
  {
   "cell_type": "code",
   "execution_count": null,
   "metadata": {},
   "outputs": [],
   "source": []
  }
 ],
 "metadata": {
  "kernelspec": {
   "display_name": "Python 3",
   "language": "python",
   "name": "python3"
  },
  "language_info": {
   "codemirror_mode": {
    "name": "ipython",
    "version": 3
   },
   "file_extension": ".py",
   "mimetype": "text/x-python",
   "name": "python",
   "nbconvert_exporter": "python",
   "pygments_lexer": "ipython3",
   "version": "3.7.0"
  }
 },
 "nbformat": 4,
 "nbformat_minor": 2
}
