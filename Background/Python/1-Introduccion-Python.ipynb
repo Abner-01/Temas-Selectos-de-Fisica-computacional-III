{
 "cells": [
  {
   "cell_type": "markdown",
   "metadata": {},
   "source": [
    "<font size=4 color='royalblue'>\n",
    "    \n",
    "## Lenguaje de Programación Python. \n",
    "\n",
    "> ### Introducción al Lenguaje de Programación Python. "
   ]
  },
  {
   "cell_type": "markdown",
   "metadata": {},
   "source": [
    "<font size=4>\n",
    "    \n",
    " En el presente notebook se abordaran los siguientes temas:\n",
    " \n",
    "1. Características del lenguaje de programación Python. \n",
    "\n",
    "\n",
    "2. Tipos de objetos Python.\n",
    "\n",
    "\n",
    "3. Operaciones matemáticas, lógicas y relacionales. \n",
    "\n",
    "\n",
    "4. Entrada y salida de datos.\n",
    "\n",
    "\n",
    "5. Secuencias: Listas, tuplas y cadenas.\n",
    "\n",
    "\n",
    "6. Diccionarios\n",
    "\n",
    "Con los cuales se podra tener un manejo fluido con los principales objetos de python. \n",
    "\n",
    "Con lo aprendido en este nb tendras las herramientas básicas para programar con Python. \n",
    " \n",
    "\n",
    "___"
   ]
  },
  {
   "cell_type": "markdown",
   "metadata": {},
   "source": [
    "<font size=4 color='royalblue'>\n",
    "\n",
    " # 1. Características del lenguaje de programación Python."
   ]
  },
  {
   "cell_type": "markdown",
   "metadata": {},
   "source": [
    "<font size=4 color='rosybrown'>\n",
    "\n",
    "> **Los lenguajes de programación son lenguajes formales que se diseñaron para expresar cálculos.**"
   ]
  },
  {
   "cell_type": "markdown",
   "metadata": {},
   "source": [
    "<font size=4>\n",
    "    \n",
    "Los lenguajes formales son diseñados por las personas para aplicaciones específicas, por ejemplo, la notación matemática, la notación química, etc. \n",
    "    \n",
    "Los lenguajes formales tienden a tener reglas estrictas sobre la sintaxis. \n",
    "\n",
    "    \n",
    "Los lenguajes de programación tienen una sintaxis particular compuesta por palabras en inglés."
   ]
  },
  {
   "cell_type": "markdown",
   "metadata": {},
   "source": [
    "<font size=4 color='rosybrown'>\n",
    "    \n",
    "> **Python es un lenguaje de programación de alto nivel.**"
   ]
  },
  {
   "cell_type": "markdown",
   "metadata": {},
   "source": [
    "<font size=4>\n",
    "    \n",
    "Los lenguajes de alto nivel son aquellos que tienen que ser procesados antes de que puedan ejecutarse. \n",
    "    \n",
    "A continuación se mencionan algunas características de los lenguajes de alto nivel:\n",
    "    \n",
    "   1. Son más faciles de programar.\n",
    "   \n",
    "    \n",
    "   2. Toma menos tiempo escribirlos.\n",
    "   \n",
    "    \n",
    "   3. Son mas cortos y faciles de leer.\n",
    "   \n",
    "    \n",
    "   4. Son portables (se pueden ejecutar en diferentes tipos de computadoras con pocas o ninguna modificación).\n",
    "   \n",
    "    \n",
    "Cuando se procesa un lenguaje de alto nivel, se convierte en un lenguaje de bajo nivel, que son los lenguajes que las computadoras pueden entender y ejecutar.   "
   ]
  },
  {
   "cell_type": "markdown",
   "metadata": {},
   "source": [
    "<font size=4 color='rosybrown'>\n",
    "    \n",
    "> **Python es un lenguaje de programación orientado a objetos.**"
   ]
  },
  {
   "cell_type": "markdown",
   "metadata": {},
   "source": [
    "<font size=4 >\n",
    "\n",
    " Todo en Python es un objeto. Cada objeto tiene una serie de atributos (que indicarán su estado) y de métodos (que marcarán su comportamiento).\n",
    " \n",
    " *NOTA: En otro notebook se verá con mas detalle su uso.*"
   ]
  },
  {
   "cell_type": "markdown",
   "metadata": {},
   "source": [
    "___"
   ]
  },
  {
   "cell_type": "markdown",
   "metadata": {},
   "source": [
    "<font size=4 >\n",
    "\n",
    "**Lo que necesitas recordar:**\n",
    "    \n",
    "  * Ejecute sus celdas usando SHIFT+ENTER (o usando el botón \"run cell\")"
   ]
  },
  {
   "cell_type": "markdown",
   "metadata": {},
   "source": [
    "___"
   ]
  },
  {
   "cell_type": "markdown",
   "metadata": {},
   "source": [
    "<font size=4 color='royalblue'>\n",
    "\n",
    "# 2. Tipos de objetos Python. "
   ]
  },
  {
   "cell_type": "markdown",
   "metadata": {},
   "source": [
    "<font size=4>\n",
    "\n",
    "En Python se tienen diferentes tipos de objetos, a continuación se mencionan los más útiles:\n",
    "    \n",
    "    float (números reales)\n",
    "    \n",
    "    integer (números enteros)\n",
    "    \n",
    "    boolean (almacena valores verdaderos o falsos)\n",
    "    \n",
    "    string (secuencia de caracteres)\n",
    "    \n",
    "    list (secuencia de objetos)\n",
    "    \n",
    "    tuple (secuencia inmutable de objetos)\n",
    "    \n",
    "    dict (diccionario)\n",
    "    \n",
    "    \n",
    "Una *variable* es un nombre que se le asigna a un objeto. \n",
    "    \n",
    "Para conocer el  tipo de objeto de una variable se usa la función `type( )`.   \n",
    "    \n",
    "   "
   ]
  },
  {
   "cell_type": "markdown",
   "metadata": {},
   "source": [
    "<font size=4 color='cornflowerblue'>\n",
    "    \n",
    "**NOTA**\n",
    "    \n",
    "El simbolo `=` se usa para asignar un valor a una variable, no para indicar igualdad. \n",
    "    \n",
    "Para indicar que dos variables son iguales se usa el símbolo `==` y para indicar que son diferentes se usa el símbolo `!=`.\n"
   ]
  },
  {
   "cell_type": "markdown",
   "metadata": {},
   "source": [
    "<font size=4>\n",
    "\n",
    "**Ejemplo** \n",
    "    \n",
    "    \n",
    "  A continuación se asigna el valor 13.0 a la variable `float_example`:"
   ]
  },
  {
   "cell_type": "code",
   "execution_count": null,
   "metadata": {
    "scrolled": true
   },
   "outputs": [],
   "source": [
    "float_example = 13.0\n",
    "\n",
    "# variable = valor"
   ]
  },
  {
   "cell_type": "code",
   "execution_count": null,
   "metadata": {},
   "outputs": [],
   "source": [
    "x = 'hola'\n",
    "\n",
    "type(x)\n",
    "\n",
    "# de qué tipo es la variable x"
   ]
  },
  {
   "cell_type": "markdown",
   "metadata": {},
   "source": [
    "<font size=4>\n",
    "\n",
    "Para imprimir en pantalla el valor de una variable, hay dos formas de hacerlo:\n",
    "    \n",
    "   1. Llamar a la variable con su nombre\n",
    "   \n",
    "    \n",
    "   2. Llamarlo con la función  `print( )`."
   ]
  },
  {
   "cell_type": "code",
   "execution_count": null,
   "metadata": {},
   "outputs": [],
   "source": [
    "# 1. Llamarlo por su nombre:\n",
    "\n",
    "float_example"
   ]
  },
  {
   "cell_type": "code",
   "execution_count": null,
   "metadata": {},
   "outputs": [],
   "source": [
    "# 2. Llamarlo con la función print()\n",
    "\n",
    "print(float_example)"
   ]
  },
  {
   "cell_type": "markdown",
   "metadata": {},
   "source": [
    "<font size=4>\n",
    "\n",
    "Para conocer el tipo de objeto, usamos la función `type( )`:"
   ]
  },
  {
   "cell_type": "code",
   "execution_count": null,
   "metadata": {},
   "outputs": [],
   "source": [
    "type(float_example)"
   ]
  },
  {
   "cell_type": "markdown",
   "metadata": {},
   "source": [
    "<font size=4>\n",
    "\n",
    "La función `type( )` con el argumento float_example regresa el tipo *float*, es decir, nos indica que la variable float_example es de tipo float (real)."
   ]
  },
  {
   "cell_type": "markdown",
   "metadata": {},
   "source": [
    "<font size=4 color='skyblue'>\n",
    "\n",
    "    \n",
    "**Ejercicio** \n",
    "    \n",
    "<font color='b'>\n",
    "    \n",
    "  Asigna el valor 13 a la variable `integer_example` y determina el tipo de objeto que es usando la función `type( )`."
   ]
  },
  {
   "cell_type": "code",
   "execution_count": null,
   "metadata": {},
   "outputs": [],
   "source": [
    "# Escribe el codigo aquí\n"
   ]
  },
  {
   "cell_type": "markdown",
   "metadata": {},
   "source": [
    "<font size=4>\n",
    "    \n",
    "Observa que en programación 13.0 y 13 son objetos de distinto tipo. \n",
    "    \n",
    " 13.0 es de tipo `float` mientras que 13 es de tipo `int` (integer)."
   ]
  },
  {
   "cell_type": "code",
   "execution_count": null,
   "metadata": {},
   "outputs": [],
   "source": [
    "type(float_example) == type(13)"
   ]
  },
  {
   "cell_type": "markdown",
   "metadata": {},
   "source": [
    "___"
   ]
  },
  {
   "cell_type": "markdown",
   "metadata": {},
   "source": [
    "<font size=4 color='royalblue'>\n",
    "\n",
    "# 3.Operaciones matemáticas, lógicas y relacionales."
   ]
  },
  {
   "cell_type": "markdown",
   "metadata": {},
   "source": [
    "<font size=4 color='rosybrown'>\n",
    "    \n",
    "> ## 3.1 Operaciones matemáticas.\n",
    "    \n",
    "<font color='black'>    \n",
    "    \n",
    " En la siguiente tabla se indica el símbolo utilizado para las operaciones matematicas básicas.\n",
    " \n",
    " \n",
    "    \n",
    "| operacion | símbolo |\n",
    "| --- | --- |\n",
    "| suma | + |\n",
    "| resta | - |\n",
    "|multiplicación | * |\n",
    "| división | /, // |\n",
    "| exponenciación | ** |\n",
    "| modulo | % | \n",
    "    \n",
    "    \n",
    " **Ejemplo:**"
   ]
  },
  {
   "cell_type": "code",
   "execution_count": null,
   "metadata": {},
   "outputs": [],
   "source": [
    "# se definen la variables x y y:\n",
    "\n",
    "x = 11\n",
    "y = 2\n",
    "\n",
    "# Se realizan operaciones entre x y y:\n",
    "\n",
    "suma = x+y\n",
    "resta = x-y\n",
    "multiplicacion = x*y\n",
    "division_real = x/y\n",
    "division_entera = x//y\n",
    "exponente = x**y\n",
    "modulo = x%y\n",
    "\n",
    "# Se imprimen los resultados de las operaciones anteriores:\n",
    "\n",
    "print(x, '+', y, '=', suma, '\\n', \n",
    "      x, '-', y, '=', resta, '\\n',\n",
    "      x, '*', y, '=', multiplicacion, '\\n',\n",
    "      x, '/', y, '=', division_real, '\\n',\n",
    "      x, '//', y, '=', division_entera, '\\n',\n",
    "      x, '**', y, '=', exponente, '\\n',\n",
    "      x, '%', y, '=', modulo)"
   ]
  },
  {
   "cell_type": "markdown",
   "metadata": {},
   "source": [
    "<font size=4>\n",
    "    \n",
    "El valor de una variable es el último valor asignado. \n",
    "\n",
    "Por ejemplo, de la celda anterior se tiene que *suma* tiene asociado el valor de 13:"
   ]
  },
  {
   "cell_type": "code",
   "execution_count": null,
   "metadata": {},
   "outputs": [],
   "source": [
    "suma"
   ]
  },
  {
   "cell_type": "markdown",
   "metadata": {},
   "source": [
    "<font size=4>\n",
    "\n",
    "Se reasigna su valor:"
   ]
  },
  {
   "cell_type": "code",
   "execution_count": null,
   "metadata": {},
   "outputs": [],
   "source": [
    "suma = 8"
   ]
  },
  {
   "cell_type": "markdown",
   "metadata": {},
   "source": [
    "<font size=4>\n",
    "Su valor ahora corresponde al último que se le asignó:"
   ]
  },
  {
   "cell_type": "code",
   "execution_count": null,
   "metadata": {},
   "outputs": [],
   "source": [
    "suma"
   ]
  },
  {
   "cell_type": "markdown",
   "metadata": {},
   "source": [
    "<font size=4 color='skyblue'>\n",
    "\n",
    "    \n",
    "**Ejercicio** \n",
    "    \n",
    "<font color='b'>\n",
    "    \n",
    "  Define a las variables `a` y `b` con los valores de -5 y 10, respectivamente. \n",
    "  \n",
    "  Realiza cada una de las operaciones matemáticas descritas anteriormente. \n",
    "  \n",
    "  Muestra los resultados en la pantalla."
   ]
  },
  {
   "cell_type": "code",
   "execution_count": null,
   "metadata": {},
   "outputs": [],
   "source": [
    "# Escribe el codigo aquí\n"
   ]
  },
  {
   "cell_type": "markdown",
   "metadata": {},
   "source": [
    "<font size=4 color='rosybrown'>\n",
    "\n",
    "> ## 3.2 Operaciones de comparación.\n",
    "\n",
    "<font color='black'>\n",
    "\n",
    "Las operaciones de comparación se realizan entre números o expresiones cuyo resultado es un número y dan como resultados valores de tipo boolean (`True` o `False`).\n",
    "\n",
    "A continuación se muestran los símbolos usados para estas operaciones. \n",
    "\n",
    "\n",
    "    \n",
    "| operador | símbolo |\n",
    "| --- | --- |\n",
    "| igual que | == |\n",
    "| distinto que | != |\n",
    "| menor que | < |\n",
    "| menor o igual que | <= |\n",
    "| mayor que | > |\n",
    "| mayor o igual que | >= |\n",
    "\n",
    "    \n",
    "**Ejemplo:**"
   ]
  },
  {
   "cell_type": "code",
   "execution_count": null,
   "metadata": {},
   "outputs": [],
   "source": [
    "#se define a las variables v1 y v2:\n",
    "\n",
    "v1 = 32\n",
    "v2 = 12\n",
    "\n",
    "# se realizan operaciones de comparación entre v1 y v2:\n",
    "\n",
    "igual = v1 == v2\n",
    "diferente = v1 != v2\n",
    "menor = v1 < v2\n",
    "menor_igual = v1 <= v2\n",
    "mayor = v1 > v2\n",
    "mayor_igual = v1 >= v2\n",
    "\n",
    "# se imprimen los resultados:\n",
    "\n",
    "print(v1, '==', v2, ':', igual, '\\n',\n",
    "      v1, '!=', v2, ':', diferente, '\\n',\n",
    "      v1, '<', v2, ':', menor, '\\n',\n",
    "      v1, '<=', v2, ':', menor_igual, '\\n',\n",
    "      v1, '>', v2, ':', mayor, '\\n',\n",
    "      v1, '>=', v2, ':', mayor_igual, '\\n',)"
   ]
  },
  {
   "cell_type": "markdown",
   "metadata": {},
   "source": [
    "<font size=4 color='skyblue'>\n",
    "\n",
    "    \n",
    "**Ejercicio** \n",
    "    \n",
    "<font color='b'>\n",
    "    \n",
    "  Define a las variables `var1` y `var2` con los valores de -103 y 41, respectivamente. \n",
    "  \n",
    "  Realiza cada una de las operaciones de comparación descritas anteriormente. \n",
    "  \n",
    "  Muestra los resultados en la pantalla."
   ]
  },
  {
   "cell_type": "code",
   "execution_count": null,
   "metadata": {},
   "outputs": [],
   "source": [
    "# Escribe el codigo aquí\n"
   ]
  },
  {
   "cell_type": "markdown",
   "metadata": {},
   "source": [
    "<font size=4>\n",
    "    \n",
    "    \n",
    " <font color='rosybrown'>\n",
    "    \n",
    "    \n",
    "    \n",
    "    \n",
    "> ## 3.3 Operadores Lógicos.\n",
    "\n",
    "<font color='black'>\n",
    "    \n",
    "   Una expresión lógica da como resultado un objeto de tipo `boolean`, es decir, indica si la expresión lógica es verdadera (`True`) o falsa (`False`).\n",
    "    \n",
    "Las operaciones logicas se realizan entre variables de tipo boolena y dan como resultado valores de tipo booleano. \n",
    "\n",
    "    \n",
    "| operador | símbolo |\n",
    "| --- | --- |\n",
    "| negación | not |\n",
    "| y | and |\n",
    "| o | or |\n",
    "    \n",
    "<font color='black'>\n",
    "    \n",
    " Para los operadores lógicos se necesita conocer las tablas de verdad de los operadores `and`, `or` y `not`.\n",
    "\n",
    "**Tablas de verdad:**\n",
    "\n",
    "Operador `and`:\n",
    "\n",
    "| a | b | a and b |\n",
    "| --- | --- | --- |\n",
    "| True | True | True |\n",
    "| True | False | False |\n",
    "| False | True | False |\n",
    "| False | False | False |\n",
    "\n",
    "Operador `or`:\n",
    "\n",
    "| a | b | a or b |\n",
    "| --- | --- | --- |\n",
    "| True | True | False|\n",
    "| True | False | False |\n",
    "| False | True | False |\n",
    "| False | False | True |\n",
    "    \n",
    "Operador `not`:\n",
    "    \n",
    "| a | not a |\n",
    "| --- | --- |\n",
    "| True | False |\n",
    "| False | True |\n",
    "   \n",
    " "
   ]
  },
  {
   "cell_type": "code",
   "execution_count": null,
   "metadata": {},
   "outputs": [],
   "source": [
    "# se definen a las variables exp1 y exp2:\n",
    "\n",
    "exp1 = True\n",
    "exp2 = False\n",
    "exp3 =  False\n",
    "\n",
    "# Se realizan operaciones entre las variables anteriores y se muestra el resultado:\n",
    "\n",
    "exp1 or (exp3 and exp2)"
   ]
  },
  {
   "cell_type": "markdown",
   "metadata": {},
   "source": [
    "<font size=4>\n",
    "    \n",
    " El orden en que se realizan las operaciones descritas se muestra en la siguiente tabla:"
   ]
  },
  {
   "cell_type": "markdown",
   "metadata": {},
   "source": [
    "<font size=4 color='rosybrown'>\n",
    "\n",
    "> ## Jerarquía de operaciones.\n",
    "\n",
    "<font color='black'>\n",
    "\n",
    "En la siguiente tabla se ordenan las operaciones de mayor a menor precedencia.\n",
    "    \n",
    "| operacion | operador |\n",
    "| --- | --- |\n",
    "| exponenciacion | ** |\n",
    "| producto, division, modulo | *, /, //, % |\n",
    "| suma, resta | +, - |\n",
    "| menor o igual que | <= |\n",
    "| relacionales | ==, !=, <, <=, >, >= |\n",
    "| logicos | not, and, or |\n",
    "\n",
    "<font color='cornflowerblue'>    \n",
    "    \n",
    "**NOTA:**\n",
    "    \n",
    "    \n",
    "La precedencia de las operaciones puede verse afectada por los (). \n",
    "    \n",
    " Cualquier operación dentro de paréntesis se realizará primero. \n",
    " \n",
    " ___"
   ]
  },
  {
   "cell_type": "markdown",
   "metadata": {},
   "source": [
    "<font size=4 color='royalblue'>\n",
    "\n",
    "# 4. Entrada y salida de datos. "
   ]
  },
  {
   "cell_type": "markdown",
   "metadata": {},
   "source": [
    "<font size=4>\n",
    "    \n",
    "En python se cuenta con la función `input()`, que permite ingresar texto escrito desde el teclado. Al llegar a la función, el programa se detiene esperando que se escriba algo y se pulse la tecla Intro.\n",
    "\n",
    "La función `input()` convierte a string la entrada de datos que recibe. \n",
    "\n",
    "**Ejemplo**"
   ]
  },
  {
   "cell_type": "code",
   "execution_count": null,
   "metadata": {},
   "outputs": [],
   "source": [
    "print(\"¿Cómo se llama?\")\n",
    "nombre = input()\n",
    "print(f\"Me alegro de conocerte, {nombre}\")"
   ]
  },
  {
   "cell_type": "markdown",
   "metadata": {},
   "source": [
    "<font size=4 color='skyblue'>\n",
    "\n",
    "    \n",
    "**Ejercicio** \n",
    "    \n",
    "<font color='b'>\n",
    "    \n",
    "Usa la función `input()` para solicitar al usuario un número. \n",
    "\n",
    "Cuando obtengas el número multiplicalo por 5 y escribe el resultado en pantalla."
   ]
  },
  {
   "cell_type": "code",
   "execution_count": null,
   "metadata": {},
   "outputs": [],
   "source": [
    "# Escribe el codigo aquí\n"
   ]
  },
  {
   "cell_type": "markdown",
   "metadata": {},
   "source": [
    "<font size=4>\n",
    "\n",
    "\n",
    "Algo que no te dije, es que la función `input()` interpreta la información que le damos como string, si queres especficar numeros podemos hacerlo cambiando el tipo de objeto. (p.e. `int(input())` devolvera un entero)"
   ]
  },
  {
   "cell_type": "markdown",
   "metadata": {},
   "source": [
    "___"
   ]
  },
  {
   "cell_type": "markdown",
   "metadata": {},
   "source": [
    "<font size=4 color='royalblue'>\n",
    "\n",
    "# 5. Secuencias: Listas, tuplas y cadenas."
   ]
  },
  {
   "cell_type": "markdown",
   "metadata": {},
   "source": [
    "<font size=4>\n",
    "\n",
    "Las secuencias son conjuntos ordenados. \n",
    "\n",
    "Hay tres tipos de secuencias en Python: `string`, `list` y `tuple`.\n",
    "\n",
    "1. `string` (cadena) es un conjunto de caracteres entre comillas, es decir, son colecciones secuenciales de caracteres (están en un orden particular de izquierda a derecha). \n",
    "    \n",
    "   `string` = 'characteres in quotes'\n",
    "    \n",
    "    \n",
    "2. `list` (lista) es una colección secuencial de objetos, donde cada valor se identifica mediante un índice. Los valores que forman a la lista se denominan elementos. Los elementos pueden ser de diferentes tipos.\n",
    "    \n",
    "   `list` = [comma separated elements]\n",
    "    \n",
    "    \n",
    "3. `tuple` (tupla) es una secuencia de elementos de cualquier tipo. La tupla es inmutable (su contenido no se puede cambiar después de crear la tupla).\n",
    "    \n",
    "    `tuple` = (comma separated elements)\n",
    "        \n",
    "    \n",
    "    \n",
    "Para conocer el número de elementos en una secuencia se usa la función `len( )`."
   ]
  },
  {
   "cell_type": "markdown",
   "metadata": {},
   "source": [
    "<font color='rosybrown' size =4>\n",
    "    \n",
    "> ## 5.1 String.\n"
   ]
  },
  {
   "cell_type": "markdown",
   "metadata": {},
   "source": [
    "    \n",
    "<font color='b' size=4>\n",
    "    \n",
    " Para definir a una cadena, los caracteres a formarla se deben escribir entre comillas. \n",
    "    \n",
    "  Las comillas pueden ser simples o dobles:"
   ]
  },
  {
   "cell_type": "code",
   "execution_count": null,
   "metadata": {},
   "outputs": [],
   "source": [
    "cadena = 'hombros de gigantes'\n",
    "\n",
    "s = \"'no se puede ser feliz por siempre', exclamó\"\n",
    "\n",
    "# Las comillas dobles permiten que la cadena contenga en sí misma comillas. "
   ]
  },
  {
   "cell_type": "markdown",
   "metadata": {},
   "source": [
    "    \n",
    "<font color='b' size=4>\n",
    "    \n",
    "Veámos el tipo de objeto que es la variable *cadena*:"
   ]
  },
  {
   "cell_type": "code",
   "execution_count": null,
   "metadata": {},
   "outputs": [],
   "source": [
    "type(cadena)"
   ]
  },
  {
   "cell_type": "markdown",
   "metadata": {},
   "source": [
    "    \n",
    "<font color='b' size=4>\n",
    "    \n",
    "Mostramos en pantalla a la variable *s*:"
   ]
  },
  {
   "cell_type": "code",
   "execution_count": null,
   "metadata": {},
   "outputs": [],
   "source": [
    "s"
   ]
  },
  {
   "cell_type": "markdown",
   "metadata": {},
   "source": [
    "    \n",
    "<font color='b' size=4>\n",
    "    \n",
    " Para definir a una cadena que se pueda escribir en multiples líneas se usan comillas triples:"
   ]
  },
  {
   "cell_type": "code",
   "execution_count": null,
   "metadata": {},
   "outputs": [],
   "source": [
    "print('''Esta cadena es \n",
    "multilinea''')"
   ]
  },
  {
   "cell_type": "markdown",
   "metadata": {},
   "source": [
    "<font size=4>\n",
    "    \n",
    "La función `print( )` puede imprimirse con un formato específico:"
   ]
  },
  {
   "cell_type": "code",
   "execution_count": null,
   "metadata": {},
   "outputs": [],
   "source": [
    "print('{:^8} {:^8} {:^8}'.format('manzanas', 'peras', 'ciruelas'))\n",
    "\n",
    "# 8 es la longitud maxima de caracteres que se pueden imprimir\n",
    "# ^ se usa para centrar"
   ]
  },
  {
   "cell_type": "code",
   "execution_count": null,
   "metadata": {},
   "outputs": [],
   "source": [
    "print('{:^8} {:^8} {:^8}'.format('manzanas', 'peras', 'ciruelas'))\n",
    "print('-'*27)\n",
    "\n",
    "print('{:^8.2f} {:^8.2f} {:^8.2f}'.format(2.4, 3.7, 3.1))\n"
   ]
  },
  {
   "cell_type": "markdown",
   "metadata": {},
   "source": [
    "<font size=4 color='skyblue'>\n",
    "\n",
    "    \n",
    "**Ejercicio** \n",
    "    \n",
    "<font color='b'>\n",
    "    \n",
    "  Define a las variables `str_example` como 'Hola mundo!'. \n",
    "  \n",
    "  Imprime el valor de la variable que acabas de definir. "
   ]
  },
  {
   "cell_type": "code",
   "execution_count": null,
   "metadata": {},
   "outputs": [],
   "source": [
    "# Escribe el codigo aquí\n"
   ]
  },
  {
   "cell_type": "markdown",
   "metadata": {},
   "source": [
    "<font size=4 color='rosybrown'>\n",
    "    \n",
    "> ### Indexación "
   ]
  },
  {
   "cell_type": "markdown",
   "metadata": {},
   "source": [
    "<font size=4>\n",
    "    \n",
    "Las secuencias son conjuntos de elementos ordenados. Para identificar el orden, cada elemento se indexa, es decir, se le asocia un índice.\n",
    "\n",
    "Lo elementos de una secuencia se indexan de izquierda a derecha comenzando en cero.   \n",
    "    \n",
    "También se pueden indexar de derecha a izquierda comenzando en -1. \n",
    "    \n",
    " En la siguiente imagen se muestran las dos formas en que se puede indexar una secuencia (en este caso se muestra para un *string*).\n",
    "    \n",
    " <img src='images/string.png' style='width:900px;height:350px;'>\n",
    "    \n",
    "En las secuencias, se tiene el operador de índice, que sirve para seleccionar un solo elemento o un conjunto de elementos específicos de una secuencia. \n",
    "    \n",
    "Para indicar el elemento al cual se quiere seleccionar se usa la siguiente sintaxis:\n",
    "    \n",
    "  `secuencia[index]`\n",
    "    \n",
    " en donde *index* corresponde al numero de índice del elemento a seleccionar.\n",
    "    \n"
   ]
  },
  {
   "cell_type": "markdown",
   "metadata": {},
   "source": [
    "<font color='cornflowerblue' size=4>\n",
    "    \n",
    " **NOTA:**\n",
    "    \n",
    " En python se inicia indexando en cero. ¡No lo olvides!"
   ]
  },
  {
   "cell_type": "markdown",
   "metadata": {},
   "source": [
    "<font size=4>\n",
    "    \n",
    " Por ejemplo, para seleccionar la primera *e* del string *cadena*  se usa:"
   ]
  },
  {
   "cell_type": "code",
   "execution_count": null,
   "metadata": {},
   "outputs": [],
   "source": [
    "# recuerda que cadena = 'hombros de gigantes'\n",
    "\n",
    "cadena[9]\n",
    "\n",
    "# cadena[-10]"
   ]
  },
  {
   "cell_type": "markdown",
   "metadata": {},
   "source": [
    "<font size=4>\n",
    "\n",
    "Para seleccionar un conjunto de elementos de una secuencia se usa la siguiente sintaxis:\n",
    "    \n",
    "`secuencia[n:m]`\n",
    "    \n",
    "  en donde n es el índice inicial desde el cual se va a seleccionar al conjunto de elementos (correspondiente al elemento n) y m es el índice final correspondiente al elemento m-1.\n",
    "    \n",
    "    \n",
    " Por ejemplo, a continuación se seleccionan del elemento 2 al elemento 4 del string *cadena*:"
   ]
  },
  {
   "cell_type": "code",
   "execution_count": null,
   "metadata": {},
   "outputs": [],
   "source": [
    "cadena[2:5]"
   ]
  },
  {
   "cell_type": "markdown",
   "metadata": {},
   "source": [
    "<font size=4>\n",
    "    \n",
    "`secuencia[:m]`\n",
    "    \n",
    " Selecciona desde el primer elemento hasta el elemento indexado con m-1.\n",
    " \n",
    " En el siguiente ejemplo se selecciona desde el primer elemento hasta el elemento 6:"
   ]
  },
  {
   "cell_type": "code",
   "execution_count": null,
   "metadata": {},
   "outputs": [],
   "source": [
    "cadena[:7]"
   ]
  },
  {
   "cell_type": "markdown",
   "metadata": {},
   "source": [
    "<font size=4>\n",
    "    \n",
    "`secuencia[n:]`\n",
    "    \n",
    " Selecciona desde el elemento indexado con n hasta el último elemento.\n",
    " \n",
    " En el ejemplo, se selecciona desde el elemento 7 hasta el final:"
   ]
  },
  {
   "cell_type": "code",
   "execution_count": null,
   "metadata": {},
   "outputs": [],
   "source": [
    "cadena[7:]"
   ]
  },
  {
   "cell_type": "markdown",
   "metadata": {},
   "source": [
    "<font size=4>\n",
    "    \n",
    "`secuencia[:]`\n",
    "    \n",
    " Selecciona a todos los elementos de la secuencia."
   ]
  },
  {
   "cell_type": "code",
   "execution_count": null,
   "metadata": {},
   "outputs": [],
   "source": [
    "cadena[:]\n",
    "\n",
    "# es lo mismo que solo llamar a la variable cadena"
   ]
  },
  {
   "cell_type": "markdown",
   "metadata": {},
   "source": [
    "<font size=4 color='skyblue'>\n",
    "\n",
    "    \n",
    "**Ejercicio** \n",
    "    \n",
    "<font color='b'>\n",
    "    \n",
    "  De la variable `str_example` que definiste en el ejercicio anterior, imprime la palabra *mundo*."
   ]
  },
  {
   "cell_type": "code",
   "execution_count": null,
   "metadata": {},
   "outputs": [],
   "source": [
    "# Escribe el codigo aquí\n"
   ]
  },
  {
   "cell_type": "markdown",
   "metadata": {},
   "source": [
    "<font size=4 color='rosybrown'>\n",
    "    \n",
    "> ### Concatenación "
   ]
  },
  {
   "cell_type": "markdown",
   "metadata": {},
   "source": [
    "<font size=4>\n",
    "    \n",
    "El operador `+` aplicado a secuencias se usa para concatenar, es decir, para unir a las secuencias.\n",
    "\n",
    "**Ejemplo:**\n",
    "    "
   ]
  },
  {
   "cell_type": "code",
   "execution_count": null,
   "metadata": {},
   "outputs": [],
   "source": [
    "# se definen dos variables de tipo string:\n",
    "\n",
    "str1 = 'Hola'\n",
    "str2 = ' mundo '\n",
    "\n",
    "# se concatenan los string str1 y str2:\n",
    "\n",
    "conc = str1 + str2\n",
    "\n",
    "# Las secuencias se unen respetando el orden en que se concatenaron:\n",
    "\n",
    "conc"
   ]
  },
  {
   "cell_type": "markdown",
   "metadata": {},
   "source": [
    "<font size=4>\n",
    "    \n",
    "Python no puede concatenar diferentes tipos de objetos, es decir, las listas se concatenan con listas, las cadenas se concatenan con cadenas y las tuplas se concatenan con tuplas. \n",
    "    \n"
   ]
  },
  {
   "cell_type": "markdown",
   "metadata": {},
   "source": [
    "<font size=4 color='skyblue'>\n",
    "\n",
    "    \n",
    "**Ejercicio** \n",
    "    \n",
    "<font color='b'>\n",
    "    \n",
    "  Define un string como 'soy Karen' y concatenalo con la variable `str_example`. Cambia la cadena Karen por tu nombre."
   ]
  },
  {
   "cell_type": "code",
   "execution_count": null,
   "metadata": {},
   "outputs": [],
   "source": [
    "# Escribe el codigo aquí\n"
   ]
  },
  {
   "cell_type": "markdown",
   "metadata": {},
   "source": [
    "<font size=4 color='rosybrown'>\n",
    "    \n",
    "> ### Repetición "
   ]
  },
  {
   "cell_type": "markdown",
   "metadata": {},
   "source": [
    "<font size=4>\n",
    "    \n",
    "El operador `*` aplicado a secuencias se usa para repetir un elemento o un conjunto de elementos de la secuencia.\n",
    "    \n",
    " **Ejemplo:**"
   ]
  },
  {
   "cell_type": "code",
   "execution_count": null,
   "metadata": {},
   "outputs": [],
   "source": [
    "# El string conc se repite 3 veces:\n",
    "\n",
    "conc*3"
   ]
  },
  {
   "cell_type": "markdown",
   "metadata": {},
   "source": [
    "<font size=4 color='rosybrown'>\n",
    "    \n",
    "> ### Funciones de conversión de tipo."
   ]
  },
  {
   "cell_type": "markdown",
   "metadata": {},
   "source": [
    "<font size=4>\n",
    "    \n",
    "Python tiene tres funciones de conversión de tipo:\n",
    "    \n",
    "  `int(x)`:x puede ser un numero de coma flotante\n",
    "    \n",
    "  `float(x)`: x puede ser entero, flotante o cadena numérica\n",
    "    \n",
    "  `str(x)`: x puede ser de cualquier tipo\n",
    "    \n",
    "    \n",
    " **Ejemplo:**\n",
    " \n",
    " A continuación se convierte el objeto de tipo int a un objeto de tipo float:"
   ]
  },
  {
   "cell_type": "code",
   "execution_count": null,
   "metadata": {},
   "outputs": [],
   "source": [
    "x = 13\n",
    "print(type(x))\n",
    "\n",
    "x = float(x)\n",
    "print(type(x))"
   ]
  },
  {
   "cell_type": "markdown",
   "metadata": {},
   "source": [
    "<font size=4 color='skyblue'>\n",
    "\n",
    "    \n",
    "**Ejercicio** \n",
    "    \n",
    "<font color='b'>\n",
    "    \n",
    "  Define a una variable de tipo integer y conviertela en tipo float.\n",
    "  \n",
    "  Define a una variable de tipo integer y conviertela en tipo string."
   ]
  },
  {
   "cell_type": "code",
   "execution_count": null,
   "metadata": {},
   "outputs": [],
   "source": [
    "# Escribe el codigo aquí\n"
   ]
  },
  {
   "cell_type": "markdown",
   "metadata": {},
   "source": [
    "<font color='rosybrown' size =4>\n",
    "    \n",
    "> ## 5.2 List.\n"
   ]
  },
  {
   "cell_type": "markdown",
   "metadata": {},
   "source": [
    "<font size=4>\n",
    "    \n",
    "Las listas se definen entre corchetes:\n",
    "\n",
    "**Ejemplo:**"
   ]
  },
  {
   "cell_type": "code",
   "execution_count": null,
   "metadata": {},
   "outputs": [],
   "source": [
    "lista = [1, 5, 7, 3, 5, 0]\n",
    "\n",
    "# Los elementos de la lista son: 1, 5, 7, 3, 5 y 0"
   ]
  },
  {
   "cell_type": "code",
   "execution_count": null,
   "metadata": {},
   "outputs": [],
   "source": [
    "lista[-1]"
   ]
  },
  {
   "cell_type": "markdown",
   "metadata": {},
   "source": [
    "<font size=4 color='rosybrown'>\n",
    "    \n",
    "> ### Indexación de listas:"
   ]
  },
  {
   "cell_type": "markdown",
   "metadata": {},
   "source": [
    "<font size=4>\n",
    "    \n",
    "  Se sigue la misma estructura que la descrita para string.\n",
    "  \n",
    "  **Ejemplo**"
   ]
  },
  {
   "cell_type": "code",
   "execution_count": null,
   "metadata": {},
   "outputs": [],
   "source": [
    "print('El elemento indexado con 4 de la lista es:', lista[4])\n",
    "print('Los elementos indexados de 1 a 4 son:', lista[1:5])\n",
    "print('Los primeros tres elementos son:', lista[:3])\n",
    "print('Los últimos dos elementos son:', lista[4:])"
   ]
  },
  {
   "cell_type": "markdown",
   "metadata": {},
   "source": [
    "<font size=4 color='rosybrown'>\n",
    "    \n",
    "> ### Concatenación de listas:"
   ]
  },
  {
   "cell_type": "code",
   "execution_count": null,
   "metadata": {},
   "outputs": [],
   "source": [
    "# lista = [1, 5, 7, 3, 5, 0]\n",
    "\n",
    "lista2 = [12, 34, 56]\n",
    "\n",
    "conc_listas = lista + lista2\n",
    "conc_listas2 = lista2 + lista\n",
    "\n",
    "# se respeta el orden en que se concatenan las listas:\n",
    "\n",
    "conc_listas2"
   ]
  },
  {
   "cell_type": "markdown",
   "metadata": {},
   "source": [
    "<font size=4 color='skyblue'>\n",
    "\n",
    "    \n",
    "**Ejercicio** \n",
    "    \n",
    "<font color='b'>\n",
    "    \n",
    "  Define a las listas `a = [23, 67.89, 0.3]` y `b = ['ñ', 'j', 'str0']` y concatenalas. "
   ]
  },
  {
   "cell_type": "code",
   "execution_count": null,
   "metadata": {},
   "outputs": [],
   "source": [
    "# Escribe el codigo aquí\n"
   ]
  },
  {
   "cell_type": "markdown",
   "metadata": {},
   "source": [
    "<font size=4 color='rosybrown'>\n",
    "    \n",
    "> ### Repetición de listas:"
   ]
  },
  {
   "cell_type": "markdown",
   "metadata": {},
   "source": [
    "<font size=4>\n",
    "\n",
    "    \n",
    "  Cada elemento de la lista se repite el número de veces indicado. "
   ]
  },
  {
   "cell_type": "code",
   "execution_count": null,
   "metadata": {},
   "outputs": [],
   "source": [
    "lista*2"
   ]
  },
  {
   "cell_type": "markdown",
   "metadata": {},
   "source": [
    "<font size=4>\n",
    "\n",
    "    \n",
    "No se altera a la variable inicial:"
   ]
  },
  {
   "cell_type": "code",
   "execution_count": null,
   "metadata": {},
   "outputs": [],
   "source": [
    "lista"
   ]
  },
  {
   "cell_type": "markdown",
   "metadata": {},
   "source": [
    "<font size=4 color='rosybrown'>\n",
    "    \n",
    "> ### In- Buitl Functions."
   ]
  },
  {
   "cell_type": "markdown",
   "metadata": {},
   "source": [
    "<font size=4>\n",
    "    \n",
    " Estas son las funciones que Python nos proporciona, para usarlas solo hay que mandar a llamarlas.\n",
    "    \n",
    " Las siguientes funciones se puede aplicar a las listas:\n",
    "    \n",
    " `sum()`:  suma cada uno de los elementos de la lista.\n",
    "    \n",
    " `max()`: obtiene el máximo de la lista.\n",
    "    \n",
    "  `min()`: obtiene el mínimo de la lista.\n",
    "    \n",
    "  `sorted()`: Ordena a los elementos de una lista. Si los elementos de una lista son números los ordena de menor a mayor, si son cadenas las ordena alfabéticamente.\n",
    "\n",
    "   Las funciones no alteran a la lista, solo generan un nuevo resultado.\n",
    "    \n",
    "    \n",
    "  A continuación se ven ejemplos de cada una de las funciones citadas anteriormente."
   ]
  },
  {
   "cell_type": "code",
   "execution_count": null,
   "metadata": {},
   "outputs": [],
   "source": [
    "# Recordemos que definimos a lista=[1, 5, 7, 3, 5, 0]\n",
    "\n",
    "sum(lista)\n",
    "\n",
    "# nos regresa la suma de los elementos: 1+5+7+3+5+0"
   ]
  },
  {
   "cell_type": "code",
   "execution_count": null,
   "metadata": {},
   "outputs": [],
   "source": [
    "min(lista)\n",
    "\n",
    "# En el caso de que los elementos de una lista sean numeros entonces nos regresara el menor de ellos:"
   ]
  },
  {
   "cell_type": "code",
   "execution_count": null,
   "metadata": {},
   "outputs": [],
   "source": [
    "max(lista)\n",
    "\n",
    "# En el caso de que los elementos de una lista sean numeros entonces nos regresara el mayor de ellos:"
   ]
  },
  {
   "cell_type": "code",
   "execution_count": null,
   "metadata": {},
   "outputs": [],
   "source": [
    "sorted(lista)\n",
    "\n",
    "# ordena a los elementos de una lista"
   ]
  },
  {
   "cell_type": "markdown",
   "metadata": {},
   "source": [
    "<font size=4>\n",
    "    \n",
    "Ninguna de las funciones anteriores altera a la variable *lista*:"
   ]
  },
  {
   "cell_type": "code",
   "execution_count": null,
   "metadata": {},
   "outputs": [],
   "source": [
    "lista"
   ]
  },
  {
   "cell_type": "markdown",
   "metadata": {},
   "source": [
    "<font size=4 color='rosybrown'>\n",
    "    \n",
    "> ### Atributos."
   ]
  },
  {
   "cell_type": "markdown",
   "metadata": {},
   "source": [
    "<font size=4>\n",
    "\n",
    "Las listas tienen los siguientes atributos:\n",
    "\n",
    "   `.sort()`: Ordena a los elementos de la lista de menor a mayor en caso de ser números y alfabéticamente en caso de ser cadenas.\n",
    "    \n",
    " `.append(x)`: agrega el elemento x al final de la lista.\n",
    "    \n",
    "  `.extend([x, y])`: agrega mas de un elemento al final de la lista. En este caso agrega a *x* y a *y*.\n",
    "    \n",
    "   `.insert(index, element)`: agrega al elemento *element* en la posición determinada por el ínidice *index*.\n",
    "    \n",
    "   `.reverse()`: Voltea el orden de los elementos de la lista. \n",
    "        \n",
    "   `.pop(index)`: elimina al elemento identificado con el indice *index*.\n",
    "   \n",
    "   `.index(a)`: encuentra el índice del elemento a en la lista. \n",
    "    \n",
    "   `.clear()`: Elimina a todos los elementos de la lista.\n",
    "    \n",
    "  \n",
    "    \n",
    " Los atributos cambian al objeto. \n",
    "    \n",
    " **Ejemplos**"
   ]
  },
  {
   "cell_type": "code",
   "execution_count": null,
   "metadata": {},
   "outputs": [],
   "source": [
    "print('La lista inicial es:', lista)\n",
    "\n",
    "# ordenamos a los elementos:\n",
    "\n",
    "lista.sort()\n",
    "\n",
    "print('La lista final es:', lista)"
   ]
  },
  {
   "cell_type": "code",
   "execution_count": null,
   "metadata": {},
   "outputs": [],
   "source": [
    "print('La lista inicial es:', lista)\n",
    "\n",
    "# se agrega el elemento 'Hola' al final de la lista:\n",
    "\n",
    "lista.append('Hola')\n",
    "\n",
    "print('La lista final es:', lista)"
   ]
  },
  {
   "cell_type": "code",
   "execution_count": null,
   "metadata": {},
   "outputs": [],
   "source": [
    "print('La lista inicial es:', lista)\n",
    "\n",
    "# Se agregan los elementos 'Python' y 3.7 al final de la lista:\n",
    "\n",
    "lista.extend(['Python', 3.7])\n",
    "\n",
    "print('La lista final es:', lista)"
   ]
  },
  {
   "cell_type": "code",
   "execution_count": null,
   "metadata": {},
   "outputs": [],
   "source": [
    "print('La lista inicial es:', lista)\n",
    "\n",
    "# Se grega al elemento 'insert' en el índice 1:\n",
    "\n",
    "lista.insert(1, 'insert')\n",
    "\n",
    "print('La lista final es:', lista)"
   ]
  },
  {
   "cell_type": "code",
   "execution_count": null,
   "metadata": {},
   "outputs": [],
   "source": [
    "print('La lista inicial es:', lista)\n",
    "\n",
    "# se invierte el orden de los elementos:\n",
    "\n",
    "lista.reverse()\n",
    "\n",
    "print('La lista final es:', lista)"
   ]
  },
  {
   "cell_type": "code",
   "execution_count": null,
   "metadata": {},
   "outputs": [],
   "source": [
    "print('La lista inicial es:', lista)\n",
    "\n",
    "# se elimina al último elemento de la lista:\n",
    "\n",
    "lista.pop(-1)\n",
    "\n",
    "print('La lista final es:', lista)"
   ]
  },
  {
   "cell_type": "code",
   "execution_count": null,
   "metadata": {},
   "outputs": [],
   "source": [
    "# se obtiene el índice del elemento 'Hola':\n",
    "\n",
    "lista.index('Hola')"
   ]
  },
  {
   "cell_type": "code",
   "execution_count": null,
   "metadata": {},
   "outputs": [],
   "source": [
    "print('La lista inicial es:', lista)\n",
    "\n",
    "# se eliminan todos los elementos de la lista:\n",
    "\n",
    "lista.clear()\n",
    "\n",
    "print('La lista final es:', lista)"
   ]
  },
  {
   "cell_type": "markdown",
   "metadata": {},
   "source": [
    "<font size=4 color='skyblue'>\n",
    "\n",
    "    \n",
    "**Ejercicio** \n",
    "    \n",
    "<font color='b'>\n",
    "    \n",
    "  Define a la lista `a = [23, 17, 9, 36]` y obten el promedio de sus elementos. "
   ]
  },
  {
   "cell_type": "code",
   "execution_count": null,
   "metadata": {},
   "outputs": [],
   "source": [
    "# Escribe el codigo aquí\n"
   ]
  },
  {
   "cell_type": "markdown",
   "metadata": {},
   "source": [
    "<font color='rosybrown' size =4>\n",
    "    \n",
    "> ## 5.3 Tuple.\n"
   ]
  },
  {
   "cell_type": "markdown",
   "metadata": {},
   "source": [
    "<font size=4>\n",
    "    \n",
    " Las tuplas se definene entre paréntesis y son inmutables. \n",
    "    \n",
    "  Las funciones descritas para las listas también se pueden aplicar a las tuplas.\n",
    "    \n",
    "   Las tuplas no tienen atributos. \n",
    "   \n",
    "   **Ejemplos**"
   ]
  },
  {
   "cell_type": "code",
   "execution_count": null,
   "metadata": {},
   "outputs": [],
   "source": [
    "# se define a la tupla (1, 4, 2)\n",
    "\n",
    "tupla=(1, 4, 2)"
   ]
  },
  {
   "cell_type": "code",
   "execution_count": null,
   "metadata": {},
   "outputs": [],
   "source": [
    "# se suman los elementos de la tupla: 1+2+4\n",
    "\n",
    "sum(tupla)"
   ]
  },
  {
   "cell_type": "code",
   "execution_count": null,
   "metadata": {},
   "outputs": [],
   "source": [
    "# En el caso de que los elementos de una lista sean numeros entonces nos regresara el menor de ellos:\n",
    "\n",
    "min(tupla)"
   ]
  },
  {
   "cell_type": "code",
   "execution_count": null,
   "metadata": {},
   "outputs": [],
   "source": [
    "# En el caso de que los elementos de una lista sean numeros entonces nos regresara el mayor de ellos:\n",
    "\n",
    "max(tupla)"
   ]
  },
  {
   "cell_type": "code",
   "execution_count": null,
   "metadata": {},
   "outputs": [],
   "source": [
    "# ordena a los elementos de la tupla y la convierte en lista:\n",
    "\n",
    "sorted(tupla)"
   ]
  },
  {
   "cell_type": "markdown",
   "metadata": {},
   "source": [
    "<font size=4>\n",
    "    \n",
    " La tupla permanece inalterada:"
   ]
  },
  {
   "cell_type": "code",
   "execution_count": null,
   "metadata": {},
   "outputs": [],
   "source": [
    "tupla"
   ]
  },
  {
   "cell_type": "markdown",
   "metadata": {},
   "source": [
    "___"
   ]
  },
  {
   "cell_type": "markdown",
   "metadata": {},
   "source": [
    "<font size=4 color='royalblue'>\n",
    "\n",
    " # 6. Diccionarios."
   ]
  },
  {
   "cell_type": "markdown",
   "metadata": {},
   "source": [
    "<font size=4>\n",
    "    \n",
    " Un diccionario es un objeto de Python que se define como un conjunto de keywords-values. \n",
    "    \n",
    " Se definen entre llaves.\n",
    "    \n",
    " `dic = {}`\n",
    "    \n",
    "  Tanto las keywords (palabras clave) como los valores pueden ser de cualquier tipo (int, float, str, boolean, list, etc).\n",
    "    \n",
    "  Los diccionarios no tienen un orden."
   ]
  },
  {
   "cell_type": "code",
   "execution_count": null,
   "metadata": {},
   "outputs": [],
   "source": [
    "# creando un diccionario vacío:\n",
    "\n",
    "# manera 1:\n",
    "\n",
    "dic1 = {}\n",
    "\n",
    "# manera 2:\n",
    "\n",
    "dic2 = dict()"
   ]
  },
  {
   "cell_type": "markdown",
   "metadata": {},
   "source": [
    "<font size=4>\n",
    "    \n",
    "Al crear un diccionario se puede definir directamente las palabras clave y sus respectivos valores:  "
   ]
  },
  {
   "cell_type": "code",
   "execution_count": null,
   "metadata": {},
   "outputs": [],
   "source": [
    "dicc = {'a': (1, 2, 4), 'b': 5}"
   ]
  },
  {
   "cell_type": "markdown",
   "metadata": {},
   "source": [
    "<font size=4>\n",
    "    \n",
    " El diccionario *dicc* se definió con dos keywords, ambas de tipo string: 'a' y 'b'. \n",
    "    \n",
    "     El valor asignado a 'a' es la tupla (1, 2, 4).\n",
    "    \n",
    "     El valor asignado a 'b' es el entero 5.\n",
    "    \n",
    " Los diccionarios tienen los atributos \n",
    "    \n",
    "  `.keys()`: indica los keywords del diccionario.\n",
    "    \n",
    "  `.values()`: indica los valores del diccionario.\n",
    "    \n",
    "  `.items()`: indica a los keywords y a los values.\n",
    "    \n",
    "  "
   ]
  },
  {
   "cell_type": "markdown",
   "metadata": {},
   "source": [
    "<font size=4>\n",
    "    \n",
    "Las palabras clave del diccionario *dicc* son:\n",
    "  "
   ]
  },
  {
   "cell_type": "code",
   "execution_count": null,
   "metadata": {},
   "outputs": [],
   "source": [
    "dicc.keys()"
   ]
  },
  {
   "cell_type": "markdown",
   "metadata": {},
   "source": [
    "<font size=4>\n",
    "    \n",
    "Los valores del diccionario *dicc* son:\n",
    "  "
   ]
  },
  {
   "cell_type": "code",
   "execution_count": null,
   "metadata": {},
   "outputs": [],
   "source": [
    "dicc.values()"
   ]
  },
  {
   "cell_type": "markdown",
   "metadata": {},
   "source": [
    "<font size=4>\n",
    "    \n",
    "Las palabras clave y sus respectivos valores del diccionario *dicc* son:\n",
    "  "
   ]
  },
  {
   "cell_type": "code",
   "execution_count": null,
   "metadata": {},
   "outputs": [],
   "source": [
    "dicc.items()"
   ]
  },
  {
   "cell_type": "markdown",
   "metadata": {},
   "source": [
    "<font size=4>\n",
    "    \n",
    "Para obtener el valor de un determinado keyword se usa la siguiente sintaxis:\n",
    "    \n",
    " `name_dict[name_keyword]`\n",
    "    \n",
    "    o\n",
    "    \n",
    "  `name_dict.get(name_keyword)`\n",
    "    \n",
    " Se obtiene el valor del keyword 'a':"
   ]
  },
  {
   "cell_type": "code",
   "execution_count": null,
   "metadata": {},
   "outputs": [],
   "source": [
    "dicc['a']"
   ]
  },
  {
   "cell_type": "markdown",
   "metadata": {},
   "source": [
    "<font size=4>\n",
    "    \n",
    "Para agregar keywords a un diccionario se usa la siguiente sintáxis:\n",
    "    \n",
    " `name_dict[name_keyword] = value`\n",
    "    \n",
    "  "
   ]
  },
  {
   "cell_type": "code",
   "execution_count": null,
   "metadata": {},
   "outputs": [],
   "source": [
    "dicc['new_keyword'] = 'Hey'"
   ]
  },
  {
   "cell_type": "markdown",
   "metadata": {},
   "source": [
    "<font size=4>\n",
    "    \n",
    "Veámos:\n",
    "  "
   ]
  },
  {
   "cell_type": "code",
   "execution_count": null,
   "metadata": {},
   "outputs": [],
   "source": [
    "dicc"
   ]
  },
  {
   "cell_type": "markdown",
   "metadata": {},
   "source": [
    "<font size=4>\n",
    "    \n",
    "Para eliminar keywords de un diccionario se usa la siguiente sintáxis:\n",
    "    \n",
    " ```Python\n",
    "    \n",
    "    del name_dict[name_keyword]```\n",
    "    \n",
    " y se elimina junto con su respectivo valor. \n",
    "    \n",
    "  "
   ]
  },
  {
   "cell_type": "code",
   "execution_count": null,
   "metadata": {},
   "outputs": [],
   "source": [
    "del dicc['new_keyword']"
   ]
  },
  {
   "cell_type": "markdown",
   "metadata": {},
   "source": [
    "<font size=4>\n",
    "    \n",
    "Veámos:\n",
    "  "
   ]
  },
  {
   "cell_type": "code",
   "execution_count": null,
   "metadata": {},
   "outputs": [],
   "source": [
    "dicc"
   ]
  },
  {
   "cell_type": "markdown",
   "metadata": {},
   "source": [
    "<font size=4>\n",
    "    \n",
    "Se puede hacer que un diccionario sea bidireccional, es decir, que cada keyword sea también un value y que cada value sea también un keyword.   \n",
    "  "
   ]
  },
  {
   "cell_type": "code",
   "execution_count": null,
   "metadata": {},
   "outputs": [],
   "source": [
    "dicc.update( dict((dicc[k], k) for k in dicc))"
   ]
  },
  {
   "cell_type": "code",
   "execution_count": null,
   "metadata": {},
   "outputs": [],
   "source": [
    "dicc[5]"
   ]
  },
  {
   "cell_type": "markdown",
   "metadata": {},
   "source": [
    "<font size=4 color='skyblue'>\n",
    "\n",
    "    \n",
    "**Ejercicio** \n",
    "    \n",
    "<font color='b'>\n",
    "    \n",
    "  1. Define el diccionario `dicc_example` con las siguientes caracteristicas:\n",
    "  \n",
    "  \n",
    "  \n",
    "      palabras clave: 'Christian', 'Iván', 'Daniel', 'Evelyn', 'Oscar', 'José'\n",
    "  \n",
    "      valores correspondientes: 35, 31, 22, 24, 23, 25\n",
    "  \n",
    "  \n",
    "  2. Agrega el keyword que corresponda a tu nombre con el valor correspondiente a tu edad.\n",
    "  \n",
    "  \n",
    "  \n",
    "  3. Muestra el diccionario en pantalla. \n",
    "  "
   ]
  },
  {
   "cell_type": "code",
   "execution_count": null,
   "metadata": {},
   "outputs": [],
   "source": [
    "# Escribe el codigo aquí\n"
   ]
  },
  {
   "cell_type": "markdown",
   "metadata": {},
   "source": [
    "<font color='cornflowerblue' size=4>\n",
    "\n",
    "\n",
    "**NOTA:**\n",
    "\n",
    "Recuerda que solo practicando se aprende, a lo largo del curso ¡pondremos en práctica todo lo aprendido!.\n",
    "\n",
    "___"
   ]
  }
 ],
 "metadata": {
  "celltoolbar": "Raw Cell Format",
  "kernelspec": {
   "display_name": "Python 3",
   "language": "python",
   "name": "python3"
  },
  "language_info": {
   "codemirror_mode": {
    "name": "ipython",
    "version": 3
   },
   "file_extension": ".py",
   "mimetype": "text/x-python",
   "name": "python",
   "nbconvert_exporter": "python",
   "pygments_lexer": "ipython3",
   "version": "3.7.4"
  }
 },
 "nbformat": 4,
 "nbformat_minor": 4
}
