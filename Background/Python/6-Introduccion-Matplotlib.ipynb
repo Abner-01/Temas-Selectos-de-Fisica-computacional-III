{
 "cells": [
  {
   "cell_type": "markdown",
   "metadata": {},
   "source": [
    "<font color= 'orange' size=4>\n",
    " \n",
    "# Matplotlib"
   ]
  },
  {
   "cell_type": "markdown",
   "metadata": {},
   "source": [
    "<font size=4>\n",
    "\n",
    "Matplotlib es una biblioteca de python que se usa para realizar graficas de distintos tipos. \n",
    "\n",
    "En el presente notebook (nb) se abordaran los siguientes temas:\n",
    "\n",
    "    -Histograms\n",
    "\n",
    "    -Line plots\n",
    "\n",
    "    -Scatter plots\n",
    "    \n",
    "    \n",
    "Documentación oficial: [matplotlib.org](https://matplotlib.org/)"
   ]
  },
  {
   "cell_type": "code",
   "execution_count": null,
   "metadata": {},
   "outputs": [],
   "source": [
    "# se importan las bibliotecas a usar\n",
    "\n",
    "import numpy as np\n",
    "import pandas as pd\n",
    "import matplotlib.pyplot as plt\n",
    "\n",
    "# Permite graficar dentro del notebook\n",
    "\n",
    "%matplotlib inline"
   ]
  },
  {
   "cell_type": "markdown",
   "metadata": {},
   "source": [
    "<font size=4>\n",
    "    \n",
    "  Recordemos que para generar un conjunto de numeros aleatorios con una distribución normal se usa la siguiente sintaxis:\n",
    "\n",
    "`np.random.normal(0,.03,size=60)`: genera 60 numeros aleatorios con una distribución normal, cuyo promedio es 0 y la desviación estándar es 0.03. "
   ]
  },
  {
   "cell_type": "code",
   "execution_count": null,
   "metadata": {},
   "outputs": [],
   "source": [
    "# np.random.seed(3)\n",
    "\n",
    "random_normal_set = np.random.normal(0, .03, size=60)\n",
    "\n",
    "# Para ver los datos generados, se manda a llamar a la variable en la cual se guardaron:\n",
    "\n",
    "random_normal_set"
   ]
  },
  {
   "cell_type": "markdown",
   "metadata": {},
   "source": [
    "<font size=4>\n",
    "\n",
    "Observa que cada vez que se ejecuta la celda  anterior, los numeros que se generan cambian, para obtener valores reproducibles se agrega una semilla:\n",
    "    \n",
    "  `np.random.seed(x)`: x es el valor inicial a partir del cual se van a generer los valores aleatorios."
   ]
  },
  {
   "cell_type": "code",
   "execution_count": null,
   "metadata": {},
   "outputs": [],
   "source": [
    "# longitud del conjunto: cantidad de numeros generados\n",
    "\n",
    "cant = len(random_normal_set)\n",
    "\n",
    "# Pormedio de los datos\n",
    "\n",
    "mean = np.mean(random_normal_set)\n",
    "\n",
    "mean_round = round(np.mean(random_normal_set), 1)\n",
    "\n",
    "# desviacion estandar de los datos\n",
    "\n",
    "std = np.std(random_normal_set)\n",
    "\n",
    "std_round = round(np.std(random_normal_set), 2)\n",
    "\n",
    "print(cant)"
   ]
  },
  {
   "cell_type": "markdown",
   "metadata": {},
   "source": [
    "<font size=4 color='orange'>\n",
    "\n",
    "# 1.1 Histogramas\n"
   ]
  },
  {
   "cell_type": "markdown",
   "metadata": {},
   "source": [
    "<font size=4>\n",
    "\n",
    "Los histogramas son graficos que muestran la distribución de una variable numérica, que agrupa a los datos en contenedores. La altura de la barra representa el numero de observaciones por contenedor. \n",
    "\n",
    "Realizamos su histograma usando la funcion `hist()`:\n",
    "\n"
   ]
  },
  {
   "cell_type": "code",
   "execution_count": null,
   "metadata": {},
   "outputs": [],
   "source": [
    "plt.hist(random_normal_set);\n",
    "\n",
    "# el simbolo ';' al final de cualquier sentencia relacionada con una grafica, evita que se escriba texto \n",
    "# antes de presentar la grafica, es equivalente a plt.show()"
   ]
  },
  {
   "cell_type": "markdown",
   "metadata": {},
   "source": [
    "<font size=4>\n",
    "\n",
    "Del histograma anterior se oobserva que los datos toman valores entre -0.06 y 0.08. \n",
    "\n",
    "Es díficil diferenciar entre los contenedores, para arreglar esto se puede usar el argumento `edgecolor`, el cual permite cambiar el color del contorno de cada contenedor"
   ]
  },
  {
   "cell_type": "code",
   "execution_count": null,
   "metadata": {},
   "outputs": [],
   "source": [
    "plt.hist(random_normal_set, edgecolor='black');"
   ]
  },
  {
   "cell_type": "markdown",
   "metadata": {},
   "source": [
    "<font size=4>\n",
    "    \n",
    "El numero de contenedores no correspone al numero de valores que se generaron (60). \n",
    "\n",
    "El numero de contenedores se puede especificar con el argumento `bins`."
   ]
  },
  {
   "cell_type": "code",
   "execution_count": null,
   "metadata": {},
   "outputs": [],
   "source": [
    "plt.hist(random_normal_set, bins=20, edgecolor='black');"
   ]
  },
  {
   "cell_type": "markdown",
   "metadata": {},
   "source": [
    "<font size=4>\n",
    "    \n",
    "También se puede cambiar el color de los contenedores usando el argumento `color`. El color se especifica en inglés y entre comillas. El color por defecto es azul.\n",
    "\n",
    "El nivel de transparencia del color se especificar con el argumento `alpha` y toma valores entre 0 y 1, en donde 1 es el color mas fuerte. El valor por defecto es 1."
   ]
  },
  {
   "cell_type": "code",
   "execution_count": null,
   "metadata": {},
   "outputs": [],
   "source": [
    "plt.hist(random_normal_set, bins=20, edgecolor='black', color='red', alpha = 0.5);"
   ]
  },
  {
   "cell_type": "markdown",
   "metadata": {},
   "source": [
    "<font size=4>\n",
    "\n",
    "Se define a x como un conjunto de 10000 valores aleatorios con una distribucion standard_normal, es decir, con promedio 0 y desviación estándar 1. "
   ]
  },
  {
   "cell_type": "code",
   "execution_count": null,
   "metadata": {},
   "outputs": [],
   "source": [
    "x = np.random.standard_normal(10000)\n",
    "\n",
    "x"
   ]
  },
  {
   "cell_type": "code",
   "execution_count": null,
   "metadata": {},
   "outputs": [],
   "source": [
    "# longitud del conjunto: cantidad de numeros generados\n",
    "\n",
    "cant = len(x)\n",
    "\n",
    "# Pormedio de los datos\n",
    "\n",
    "mean = np.mean(x)\n",
    "\n",
    "mean_round = round(np.mean(x), 1)\n",
    "\n",
    "# desviacion estandar de los datos\n",
    "\n",
    "std = np.std(x)\n",
    "\n",
    "std_round = round(np.std(x), 2)\n",
    "\n",
    "print(std)"
   ]
  },
  {
   "cell_type": "code",
   "execution_count": null,
   "metadata": {},
   "outputs": [],
   "source": [
    "plt.hist(x, bins=50, edgecolor='black');"
   ]
  },
  {
   "cell_type": "markdown",
   "metadata": {},
   "source": [
    "<font size=4>\n",
    "\n",
    "Para agregar nombre a los ejes se usa lo siguiente:\n",
    "\n",
    "```Python\n",
    "\n",
    "plt.xlabel('name_xlabel')\n",
    "plt.ylabel('name_ylabel')\n",
    "plt.title('name_plot')\n",
    "\n",
    "```\n"
   ]
  },
  {
   "cell_type": "code",
   "execution_count": null,
   "metadata": {},
   "outputs": [],
   "source": [
    "plt.hist(x, bins=50, edgecolor='black')\n",
    "plt.xlabel('x', size=14)\n",
    "plt.ylabel('frequency', size=14)\n",
    "plt.title('Histogram of x', size=15);"
   ]
  },
  {
   "cell_type": "markdown",
   "metadata": {},
   "source": [
    "<font size=4>\n",
    "\n",
    "Para ajustar una curva a un histograma:"
   ]
  },
  {
   "cell_type": "code",
   "execution_count": null,
   "metadata": {},
   "outputs": [],
   "source": [
    "# normal plot with theoretical overlay\n",
    "from scipy.stats import norm\n",
    "\n",
    "plt.hist(x, bins=50, edgecolor='black', density=True)\n",
    "\n",
    "mean, sd = norm.fit(x)\n",
    "\n",
    "min_x = float(np.min(x))\n",
    "max_x = float(np.max(x))\n",
    "overlay = np.linspace(min_x, max_x, 100)\n",
    "params = norm.pdf(overlay, mean, sd)\n",
    "plt.plot(overlay, params, 'r');"
   ]
  },
  {
   "cell_type": "markdown",
   "metadata": {},
   "source": [
    "<font size=4>\n",
    "\n",
    "Documentación oficial: [plt.hist()](https://matplotlib.org/3.2.0/api/_as_gen/matplotlib.pyplot.hist.html)\n",
    "\n",
    "___"
   ]
  },
  {
   "cell_type": "markdown",
   "metadata": {},
   "source": [
    "<font size=4 color='orange'>\n",
    "\n",
    "# 1.2 Line Plots\n"
   ]
  },
  {
   "cell_type": "code",
   "execution_count": null,
   "metadata": {},
   "outputs": [],
   "source": [
    "df = pd.DataFrame(np.random.normal(0,.03,size=60))"
   ]
  },
  {
   "cell_type": "code",
   "execution_count": null,
   "metadata": {},
   "outputs": [],
   "source": [
    "plt.plot(df);"
   ]
  },
  {
   "cell_type": "markdown",
   "metadata": {},
   "source": [
    "<font size=4>\n",
    "\n",
    "Es lo mismo que:\n",
    "\n",
    "`df.plot()`\n",
    "\n",
    "pues pandas tiene una extensión de matplotlib, lo que permite graficar. \n"
   ]
  },
  {
   "cell_type": "code",
   "execution_count": null,
   "metadata": {},
   "outputs": [],
   "source": [
    "df.plot(color='black', linestyle=':', alpha=0.7, title='line plot');"
   ]
  },
  {
   "cell_type": "markdown",
   "metadata": {},
   "source": [
    "<font size=4>\n",
    "\n",
    "Si queremos ampliar una determinada sección de la gráfica se usa lo siguiente:\n",
    "\n",
    "`plt.xlim(x_i, x_f)`\n",
    "\n",
    "`plt.ylim(y_i, y_f)`\n",
    "\n"
   ]
  },
  {
   "cell_type": "code",
   "execution_count": null,
   "metadata": {},
   "outputs": [],
   "source": [
    "df.plot(color='black', linestyle='-.', alpha=0.7, title='line plot')\n",
    "plt.xlim(10, 20)\n",
    "plt.ylim(-0.04, 0.04);"
   ]
  },
  {
   "cell_type": "code",
   "execution_count": null,
   "metadata": {},
   "outputs": [],
   "source": [
    "# se agrega una columna al dataframe df \n",
    "# que se obtienen de sumar los valores de la primera columna acumulativamente\n",
    "\n",
    "df[1] = df.cumsum()\n",
    "\n",
    "# se muestran los primeros 5 renglones de df:\n",
    "\n",
    "df.head()"
   ]
  },
  {
   "cell_type": "markdown",
   "metadata": {},
   "source": [
    "<font size=4>\n",
    "\n",
    "Para guardar una grafica (y no solo imprimirla en el nb) se usa la sintaxis:\n",
    "\n",
    "`plt.savefig('name_fig')`\n",
    "\n",
    "La grafica se guarda en el mismo directorio en donde se encuentra el notebook con el que se generó. Se puede ubicar en cualquier lugar especificando la ruta:\n",
    "\n",
    "`plt.savefig('/home/karen/Documentos/name_fig')`"
   ]
  },
  {
   "cell_type": "code",
   "execution_count": null,
   "metadata": {},
   "outputs": [],
   "source": [
    "df.plot();\n",
    "\n",
    "# cuando se grafica desde pandas, ya se entiende que por cada columna se realiza una curva diferente, \n",
    "# ademas se etiqueta cada curva en un recuadro dentro de la grafica\n",
    "\n",
    "plt.savefig('tpm.png') "
   ]
  },
  {
   "cell_type": "code",
   "execution_count": null,
   "metadata": {},
   "outputs": [],
   "source": [
    "np.random.seed(3)\n",
    "df = pd.DataFrame({'A': np.random.normal(size=60), 'B': np.random.normal(0, .03,size=60)})\n",
    "df['C'] = df['B'].cumsum()\n"
   ]
  },
  {
   "cell_type": "code",
   "execution_count": null,
   "metadata": {},
   "outputs": [],
   "source": [
    "plt.plot(df.A, df.B);\n",
    "\n",
    "# si usamos plt.plot, para graficar dos columnas de un datafram, \n",
    "# matplotlib no entendie que debe graficarlas como survas separadas, si no que entiende que una es x y otra es y"
   ]
  },
  {
   "cell_type": "markdown",
   "metadata": {},
   "source": [
    "<font size=4>\n",
    "\n",
    "Para hacer que las grafique como curvas separadas, se deben especificar en sentencias diferentes. Por ejemplo, para graficar las curvas correspondientes a las columnas B y C del dataframe df se usa:\n",
    "\n",
    "`plt.plot(df.B)`\n",
    "\n",
    "`plt.plot(df.C)`\n"
   ]
  },
  {
   "cell_type": "code",
   "execution_count": null,
   "metadata": {},
   "outputs": [],
   "source": [
    "plt.plot(df.B)\n",
    "plt.plot(df.C);\n"
   ]
  },
  {
   "cell_type": "markdown",
   "metadata": {},
   "source": [
    "<font size=4>\n",
    "\n",
    "Para etiquetar a las curvas se usa el argumento `label`. El valor del argumento de `label` se escribe entre comillas. Por ejemplo, \n",
    "\n",
    "`plt.plot(df.B, label='columna B')`\n",
    "\n",
    "`plt.plot(df.C, label='columna C')`\n",
    "\n",
    "Para ubicar al recuadro que indica el codigo de colores y el nombre asignado a las curvas se usa:\n",
    "\n",
    "`plt.legend(loc=3)`\n",
    "\n",
    "La ubicacion se puede asignar con palabras o con numeros asociados a esas palabras:\n",
    "\n",
    "`loc = 1 (upper-right), 2 (upper-left), 3 (lower left),  4 (lower right)`"
   ]
  },
  {
   "cell_type": "code",
   "execution_count": null,
   "metadata": {},
   "outputs": [],
   "source": [
    "plt.plot(df.B, label='B')\n",
    "plt.plot(df.C, label='C')\n",
    "plt.legend(loc=3);"
   ]
  },
  {
   "cell_type": "markdown",
   "metadata": {},
   "source": [
    "<font size=4>\n",
    "    \n",
    "Se pueden agregar anotaciones y lineas paa resaltar partes importantes en una gráfica. \n",
    "\n",
    "Para agregar anotaciones se debe especificar las cordenadas en donde se ecentrara la anotacion así como la anotación. \n",
    "\n",
    "`plt.text(15,.17, \"This is high\")`\n",
    "\n",
    "Para agregar flechas se debe indicar las cordenadas de inicio y la longitud en el eje x y y:\n",
    "\n",
    "`plt.arrow(26.5,.17,6,.015)`\n",
    "\n",
    "Para ubicar mejor a los puntos se puede hacer una cuadricula sobre la grafica:\n",
    "\n",
    "```Python\n",
    "\n",
    "grid(True)\n",
    "\n",
    "```\n",
    "También se puede especificar el tipo de linea a usar en el cuadriculado, sustituyendo el `True` por el argumento linestyle y especificadon el estilo entre comillas."
   ]
  },
  {
   "cell_type": "code",
   "execution_count": null,
   "metadata": {},
   "outputs": [],
   "source": [
    "plt.plot(df.B)\n",
    "plt.plot(df.C)\n",
    "plt.grid(True)\n",
    "plt.text(35,.23, \"This is high\")\n",
    "plt.arrow(28,.24, 6,-.015);"
   ]
  },
  {
   "cell_type": "markdown",
   "metadata": {},
   "source": [
    "<font size=4 color='orange'>\n",
    "    \n",
    " ### Estilo de las graficas:"
   ]
  },
  {
   "cell_type": "code",
   "execution_count": null,
   "metadata": {},
   "outputs": [],
   "source": [
    "import matplotlib.style as mps\n",
    "\n",
    "# sirve para cambiar el estilo de las graficas"
   ]
  },
  {
   "cell_type": "markdown",
   "metadata": {},
   "source": [
    "<font size=4 >\n",
    "    \n",
    "**Los estilos disponibles se enlistan a continuación:**"
   ]
  },
  {
   "cell_type": "code",
   "execution_count": null,
   "metadata": {},
   "outputs": [],
   "source": [
    "plt.style.available"
   ]
  },
  {
   "cell_type": "code",
   "execution_count": null,
   "metadata": {},
   "outputs": [],
   "source": [
    "# typical convention for more a figure made of multiple plots \n",
    "# fig is the entire graphic, ax is a plot within the figure\n",
    "fig, (ax1, ax2) = plt.subplots(2,1)\n",
    "ax1.hist(x,bins=50)\n",
    "ax2.plot(df.B);"
   ]
  },
  {
   "cell_type": "markdown",
   "metadata": {},
   "source": [
    "<font size=4>\n",
    "\n",
    "Documentación oficial: [plt.plot()](https://matplotlib.org/3.1.3/api/_as_gen/matplotlib.pyplot.plot.html)\n",
    "\n",
    "___"
   ]
  },
  {
   "cell_type": "markdown",
   "metadata": {},
   "source": [
    "<font size=4 color='orange'>\n",
    "\n",
    "# 1.3 Scatter Plots\n"
   ]
  },
  {
   "cell_type": "code",
   "execution_count": null,
   "metadata": {},
   "outputs": [],
   "source": [
    "df = pd.DataFrame({'A':np.random.normal(size=50), 'B':np.random.normal(size=50)})"
   ]
  },
  {
   "cell_type": "code",
   "execution_count": null,
   "metadata": {},
   "outputs": [],
   "source": [
    "plt.scatter(df['A'], df['B'])\n",
    "plt.grid(linestyle=':');"
   ]
  },
  {
   "cell_type": "code",
   "execution_count": null,
   "metadata": {},
   "outputs": [],
   "source": [
    "# setting transparency\n",
    "plt.scatter(df.A, df.B, alpha=.5);"
   ]
  },
  {
   "cell_type": "markdown",
   "metadata": {},
   "source": [
    "<font size=4>\n",
    "\n",
    "Documentación oficial: [plt.scatter()](https://matplotlib.org/api/_as_gen/matplotlib.pyplot.scatter.html)\n",
    "\n",
    "___"
   ]
  }
 ],
 "metadata": {
  "kernelspec": {
   "display_name": "Python 3",
   "language": "python",
   "name": "python3"
  },
  "language_info": {
   "codemirror_mode": {
    "name": "ipython",
    "version": 3
   },
   "file_extension": ".py",
   "mimetype": "text/x-python",
   "name": "python",
   "nbconvert_exporter": "python",
   "pygments_lexer": "ipython3",
   "version": "3.7.4"
  }
 },
 "nbformat": 4,
 "nbformat_minor": 4
}
