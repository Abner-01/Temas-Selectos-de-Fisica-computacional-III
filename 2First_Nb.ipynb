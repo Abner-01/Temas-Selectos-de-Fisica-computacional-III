{
 "cells": [
  {
   "cell_type": "markdown",
   "metadata": {},
   "source": [
    "<font color='blue' size=4>\n",
    "    \n",
    "# 1. Markdown cell type"
   ]
  },
  {
   "cell_type": "markdown",
   "metadata": {},
   "source": [
    "<font size=4>\n",
    "\n",
    "Markdown type cells are those that can contain text, images, tables, etc. It has a specific syntax (as will be seen later for some cases) which can be seen by double clicking on the corresponding markdown type cell.\n",
    "\n",
    "When we start a notebook (nb), usually We start by giving a description of the work to be done, then we use a **Markdown** type cell (like the current cell). To choose this cell type you can use any of the following three methods:\n",
    "\n"
   ]
  },
  {
   "cell_type": "markdown",
   "metadata": {},
   "source": [
    "<font color='blue'>\n",
    "    <font size=4>\n",
    "\n",
    "1.  In the tool bar go to **Cell > Cell Type > Markdown**."
   ]
  },
  {
   "cell_type": "markdown",
   "metadata": {},
   "source": [
    "<img src = \"images/cell_type.png\">"
   ]
  },
  {
   "cell_type": "markdown",
   "metadata": {},
   "source": [
    "<font color='blue'>\n",
    "<font size=4>\n",
    "2. Click on button between the following two:\n",
    "\n",
    "<img src='images/c.PNG' align=\"left\"> <img src='images/cmd.PNG' align=\"left\">\n",
    "\n",
    "and select the Markdown type cell."
   ]
  },
  {
   "cell_type": "markdown",
   "metadata": {},
   "source": [
    "<img src='images/code.png'>"
   ]
  },
  {
   "cell_type": "markdown",
   "metadata": {},
   "source": [
    "<font color='blue'>\n",
    "    <font size=4>\n",
    "\n",
    "3. Select the cell (click on the In [ ]:) and type **m**."
   ]
  },
  {
   "cell_type": "markdown",
   "metadata": {},
   "source": [
    "<img src = 'images/F2.PNG'>"
   ]
  },
  {
   "cell_type": "markdown",
   "metadata": {},
   "source": [
    "<font size=4>\n",
    "\n",
    "The current and the above cells are Markdown type, to see the format double click on any of the mentioned cells.\n",
    "\n",
    "As you can see, in Markdown type cells we can put text, images, equations, etc.\n"
   ]
  },
  {
   "cell_type": "markdown",
   "metadata": {},
   "source": [
    "<font color='pinkblue'>\n",
    "    <font size=4>\n",
    "\n",
    "## 1.1 Color text"
   ]
  },
  {
   "cell_type": "markdown",
   "metadata": {},
   "source": [
    "<font size=4>\n",
    "\n",
    "To chosee the color text you can use the following:"
   ]
  },
  {
   "cell_type": "raw",
   "metadata": {},
   "source": [
    "<font color = 'name_color'>"
   ]
  },
  {
   "cell_type": "markdown",
   "metadata": {},
   "source": [
    "<font size=4>\n",
    "\n",
    "and the text after this command will be of the color name_color.\n",
    "\n",
    "In the next cell there is an example:"
   ]
  },
  {
   "cell_type": "markdown",
   "metadata": {},
   "source": [
    "<font size=4>\n",
    "\n",
    "<font color='red'>\n",
    "    \n",
    "This text is red. \n",
    "\n",
    "<font color='orange'>\n",
    "    \n",
    "This text is orange. \n",
    "\n",
    "<font color='yellow'>\n",
    "    \n",
    "This text is yellow. \n",
    "\n",
    "<font color='green'>\n",
    "    \n",
    "This text is green. \n",
    "\n",
    "<font color='blue'>\n",
    "    \n",
    "This text is blue. \n",
    "\n",
    "<font color='purple'>\n",
    "    \n",
    "This text is purple. "
   ]
  },
  {
   "cell_type": "markdown",
   "metadata": {},
   "source": [
    "<font size=4>\n",
    "\n",
    "By default, if the color isn't specified, the text is black. "
   ]
  },
  {
   "cell_type": "markdown",
   "metadata": {},
   "source": [
    "<font color='pinkblue'>\n",
    "    <font size=4>\n",
    "\n",
    "## 1.2 Size and bold text"
   ]
  },
  {
   "cell_type": "markdown",
   "metadata": {},
   "source": [
    "<font size=4>\n",
    "\n",
    "You can vary the size of the text with the symbol #. The more symbols (#) you have, the smaller it will be. In the next cell there is an example."
   ]
  },
  {
   "cell_type": "markdown",
   "metadata": {},
   "source": [
    "# This text have one symbol\n",
    "\n",
    "## This text have two symbols\n",
    "\n",
    "### This text have three symbols\n",
    "\n",
    "#### This text have four symbols\n",
    "\n",
    "##### This text have five symbols\n"
   ]
  },
  {
   "cell_type": "markdown",
   "metadata": {},
   "source": [
    "<font size=4>\n",
    "\n",
    "The maximum number of symbols for which a different result is obtained is five, with four # you have the smallest size and with five you have italic type. \n",
    "\n",
    "When any number of symbols # is used the resulting text is in bold.\n",
    "\n",
    "To put the text in bold, you must write between **\n",
    "\n",
    "Example:"
   ]
  },
  {
   "cell_type": "markdown",
   "metadata": {},
   "source": [
    "<font size=4>\n",
    "\n",
    "**Bold text**"
   ]
  },
  {
   "cell_type": "markdown",
   "metadata": {},
   "source": [
    "<font size=4>\n",
    "\n",
    "The font size is changed with the following command"
   ]
  },
  {
   "cell_type": "raw",
   "metadata": {},
   "source": [
    "<font size = 4>   "
   ]
  },
  {
   "cell_type": "markdown",
   "metadata": {},
   "source": [
    "<font size=4>\n",
    "    \n",
    "   Hola"
   ]
  },
  {
   "cell_type": "markdown",
   "metadata": {},
   "source": [
    "<font size=5>\n",
    "    \n",
    "   Hola"
   ]
  },
  {
   "cell_type": "markdown",
   "metadata": {},
   "source": [
    "<font size=6>\n",
    "    \n",
    "   Hola\n",
    "  "
   ]
  },
  {
   "cell_type": "markdown",
   "metadata": {},
   "source": [
    "<font size=7>\n",
    "    \n",
    "   Hola"
   ]
  },
  {
   "cell_type": "markdown",
   "metadata": {},
   "source": [
    "<font color='pinkblue'>\n",
    "    <font size=4>\n",
    "\n",
    "## 1.3 Images"
   ]
  },
  {
   "cell_type": "markdown",
   "metadata": {},
   "source": [
    "<font size=4>\n",
    "\n",
    "To insert an image use the following command:"
   ]
  },
  {
   "cell_type": "raw",
   "metadata": {},
   "source": [
    "<img src = 'imagepath.extention'>"
   ]
  },
  {
   "cell_type": "markdown",
   "metadata": {},
   "source": [
    "<font size=4>\n",
    "\n",
    "In the next cell there is an image example. Inside the last command you can specify the image size adding style=\"width:450px;height:550px;\", and you can change the numbers 450 and 550 which are the width and height of the image, respectively. "
   ]
  },
  {
   "cell_type": "markdown",
   "metadata": {},
   "source": [
    "<img src = 'images/lucky.jpeg' style=\"width:350px;height:450px;\">"
   ]
  },
  {
   "cell_type": "markdown",
   "metadata": {},
   "source": [
    "<font size=4>\n",
    "\n",
    "If you want to add a caption, you can use the following syntax:"
   ]
  },
  {
   "cell_type": "raw",
   "metadata": {},
   "source": [
    "<img src = \"images/logout.png\">\n",
    "<figcaption> <center> Fig. 2 Right upper corner from Nb Dashboard </center> </figcaption>"
   ]
  },
  {
   "cell_type": "markdown",
   "metadata": {},
   "source": [
    "<font size=4>\n",
    "\n",
    "Example:"
   ]
  },
  {
   "cell_type": "markdown",
   "metadata": {},
   "source": [
    "<img src = \"images/lucky.jpeg\" style=\"width:350px;height:450px;\">\n",
    "<figcaption> <center> Fig. 2 This is the same image of Lucky but with caption. </center> </figcaption>"
   ]
  },
  {
   "cell_type": "markdown",
   "metadata": {},
   "source": [
    "__________________"
   ]
  },
  {
   "cell_type": "markdown",
   "metadata": {},
   "source": [
    "<font color='red'>\n",
    "    <font size=4>\n",
    "        \n",
    "**1. Exercise**"
   ]
  },
  {
   "cell_type": "markdown",
   "metadata": {},
   "source": [
    "<font size=4>\n",
    "\n",
    "I. Add a cell below this. There are two ways to do it:"
   ]
  },
  {
   "cell_type": "markdown",
   "metadata": {},
   "source": [
    "<font size=4>\n",
    "\n",
    "1. Click on the **+** button and automatically it added a cell bellow the current cell selected.\n",
    "\n",
    "<img src='images/plus.PNG'>"
   ]
  },
  {
   "cell_type": "markdown",
   "metadata": {},
   "source": [
    "\n",
    "<font size=4>\n",
    "    \n",
    "2. In the tool bar go to **Insert>Insert Cell Below**:\n",
    "\n",
    "<img src='images/cell_be.PNG'>"
   ]
  },
  {
   "cell_type": "markdown",
   "metadata": {},
   "source": [
    "<font size=4>\n",
    "\n",
    "II. Convert cell to markdown type using any of the three methods seen. "
   ]
  },
  {
   "cell_type": "markdown",
   "metadata": {},
   "source": [
    "<font size=4>\n",
    "\n",
    "III. Go to  [openAI](https://openai.com), choose an article of interest and write a small review. Put a title, with a color that is not black and larger than normal text. "
   ]
  },
  {
   "cell_type": "markdown",
   "metadata": {},
   "source": [
    "<font size=4>\n",
    "\n",
    "IV. Add an image with caption.\n",
    "\n",
    "(add the necessary cells, above or below)"
   ]
  },
  {
   "cell_type": "markdown",
   "metadata": {},
   "source": [
    "_______________"
   ]
  },
  {
   "cell_type": "markdown",
   "metadata": {},
   "source": [
    "<font color='pinkblue'>\n",
    "<font size=4>\n",
    "    \n",
    "## 1.4 Equations"
   ]
  },
  {
   "cell_type": "markdown",
   "metadata": {},
   "source": [
    "<font size=4>\n",
    "We can also write equations using the same format as in latex, for example, in the next cell we present the Richardson equation:"
   ]
  },
  {
   "cell_type": "markdown",
   "metadata": {},
   "source": [
    "<font size=4>\n",
    "\n",
    "$ 1 + 2V\\Sigma_{\\nu´ \\neq \\nu}^{W} (E_{\\nu}-E_{\\nu´})^{-1} + V\\Sigma_{s=1}^{N_{s}} (2\\epsilon_{s}-E_{\\nu})^{-1} = 0  $"
   ]
  },
  {
   "cell_type": "markdown",
   "metadata": {},
   "source": [
    "<font size=4>\n",
    "\n",
    "To indicate that the format used corresponds to an equation, the equation is written between the symbols $. \n",
    "\n",
    "To center the equation, two symbols $ are used at the beginning and end of the equation:"
   ]
  },
  {
   "cell_type": "markdown",
   "metadata": {},
   "source": [
    "<font size=4>\n",
    "\n",
    "$$ 1 + 2V\\Sigma_{\\nu´ \\neq \\nu}^{W} (E_{\\nu}-E_{\\nu´})^{-1} + V\\Sigma_{s=1}^{N_{s}} (2\\epsilon_{s}-E_{\\nu})^{-1} = 0  $$"
   ]
  },
  {
   "cell_type": "markdown",
   "metadata": {},
   "source": [
    "<font color='red'>\n",
    "    <font size=4>\n",
    "        \n",
    "**2. Exercise**"
   ]
  },
  {
   "cell_type": "markdown",
   "metadata": {},
   "source": [
    "<font size=4>\n",
    "\n",
    "I. Write the cost function binary crossentropy. \n",
    "\n",
    "You can check the equation in: [Undestanding binary crossentropy.](https://towardsdatascience.com/understanding-binary-cross-entropy-log-loss-a-visual-explanation-a3ac6025181a) \n",
    "\n",
    "If you do not know how to put a symbol you can check on this page: [Detexify](http://detexify.kirelabs.org/classify.html)"
   ]
  },
  {
   "cell_type": "markdown",
   "metadata": {},
   "source": [
    "<font color='pinkblue'>\n",
    "    <font size=4>\n",
    "\n",
    "## 1.5 Tables"
   ]
  },
  {
   "cell_type": "markdown",
   "metadata": {},
   "source": [
    "<font size=4>\n",
    "\n",
    "To do a table we use the next format:"
   ]
  },
  {
   "cell_type": "raw",
   "metadata": {},
   "source": [
    "| column1 | column2 | column3| ... | columnN |\n",
    "| --- | --- | --- | --- | --- | \n",
    "| val1 | val2 | val3 | ... | valN |"
   ]
  },
  {
   "cell_type": "markdown",
   "metadata": {},
   "source": [
    "<font size=4>\n",
    "\n",
    "what looks as follows"
   ]
  },
  {
   "cell_type": "markdown",
   "metadata": {},
   "source": [
    "\n",
    "| column1 | column2 | column3| ... | columnN |\n",
    "| --- | --- | --- | --- | --- |\n",
    "| val1 | val2 | val3 | ... | valN |"
   ]
  },
  {
   "cell_type": "markdown",
   "metadata": {},
   "source": [
    "<font size=4>\n",
    "\n",
    "Each column is enclosed between pipes (|). \n",
    "\n",
    "To put horizontal lines, three dashes (-) are enclosed between pipes (|). There must be many guides locked as columns. \n",
    "\n",
    "For each row a line is written, respecting the number of columns given in the first row. "
   ]
  },
  {
   "cell_type": "markdown",
   "metadata": {},
   "source": [
    "<font size=4>\n",
    "\n",
    "<font color='red'>\n",
    "    \n",
    "**3. Exercise**"
   ]
  },
  {
   "cell_type": "markdown",
   "metadata": {},
   "source": [
    "<font size=4>\n",
    "\n",
    "I. Make a table to compare the frameworks Keras, Tensorflow and PyTorch. \n",
    "\n",
    "You can use the next link [The major differences between Tf, Keras and PyTorch](https://www.quora.com/What-are-the-major-differences-between-TensorFlow-Keras-and-PyTorch). "
   ]
  },
  {
   "cell_type": "markdown",
   "metadata": {},
   "source": [
    "<font color='pinkblue'>\n",
    "<font size=4>\n",
    "    \n",
    "## 1.6 References"
   ]
  },
  {
   "cell_type": "markdown",
   "metadata": {},
   "source": [
    "<font size=4>\n",
    "To put a reference the following syntax is used:"
   ]
  },
  {
   "cell_type": "raw",
   "metadata": {},
   "source": [
    "[name_reference](url)"
   ]
  },
  {
   "cell_type": "markdown",
   "metadata": {},
   "source": [
    "<font size=4>\n",
    "\n",
    "for example, in the next cell create a shortcut to the Playground TensorFlow page:"
   ]
  },
  {
   "cell_type": "markdown",
   "metadata": {},
   "source": [
    "<font size=4>\n",
    "\n",
    "[Playground TensorFlow](https://playground.tensorflow.org/#activation=tanh&batchSize=10&dataset=circle&regDataset=reg-plane&learningRate=0.03&regularizationRate=0&noise=0&networkShape=4,2&seed=0.56812&showTestData=false&discretize=false&percTrainData=50&x=true&y=true&xTimesY=false&xSquared=false&ySquared=false&cosX=false&sinX=false&cosY=false&sinY=false&collectStats=false&problem=classification&initZero=false&hideText=false)"
   ]
  },
  {
   "cell_type": "markdown",
   "metadata": {},
   "source": [
    "<font size=4>\n",
    "\n",
    "Then you can access any page with just one click, (you must specify its url). \n",
    "\n",
    "We can also access documents found on our computer:"
   ]
  },
  {
   "cell_type": "raw",
   "metadata": {},
   "source": [
    "<a href=\"path_reference\">name_reference</a>)"
   ]
  },
  {
   "cell_type": "markdown",
   "metadata": {},
   "source": [
    "<font size=4>\n",
    "\n",
    "for example:"
   ]
  },
  {
   "cell_type": "markdown",
   "metadata": {},
   "source": [
    "<font size=4>\n",
    "\n",
    "you can go directly to the Michael Nielsen's book with just one click (you must have the indicated pdf file): <a href=\"nielsen.pdf\">Neural Networks and Deep Learning</a>"
   ]
  },
  {
   "cell_type": "markdown",
   "metadata": {},
   "source": [
    "<font color='red'>\n",
    "<font size=4>\n",
    "    \n",
    "**4. Exercise**"
   ]
  },
  {
   "cell_type": "markdown",
   "metadata": {},
   "source": [
    "<font size=4>\n",
    "\n",
    "I. Add the corresponding references in exercise 1. "
   ]
  },
  {
   "cell_type": "markdown",
   "metadata": {},
   "source": [
    "<font color='blue'>\n",
    "<font size=4>\n",
    "    \n",
    "# 2. Code cell type"
   ]
  },
  {
   "cell_type": "markdown",
   "metadata": {},
   "source": [
    "<font size=4>\n",
    "\n",
    "By default, every cell created is code type.\n",
    "\n",
    "Now we will use a code type cell, since we are using the python kernel, the sample code corresponds to the python programming language:"
   ]
  },
  {
   "cell_type": "code",
   "execution_count": 1,
   "metadata": {},
   "outputs": [
    {
     "name": "stdout",
     "output_type": "stream",
     "text": [
      "The current number in the for loop is:  0\n",
      "The current number in the for loop is:  1\n",
      "The current number in the for loop is:  2\n",
      "The current number in the for loop is:  3\n"
     ]
    }
   ],
   "source": [
    "for i in range(4):\n",
    "    print('The current number in the for loop is: ', i)"
   ]
  },
  {
   "cell_type": "markdown",
   "metadata": {},
   "source": [
    "<font size=4>\n",
    "\n",
    "As you can see, in the code cells appears the symbol **In[ ]:** and inside the [ ] appears a number after you compile the cell. This number corresponds to the cell number that has been compiled."
   ]
  },
  {
   "cell_type": "markdown",
   "metadata": {},
   "source": [
    "<font color='red'>\n",
    "    <font size=4>\n",
    "        \n",
    "**5. Exercise**"
   ]
  },
  {
   "cell_type": "markdown",
   "metadata": {},
   "source": [
    "<font size=4>\n",
    "\n",
    "I. Define the sigmoid activation function.\n",
    "\n",
    "[sigmoid activation function](https://keras.io/activations/#sigmoid)"
   ]
  },
  {
   "cell_type": "markdown",
   "metadata": {},
   "source": [
    "<font color='blue'>\n",
    "    <font size=4>\n",
    "\n",
    "## Excellent, we finished our first notebook!"
   ]
  },
  {
   "cell_type": "markdown",
   "metadata": {},
   "source": [
    "<font size=4>\n",
    "\n",
    "We are going to download our work, for this it does the following:\n",
    "\n",
    "Go to **File > Download as >**\n",
    "\n",
    "<img src='images/save.png' style=\"width:350px;height:450px;\">"
   ]
  },
  {
   "cell_type": "markdown",
   "metadata": {},
   "source": [
    "<font size=4>\n",
    "\n",
    "and choose the desired format. \n",
    "\n",
    "[nbconvert](https://nbconvert.readthedocs.io/en/latest/install.html#installing-tex.)"
   ]
  },
  {
   "cell_type": "markdown",
   "metadata": {},
   "source": [
    "<font size=4>\n",
    "\n",
    "\n",
    "Another useful use in a jupyter notebook is that you can use the commands of a terminal by simply placing the **!** symbol followed by the command in a code cell type."
   ]
  },
  {
   "cell_type": "code",
   "execution_count": 7,
   "metadata": {},
   "outputs": [
    {
     "name": "stdout",
     "output_type": "stream",
     "text": [
      "1Introduction_to_jupyter.ipynb\t3Introduction_to_JupyterLab.ipynb  nielsen.pdf\r\n",
      "2First_Nb.ipynb\t\t\timages\r\n"
     ]
    }
   ],
   "source": [
    "!ls"
   ]
  }
 ],
 "metadata": {
  "kernelspec": {
   "display_name": "Python 3",
   "language": "python",
   "name": "python3"
  },
  "language_info": {
   "codemirror_mode": {
    "name": "ipython",
    "version": 3
   },
   "file_extension": ".py",
   "mimetype": "text/x-python",
   "name": "python",
   "nbconvert_exporter": "python",
   "pygments_lexer": "ipython3",
   "version": "3.7.4"
  }
 },
 "nbformat": 4,
 "nbformat_minor": 2
}
