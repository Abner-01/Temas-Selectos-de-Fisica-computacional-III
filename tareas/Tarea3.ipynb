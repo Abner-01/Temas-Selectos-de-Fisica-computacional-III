{
 "cells": [
  {
   "cell_type": "markdown",
   "metadata": {},
   "source": [
    "# Ejercicios de la clase 3"
   ]
  },
  {
   "cell_type": "markdown",
   "metadata": {},
   "source": [
    "<font size=5 color='cornflowerblue'>\n",
    "    \n",
    "  **Ejercicio 1: Generación de muestras y división 90% - 10%**"
   ]
  },
  {
   "cell_type": "markdown",
   "metadata": {},
   "source": [
    "<font size=4, color = \"black\">\n",
    "1. Genera un conjunto de 5000 muestras $(x_i, y_i)$ (tiempo y distancia) usando una pendiente $\\beta = 15$ y una desviación $desv = 5$. Grafica las muestras.\n",
    "    \n",
    "2. Grafica el histograma para X y Y.\n",
    "    \n",
    "3. Divide el conjunto de muestras en $80$%, $10$% y $10$% (train, validation y test respectivamente). Y grafica las muestras para cada conjunto.\n",
    " \n",
    "Puedes apoyarte de la función \"generador_datos_simple(beta, m, desviacion)\" del notebook \"clase-3-vf.ipynb\"."
   ]
  },
  {
   "cell_type": "code",
   "execution_count": 9,
   "metadata": {},
   "outputs": [],
   "source": [
    "#Escribe tu código aquí :) \n",
    "\n"
   ]
  },
  {
   "cell_type": "markdown",
   "metadata": {},
   "source": [
    "<font size=5 color='cornflowerblue'>\n",
    "    \n",
    "  **Ejercicio 2: Ajuste lineal y determinación de peso (weight) y bias óptimos**"
   ]
  },
  {
   "cell_type": "markdown",
   "metadata": {},
   "source": [
    "<font size=4, color = \"black\">\n",
    "1. Normaliza con una desviación estandar el conjunto de entrenamiento.\n",
    "    \n",
    "2. Normaliza el conjunto de validación y prueba usando el promedio y la desviación estándar calculados en el conjunto de entrenamiento.\n",
    "    \n",
    "3. Utilizando el conjunto de entrenamiento, realiza un ajuste empleando regresión lineal y la métrica del error mínimo cuadrado (MSE) usando el método de optimización \"Descenso de gradiente\".\n",
    "    Nota: Recuerda que el ajuste se hace usando el conjunto de entrenamiento. Para cada iteración (epoch) calcula el residuo en el conjunto de entrenamiento y validación.\n",
    "\n",
    "4. Grafica el costo (MSE en este caso) como función de la época (epoch) para los conjuntos train y validation.\n",
    "    \n",
    "5. Determina el residuo usando los pesos (weight) y bias óptimos encontrados en el paso 3 para el conjunto de prueba (test). \n",
    " \n",
    "Puedes apoyarte de la función \"update_parameters(x, y, weight, bias, alfa, iteraciones)\" del notebook \"clase-3-vf.ipynb\""
   ]
  },
  {
   "cell_type": "code",
   "execution_count": 10,
   "metadata": {},
   "outputs": [],
   "source": [
    "#Escribe tu código aquí :) \n",
    "\n"
   ]
  },
  {
   "cell_type": "markdown",
   "metadata": {},
   "source": [
    "<font size=5 color='cornflowerblue'>\n",
    "    \n",
    "  **Ejercicio 3: Inferencia**"
   ]
  },
  {
   "cell_type": "markdown",
   "metadata": {},
   "source": [
    "<font size=4, color = \"black\">\n",
    "Realiza una inferencia de la posición que tendrá una particula para los tiempos = [9.65, 6.76, 5.4, 9.4]."
   ]
  },
  {
   "cell_type": "code",
   "execution_count": 22,
   "metadata": {},
   "outputs": [],
   "source": [
    "#Escribe tu código aquí :) \n",
    "\n"
   ]
  },
  {
   "cell_type": "markdown",
   "metadata": {},
   "source": [
    "<font size=5 color='cornflowerblue'>\n",
    "    \n",
    "  **Ejercicio Extra**"
   ]
  },
  {
   "cell_type": "markdown",
   "metadata": {},
   "source": [
    "<font size=4, color = \"black\">\n",
    "Repite el procedimineto de los ejercicio 1, 2 y 3 considerando que la depencia de Y con X está dada por: $𝐹(𝑥,𝑤,𝑏)=1.7159∗𝑡𝑎𝑛ℎ(𝑤𝑒𝑖𝑔ℎ𝑡∗𝑥+𝑏𝑖𝑎𝑠)$"
   ]
  },
  {
   "cell_type": "code",
   "execution_count": 24,
   "metadata": {},
   "outputs": [],
   "source": [
    "#Escribe tu código aquí :)\n",
    "\n"
   ]
  }
 ],
 "metadata": {
  "kernelspec": {
   "display_name": "Python 3",
   "language": "python",
   "name": "python3"
  },
  "language_info": {
   "codemirror_mode": {
    "name": "ipython",
    "version": 3
   },
   "file_extension": ".py",
   "mimetype": "text/x-python",
   "name": "python",
   "nbconvert_exporter": "python",
   "pygments_lexer": "ipython3",
   "version": "3.6.10"
  }
 },
 "nbformat": 4,
 "nbformat_minor": 4
}
