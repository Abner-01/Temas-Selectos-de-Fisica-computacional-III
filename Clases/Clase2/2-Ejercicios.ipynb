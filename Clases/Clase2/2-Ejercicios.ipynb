{
 "cells": [
  {
   "cell_type": "markdown",
   "metadata": {},
   "source": [
    "# Ejercicios de la clase 2"
   ]
  },
  {
   "cell_type": "markdown",
   "metadata": {},
   "source": [
    "<font size=4 color='cornflowerblue'>\n",
    "    \n",
    "  **Ejercicio 1**"
   ]
  },
  {
   "cell_type": "markdown",
   "metadata": {},
   "source": [
    "<font size=4>\n",
    "\n",
    "Genera 500 muestras $(x_i, y_i)$ usando una desviación de 70 y una pendiente de 15.\n",
    "\n",
    "Grafica las muestras.\n",
    "\n",
    "*Puedes usar la función 'generador_datos_simple(beta, m, desviacion)' del nb clase-2_1*"
   ]
  },
  {
   "cell_type": "code",
   "execution_count": null,
   "metadata": {},
   "outputs": [],
   "source": [
    "# Escribe el codigo aquí\n",
    "\n"
   ]
  },
  {
   "cell_type": "markdown",
   "metadata": {},
   "source": [
    "<font size=4 color='cornflowerblue'>\n",
    "    \n",
    "  **Ejercicio 2**"
   ]
  },
  {
   "cell_type": "markdown",
   "metadata": {},
   "source": [
    "<font size=4>\n",
    "\n",
    "1. Inicializa los parámetros $w$ y $b$. \n",
    "\n",
    "\n",
    "2. Grafica la función $f(x, w, b)$ considerando los parámetros que inicializaste en 1 junto con las muestras que generaste en el ejercicio 1.\n",
    "\n",
    "\n",
    "3. Actualiza los valores de $w$ y $b$ a prueba y error usando la función 'update_weights_biases(weight, bias, value_to_update_weight, value_to_update_bias)' del nb de la clase-2_1"
   ]
  },
  {
   "cell_type": "code",
   "execution_count": null,
   "metadata": {},
   "outputs": [],
   "source": [
    "# Escribe el codigo aquí\n",
    "\n"
   ]
  },
  {
   "cell_type": "markdown",
   "metadata": {},
   "source": [
    "<font size=4 color='cornflowerblue'>\n",
    "    \n",
    "  **Ejercicio 3**"
   ]
  },
  {
   "cell_type": "markdown",
   "metadata": {},
   "source": [
    "<font size=4>\n",
    "\n",
    "Obten los $\\hat{b}$ y $\\hat{\\omega}$ óptimos usando el método de mínimos cuadrados y grafica la función que se genera $f(x, w, b)$.\n",
    "\n",
    "Puedes usar la función que se usa en el nb clase-2_1 o puedes crear tu propia función, incluso puedes buscar si hay alguna librería que haga mínimos cuadrados."
   ]
  },
  {
   "cell_type": "code",
   "execution_count": null,
   "metadata": {},
   "outputs": [],
   "source": [
    "# Escribe el codigo aquí\n",
    "\n"
   ]
  },
  {
   "cell_type": "markdown",
   "metadata": {},
   "source": [
    "<font size=4 color='cornflowerblue'>\n",
    "    \n",
    "  **Ejercicio extra**\n",
    "  \n",
    "  (Para ganar una participación)"
   ]
  },
  {
   "cell_type": "markdown",
   "metadata": {},
   "source": [
    "<font size=4>\n",
    "\n",
    "1. Realiza una animación para que en lugar de ver cómo cambia la tangente (en el algoritmo de Newton-Raphson) en graficas separadas, lo podamos visualizar en una misma gráfica. \n",
    "\n",
    "\n",
    "2. Realiza una animación para que en lugar de ver cómo cambia la función f(x, w, b) (En el método de prueba y error) en graficas separadas, lo podamos visualizar en una misma gráfica."
   ]
  },
  {
   "cell_type": "code",
   "execution_count": null,
   "metadata": {},
   "outputs": [],
   "source": [
    "# Escribe el codigo aquí\n",
    "\n"
   ]
  }
 ],
 "metadata": {
  "kernelspec": {
   "display_name": "Python 3",
   "language": "python",
   "name": "python3"
  },
  "language_info": {
   "codemirror_mode": {
    "name": "ipython",
    "version": 3
   },
   "file_extension": ".py",
   "mimetype": "text/x-python",
   "name": "python",
   "nbconvert_exporter": "python",
   "pygments_lexer": "ipython3",
   "version": "3.7.4"
  }
 },
 "nbformat": 4,
 "nbformat_minor": 4
}
