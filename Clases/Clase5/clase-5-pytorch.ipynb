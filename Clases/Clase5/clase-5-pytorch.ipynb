{
 "cells": [
  {
   "cell_type": "markdown",
   "metadata": {
    "ExecuteTime": {
     "end_time": "2020-03-04T01:21:08.810200Z",
     "start_time": "2020-03-04T01:21:08.804251Z"
    }
   },
   "source": [
    "<font size=4 color='blue'>\n",
    "\n",
    "# <center> Clase 5, octubre 21 del 2020 </center>"
   ]
  },
  {
   "cell_type": "markdown",
   "metadata": {},
   "source": [
    "<font size=4 color='blue'>\n",
    "\n",
    "# <center> Tópico de estudio: Mortalidad por diabetes </center>"
   ]
  },
  {
   "cell_type": "markdown",
   "metadata": {
    "ExecuteTime": {
     "end_time": "2020-10-20T17:31:08.602863Z",
     "start_time": "2020-10-20T17:31:08.598752Z"
    }
   },
   "source": [
    "<font size=4 color='blue'>\n",
    "    \n",
    "## Información sobre el tópico"
   ]
  },
  {
   "cell_type": "markdown",
   "metadata": {},
   "source": [
    "<font size=4>\n",
    "\n",
    "Evolución de la diabetes despues de un año.\n",
    "    \n",
    "En el presente trabajo, la diabetes la caracterizamos con los siguientes diez rasgos: edad, sexo, índice de masa corporal, presión arterial promedio y seis mediciones de suero sanguíneo (S1, S2, S3, S4, S5, S6).\n"
   ]
  },
  {
   "cell_type": "markdown",
   "metadata": {},
   "source": [
    "<font size=4 color='blue'>\n",
    "    \n",
    "## Cuantificación de esta información"
   ]
  },
  {
   "cell_type": "markdown",
   "metadata": {},
   "source": [
    "<font size=4>\n",
    "\n",
    "Se tienen información de 442 pacientes (m = 442). La respuesta de interés, Y, es una medida cuantitativa de la progresión de la enfermedad un año después del inicio del estudio. Los valores de Y varían entre 25 y 346\n",
    "\n",
    "Fuente de la información: [diabetes data](https://www4.stat.ncsu.edu/~boos/var.select/diabetes.html)    \n",
    "\n",
    "Artículo original: [Least-Angle-Regression_2004](./Literatura/Least-Angle-Regression_2004.pdf)"
   ]
  },
  {
   "cell_type": "code",
   "execution_count": 1,
   "metadata": {
    "ExecuteTime": {
     "end_time": "2020-10-20T17:45:45.127216Z",
     "start_time": "2020-10-20T17:45:44.739018Z"
    }
   },
   "outputs": [],
   "source": [
    "import pandas as pd\n",
    "import numpy as np\n",
    "import matplotlib.pyplot as plt\n",
    "import time"
   ]
  },
  {
   "cell_type": "code",
   "execution_count": 2,
   "metadata": {
    "ExecuteTime": {
     "end_time": "2020-10-20T17:45:45.136562Z",
     "start_time": "2020-10-20T17:45:45.128582Z"
    }
   },
   "outputs": [],
   "source": [
    "# Los datos se encuentran el el archivo diabetes.csv\n",
    "\n",
    "df = pd.read_csv('diabetes.csv', sep ='\\t')\n",
    "\n",
    "# se crea el dataframe df, el cual contiene los 10 rasgos relevantes de los pacientes\n",
    "# diabeticos, así como el progreso (y) de la enfermedad un año después de comenzado el estudio. "
   ]
  },
  {
   "cell_type": "code",
   "execution_count": 3,
   "metadata": {
    "ExecuteTime": {
     "end_time": "2020-10-20T17:45:45.155339Z",
     "start_time": "2020-10-20T17:45:45.139087Z"
    }
   },
   "outputs": [
    {
     "data": {
      "text/html": [
       "<div>\n",
       "<style scoped>\n",
       "    .dataframe tbody tr th:only-of-type {\n",
       "        vertical-align: middle;\n",
       "    }\n",
       "\n",
       "    .dataframe tbody tr th {\n",
       "        vertical-align: top;\n",
       "    }\n",
       "\n",
       "    .dataframe thead th {\n",
       "        text-align: right;\n",
       "    }\n",
       "</style>\n",
       "<table border=\"1\" class=\"dataframe\">\n",
       "  <thead>\n",
       "    <tr style=\"text-align: right;\">\n",
       "      <th></th>\n",
       "      <th>AGE</th>\n",
       "      <th>SEX</th>\n",
       "      <th>BMI</th>\n",
       "      <th>BP</th>\n",
       "      <th>S1</th>\n",
       "      <th>S2</th>\n",
       "      <th>S3</th>\n",
       "      <th>S4</th>\n",
       "      <th>S5</th>\n",
       "      <th>S6</th>\n",
       "      <th>Y</th>\n",
       "    </tr>\n",
       "  </thead>\n",
       "  <tbody>\n",
       "    <tr>\n",
       "      <th>0</th>\n",
       "      <td>59</td>\n",
       "      <td>2</td>\n",
       "      <td>32.1</td>\n",
       "      <td>101.0</td>\n",
       "      <td>157</td>\n",
       "      <td>93.2</td>\n",
       "      <td>38.0</td>\n",
       "      <td>4.0</td>\n",
       "      <td>4.8598</td>\n",
       "      <td>87</td>\n",
       "      <td>151</td>\n",
       "    </tr>\n",
       "    <tr>\n",
       "      <th>1</th>\n",
       "      <td>48</td>\n",
       "      <td>1</td>\n",
       "      <td>21.6</td>\n",
       "      <td>87.0</td>\n",
       "      <td>183</td>\n",
       "      <td>103.2</td>\n",
       "      <td>70.0</td>\n",
       "      <td>3.0</td>\n",
       "      <td>3.8918</td>\n",
       "      <td>69</td>\n",
       "      <td>75</td>\n",
       "    </tr>\n",
       "    <tr>\n",
       "      <th>2</th>\n",
       "      <td>72</td>\n",
       "      <td>2</td>\n",
       "      <td>30.5</td>\n",
       "      <td>93.0</td>\n",
       "      <td>156</td>\n",
       "      <td>93.6</td>\n",
       "      <td>41.0</td>\n",
       "      <td>4.0</td>\n",
       "      <td>4.6728</td>\n",
       "      <td>85</td>\n",
       "      <td>141</td>\n",
       "    </tr>\n",
       "    <tr>\n",
       "      <th>3</th>\n",
       "      <td>24</td>\n",
       "      <td>1</td>\n",
       "      <td>25.3</td>\n",
       "      <td>84.0</td>\n",
       "      <td>198</td>\n",
       "      <td>131.4</td>\n",
       "      <td>40.0</td>\n",
       "      <td>5.0</td>\n",
       "      <td>4.8903</td>\n",
       "      <td>89</td>\n",
       "      <td>206</td>\n",
       "    </tr>\n",
       "    <tr>\n",
       "      <th>4</th>\n",
       "      <td>50</td>\n",
       "      <td>1</td>\n",
       "      <td>23.0</td>\n",
       "      <td>101.0</td>\n",
       "      <td>192</td>\n",
       "      <td>125.4</td>\n",
       "      <td>52.0</td>\n",
       "      <td>4.0</td>\n",
       "      <td>4.2905</td>\n",
       "      <td>80</td>\n",
       "      <td>135</td>\n",
       "    </tr>\n",
       "  </tbody>\n",
       "</table>\n",
       "</div>"
      ],
      "text/plain": [
       "   AGE  SEX   BMI     BP   S1     S2    S3   S4      S5  S6    Y\n",
       "0   59    2  32.1  101.0  157   93.2  38.0  4.0  4.8598  87  151\n",
       "1   48    1  21.6   87.0  183  103.2  70.0  3.0  3.8918  69   75\n",
       "2   72    2  30.5   93.0  156   93.6  41.0  4.0  4.6728  85  141\n",
       "3   24    1  25.3   84.0  198  131.4  40.0  5.0  4.8903  89  206\n",
       "4   50    1  23.0  101.0  192  125.4  52.0  4.0  4.2905  80  135"
      ]
     },
     "execution_count": 3,
     "metadata": {},
     "output_type": "execute_result"
    }
   ],
   "source": [
    "# Se despliegan las primeras 5 muestras (rasgos, objetivo)\n",
    "\n",
    "df.head()"
   ]
  },
  {
   "cell_type": "code",
   "execution_count": 4,
   "metadata": {
    "ExecuteTime": {
     "end_time": "2020-10-20T17:45:45.209515Z",
     "start_time": "2020-10-20T17:45:45.156648Z"
    }
   },
   "outputs": [
    {
     "data": {
      "text/html": [
       "<div>\n",
       "<style scoped>\n",
       "    .dataframe tbody tr th:only-of-type {\n",
       "        vertical-align: middle;\n",
       "    }\n",
       "\n",
       "    .dataframe tbody tr th {\n",
       "        vertical-align: top;\n",
       "    }\n",
       "\n",
       "    .dataframe thead th {\n",
       "        text-align: right;\n",
       "    }\n",
       "</style>\n",
       "<table border=\"1\" class=\"dataframe\">\n",
       "  <thead>\n",
       "    <tr style=\"text-align: right;\">\n",
       "      <th></th>\n",
       "      <th>AGE</th>\n",
       "      <th>SEX</th>\n",
       "      <th>BMI</th>\n",
       "      <th>BP</th>\n",
       "      <th>S1</th>\n",
       "      <th>S2</th>\n",
       "      <th>S3</th>\n",
       "      <th>S4</th>\n",
       "      <th>S5</th>\n",
       "      <th>S6</th>\n",
       "      <th>Y</th>\n",
       "    </tr>\n",
       "  </thead>\n",
       "  <tbody>\n",
       "    <tr>\n",
       "      <th>count</th>\n",
       "      <td>442.000000</td>\n",
       "      <td>442.000000</td>\n",
       "      <td>442.000000</td>\n",
       "      <td>442.000000</td>\n",
       "      <td>442.000000</td>\n",
       "      <td>442.000000</td>\n",
       "      <td>442.000000</td>\n",
       "      <td>442.000000</td>\n",
       "      <td>442.000000</td>\n",
       "      <td>442.000000</td>\n",
       "      <td>442.000000</td>\n",
       "    </tr>\n",
       "    <tr>\n",
       "      <th>mean</th>\n",
       "      <td>48.518100</td>\n",
       "      <td>1.468326</td>\n",
       "      <td>26.375792</td>\n",
       "      <td>94.647014</td>\n",
       "      <td>189.140271</td>\n",
       "      <td>115.439140</td>\n",
       "      <td>49.788462</td>\n",
       "      <td>4.070249</td>\n",
       "      <td>4.641411</td>\n",
       "      <td>91.260181</td>\n",
       "      <td>152.133484</td>\n",
       "    </tr>\n",
       "    <tr>\n",
       "      <th>std</th>\n",
       "      <td>13.109028</td>\n",
       "      <td>0.499561</td>\n",
       "      <td>4.418122</td>\n",
       "      <td>13.831283</td>\n",
       "      <td>34.608052</td>\n",
       "      <td>30.413081</td>\n",
       "      <td>12.934202</td>\n",
       "      <td>1.290450</td>\n",
       "      <td>0.522391</td>\n",
       "      <td>11.496335</td>\n",
       "      <td>77.093005</td>\n",
       "    </tr>\n",
       "    <tr>\n",
       "      <th>min</th>\n",
       "      <td>19.000000</td>\n",
       "      <td>1.000000</td>\n",
       "      <td>18.000000</td>\n",
       "      <td>62.000000</td>\n",
       "      <td>97.000000</td>\n",
       "      <td>41.600000</td>\n",
       "      <td>22.000000</td>\n",
       "      <td>2.000000</td>\n",
       "      <td>3.258100</td>\n",
       "      <td>58.000000</td>\n",
       "      <td>25.000000</td>\n",
       "    </tr>\n",
       "    <tr>\n",
       "      <th>25%</th>\n",
       "      <td>38.250000</td>\n",
       "      <td>1.000000</td>\n",
       "      <td>23.200000</td>\n",
       "      <td>84.000000</td>\n",
       "      <td>164.250000</td>\n",
       "      <td>96.050000</td>\n",
       "      <td>40.250000</td>\n",
       "      <td>3.000000</td>\n",
       "      <td>4.276700</td>\n",
       "      <td>83.250000</td>\n",
       "      <td>87.000000</td>\n",
       "    </tr>\n",
       "    <tr>\n",
       "      <th>50%</th>\n",
       "      <td>50.000000</td>\n",
       "      <td>1.000000</td>\n",
       "      <td>25.700000</td>\n",
       "      <td>93.000000</td>\n",
       "      <td>186.000000</td>\n",
       "      <td>113.000000</td>\n",
       "      <td>48.000000</td>\n",
       "      <td>4.000000</td>\n",
       "      <td>4.620050</td>\n",
       "      <td>91.000000</td>\n",
       "      <td>140.500000</td>\n",
       "    </tr>\n",
       "    <tr>\n",
       "      <th>75%</th>\n",
       "      <td>59.000000</td>\n",
       "      <td>2.000000</td>\n",
       "      <td>29.275000</td>\n",
       "      <td>105.000000</td>\n",
       "      <td>209.750000</td>\n",
       "      <td>134.500000</td>\n",
       "      <td>57.750000</td>\n",
       "      <td>5.000000</td>\n",
       "      <td>4.997200</td>\n",
       "      <td>98.000000</td>\n",
       "      <td>211.500000</td>\n",
       "    </tr>\n",
       "    <tr>\n",
       "      <th>max</th>\n",
       "      <td>79.000000</td>\n",
       "      <td>2.000000</td>\n",
       "      <td>42.200000</td>\n",
       "      <td>133.000000</td>\n",
       "      <td>301.000000</td>\n",
       "      <td>242.400000</td>\n",
       "      <td>99.000000</td>\n",
       "      <td>9.090000</td>\n",
       "      <td>6.107000</td>\n",
       "      <td>124.000000</td>\n",
       "      <td>346.000000</td>\n",
       "    </tr>\n",
       "  </tbody>\n",
       "</table>\n",
       "</div>"
      ],
      "text/plain": [
       "              AGE         SEX         BMI          BP          S1          S2  \\\n",
       "count  442.000000  442.000000  442.000000  442.000000  442.000000  442.000000   \n",
       "mean    48.518100    1.468326   26.375792   94.647014  189.140271  115.439140   \n",
       "std     13.109028    0.499561    4.418122   13.831283   34.608052   30.413081   \n",
       "min     19.000000    1.000000   18.000000   62.000000   97.000000   41.600000   \n",
       "25%     38.250000    1.000000   23.200000   84.000000  164.250000   96.050000   \n",
       "50%     50.000000    1.000000   25.700000   93.000000  186.000000  113.000000   \n",
       "75%     59.000000    2.000000   29.275000  105.000000  209.750000  134.500000   \n",
       "max     79.000000    2.000000   42.200000  133.000000  301.000000  242.400000   \n",
       "\n",
       "               S3          S4          S5          S6           Y  \n",
       "count  442.000000  442.000000  442.000000  442.000000  442.000000  \n",
       "mean    49.788462    4.070249    4.641411   91.260181  152.133484  \n",
       "std     12.934202    1.290450    0.522391   11.496335   77.093005  \n",
       "min     22.000000    2.000000    3.258100   58.000000   25.000000  \n",
       "25%     40.250000    3.000000    4.276700   83.250000   87.000000  \n",
       "50%     48.000000    4.000000    4.620050   91.000000  140.500000  \n",
       "75%     57.750000    5.000000    4.997200   98.000000  211.500000  \n",
       "max     99.000000    9.090000    6.107000  124.000000  346.000000  "
      ]
     },
     "execution_count": 4,
     "metadata": {},
     "output_type": "execute_result"
    }
   ],
   "source": [
    "# el método describe() genera una tabla con informacion estadistica de cada uno de los rasgos y del objetivo.\n",
    "\n",
    "df.describe()"
   ]
  },
  {
   "cell_type": "markdown",
   "metadata": {},
   "source": [
    "## Se crean los histogramas para cada uno de los rasgos que caracteriza a los pacientes con diabetes:"
   ]
  },
  {
   "cell_type": "code",
   "execution_count": 5,
   "metadata": {
    "ExecuteTime": {
     "end_time": "2020-10-20T17:45:45.763347Z",
     "start_time": "2020-10-20T17:45:45.210785Z"
    }
   },
   "outputs": [
    {
     "data": {
      "image/png": "[encoded data removed]",
      "text/plain": [
       "<Figure size 1440x576 with 4 Axes>"
      ]
     },
     "metadata": {
      "needs_background": "light"
     },
     "output_type": "display_data"
    }
   ],
   "source": [
    "plt.figure(figsize=(20,8)) \n",
    "\n",
    "ax1 = plt.subplot(2,4,1)\n",
    "ax2 = plt.subplot(2,4,2)\n",
    "ax3 = plt.subplot(2,4,3)\n",
    "ax4 = plt.subplot(2,4,4)\n",
    "\n",
    "ax1.hist(df.AGE, bins=30, color='green',edgecolor='purple', alpha=0.5)\n",
    "ax1.set_xlabel('Age (years)', size=15)\n",
    "ax1.set_ylabel('Frequency', size=15)\n",
    "\n",
    "ax2.hist(df.SEX, bins=30, color='orange',edgecolor='purple', alpha=0.5)\n",
    "ax2.set_xlabel('Sex', size=15)\n",
    "\n",
    "ax3.hist(df.BMI, bins=30, color='red',edgecolor='purple', alpha=0.5)\n",
    "ax3.set_xlabel('Body_mass_index', size=15)\n",
    "\n",
    "ax4.hist(df.BP, bins=30, color='blue',edgecolor='purple', alpha=0.5)\n",
    "ax4.set_xlabel('Average_blood_pressure', size=15);"
   ]
  },
  {
   "cell_type": "code",
   "execution_count": 6,
   "metadata": {
    "ExecuteTime": {
     "end_time": "2020-10-20T17:45:46.277037Z",
     "start_time": "2020-10-20T17:45:45.765459Z"
    }
   },
   "outputs": [
    {
     "data": {
      "image/png": "[encoded data removed]",
      "text/plain": [
       "<Figure size 1440x576 with 4 Axes>"
      ]
     },
     "metadata": {
      "needs_background": "light"
     },
     "output_type": "display_data"
    }
   ],
   "source": [
    "plt.figure(figsize=(20,8)) \n",
    "\n",
    "ax1 = plt.subplot(2,4,1)\n",
    "ax2 = plt.subplot(2,4,2)\n",
    "ax3 = plt.subplot(2,4,3)\n",
    "ax4 = plt.subplot(2,4,4)\n",
    "\n",
    "ax1.hist(df.S1, bins=30, color='green',edgecolor='purple', alpha=0.5)\n",
    "ax1.set_xlabel('S1', size=15)\n",
    "ax1.set_ylabel('Frequency', size=15)\n",
    "\n",
    "ax2.hist(df.S2, bins=30, color='orange',edgecolor='purple', alpha=0.5)\n",
    "ax2.set_xlabel('S2', size=15)\n",
    "\n",
    "ax3.hist(df.S3, bins=30, color='red',edgecolor='purple', alpha=0.5)\n",
    "ax3.set_xlabel('S3', size=15)\n",
    "\n",
    "ax4.hist(df.S4, bins=30, color='blue',edgecolor='purple', alpha=0.5)\n",
    "ax4.set_xlabel('S4', size=15);"
   ]
  },
  {
   "cell_type": "code",
   "execution_count": 7,
   "metadata": {
    "ExecuteTime": {
     "end_time": "2020-10-20T17:45:46.661775Z",
     "start_time": "2020-10-20T17:45:46.278987Z"
    }
   },
   "outputs": [
    {
     "data": {
      "text/plain": [
       "Text(0.5, 0, 'Y')"
      ]
     },
     "execution_count": 7,
     "metadata": {},
     "output_type": "execute_result"
    },
    {
     "data": {
      "image/png": "[encoded data removed]",
      "text/plain": [
       "<Figure size 1080x576 with 3 Axes>"
      ]
     },
     "metadata": {
      "needs_background": "light"
     },
     "output_type": "display_data"
    }
   ],
   "source": [
    "plt.figure(figsize=(15,8)) \n",
    "\n",
    "ax1 = plt.subplot(2,3,1)\n",
    "ax2 = plt.subplot(2,3,2)\n",
    "ax3 = plt.subplot(2,3,3)\n",
    "\n",
    "ax1.hist(df.S5, bins=30, color='green',edgecolor='purple', alpha=0.5)\n",
    "ax1.set_xlabel('S5', size=15)\n",
    "ax1.set_ylabel('Frequency', size=15)\n",
    "\n",
    "ax2.hist(df.S6, bins=30, color='orange',edgecolor='purple', alpha=0.5)\n",
    "ax2.set_xlabel('S6', size=15)\n",
    "\n",
    "ax3.hist(df.Y, bins=30, color='purple',edgecolor='black', alpha=0.5)\n",
    "ax3.set_xlabel('Y', size=15)\n"
   ]
  },
  {
   "cell_type": "markdown",
   "metadata": {
    "ExecuteTime": {
     "end_time": "2020-10-13T20:21:23.071130Z",
     "start_time": "2020-10-13T20:21:23.062454Z"
    }
   },
   "source": [
    "<font size=4>\n",
    "\n",
    "Para quitar cualquier posible correlación entre las muestras (los renglones del DataFrame), estos se reordenan al azar."
   ]
  },
  {
   "cell_type": "code",
   "execution_count": 8,
   "metadata": {
    "ExecuteTime": {
     "end_time": "2020-10-20T17:45:46.667336Z",
     "start_time": "2020-10-20T17:45:46.663945Z"
    }
   },
   "outputs": [],
   "source": [
    "df = df.sample(frac=1)"
   ]
  },
  {
   "cell_type": "markdown",
   "metadata": {},
   "source": [
    "<font size=4>\n",
    "    \n",
    "Se dividen la muestras originales en 2 conjuntos: 90 % para el entrenamiento y 10 % para hacer inferencias predicciones) con lo aprendido."
   ]
  },
  {
   "cell_type": "code",
   "execution_count": 9,
   "metadata": {
    "ExecuteTime": {
     "end_time": "2020-10-20T17:45:46.680115Z",
     "start_time": "2020-10-20T17:45:46.669367Z"
    }
   },
   "outputs": [],
   "source": [
    "test_ratio = 0.1\n",
    "\n",
    "train_ratio = int((1.0-test_ratio)*len(df.values[:,:]))\n",
    "\n",
    "df_train = df.iloc[0:train_ratio,:]\n",
    "df_test  = df.iloc[train_ratio:,:]"
   ]
  },
  {
   "cell_type": "code",
   "execution_count": 10,
   "metadata": {
    "ExecuteTime": {
     "end_time": "2020-10-20T17:45:46.692350Z",
     "start_time": "2020-10-20T17:45:46.681596Z"
    }
   },
   "outputs": [
    {
     "name": "stdout",
     "output_type": "stream",
     "text": [
      "(397, 11)\n",
      "(45, 11)\n"
     ]
    }
   ],
   "source": [
    "print(df_train.shape)\n",
    "print(df_test.shape)"
   ]
  },
  {
   "cell_type": "markdown",
   "metadata": {},
   "source": [
    "<font size=4>\n",
    "\n",
    "Para trabajar con los modelos se requiere que todas las variables tengan el mismo orden de magnitud. Por ello, se normalizan sus valores en las muestras que se van a emplear en el entrenamiento, tanto los rasgos (X) y las objetivo o referencia (Y):\n",
    "\n",
    "$$x_{norm} = \\dfrac{x-\\bar{x}}{\\sigma}$$"
   ]
  },
  {
   "cell_type": "code",
   "execution_count": 11,
   "metadata": {
    "ExecuteTime": {
     "end_time": "2020-10-20T17:45:46.711344Z",
     "start_time": "2020-10-20T17:45:46.693967Z"
    }
   },
   "outputs": [],
   "source": [
    "df_train_norm = (df_train - df_train.mean()) / df_train.std()"
   ]
  },
  {
   "cell_type": "code",
   "execution_count": 12,
   "metadata": {
    "ExecuteTime": {
     "end_time": "2020-10-20T17:45:46.723296Z",
     "start_time": "2020-10-20T17:45:46.712660Z"
    }
   },
   "outputs": [],
   "source": [
    "df_test_norm = (df_test - df_train.mean()) / df_train.std()"
   ]
  },
  {
   "cell_type": "markdown",
   "metadata": {},
   "source": [
    "<font size=4>\n",
    "    \n",
    "Histogramas de las variables que se emplearán en el entrenamiento:"
   ]
  },
  {
   "cell_type": "code",
   "execution_count": 13,
   "metadata": {
    "ExecuteTime": {
     "end_time": "2020-10-20T17:45:47.192840Z",
     "start_time": "2020-10-20T17:45:46.724491Z"
    }
   },
   "outputs": [
    {
     "data": {
      "image/png": "[encoded data removed]",
      "text/plain": [
       "<Figure size 1440x576 with 4 Axes>"
      ]
     },
     "metadata": {
      "needs_background": "light"
     },
     "output_type": "display_data"
    }
   ],
   "source": [
    "plt.figure(figsize=(20,8)) \n",
    "\n",
    "ax1 = plt.subplot(2,4,1)\n",
    "ax2 = plt.subplot(2,4,2)\n",
    "ax3 = plt.subplot(2,4,3)\n",
    "ax4 = plt.subplot(2,4,4)\n",
    "\n",
    "ax1.hist(df_train_norm.AGE, bins=30, color='green',edgecolor='purple', alpha=0.5)\n",
    "ax1.set_xlabel('x1(Age)', size=15)\n",
    "ax1.set_ylabel('Frequency', size=15)\n",
    "\n",
    "ax2.hist(df_train_norm.SEX, bins=30, color='orange',edgecolor='purple', alpha=0.5)\n",
    "ax2.set_xlabel('x2(Sex)', size=15)\n",
    "\n",
    "ax3.hist(df_train_norm.BMI, bins=30, color='red',edgecolor='purple', alpha=0.5)\n",
    "ax3.set_xlabel('x3(Body_mass_index)', size=15)\n",
    "\n",
    "ax4.hist(df_train_norm.BP, bins=30, color='blue',edgecolor='purple', alpha=0.5)\n",
    "ax4.set_xlabel('x4(Average_blood_pressure)', size=15);"
   ]
  },
  {
   "cell_type": "code",
   "execution_count": 14,
   "metadata": {
    "ExecuteTime": {
     "end_time": "2020-10-20T17:45:47.717101Z",
     "start_time": "2020-10-20T17:45:47.194309Z"
    }
   },
   "outputs": [
    {
     "data": {
      "image/png": "[encoded data removed]",
      "text/plain": [
       "<Figure size 1440x576 with 4 Axes>"
      ]
     },
     "metadata": {
      "needs_background": "light"
     },
     "output_type": "display_data"
    }
   ],
   "source": [
    "plt.figure(figsize=(20,8)) \n",
    "\n",
    "ax1 = plt.subplot(2,4,1)\n",
    "ax2 = plt.subplot(2,4,2)\n",
    "ax3 = plt.subplot(2,4,3)\n",
    "ax4 = plt.subplot(2,4,4)\n",
    "\n",
    "ax1.hist(df_train_norm.S1, bins=30, color='green',edgecolor='purple', alpha=0.5)\n",
    "ax1.set_xlabel('x5(S1)', size=15)\n",
    "ax1.set_ylabel('Frequency', size=15)\n",
    "\n",
    "ax2.hist(df_train_norm.S2, bins=30, color='orange',edgecolor='purple', alpha=0.5)\n",
    "ax2.set_xlabel('x6(S2)', size=15)\n",
    "\n",
    "ax3.hist(df_train_norm.S3, bins=30, color='red',edgecolor='purple', alpha=0.5)\n",
    "ax3.set_xlabel('x7(S3)', size=15)\n",
    "\n",
    "ax4.hist(df_train_norm.S4, bins=30, color='blue',edgecolor='purple', alpha=0.5)\n",
    "ax4.set_xlabel('x8(S4)', size=15);"
   ]
  },
  {
   "cell_type": "code",
   "execution_count": 15,
   "metadata": {
    "ExecuteTime": {
     "end_time": "2020-10-20T17:45:48.076436Z",
     "start_time": "2020-10-20T17:45:47.718569Z"
    }
   },
   "outputs": [
    {
     "data": {
      "text/plain": [
       "Text(0.5, 0, 'Y')"
      ]
     },
     "execution_count": 15,
     "metadata": {},
     "output_type": "execute_result"
    },
    {
     "data": {
      "image/png": "[encoded data removed]",
      "text/plain": [
       "<Figure size 1440x576 with 3 Axes>"
      ]
     },
     "metadata": {
      "needs_background": "light"
     },
     "output_type": "display_data"
    }
   ],
   "source": [
    "plt.figure(figsize=(20,8)) \n",
    "\n",
    "ax1 = plt.subplot(2,3,1)\n",
    "ax2 = plt.subplot(2,3,2)\n",
    "ax3 = plt.subplot(2,3,3)\n",
    "\n",
    "ax1.hist(df_train_norm.S5, bins=30, color='green',edgecolor='purple', alpha=0.5)\n",
    "ax1.set_xlabel('x9(S5)', size=15)\n",
    "ax1.set_ylabel('Frequency', size=15)\n",
    "\n",
    "ax2.hist(df_train_norm.S6, bins=30, color='orange',edgecolor='purple', alpha=0.5)\n",
    "ax2.set_xlabel('x10(S6)', size=15)\n",
    "\n",
    "ax3.hist(df_train_norm.Y, bins=30, color='purple',edgecolor='black', alpha=0.5)\n",
    "ax3.set_xlabel('Y', size=15)\n"
   ]
  },
  {
   "cell_type": "markdown",
   "metadata": {},
   "source": [
    "<font size=4>\n",
    "Los valores de las variables X e Y se extraen de las columnas del DataFrame."
   ]
  },
  {
   "cell_type": "code",
   "execution_count": 16,
   "metadata": {
    "ExecuteTime": {
     "end_time": "2020-10-20T17:45:48.080608Z",
     "start_time": "2020-10-20T17:45:48.077919Z"
    }
   },
   "outputs": [],
   "source": [
    "train_x = df_train_norm.values[:,:-1]\n",
    "train_y = df_train_norm.values[:,-1:]"
   ]
  },
  {
   "cell_type": "code",
   "execution_count": 17,
   "metadata": {
    "ExecuteTime": {
     "end_time": "2020-10-20T17:45:48.093105Z",
     "start_time": "2020-10-20T17:45:48.082649Z"
    }
   },
   "outputs": [],
   "source": [
    "test_x = df_test_norm.values[:,:-1]\n",
    "test_y = df_test_norm.values[:,-1:]"
   ]
  },
  {
   "cell_type": "code",
   "execution_count": 18,
   "metadata": {
    "ExecuteTime": {
     "end_time": "2020-10-20T17:45:48.105735Z",
     "start_time": "2020-10-20T17:45:48.094624Z"
    }
   },
   "outputs": [
    {
     "name": "stdout",
     "output_type": "stream",
     "text": [
      "(397, 10)\n",
      "(397, 1)\n",
      "(45, 10)\n",
      "(45, 1)\n"
     ]
    }
   ],
   "source": [
    "print(train_x.shape)\n",
    "print(train_y.shape)\n",
    "print(test_x.shape)\n",
    "print(test_y.shape)"
   ]
  },
  {
   "cell_type": "markdown",
   "metadata": {},
   "source": [
    "<font size=5 color='blue'>\n",
    "\n",
    "# <center> Artificial Neural Networks </center>\n",
    "\n",
    "\n"
   ]
  },
  {
   "cell_type": "markdown",
   "metadata": {},
   "source": [
    "<font size=4 color='blue'>\n",
    "\n",
    "# <center> Implemented using the framework PyTorch </center>\n",
    "\n",
    "<font size=4 color='blue'>\n",
    "    \n",
    "[Pytorch](https://pytorch.org/)"
   ]
  },
  {
   "cell_type": "markdown",
   "metadata": {},
   "source": [
    "<font size=5 color='blue'>\n",
    "\n",
    "Generating a full-connected feedforward (FFF) artificial neural network."
   ]
  },
  {
   "cell_type": "code",
   "execution_count": 19,
   "metadata": {
    "ExecuteTime": {
     "end_time": "2020-10-20T17:45:48.269117Z",
     "start_time": "2020-10-20T17:45:48.107075Z"
    }
   },
   "outputs": [],
   "source": [
    "import networkx as nx\n",
    "\n",
    "class Network(object):\n",
    "    \n",
    "    def  __init__ (self,sizes):\n",
    "        self.num_layers = len(sizes)\n",
    "        print(\"It has\", self.num_layers, \"layers,\")\n",
    "        self.sizes = sizes\n",
    "        print(\"with the following number of nodes per layer\",self.sizes)\n",
    "        self.biases = [np.random.randn(y, 1) for y in sizes[1:]]\n",
    "        self.weights = [np.random.randn(y, x)\n",
    "                        for x, y in zip(sizes[:-1], sizes[1:])]\n",
    "        \n",
    "    def feedforward(self, x_of_sample):\n",
    "        \"\"\"Return the output of the network F(x_of_sample) \"\"\"        \n",
    "        for b, w in zip(self.biases, self.weights):\n",
    "            x_of_sample = sigmoid(np.dot(w, x_of_sample)+b)\n",
    "        return x_of_sample\n",
    "    \n",
    "    def graph(self,sizes):\n",
    "        a=[]\n",
    "        ps={}\n",
    "        Q = nx.Graph()\n",
    "        for i in range(len(sizes)):\n",
    "            Qi=nx.Graph()    \n",
    "            n=sizes[i]\n",
    "            nodos=np.arange(n)\n",
    "            Qi.add_nodes_from(nodos)\n",
    "            l_i=Qi.nodes\n",
    "            Q = nx.union(Q, Qi, rename = (None, 'Q%i-'%i))\n",
    "            if len(l_i)==1:\n",
    "                ps['Q%i-0'%i]=[i/(len(sizes)), 1/2]\n",
    "            else:\n",
    "                for j in range(len(l_i)+1):\n",
    "                    ps['Q%i-%i'%(i,j)]=[i/(len(sizes)),(1/(len(l_i)*len(l_i)))+(j/(len(l_i)))]\n",
    "            a.insert(i,Qi)\n",
    "        for i in range(len(a)-1):\n",
    "            for j in range(len(a[i])):\n",
    "                for k in range(len(a[i+1])):\n",
    "                    Q.add_edge('Q%i-%i' %(i,j),'Q%i-%i' %(i+1,k))\n",
    "        nx.draw(Q, pos = ps)\n",
    "                "
   ]
  },
  {
   "cell_type": "code",
   "execution_count": 20,
   "metadata": {
    "ExecuteTime": {
     "end_time": "2020-10-20T17:45:48.342176Z",
     "start_time": "2020-10-20T17:45:48.270920Z"
    }
   },
   "outputs": [
    {
     "name": "stdout",
     "output_type": "stream",
     "text": [
      "It has 3 layers,\n",
      "with the following number of nodes per layer [10, 4, 1]\n"
     ]
    },
    {
     "data": {
      "image/png": "[encoded data removed]",
      "text/plain": [
       "<Figure size 432x288 with 1 Axes>"
      ]
     },
     "metadata": {},
     "output_type": "display_data"
    }
   ],
   "source": [
    "n_x = train_x.shape[1] \n",
    "n_h = 4\n",
    "n_y = train_y.shape[1]\n",
    "    \n",
    "layers = [n_x, n_h, n_y]\n",
    "net = Network(layers)\n",
    "net.graph(layers)"
   ]
  },
  {
   "cell_type": "markdown",
   "metadata": {},
   "source": [
    "___"
   ]
  },
  {
   "cell_type": "markdown",
   "metadata": {
    "ExecuteTime": {
     "end_time": "2020-10-20T17:38:48.800262Z",
     "start_time": "2020-10-20T17:38:48.797028Z"
    }
   },
   "source": [
    "<font size=5 color='blue'>\n",
    "\n",
    "Installing Pytorch"
   ]
  },
  {
   "cell_type": "raw",
   "metadata": {},
   "source": [
    "$ conda install pytorch torchvision cpuonly -c pytorch"
   ]
  },
  {
   "cell_type": "code",
   "execution_count": 21,
   "metadata": {
    "ExecuteTime": {
     "end_time": "2020-10-20T17:45:49.431448Z",
     "start_time": "2020-10-20T17:45:48.343460Z"
    }
   },
   "outputs": [
    {
     "name": "stdout",
     "output_type": "stream",
     "text": [
      "El seed es 14738836626034743588\n"
     ]
    }
   ],
   "source": [
    "import torch\n",
    "import torch.optim as optim\n",
    "import torch.nn as nn\n",
    "import torchvision\n",
    "import torchvision.transforms as transforms\n",
    "import torch.nn.functional as F #modulo de funciones sin que los parametros sean actualizables\n",
    "\n",
    "#seed=torch.seed()\n",
    "#torch.manual_seed(seed)\n",
    "#np.random.seed(1)\n",
    "print('El seed es', torch.seed())"
   ]
  },
  {
   "cell_type": "code",
   "execution_count": 22,
   "metadata": {
    "ExecuteTime": {
     "end_time": "2020-10-20T17:45:49.435729Z",
     "start_time": "2020-10-20T17:45:49.432733Z"
    }
   },
   "outputs": [
    {
     "name": "stdout",
     "output_type": "stream",
     "text": [
      "(397, 10)\n",
      "(397, 1)\n",
      "(45, 10)\n",
      "(45, 1)\n"
     ]
    }
   ],
   "source": [
    "print(train_x.shape)\n",
    "print(train_y.shape)\n",
    "print(test_x.shape)\n",
    "print(test_y.shape)"
   ]
  },
  {
   "cell_type": "code",
   "execution_count": 23,
   "metadata": {
    "ExecuteTime": {
     "end_time": "2020-10-20T17:45:49.450613Z",
     "start_time": "2020-10-20T17:45:49.438189Z"
    }
   },
   "outputs": [],
   "source": [
    "val_ratio = 0.1\n",
    "train_ratio = int((1.0-val_ratio)*train_x.shape[0])\n",
    "X_val = train_x[train_ratio:,:]\n",
    "Y_val = train_y[train_ratio:,:]\n",
    "\n",
    "X_train = train_x[:train_ratio,:]\n",
    "Y_train = train_y[:train_ratio,:]"
   ]
  },
  {
   "cell_type": "code",
   "execution_count": 24,
   "metadata": {
    "ExecuteTime": {
     "end_time": "2020-10-20T17:45:49.481042Z",
     "start_time": "2020-10-20T17:45:49.452377Z"
    }
   },
   "outputs": [],
   "source": [
    "train_x= torch.Tensor(X_train)\n",
    "train_y = torch.Tensor(Y_train)\n",
    "val_x = torch.Tensor(X_val)\n",
    "val_y = torch.Tensor(Y_val)\n",
    "test_x = torch.Tensor(test_x)\n",
    "test_y = torch.tensor(test_y)"
   ]
  },
  {
   "cell_type": "code",
   "execution_count": 25,
   "metadata": {
    "ExecuteTime": {
     "end_time": "2020-10-20T17:45:49.486743Z",
     "start_time": "2020-10-20T17:45:49.482510Z"
    }
   },
   "outputs": [
    {
     "name": "stdout",
     "output_type": "stream",
     "text": [
      "torch.Size([357, 10])\n",
      "torch.Size([357, 1])\n",
      "torch.Size([40, 10])\n",
      "torch.Size([40, 1])\n",
      "torch.Size([45, 10])\n",
      "torch.Size([45, 1])\n"
     ]
    }
   ],
   "source": [
    "print(train_x.shape)\n",
    "print(train_y.shape)\n",
    "print(val_x.shape)\n",
    "print(val_y.shape)\n",
    "print(test_x.shape)\n",
    "print(test_y.shape)"
   ]
  },
  {
   "cell_type": "markdown",
   "metadata": {
    "ExecuteTime": {
     "end_time": "2020-10-20T00:05:26.679217Z",
     "start_time": "2020-10-20T00:05:26.672079Z"
    }
   },
   "source": [
    "<font size=4>\n",
    "\n",
    "\n",
    "PyTorch has a module nn.Module that has defined functions to construct the neural network. Therefore, this module is used to conctruct the architecture of the network. \n",
    "\n",
    "A module can contain other modules. They can be added to contruct Tree Structures.\n",
    "\n",
    "Documentation: [nn.Module](https://pytorch.org/docs/stable/nn.html#torch.nn.Module)"
   ]
  },
  {
   "cell_type": "markdown",
   "metadata": {},
   "source": [
    "<font size=5 color='blue'>\n",
    "\n",
    "The following class is used to construct the network architecture\n",
    "    \n",
    "and to compile the constructed model of the network."
   ]
  },
  {
   "cell_type": "code",
   "execution_count": 26,
   "metadata": {
    "ExecuteTime": {
     "end_time": "2020-10-20T17:45:49.511797Z",
     "start_time": "2020-10-20T17:45:49.488418Z"
    }
   },
   "outputs": [],
   "source": [
    "class Neural_Network(nn.Module):\n",
    "    \n",
    "    def __init__(self, ):\n",
    "        \n",
    "        super(Neural_Network, self).__init__()\n",
    "        \n",
    "        # numero de nodos de la capa de entrada, i.e., numero de rasgos:\n",
    "        \n",
    "        self.inputSize = 10\n",
    "        \n",
    "        # numero de nodos en la capa de salida:\n",
    "        \n",
    "        self.outputSize = 1\n",
    "        \n",
    "        # numero de nodos en la capa intermedia\n",
    "        \n",
    "        self.hiddenSize = 4\n",
    "        \n",
    "        # inicializacion de los pesos ...\n",
    "        \n",
    "        # entre las capas de entrada e intermedia:\n",
    "        \n",
    "        self.W1 = torch.randn(self.inputSize, self.hiddenSize)\n",
    "        \n",
    "        # entre la capa intermedia y de salida:\n",
    "        \n",
    "        self.W2 = torch.randn(self.hiddenSize, self.outputSize) \n",
    "        \n",
    "        \n",
    "    # ______________________________________________________________________________________\n",
    "        \n",
    "    def forward(self, X):\n",
    "        \n",
    "        # combinacion lineal entre los rasgos (X) y los pesos entre las capas de entrada e intermedia:\n",
    "        \n",
    "        self.z = torch.matmul(X, self.W1)\n",
    "        \n",
    "        # Aplicacion a z de la funcion sigmoide: sigmoid(z)=z2\n",
    "        \n",
    "        self.z2 = self.sigmoid(self.z) \n",
    "        \n",
    "        # combinacion lineal entre z2 y los pesos de las capas intermedia y de salida:\n",
    "        \n",
    "        self.z3 = torch.matmul(self.z2, self.W2)\n",
    "        \n",
    "        # Aplicacion de la funcion lineal, lineal(z3) = z3 = o\n",
    "        \n",
    "        o = self.z3 \n",
    "        \n",
    "        return o\n",
    "    \n",
    "    # ________________________________________________________________________________\n",
    "        \n",
    "    # definicion de la funcion sigmiode y su derivada:\n",
    "    \n",
    "    def sigmoid(self, s):\n",
    "        return 1 / (1 + torch.exp(-s))\n",
    "    \n",
    "    def sigmoidPrime(self, s):\n",
    "        \n",
    "        return s * (1 - s)\n",
    "    \n",
    "    #__________________________________________________________________________________\n",
    "    \n",
    "    \n",
    "    def backward(self, X, y, o, alpha):\n",
    "        \n",
    "        # calculo de derivadas:\n",
    "        \n",
    "        self.o_error = y - o \n",
    "        \n",
    "        self.o_delta = self.o_error\n",
    "        \n",
    "        self.z2_error = torch.matmul(self.o_delta, torch.t(self.W2))\n",
    "        \n",
    "        self.z2_delta = self.z2_error * self.sigmoidPrime(self.z2)\n",
    "        \n",
    "        # actualizacion de parametros usando las derivadas anteriores:\n",
    "        \n",
    "        self.W1 += alpha*torch.matmul(torch.t(X), self.z2_delta)\n",
    "        \n",
    "        self.W2 += alpha*torch.matmul(torch.t(self.z2), self.o_delta)\n",
    "        \n",
    "    # ___________________________________________________________________________________\n",
    "        \n",
    "    def train(self, X, y):\n",
    "        \n",
    "        # se realizan los pasos en forward y backward:\n",
    "        \n",
    "        o = self.forward(X)\n",
    "        \n",
    "        self.backward(X, y, o, 0.001)\n",
    "        \n",
    "    # ____________________________________________________________________________________\n",
    "        \n",
    "        \n",
    "    def saveWeights(self, model):\n",
    "        \n",
    "        # funcion de almacenamiento interno de PyTorch:\n",
    "        \n",
    "        torch.save(model, \"NN\")\n",
    "        \n",
    "        # Para recargar el modelo con todos los pesos:\n",
    "        \n",
    "        torch.load(\"NN\")\n",
    "        \n",
    "    # _______________________________________________________________________________________\n",
    "        \n",
    "    # la siguiente funcion hace las predicciones sobre el conjunto de prueba:    \n",
    "    \n",
    "    def predict(self, xPredicted):\n",
    "        \n",
    "        print (\"Predicted data based on trained weights: \")\n",
    "        \n",
    "        print (\"Input (scaled): \\n\" + str(xPredicted))\n",
    "        \n",
    "        print (\"Output: \\n\" + str(self.forward(xPredicted)))\n",
    "        \n",
    "        return self.forward(xPredicted)\n",
    "        \n",
    "        \n",
    "    def accuracy(self, dataset_x, dataset_y):\n",
    "        \n",
    "        r = 0\n",
    "        \n",
    "        m = len(dataset_y)\n",
    "        \n",
    "        for i in range(len(dataset_y)):\n",
    "                    \n",
    "            r += (i-self.forward(dataset_x[i]))**2\n",
    "        \n",
    "        r /= m \n",
    "        \n",
    "        acc = 100 - r*100\n",
    "        \n",
    "        return acc"
   ]
  },
  {
   "cell_type": "markdown",
   "metadata": {},
   "source": [
    "<font size=5 color='blue'>\n",
    "\n",
    "Training the learning system"
   ]
  },
  {
   "cell_type": "code",
   "execution_count": 27,
   "metadata": {
    "ExecuteTime": {
     "end_time": "2020-10-20T17:45:49.722983Z",
     "start_time": "2020-10-20T17:45:49.514069Z"
    }
   },
   "outputs": [
    {
     "name": "stdout",
     "output_type": "stream",
     "text": [
      "# 0 Loss train: 0.79188 \tLoss val: 0.98066\n",
      "# 1 Loss train: 0.74671 \tLoss val: 0.92766\n",
      "# 2 Loss train: 0.71056 \tLoss val: 0.88523\n",
      "# 3 Loss train: 0.68115 \tLoss val: 0.85059\n",
      "# 4 Loss train: 0.65694 \tLoss val: 0.82186\n",
      "# 5 Loss train: 0.63683 \tLoss val: 0.79773\n",
      "# 6 Loss train: 0.62002 \tLoss val: 0.77726\n",
      "# 7 Loss train: 0.60589 \tLoss val: 0.75975\n",
      "# 8 Loss train: 0.59395 \tLoss val: 0.74466\n",
      "# 9 Loss train: 0.58382 \tLoss val: 0.73156\n",
      "# 10 Loss train: 0.57516 \tLoss val: 0.72013\n",
      "# 11 Loss train: 0.56772 \tLoss val: 0.71007\n",
      "# 12 Loss train: 0.56128 \tLoss val: 0.70118\n",
      "# 13 Loss train: 0.55566 \tLoss val: 0.69327\n",
      "# 14 Loss train: 0.55071 \tLoss val: 0.68618\n",
      "# 15 Loss train: 0.54633 \tLoss val: 0.6798\n",
      "# 16 Loss train: 0.54243 \tLoss val: 0.67403\n",
      "# 17 Loss train: 0.53891 \tLoss val: 0.66878\n",
      "# 18 Loss train: 0.53574 \tLoss val: 0.66397\n",
      "# 19 Loss train: 0.53285 \tLoss val: 0.65956\n",
      "# 20 Loss train: 0.53021 \tLoss val: 0.6555\n",
      "# 21 Loss train: 0.52779 \tLoss val: 0.65173\n",
      "# 22 Loss train: 0.52555 \tLoss val: 0.64823\n",
      "# 23 Loss train: 0.52349 \tLoss val: 0.64498\n",
      "# 24 Loss train: 0.52157 \tLoss val: 0.64193\n",
      "# 25 Loss train: 0.51979 \tLoss val: 0.63907\n",
      "# 26 Loss train: 0.51812 \tLoss val: 0.63639\n",
      "# 27 Loss train: 0.51657 \tLoss val: 0.63387\n",
      "# 28 Loss train: 0.51511 \tLoss val: 0.63148\n",
      "# 29 Loss train: 0.51375 \tLoss val: 0.62923\n",
      "# 30 Loss train: 0.51246 \tLoss val: 0.6271\n",
      "# 31 Loss train: 0.51125 \tLoss val: 0.62507\n",
      "# 32 Loss train: 0.5101 \tLoss val: 0.62315\n",
      "# 33 Loss train: 0.50902 \tLoss val: 0.62132\n",
      "# 34 Loss train: 0.508 \tLoss val: 0.61958\n",
      "# 35 Loss train: 0.50703 \tLoss val: 0.61792\n",
      "# 36 Loss train: 0.50611 \tLoss val: 0.61633\n",
      "# 37 Loss train: 0.50524 \tLoss val: 0.61481\n",
      "# 38 Loss train: 0.50441 \tLoss val: 0.61336\n",
      "# 39 Loss train: 0.50361 \tLoss val: 0.61197\n",
      "# 40 Loss train: 0.50286 \tLoss val: 0.61064\n",
      "# 41 Loss train: 0.50213 \tLoss val: 0.60936\n",
      "# 42 Loss train: 0.50144 \tLoss val: 0.60814\n",
      "# 43 Loss train: 0.50078 \tLoss val: 0.60696\n",
      "# 44 Loss train: 0.50014 \tLoss val: 0.60583\n",
      "# 45 Loss train: 0.49953 \tLoss val: 0.60474\n",
      "# 46 Loss train: 0.49894 \tLoss val: 0.6037\n",
      "# 47 Loss train: 0.49838 \tLoss val: 0.60269\n",
      "# 48 Loss train: 0.49783 \tLoss val: 0.60172\n",
      "# 49 Loss train: 0.49731 \tLoss val: 0.60078\n",
      "# 50 Loss train: 0.4968 \tLoss val: 0.59988\n",
      "# 51 Loss train: 0.49631 \tLoss val: 0.59901\n",
      "# 52 Loss train: 0.49583 \tLoss val: 0.59818\n",
      "# 53 Loss train: 0.49537 \tLoss val: 0.59737\n",
      "# 54 Loss train: 0.49493 \tLoss val: 0.59659\n",
      "# 55 Loss train: 0.49449 \tLoss val: 0.59583\n",
      "# 56 Loss train: 0.49407 \tLoss val: 0.59511\n",
      "# 57 Loss train: 0.49366 \tLoss val: 0.5944\n",
      "# 58 Loss train: 0.49326 \tLoss val: 0.59373\n",
      "# 59 Loss train: 0.49287 \tLoss val: 0.59307\n",
      "# 60 Loss train: 0.4925 \tLoss val: 0.59243\n",
      "# 61 Loss train: 0.49213 \tLoss val: 0.59182\n",
      "# 62 Loss train: 0.49176 \tLoss val: 0.59123\n",
      "# 63 Loss train: 0.49141 \tLoss val: 0.59065\n",
      "# 64 Loss train: 0.49107 \tLoss val: 0.5901\n",
      "# 65 Loss train: 0.49073 \tLoss val: 0.58956\n",
      "# 66 Loss train: 0.4904 \tLoss val: 0.58904\n",
      "# 67 Loss train: 0.49007 \tLoss val: 0.58854\n",
      "# 68 Loss train: 0.48976 \tLoss val: 0.58805\n",
      "# 69 Loss train: 0.48944 \tLoss val: 0.58758\n",
      "# 70 Loss train: 0.48914 \tLoss val: 0.58713\n",
      "# 71 Loss train: 0.48884 \tLoss val: 0.58669\n",
      "# 72 Loss train: 0.48854 \tLoss val: 0.58626\n",
      "# 73 Loss train: 0.48825 \tLoss val: 0.58585\n",
      "# 74 Loss train: 0.48796 \tLoss val: 0.58545\n",
      "# 75 Loss train: 0.48768 \tLoss val: 0.58506\n",
      "# 76 Loss train: 0.48741 \tLoss val: 0.58468\n",
      "# 77 Loss train: 0.48713 \tLoss val: 0.58432\n",
      "# 78 Loss train: 0.48686 \tLoss val: 0.58397\n",
      "# 79 Loss train: 0.4866 \tLoss val: 0.58363\n",
      "# 80 Loss train: 0.48634 \tLoss val: 0.5833\n",
      "# 81 Loss train: 0.48608 \tLoss val: 0.58298\n",
      "# 82 Loss train: 0.48583 \tLoss val: 0.58268\n",
      "# 83 Loss train: 0.48558 \tLoss val: 0.58238\n",
      "# 84 Loss train: 0.48533 \tLoss val: 0.58209\n",
      "# 85 Loss train: 0.48508 \tLoss val: 0.58181\n",
      "# 86 Loss train: 0.48484 \tLoss val: 0.58154\n",
      "# 87 Loss train: 0.4846 \tLoss val: 0.58128\n",
      "# 88 Loss train: 0.48437 \tLoss val: 0.58103\n",
      "# 89 Loss train: 0.48413 \tLoss val: 0.58078\n",
      "# 90 Loss train: 0.4839 \tLoss val: 0.58055\n",
      "# 91 Loss train: 0.48368 \tLoss val: 0.58032\n",
      "# 92 Loss train: 0.48345 \tLoss val: 0.5801\n",
      "# 93 Loss train: 0.48323 \tLoss val: 0.57989\n",
      "# 94 Loss train: 0.483 \tLoss val: 0.57968\n",
      "# 95 Loss train: 0.48279 \tLoss val: 0.57949\n",
      "# 96 Loss train: 0.48257 \tLoss val: 0.5793\n",
      "# 97 Loss train: 0.48235 \tLoss val: 0.57911\n",
      "# 98 Loss train: 0.48214 \tLoss val: 0.57893\n",
      "# 99 Loss train: 0.48193 \tLoss val: 0.57876\n"
     ]
    }
   ],
   "source": [
    "epochs = 100\n",
    "\n",
    "# listas para guardar los costos durante el entrenamiento:\n",
    "\n",
    "loss_train = []\n",
    "loss_val = []\n",
    "\n",
    "NN = Neural_Network()\n",
    "print_cost=True\n",
    "\n",
    "for i in range(epochs): \n",
    "    \n",
    "    print (\"# \" + str(i) + \" Loss train: \" + str(round(torch.mean((train_y - NN(train_x))**2).detach().item(), 5)),\n",
    "           '\\t'\"Loss val: \" + str(round(torch.mean((val_y - NN(val_x))**2).detach().item(), 5)))\n",
    "\n",
    "   \n",
    "    loss_train.append(torch.mean((train_y - NN(train_x))**2).detach().item())\n",
    "    \n",
    "    loss_val.append(torch.mean((val_y - NN(val_x))**2).detach().item())\n",
    "    \n",
    "    NN.train(train_x, train_y)\n",
    "    \n",
    "NN.saveWeights(NN)\n"
   ]
  },
  {
   "cell_type": "markdown",
   "metadata": {},
   "source": [
    "<font size=5 color='blue'>\n",
    "\n",
    "Plots of the costs functions versus the epoch    "
   ]
  },
  {
   "cell_type": "code",
   "execution_count": 28,
   "metadata": {
    "ExecuteTime": {
     "end_time": "2020-10-20T17:45:49.921362Z",
     "start_time": "2020-10-20T17:45:49.724398Z"
    }
   },
   "outputs": [
    {
     "data": {
      "text/plain": [
       "<matplotlib.legend.Legend at 0x7fafaa5c7b90>"
      ]
     },
     "execution_count": 28,
     "metadata": {},
     "output_type": "execute_result"
    },
    {
     "data": {
      "image/png": "[encoded data removed]",
      "text/plain": [
       "<Figure size 720x504 with 1 Axes>"
      ]
     },
     "metadata": {
      "needs_background": "light"
     },
     "output_type": "display_data"
    }
   ],
   "source": [
    "plt.figure(figsize=(10, 7))\n",
    "\n",
    "plt.scatter(range(epochs), loss_train, color='red')\n",
    "plt.scatter(range(epochs), loss_val, color='green')\n",
    "plt.xlabel('epoch', size=15)\n",
    "plt.ylabel('loss', size=15)\n",
    "plt.legend(['cost_train', 'cost_validation'])"
   ]
  },
  {
   "cell_type": "markdown",
   "metadata": {},
   "source": [
    "<font size=5 color='blue'>\n",
    "    \n",
    "Inference"
   ]
  },
  {
   "cell_type": "code",
   "execution_count": 29,
   "metadata": {
    "ExecuteTime": {
     "end_time": "2020-10-20T17:45:49.945993Z",
     "start_time": "2020-10-20T17:45:49.923244Z"
    }
   },
   "outputs": [
    {
     "name": "stdout",
     "output_type": "stream",
     "text": [
      "Predicted data based on trained weights: \n",
      "Input (scaled): \n",
      "tensor([ 0.4994,  1.1135, -0.6536, -0.8213, -0.6860, -0.4663, -0.3059, -0.0420,\n",
      "        -0.2303,  0.4148])\n",
      "Output: \n",
      "tensor([-0.5700])\n",
      "\n",
      "\n",
      "Target:  tensor([-1.2772], dtype=torch.float64)\n"
     ]
    }
   ],
   "source": [
    "sample = 4\n",
    "\n",
    "NN.predict(test_x[sample])\n",
    "\n",
    "print('\\n')\n",
    "\n",
    "print('Target: ', test_y[sample])"
   ]
  },
  {
   "cell_type": "code",
   "execution_count": null,
   "metadata": {},
   "outputs": [],
   "source": []
  }
 ],
 "metadata": {
  "kernelspec": {
   "display_name": "Python 3",
   "language": "python",
   "name": "python3"
  },
  "language_info": {
   "codemirror_mode": {
    "name": "ipython",
    "version": 3
   },
   "file_extension": ".py",
   "mimetype": "text/x-python",
   "name": "python",
   "nbconvert_exporter": "python",
   "pygments_lexer": "ipython3",
   "version": "3.7.0"
  }
 },
 "nbformat": 4,
 "nbformat_minor": 4
}
