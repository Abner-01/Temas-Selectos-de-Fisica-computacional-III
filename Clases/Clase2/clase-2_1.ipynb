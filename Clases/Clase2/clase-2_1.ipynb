{
 "cells": [
  {
   "cell_type": "markdown",
   "metadata": {},
   "source": [
    "<font size=3 color='blue'>\n",
    "    \n",
    "  # <center>Clase 2: septiembre 30 de 2020</center> "
   ]
  },
  {
   "cell_type": "markdown",
   "metadata": {},
   "source": [
    "<font size=2 color='blue'>\n",
    "    \n",
    "# Generación de las muestras\n",
    "\n",
    "<font size=5 >\n",
    "\n",
    "1.  Se genera un conjunto de numeros aleatorios ($(x_1,y_1),(x_2,y_2),…,(x_n,y_n)$)"
   ]
  },
  {
   "cell_type": "code",
   "execution_count": null,
   "metadata": {},
   "outputs": [],
   "source": [
    "import numpy as np\n",
    "import random\n",
    "from sklearn import linear_model\n",
    "from sklearn.metrics import mean_squared_error, r2_score\n",
    "import matplotlib.pyplot as plt\n",
    "%matplotlib inline"
   ]
  },
  {
   "cell_type": "code",
   "execution_count": null,
   "metadata": {
    "ExecuteTime": {
     "end_time": "2020-09-28T11:55:52.490718Z",
     "start_time": "2020-09-28T11:55:50.750858Z"
    }
   },
   "outputs": [],
   "source": [
    "#Se modelan un conjunto de datos (muestras). Estos datos se pueden sustituir por datos \n",
    "# medidos experimentalmente, los cuales simplemente serán leídos.\n",
    "\n",
    "def generador_datos_simple(beta, m, desviacion):\n",
    "    \n",
    "    '''Esta función genera un conjunto de m puntos aleatorios\n",
    "        INPUT: \n",
    "            beta:pendiente\n",
    "            m: numero de muestras generadas\n",
    "            desviación: es el error simulado\n",
    "        OUTPUT: \n",
    "            conjunto de puntos x, y'''\n",
    "    \n",
    "    np.random.seed(3)                          # seed permite fijar una semilla para obtener valores reproducibles\n",
    "    x = np.random.random(m) * 100              # x es arreglo con m numeros aleatorios entre [0, 100)\n",
    "    e = np.random.randn(m) * desviacion        # e es un arreglo de 'errores' generado aleatoriamente\n",
    "    y = x * beta + e                           # x*beta genera una recta de pendiente beta,  \n",
    "                                               # sumando los errores, e, se alejan los puntos de la recta.\n",
    "    \n",
    "    return x.reshape((m,1)), y.reshape((m,1))\n",
    " "
   ]
  },
  {
   "cell_type": "markdown",
   "metadata": {},
   "source": [
    "[seed()](https://www.w3schools.com/python/ref_random_seed.asp)\n",
    "\n",
    "[numpy.random.random()](https://docs.scipy.org/doc/numpy-1.15.0/reference/generated/numpy.random.random.html)\n",
    "\n",
    "[np.random.randn()](https://docs.scipy.org/doc/numpy-1.15.1/reference/generated/numpy.random.randn.html)"
   ]
  },
  {
   "cell_type": "code",
   "execution_count": null,
   "metadata": {},
   "outputs": [],
   "source": [
    "desviacion = 50\n",
    "beta = 8\n",
    "m = 1000\n",
    "\n",
    "x, y = generador_datos_simple(beta, m, desviacion)\n",
    "\n",
    "plt.figure(figsize=(13,8))\n",
    "plt.ylabel('Y', fontsize=16)\n",
    "plt.xlabel('X', fontsize=16)\n",
    "plt.grid(True)\n",
    "plt.scatter(x, y);"
   ]
  },
  {
   "cell_type": "markdown",
   "metadata": {},
   "source": [
    "<font size=2 color='blue'>\n",
    "\n",
    "# Buscando la correlación entre las muestras:\n",
    "\n"
   ]
  },
  {
   "cell_type": "markdown",
   "metadata": {},
   "source": [
    "<font size=4>\n",
    "\n",
    "Se tiene un conjunto de m muestras (puntos) $(x_i, y_i)$, y se busca encontrar una función F que describa una posible correlación entre ellos.\n",
    "\n",
    "Analicemos un problema en donde los valores de $y_i$ dependen de los valores de $x_i$. \n",
    "\n",
    "Para encontrar esta función, inicialmente se propone un conjunto de funciones definidas todas ellas por misma relación funcional de un conjunto de parámetros (variables). Cada función es definida por valores específicos de estos parámetros.\n",
    "\n",
    "Por ejemplo, la relación funcional $$f(x) = b + w x$$ $$ $$define de manera general a todas las funciones que describen una recta en el plano $x-y$. $$ $$En especial la función \n",
    "\n",
    "$$f = 0.0 + 2.0 x$$\n",
    "\n",
    "\n",
    "define a una recta que corta al eje $y$ en 0.0 y tiene una pendiente de 2.0. \n",
    "\n",
    "Mientras que la función $$f = 10.0 + 8.0x,$$ \n",
    "$$ $$ define una recta que corta al eje $y$ en 10.0 y tiene una pendiente de 8.0.\n",
    "\n",
    "En el presente problema, para encontrar la correlación entre las muestras, proponemos un conjunto de funciones definidas mediante la siguiente relación lineal:\n",
    "\n",
    "$$ f(x, w, b) = b + w x $$\n",
    "  \n",
    "Vemos que esta relación funcional es derivable respecto a todas sus variables, x, w, b.\n",
    "La letra w se emplea como abreviación de la palabra en inglés \"weight\", porque se relaciona con la importancia que tiene la variable x en el valor de la función f. La letra b es la abreviación de la palabra \"bias\" en inglés, y se refiere a la referencia respecto a cero de la función f.\n"
   ]
  },
  {
   "cell_type": "markdown",
   "metadata": {
    "ExecuteTime": {
     "end_time": "2020-02-05T18:20:56.725971Z",
     "start_time": "2020-02-05T18:20:56.721704Z"
    }
   },
   "source": [
    "<font size = 4>\n",
    "\n",
    "Para encontrar la función que describe la correlación entre los puntos, es necesario generar una métrica para describir qué tanto se acerca cada una de las funciones específicas (con valores definidos de w y de b) a esta descripción.\n",
    "\n",
    "La métrica que se propone es la siguiente: $$ $$\n",
    "\n",
    "Para cada muestra $(x_i, y_i)$ se evalua $f(x_i)$ y se compara con el correspondiente valor $y_i$, la diferencia entre estos valores se eleva al cuadrado. $$ (f(x_i)-y_i)^{2}$$\n",
    "\n",
    "\n",
    "Finalmente se calcula el promedio de este valor sobre todas las muestras, el cual definimos como resiudo. En Machine Learning en lugar del término residuo algunos autores emplean el término gasto.\n",
    "\n",
    "Si m es el número de muestras, el residuo queda como:\n",
    "\n",
    "$$ Residuo = \\dfrac {1}{m}∑_{i=1}^{m}(f(x_i)-y_i)^{2} $$\n",
    "\n",
    "siendo m el número de muestras.\n"
   ]
  },
  {
   "cell_type": "markdown",
   "metadata": {},
   "source": [
    "___"
   ]
  },
  {
   "cell_type": "markdown",
   "metadata": {},
   "source": [
    "<font size=4>\n",
    "\n",
    "A continuación revisaremos algunas formas de abordar el problema.\n",
    "\n",
    "\n",
    "<font size=4, color='blue'>\n",
    "    \n",
    "> ### a) A prueba y error observando la gráfica de la función f\n",
    "    \n",
    "#### En el siguiente código se implementa la generación del residuo dada una función específica definido por los pesos iniciales w = weight_0, y b = bias_0."
   ]
  },
  {
   "cell_type": "markdown",
   "metadata": {},
   "source": [
    "<font size =4>\n",
    "    \n",
    "\n",
    "### 1. Los parámetros w y b se eligen al azar: \n",
    "\n",
    "``` python \n",
    "\n",
    "weight_0 = random.randrange(0, 10)\n",
    "\n",
    "bias_0 = random.randrange(0, 100)\n",
    "\n",
    "```\n",
    "\n",
    "[random.randrange()](https://www.w3schools.com/python/ref_random_randrange.asp) ---> returns a randomly selected element from the specified range."
   ]
  },
  {
   "cell_type": "code",
   "execution_count": null,
   "metadata": {
    "ExecuteTime": {
     "end_time": "2020-09-28T11:55:52.496236Z",
     "start_time": "2020-09-28T11:55:52.492397Z"
    }
   },
   "outputs": [],
   "source": [
    "random.seed(3) # Se fija una semilla para obtener valores reproducibles\n",
    "\n",
    "# Se inicialilzan las variables de la función:\n",
    "\n",
    "weight_0 = random.randrange(0, 10)\n",
    "bias_0 = random.randrange(0, 100)\n",
    "\n",
    "print('weight_0:', weight_0, '\\n', \n",
    "      'bias_0:', bias_0)"
   ]
  },
  {
   "cell_type": "markdown",
   "metadata": {},
   "source": [
    "<font size=4>\n",
    "\n",
    "### 2. Se grafica la correspondiente función f, junto con los puntos que representan a las muestras"
   ]
  },
  {
   "cell_type": "code",
   "execution_count": null,
   "metadata": {
    "ExecuteTime": {
     "end_time": "2020-09-28T11:55:52.680829Z",
     "start_time": "2020-09-28T11:55:52.497679Z"
    }
   },
   "outputs": [],
   "source": [
    "#The following arrays are generated for plotting the Function F(x, weight_0, bias_0)\n",
    "x_ = np.arange(0, 100, 0.1) # genera el conjunto de valores que inicia en 0, termina en 100 y va en pasos de 0.1\n",
    "y_ = weight_0*x_ + bias_0   # se evalua cada punto de x_ en la funcion f(x)=wx+b\n",
    "\n",
    "# usando la función f, el residuo se calcula al compara los valores medidos y los valores calculados\n",
    "residuo = 0\n",
    "for i in range(len(x)):\n",
    "    r = (y[i]-weight_0*x[i] - bias_0)**2\n",
    "    residuo += np.squeeze(r)\n",
    "residuo = residuo/len(x)\n",
    "print('residuo: {0:10.2f}'.format(residuo))\n",
    "\n",
    "\n",
    "# Se grafica la funcion f y las muestras (puntos)\n",
    "plt.figure(figsize=(13,8))\n",
    "plt.ylabel('Y', fontsize=16)\n",
    "plt.xlabel('X', fontsize=16)\n",
    "\n",
    "#Plotting function\n",
    "plt.plot(x_, y_, color='green', lw=4, label='F(x, w, b)')\n",
    "plt.legend()\n",
    "\n",
    "#Plotting samples\n",
    "plt.scatter(x, y);"
   ]
  },
  {
   "cell_type": "markdown",
   "metadata": {},
   "source": [
    "<font size=4>\n",
    "\n",
    "Como se observa en la gráfica, esta función está lejos de describir la correlación entre los puntos. \n",
    "\n",
    "\n",
    "<font color='blue'>\n",
    "    \n",
    "\n",
    "#### Los valores del peso *w* y el bias *b* se actualizan iterativamente a prueba y error. Para ello se deben hacer los cambios de acuedo a la gráfica (residuo) que se obtenga."
   ]
  },
  {
   "cell_type": "code",
   "execution_count": null,
   "metadata": {
    "ExecuteTime": {
     "end_time": "2020-09-28T11:55:52.698310Z",
     "start_time": "2020-09-28T11:55:52.686727Z"
    }
   },
   "outputs": [],
   "source": [
    "def update_weights_biases(weight, bias, value_to_update_weight, value_to_update_bias):\n",
    "    \n",
    "    '''Esta función actualiza los valores de w y b y calcula el respectivo residuo\n",
    "    \n",
    "    INPUT:\n",
    "        weight: peso actual\n",
    "        bias: bias actual\n",
    "        value_to_update_weight: valor a agregar para actualizar el peso\n",
    "        value_to_update_bias: valor a agregar para actualizar el bias\n",
    "    OUTPUT:\n",
    "        weigth: el peso actualizado\n",
    "        bias: el bias actualizado\n",
    "        residuo: el residuo que se genera con la nueva función f con el peso y bias actualizados'''\n",
    "    \n",
    "    # Actualización de peso y bias:\n",
    "    weight = weight + value_to_update_weight\n",
    "    bias = bias + value_to_update_bias\n",
    "\n",
    "    #The following date are for constructing the F(x,weight, bias)\n",
    "    x_ = np.array([0, 100])\n",
    "    y_ = weight*x_ + bias           # se calcula la nueva función f\n",
    "\n",
    "    # se grafica la nueva función f y las muestras:\n",
    "    plt.figure(figsize=(13,8))\n",
    "    plt.ylabel('Y', fontsize=16)\n",
    "    plt.xlabel('X', fontsize=16)\n",
    "    \n",
    "    # grafica de f\n",
    "    plt.plot(x_, y_, 'orchid', lw=4, label='F(x,w,b)')\n",
    "    plt.legend()\n",
    "\n",
    "    # grafica de las muestras\n",
    "    plt.scatter(x, y);\n",
    "    \n",
    "    # calculo del residuo:\n",
    "    residuo = 0\n",
    "    for i in range(len(x)):\n",
    "        r = (y[i]- weight*x[i] - bias)**2\n",
    "        residuo += np.squeeze(r)   \n",
    "    residuo = residuo/len(x)\n",
    "    print('residuo: {:10.2f}'.format(residuo))\n",
    "         \n",
    "    return weight, bias, residuo"
   ]
  },
  {
   "cell_type": "code",
   "execution_count": null,
   "metadata": {
    "ExecuteTime": {
     "end_time": "2020-09-28T11:55:52.873860Z",
     "start_time": "2020-09-28T11:55:52.699584Z"
    }
   },
   "outputs": [],
   "source": [
    "weight_1, bias_1, residuo_1 = update_weights_biases(weight_0, bias_0, 1, -10.0)"
   ]
  },
  {
   "cell_type": "markdown",
   "metadata": {},
   "source": [
    "<font size=4>\n",
    "\n",
    "Se comparan las dos graficas anteriores, es decir, $f(x)=w_0 x + b_0$ con $f(x)=w_1 x + b_1$"
   ]
  },
  {
   "cell_type": "code",
   "execution_count": null,
   "metadata": {
    "ExecuteTime": {
     "end_time": "2020-09-28T11:55:53.077358Z",
     "start_time": "2020-09-28T11:55:52.875251Z"
    }
   },
   "outputs": [],
   "source": [
    "x_ = np.array([0, 100])\n",
    "y_0 = weight_0*x_ + bias_0     # función inicial\n",
    "y_1 = weight_1*x_ + bias_1     # función actualizada\n",
    "\n",
    "\n",
    "plt.figure(figsize=(13,8))\n",
    "plt.ylabel('Y', fontsize=16)\n",
    "plt.xlabel('X', fontsize=16)\n",
    "\n",
    "#Grafica de las funciones:\n",
    "plt.plot(x_, y_0, 'green', lw=4, label='F(x,w_0,b_0)')\n",
    "plt.plot(x_, y_1, 'orchid', lw=4, label='F(x,w_1,b_1)')\n",
    "plt.legend()\n",
    "# grafica de las muestras:\n",
    "plt.scatter(x, y);"
   ]
  },
  {
   "cell_type": "markdown",
   "metadata": {},
   "source": [
    "<font size=4>\n",
    "\n",
    "El cambio es muy pequeño, por lo que se actualizara al peso con 2.0 y el bias a -100.0. "
   ]
  },
  {
   "cell_type": "code",
   "execution_count": null,
   "metadata": {
    "ExecuteTime": {
     "end_time": "2020-09-28T11:55:53.231916Z",
     "start_time": "2020-09-28T11:55:53.079707Z"
    }
   },
   "outputs": [],
   "source": [
    "weight_2, bias_2, residuo_2 = update_weights_biases(weight_1, bias_1, 2, -100.0)"
   ]
  },
  {
   "cell_type": "markdown",
   "metadata": {},
   "source": [
    "<font size=4>\n",
    "\n",
    "Se compara con la versión anterior"
   ]
  },
  {
   "cell_type": "code",
   "execution_count": null,
   "metadata": {
    "ExecuteTime": {
     "end_time": "2020-09-28T11:55:53.394049Z",
     "start_time": "2020-09-28T11:55:53.233836Z"
    }
   },
   "outputs": [],
   "source": [
    "x_ = np.array([0, 100])\n",
    "y_1 = weight_1*x_ + bias_1\n",
    "y_2 = weight_2*x_ + bias_2\n",
    "\n",
    "\n",
    "plt.figure(figsize=(13,8))\n",
    "plt.ylabel('Y', fontsize=16)\n",
    "plt.xlabel('X', fontsize=16)\n",
    "\n",
    "plt.plot(x_, y_1, 'green', lw=4, label='F(x,w,b)')\n",
    "plt.plot(x_, y_2, 'orchid', lw=4, label='F(x,w,b)_update')\n",
    "plt.legend()\n",
    "\n",
    "plt.scatter(x, y);"
   ]
  },
  {
   "cell_type": "markdown",
   "metadata": {},
   "source": [
    "<font size=4>\n",
    "\n",
    "Aún se puede mejorar aumentando el peso (pendiente):"
   ]
  },
  {
   "cell_type": "code",
   "execution_count": null,
   "metadata": {
    "ExecuteTime": {
     "end_time": "2020-09-28T11:55:53.545322Z",
     "start_time": "2020-09-28T11:55:53.395976Z"
    }
   },
   "outputs": [],
   "source": [
    "weight_3, bias_3, residuo_3 = update_weights_biases(weight_2, bias_2, 1.5, 0.0)"
   ]
  },
  {
   "cell_type": "markdown",
   "metadata": {},
   "source": [
    "<font size=4>\n",
    "\n",
    "Se comparan las dos graficas anteriores"
   ]
  },
  {
   "cell_type": "code",
   "execution_count": null,
   "metadata": {
    "ExecuteTime": {
     "end_time": "2020-09-28T11:55:53.702533Z",
     "start_time": "2020-09-28T11:55:53.547005Z"
    }
   },
   "outputs": [],
   "source": [
    "x_ = np.array([0, 100])\n",
    "y_2 = weight_2*x_ + bias_2\n",
    "y_3 = weight_3*x_ + bias_3\n",
    "\n",
    "\n",
    "plt.figure(figsize=(13,8))\n",
    "plt.ylabel('Y', fontsize=16)\n",
    "plt.xlabel('X', fontsize=16)\n",
    "\n",
    "plt.plot(x_, y_2, 'green', lw=4, label='F(x,w,b)')\n",
    "plt.plot(x_, y_3, 'orchid', lw=4, label='F(x,w,b)_update')\n",
    "plt.legend()\n",
    "\n",
    "plt.scatter(x, y);"
   ]
  },
  {
   "cell_type": "markdown",
   "metadata": {},
   "source": [
    "<font size=4>\n",
    "\n",
    "Se prueba aumentando la pendiente un poco mas:"
   ]
  },
  {
   "cell_type": "code",
   "execution_count": null,
   "metadata": {
    "ExecuteTime": {
     "end_time": "2020-09-28T11:55:53.853388Z",
     "start_time": "2020-09-28T11:55:53.703962Z"
    }
   },
   "outputs": [],
   "source": [
    "weight_4, bias_4, residuo_4 = update_weights_biases(weight_3, bias_3, 1.5, 0.0)"
   ]
  },
  {
   "cell_type": "markdown",
   "metadata": {},
   "source": [
    "<font size=4>\n",
    "\n",
    "Comparación con la función anterior:"
   ]
  },
  {
   "cell_type": "code",
   "execution_count": null,
   "metadata": {
    "ExecuteTime": {
     "end_time": "2020-09-28T11:55:54.013594Z",
     "start_time": "2020-09-28T11:55:53.854699Z"
    }
   },
   "outputs": [],
   "source": [
    "x_ = np.array([0, 100])\n",
    "y_3 = weight_3*x_ + bias_3\n",
    "y_4 = weight_4*x_ + bias_4\n",
    "\n",
    "\n",
    "plt.figure(figsize=(13,8))\n",
    "plt.ylabel('Y', fontsize=16)\n",
    "plt.xlabel('X', fontsize=16)\n",
    "\n",
    "plt.plot(x_, y_3, 'green', lw=4, label='F(x,w,b)')\n",
    "plt.plot(x_, y_4, 'orchid', lw=4, label='F(x,w,b)_update')\n",
    "plt.legend()\n",
    "\n",
    "plt.scatter(x, y);"
   ]
  },
  {
   "cell_type": "markdown",
   "metadata": {},
   "source": [
    "<font size=4>\n",
    "\n",
    "El residuo aumento en comparacion con la ultima versión por lo que ahora es conveniente disminuir la pendiente."
   ]
  },
  {
   "cell_type": "code",
   "execution_count": null,
   "metadata": {
    "ExecuteTime": {
     "end_time": "2020-09-28T11:55:54.164423Z",
     "start_time": "2020-09-28T11:55:54.015140Z"
    }
   },
   "outputs": [],
   "source": [
    "weight_5, bias_5, residuo_5 = update_weights_biases(weight_4, bias_4, -1.0, 0.2)"
   ]
  },
  {
   "cell_type": "markdown",
   "metadata": {},
   "source": [
    "<font size=4>\n",
    "\n",
    "Comparación con la función anterior:"
   ]
  },
  {
   "cell_type": "code",
   "execution_count": null,
   "metadata": {
    "ExecuteTime": {
     "end_time": "2020-09-28T11:55:54.320319Z",
     "start_time": "2020-09-28T11:55:54.166017Z"
    }
   },
   "outputs": [],
   "source": [
    "x_ = np.array([0, 100])\n",
    "y_4 = weight_4*x_ + bias_4\n",
    "y_5 = weight_5*x_ + bias_5\n",
    "\n",
    "\n",
    "plt.figure(figsize=(13,8))\n",
    "plt.ylabel('Y', fontsize=16)\n",
    "plt.xlabel('X', fontsize=16)\n",
    "\n",
    "plt.plot(x_, y_4, 'green', lw=4, label='F(x,w,b)')\n",
    "plt.plot(x_, y_5, 'orchid', lw=4, label='F(x,w,b)_update')\n",
    "plt.legend()\n",
    "\n",
    "plt.scatter(x, y);"
   ]
  },
  {
   "cell_type": "code",
   "execution_count": null,
   "metadata": {
    "ExecuteTime": {
     "end_time": "2020-09-28T11:55:54.472470Z",
     "start_time": "2020-09-28T11:55:54.321681Z"
    }
   },
   "outputs": [],
   "source": [
    "weight_6, bias_6, residuo_6 = update_weights_biases(weight_5, bias_5, 1.0, 0.0)"
   ]
  },
  {
   "cell_type": "code",
   "execution_count": null,
   "metadata": {
    "ExecuteTime": {
     "end_time": "2020-09-28T11:55:54.635390Z",
     "start_time": "2020-09-28T11:55:54.474068Z"
    }
   },
   "outputs": [],
   "source": [
    "x_ = np.array([0, 100])\n",
    "y_5 = weight_5*x_ + bias_5\n",
    "y_6 = weight_6*x_ + bias_6\n",
    "\n",
    "\n",
    "plt.figure(figsize=(13,8))\n",
    "plt.ylabel('Y', fontsize=16)\n",
    "plt.xlabel('X', fontsize=16)\n",
    "\n",
    "plt.plot(x_, y_5, 'green', lw=4, label='F(x,w,b)')\n",
    "plt.plot(x_, y_6, 'orchid', lw=4, label='F(x,w,b)_update')\n",
    "plt.legend()\n",
    "\n",
    "plt.scatter(x, y);"
   ]
  },
  {
   "cell_type": "markdown",
   "metadata": {},
   "source": [
    "<font size=4 color='red'>\n",
    "\n",
    "#### Se puede mejorar, la idea es observar el cambio en el residuo con los cambios en la pendiente w y en b.\n",
    "\n",
    "___"
   ]
  },
  {
   "cell_type": "markdown",
   "metadata": {},
   "source": [
    "<font size=4 color='blue'>\n",
    "\n",
    "> ### b) Buscando el resudio mínimo\n",
    "\n",
    "#### Busquemos encontrar la función que defina la correlación generando un conjunto de funciones y calcular los correspondientes residuos."
   ]
  },
  {
   "cell_type": "code",
   "execution_count": null,
   "metadata": {
    "ExecuteTime": {
     "end_time": "2020-09-28T11:55:54.643782Z",
     "start_time": "2020-09-28T11:55:54.637374Z"
    }
   },
   "outputs": [],
   "source": [
    "residuo= 0\n",
    "\n",
    "for i in range(len(x)):\n",
    "    r = (y[i]-weight_0*x[i]- bias_0)**2\n",
    "    residuo += np.squeeze(r)\n",
    "residuo = residuo/len(x)\n",
    "\n",
    "print('residuo: {0:10.2f}'.format(residuo))"
   ]
  },
  {
   "cell_type": "markdown",
   "metadata": {},
   "source": [
    "<font size=4>\n",
    "\n",
    "La función **update_weight_bias()** actualiza a los parametros weight y bias, y calcula el residuo.\n",
    "\n",
    "> ### Primero vamos a dejar fija a b y vamos a variar a w."
   ]
  },
  {
   "cell_type": "code",
   "execution_count": null,
   "metadata": {
    "ExecuteTime": {
     "end_time": "2020-09-28T11:56:02.297886Z",
     "start_time": "2020-09-28T11:55:54.645680Z"
    }
   },
   "outputs": [],
   "source": [
    "parameters = []\n",
    "\n",
    "weight = weight_0\n",
    "bias = -3.0\n",
    "\n",
    "for i in range(50):\n",
    "    \n",
    "    weight, bias, residuo = update_weights_biases(weight, bias, 0.2, 0)\n",
    "    parameters.append([weight, bias, residuo])\n",
    "    print('weight: {0:10.2f} bias: {1:10.2f} residuo: {2:10.2f}'.format(weight,bias, residuo))"
   ]
  },
  {
   "cell_type": "markdown",
   "metadata": {},
   "source": [
    "<font size=4>\n",
    "\n",
    "Graficamos algunas de las funciones obtenidas:"
   ]
  },
  {
   "cell_type": "code",
   "execution_count": null,
   "metadata": {
    "ExecuteTime": {
     "end_time": "2020-09-28T11:56:02.582285Z",
     "start_time": "2020-09-28T11:56:02.299860Z"
    }
   },
   "outputs": [],
   "source": [
    "plt.figure(figsize=(13,8))\n",
    "plt.ylabel('Y', fontsize=16)\n",
    "plt.xlabel('X', fontsize=16)\n",
    "plt.grid(True)\n",
    "\n",
    "for i in range(0,50,3):\n",
    "    plt.plot(x_, parameters[i][0]*x_ + parameters[i][1], label='v' + str(i), lw=3)\n",
    "    plt.legend()\n",
    "\n",
    "plt.scatter(x, y);"
   ]
  },
  {
   "cell_type": "markdown",
   "metadata": {},
   "source": [
    "<font size=4>\n",
    "\n",
    "A continuación se grafica el residuo en función de la pendiente, w.\n",
    " \n",
    " El valor óptimo de la pendiente es aquel que minimiza al residuo. "
   ]
  },
  {
   "cell_type": "code",
   "execution_count": null,
   "metadata": {
    "ExecuteTime": {
     "end_time": "2020-09-28T11:56:02.698376Z",
     "start_time": "2020-09-28T11:56:02.583659Z"
    }
   },
   "outputs": [],
   "source": [
    "plt.figure(figsize=(13,8))\n",
    "plt.ylabel('Residuo', fontsize=16)\n",
    "plt.xlabel('W', fontsize=16)\n",
    "plt.grid(True)\n",
    "\n",
    "weights = []\n",
    "residuos = []\n",
    "\n",
    "for i in parameters: \n",
    "    weights.append(i[0])\n",
    "    residuos.append(i[2])\n",
    "    \n",
    "plt.scatter(weights, residuos);"
   ]
  },
  {
   "cell_type": "markdown",
   "metadata": {},
   "source": [
    "<font size = 4>\n",
    "\n",
    "Como se observa en la grafica anterior, el mínimo de la pendiente esta cerca de 8, en $ w \\approx 8$."
   ]
  },
  {
   "cell_type": "code",
   "execution_count": null,
   "metadata": {
    "ExecuteTime": {
     "end_time": "2020-09-28T11:56:02.704375Z",
     "start_time": "2020-09-28T11:56:02.699941Z"
    }
   },
   "outputs": [],
   "source": [
    "index_min = np.argmin(residuos)\n",
    "print('El residuo mas pequeño tiene el valor: {0:10.2f}'.format(parameters[index_min][2]))\n",
    "\n",
    "print('Los valores optimos de los parámetros son w = {0:5.2f} y b = {1:5.2f} ' \\\n",
    "      .format(parameters[index_min][0], parameters[index_min][1]))"
   ]
  },
  {
   "cell_type": "markdown",
   "metadata": {},
   "source": [
    "<font size = 4>\n",
    "\n",
    "Se grafica la recta con los valores óptimos encontrados $ \\hat w $ y $\\hat b $:"
   ]
  },
  {
   "cell_type": "code",
   "execution_count": null,
   "metadata": {
    "ExecuteTime": {
     "end_time": "2020-09-28T11:56:02.856941Z",
     "start_time": "2020-09-28T11:56:02.707443Z"
    }
   },
   "outputs": [],
   "source": [
    "plt.figure(figsize=(13,8))\n",
    "plt.ylabel('Y', fontsize=16)\n",
    "plt.xlabel('X', fontsize=16)\n",
    "plt.grid(True)\n",
    "\n",
    "plt.plot(x, parameters[np.argmin(residuos)][0]*x+parameters[np.argmin(residuos)][1], color='magenta', label='test and trial', lw=4)\n",
    "plt.legend()\n",
    "\n",
    "plt.scatter(x, y);"
   ]
  },
  {
   "cell_type": "markdown",
   "metadata": {
    "ExecuteTime": {
     "end_time": "2020-09-28T11:56:02.860748Z",
     "start_time": "2020-09-28T11:56:02.858706Z"
    }
   },
   "source": [
    "> ### Ahora se va a realizar un proceso similiar al anterior pero ahora se va a dejar fijo w y se va a variar a b."
   ]
  },
  {
   "cell_type": "code",
   "execution_count": null,
   "metadata": {
    "ExecuteTime": {
     "end_time": "2020-09-28T11:56:10.504484Z",
     "start_time": "2020-09-28T11:56:02.861974Z"
    }
   },
   "outputs": [],
   "source": [
    "parameters = []\n",
    "\n",
    "weight_0 = 8.0\n",
    "bias = -250\n",
    "for i in range(50):\n",
    "    \n",
    "    weight, bias, residuo = update_weights_biases(weight_0, bias, 0, 10.0)\n",
    "    \n",
    "    parameters.append([weight, bias, residuo])\n",
    "\n",
    "    print('weight: {0:10.2f} bias: {1:10.2f} residuo: {2:10.2f}'.format(weight,bias, residuo))"
   ]
  },
  {
   "cell_type": "markdown",
   "metadata": {},
   "source": [
    "<font size=4>\n",
    "\n",
    "Graficamos algunas de las funciones obtenidas:"
   ]
  },
  {
   "cell_type": "code",
   "execution_count": null,
   "metadata": {
    "ExecuteTime": {
     "end_time": "2020-09-28T11:56:10.810261Z",
     "start_time": "2020-09-28T11:56:10.506133Z"
    }
   },
   "outputs": [],
   "source": [
    "plt.figure(figsize=(13,12))\n",
    "plt.ylabel('Y', fontsize=16)\n",
    "plt.xlabel('X', fontsize=16)\n",
    "\n",
    "for i in range(0,50,3):\n",
    "    plt.plot(x_, weight_0*x_ + parameters[i][1], label='v' + str(i), lw=3)\n",
    "    plt.legend()\n",
    "\n",
    "plt.scatter(x, y);"
   ]
  },
  {
   "cell_type": "markdown",
   "metadata": {},
   "source": [
    "<font size=4>\n",
    "\n",
    "A continuación se grafica el residuo en función de b (ordenada al origen).\n",
    " \n",
    "El valor óptimo de b es aquel que minimiza al residuo."
   ]
  },
  {
   "cell_type": "code",
   "execution_count": null,
   "metadata": {
    "ExecuteTime": {
     "end_time": "2020-09-28T11:56:10.923342Z",
     "start_time": "2020-09-28T11:56:10.811927Z"
    }
   },
   "outputs": [],
   "source": [
    "plt.figure(figsize=(13,8))\n",
    "plt.ylabel('Residuo', fontsize=16)\n",
    "plt.xlabel('b', fontsize=16)\n",
    "plt.grid(True)\n",
    "\n",
    "bias = []\n",
    "residuos = []\n",
    "\n",
    "for i in parameters:\n",
    "    bias.append(i[1])\n",
    "    residuos.append(i[2])\n",
    "    \n",
    "plt.scatter(bias, residuos);"
   ]
  },
  {
   "cell_type": "markdown",
   "metadata": {},
   "source": [
    "<font size = 4>\n",
    "\n",
    "Como se observa en la grafica el mínimo del bias b esta alrededor de cero."
   ]
  },
  {
   "cell_type": "code",
   "execution_count": null,
   "metadata": {
    "ExecuteTime": {
     "end_time": "2020-09-28T11:56:10.928714Z",
     "start_time": "2020-09-28T11:56:10.924795Z"
    }
   },
   "outputs": [],
   "source": [
    "index_min = np.argmin(residuos)\n",
    "\n",
    "print('El residuo mas pequeño tiene indice: {0:10.2f}'.format(parameters[index_min][2]))\n",
    "print('Los valores optimos de los parámetros son w = {0:5.2f} y b = {1:5.2f} '.format(parameters[index_min][0], parameters[index_min][1]))\n"
   ]
  },
  {
   "cell_type": "code",
   "execution_count": null,
   "metadata": {},
   "outputs": [],
   "source": [
    "type(residuos)"
   ]
  },
  {
   "cell_type": "code",
   "execution_count": null,
   "metadata": {},
   "outputs": [],
   "source": [
    "residuos_array = np.asarray(residuos)\n",
    "type(residuos_array)"
   ]
  },
  {
   "cell_type": "markdown",
   "metadata": {},
   "source": [
    "<font size=4>\n",
    "Calculamos el gradiente:"
   ]
  },
  {
   "cell_type": "code",
   "execution_count": null,
   "metadata": {},
   "outputs": [],
   "source": [
    "residuos_grad = np.gradient(residuos_array)\n",
    "residuos_grad"
   ]
  },
  {
   "cell_type": "code",
   "execution_count": null,
   "metadata": {
    "ExecuteTime": {
     "end_time": "2020-09-28T11:56:10.923342Z",
     "start_time": "2020-09-28T11:56:10.811927Z"
    }
   },
   "outputs": [],
   "source": [
    "plt.figure(figsize=(13,8))\n",
    "plt.ylabel('Derivada del Residuo', fontsize=16)\n",
    "plt.xlabel('b', fontsize=16)\n",
    "plt.grid(True)\n",
    "\n",
    "bias = []\n",
    "residuos = []\n",
    "\n",
    "for i in parameters: \n",
    "    bias.append(i[1])\n",
    "    residuos.append(i[2])\n",
    "    \n",
    "plt.scatter(bias, residuos_grad);"
   ]
  },
  {
   "cell_type": "markdown",
   "metadata": {},
   "source": [
    "<font size=4>\n",
    "\n",
    "En este caso el residuo es una parábola, su derivada entonces es una recta. En general el residuo tendrá una forma muy diferente al de una parábola"
   ]
  },
  {
   "cell_type": "markdown",
   "metadata": {},
   "source": [
    "<font size = 4>\n",
    "\n",
    "Se grafica la recta empleando los valores óptimos $ \\hat w$ y $\\hat b$."
   ]
  },
  {
   "cell_type": "code",
   "execution_count": null,
   "metadata": {
    "ExecuteTime": {
     "end_time": "2020-09-28T11:56:11.094292Z",
     "start_time": "2020-09-28T11:56:10.930029Z"
    }
   },
   "outputs": [],
   "source": [
    "plt.figure(figsize=(13,8))\n",
    "plt.ylabel('Y', fontsize=16)\n",
    "plt.xlabel('X', fontsize=16)\n",
    "\n",
    "plt.plot(x, parameters[np.argmin(residuos)][0]*x+parameters[np.argmin(residuos)][1], color='magenta', label='test and trial', lw=4)\n",
    "plt.legend()\n",
    "\n",
    "plt.scatter(x, y);"
   ]
  },
  {
   "cell_type": "markdown",
   "metadata": {},
   "source": [
    "___"
   ]
  },
  {
   "cell_type": "markdown",
   "metadata": {},
   "source": [
    "<font color = 'blue' size = 4>\n",
    "\n",
    "> ### c) Método simple de mínimos cuadrados, de acuerdo a Gauss"
   ]
  },
  {
   "cell_type": "markdown",
   "metadata": {},
   "source": [
    "<font size=4>\n",
    "\n",
    "El método de mínimos cuadrados nos permite encontrar una función que describe la correlación que tienen un conjunto m de puntos (X, Y).\n",
    "\n",
    "\n",
    "El objetivo del algoritmo es obtener la relación entre un conjunto de variables independientes X y la variable dependiente Y.\n",
    "\n",
    "En el presente caso, se propone una función lineal para describir la correlación:\n",
    "\n",
    "$$ F(x_i) = b + w x_i $$\n",
    " \n",
    "\n",
    "Las variables b  y w definen a la función F. \n",
    "\n",
    "Con el método simple de mínimos cuadrados se hallan los valores óptimos $\\hat{b}$ y $\\hat{\\omega}$ de estas variables."
   ]
  },
  {
   "cell_type": "markdown",
   "metadata": {},
   "source": [
    "<font size = 4>\n",
    "\n",
    "La diferencia entre el valor real $y_i$ y el valor estimado $F(x_i)$ se denomina $r_i$:\n",
    "\n",
    "$$ r_i = y_i - F(x_i) $$\n",
    "\n",
    "El objetivo del método de mínimos cuadrados es minimizar la suma del cuadrado de los residuos, es decir, minimizar a:\n",
    "\n",
    "$$ Residuo = \\dfrac {1}{m} ∑_{i=1}^{m}r_{i}^{2} $$\n",
    "\n",
    "Derivando parcialmente con respecto a los parámetros e igualando a cero se obtiene que:\n",
    "\n",
    "$$ \\dfrac{∂Residuo}{∂\\hat{w}} =0⟶\\hat{\\omega}=\\dfrac{∑_{i=1}^{n}(x_i–\\bar x)(y_i–\\bar y)}{∑_{i=1}^{m}(x_i–\\bar x)^2}$$\n",
    "\n",
    "\n",
    "$$ \\dfrac{∂Residuo}{∂\\hat{b}}=0⟶\\hat{b}=y–\\hat w x $$\n",
    "\n",
    "en donde $\\bar x$ y $\\bar y$ son los promedios de las muestras.\n",
    "\n",
    "La siguiente función realiza las operaciones anteriores:"
   ]
  },
  {
   "cell_type": "code",
   "execution_count": null,
   "metadata": {
    "ExecuteTime": {
     "end_time": "2020-09-28T11:56:11.102016Z",
     "start_time": "2020-09-28T11:56:11.095851Z"
    }
   },
   "outputs": [],
   "source": [
    "def mean_square_error(x, y):\n",
    "    \n",
    "    # 1) Se obtiene el promedio de los valores x_i y y_i\n",
    "\n",
    "    mean_x = np.mean(x)\n",
    "    mean_y = np.mean(y)\n",
    "\n",
    "    # 2) se calcula (x_i-x) y (y_i-y), con x e y los promedios de x_i e y_i, respectivamente.\n",
    "\n",
    "    x_i = []\n",
    "    for i in x:\n",
    "        x_i.append(np.squeeze(i) - mean_x)\n",
    "\n",
    "    y_i = []\n",
    "    for i in y:\n",
    "        y_i.append(np.squeeze(i) - mean_y)\n",
    "\n",
    "    # 3) se calcula (x_i-x)*(x_i-x)\n",
    "\n",
    "    x_i2 = np.power(x_i, 2)\n",
    "\n",
    "    # 4) se hacen las sumas correspondientes\n",
    "\n",
    "    xy_sum = 0\n",
    "\n",
    "    for i in range(len(x_i)):\n",
    "        xy_sum += x_i[i]*y_i[i]\n",
    "    x2_sum = 0\n",
    "\n",
    "    for i in range(len(x_i)):\n",
    "        x2_sum += x_i2[i]\n",
    "\n",
    "    # Se definen a w y b \n",
    "\n",
    "    w = xy_sum/x2_sum\n",
    "    b = mean_y - w*mean_x\n",
    "       \n",
    "    return w, b"
   ]
  },
  {
   "cell_type": "markdown",
   "metadata": {},
   "source": [
    "<font size=4>\n",
    "    \n",
    "Se observan las $\\hat{b}$ y $\\hat{\\omega}$ óptimas:"
   ]
  },
  {
   "cell_type": "code",
   "execution_count": null,
   "metadata": {
    "ExecuteTime": {
     "end_time": "2020-09-28T11:56:11.118460Z",
     "start_time": "2020-09-28T11:56:11.103474Z"
    }
   },
   "outputs": [],
   "source": [
    "w, b = mean_square_error(x, y)\n",
    "print(\" w = {0:5.2f}, b = {1:5.2f}\".format(w,b))"
   ]
  },
  {
   "cell_type": "markdown",
   "metadata": {},
   "source": [
    "<font size=4>\n",
    "    \n",
    "Se grafica la función f con las $\\hat{b}$ y $\\hat{\\omega}$ óptimas:"
   ]
  },
  {
   "cell_type": "code",
   "execution_count": null,
   "metadata": {
    "ExecuteTime": {
     "end_time": "2020-09-28T11:56:11.320115Z",
     "start_time": "2020-09-28T11:56:11.119946Z"
    }
   },
   "outputs": [],
   "source": [
    "x_ = np.array([0, 100])\n",
    "\n",
    "y_MSE = x_*w + b\n",
    "\n",
    "plt.figure(figsize=(13,8))\n",
    "plt.ylabel('Y', fontsize=16)\n",
    "plt.xlabel('X', fontsize=16)\n",
    "plt.grid(True)\n",
    "\n",
    "plt.plot(x_, y_MSE, color='green', lw=4)\n",
    "\n",
    "plt.scatter(x, y);"
   ]
  },
  {
   "cell_type": "markdown",
   "metadata": {},
   "source": [
    "<font size=4>\n",
    "    \n",
    "El 'error' encontrado es:"
   ]
  },
  {
   "cell_type": "code",
   "execution_count": null,
   "metadata": {
    "ExecuteTime": {
     "end_time": "2020-09-28T11:56:11.327893Z",
     "start_time": "2020-09-28T11:56:11.321660Z"
    }
   },
   "outputs": [],
   "source": [
    "MSE= 0\n",
    "\n",
    "for i in range(len(x)):\n",
    "    r = (y[i]-w*x[i] + b)**2\n",
    "    MSE += np.squeeze(r)\n",
    "MSE = MSE / len(x)\n",
    "\n",
    "print('MSE: {0:10.2f}'.format(MSE))"
   ]
  },
  {
   "cell_type": "markdown",
   "metadata": {},
   "source": [
    "<font size=4>\n",
    "    \n",
    "Comparamos las funciones obtenidas con el método b)(hallar el residuo mínimo a mano) y el método c) (mínimos cuadrados):"
   ]
  },
  {
   "cell_type": "code",
   "execution_count": null,
   "metadata": {
    "ExecuteTime": {
     "end_time": "2020-09-28T11:56:11.498770Z",
     "start_time": "2020-09-28T11:56:11.329557Z"
    }
   },
   "outputs": [],
   "source": [
    "plt.figure(figsize=(13,8))\n",
    "plt.ylabel('Y', fontsize=16)\n",
    "plt.xlabel('X', fontsize=16)\n",
    "\n",
    "\n",
    "plt.plot(x, parameters[np.argmin(residuos)][0]*x+parameters[np.argmin(residuos)][1], color='magenta', label='hand_MSE-residuo', lw=3)\n",
    "plt.plot(x_, y_MSE, color='blue', label = 'Gauss_MSE-residuo', lw=3)\n",
    "plt.legend()\n",
    "\n",
    "plt.scatter(x, y);"
   ]
  },
  {
   "cell_type": "markdown",
   "metadata": {},
   "source": [
    "___"
   ]
  },
  {
   "cell_type": "markdown",
   "metadata": {},
   "source": [
    "<font size =4 color='blue'>\n",
    "    \n",
    "> ### d) Determinación de la función que describe la correlación entre los datos empleando el método de Newton-Raphson\n",
    " "
   ]
  },
  {
   "cell_type": "markdown",
   "metadata": {},
   "source": [
    "<font size=4>\n",
    "\n",
    "El método de Newton-Rapshon se usa para encontrar las raíces de una función real. \n",
    "\n",
    "Se parte de la derivada de la función $f$ y una suposición inicial $x_0$ para una raíz de $f$. Si la función satisface suposiciones suficientes y la suposición inicial es cercana, entonces se mejora la aproximación de la raíz con:\n",
    "\n",
    "$$ x_1 = x_0 - \\dfrac{f(x_0)}{f´(x_0)}$$\n",
    "\n",
    "$(x_1, 0)$ es la intersección del eje $x$ y la tangente de la gráfica de $f$ en $(x_0, f(x_0))$.\n",
    "\n",
    "[Newton´s method](https://en.wikipedia.org/wiki/Newton%27s_method)\n",
    "\n",
    "\n",
    "<img src = \"images/NewtonIteration_Ani.gif\">\n",
    "\n",
    "(By Ralf Pfeifer - de:Image:NewtonIteration Ani.gif, CC BY-SA 3.0, https://commons.wikimedia.org/w/index.php?curid=2268473)"
   ]
  },
  {
   "cell_type": "markdown",
   "metadata": {},
   "source": [
    "<font size =4>\n",
    "\n",
    "Si el método se aplica a la derivada de una funcion $f$, es decir, se aplica a $f'$, entonces se pueden hallar los mínimos o máximos de $f$. \n",
    "\n",
    "[Newton´s method in optimization](https://en.wikipedia.org/wiki/Newton%27s_method_in_optimization#Newton's_Method)"
   ]
  },
  {
   "cell_type": "code",
   "execution_count": null,
   "metadata": {
    "ExecuteTime": {
     "end_time": "2020-09-28T11:56:11.508356Z",
     "start_time": "2020-09-28T11:56:11.500749Z"
    }
   },
   "outputs": [],
   "source": [
    "def newton_raphson(f,Df,x0,epsilon,max_iter):\n",
    "    '''Approximate solution of f(x)=0 by Newton's method.\n",
    "\n",
    "    Parameters\n",
    "    ----------\n",
    "    f : function \n",
    "    Df : Derivative of f(x).\n",
    "    x0 : Initial guess for finding the root of f(x).\n",
    "    epsilon :Stopping criteria: the iteration ends when abs(f(x)) < epsilon.\n",
    "    max_iter : Maximum number of iterations of Newton's method.\n",
    "\n",
    "    Returns\n",
    "    -------\n",
    "    xn : number\n",
    "        Implement Newton's method: compute the linear approximation\n",
    "        of f(x) at xn and find x intercept by the formula\n",
    "            x = xn - f(xn)/Df(xn)\n",
    "        Continue until abs(f(xn)) < epsilon and return xn.\n",
    "        If Df(xn) == 0, return None. If the number of iterations\n",
    "        exceeds max_iter, then return None.\n",
    "    '''\n",
    "    \n",
    "    aprox_root = [x0]  # en esta lista se van guardando las aproximaciones a la raíz\n",
    "    xn = x0\n",
    "      \n",
    "    # xn es la aproximación de la raíz de f. Inicialmente xn =x0 con x0 la primera aproximación\n",
    "    \n",
    "    for n in range(0,max_iter):\n",
    "        fxn = f(xn)\n",
    "        print(\"xn = \", xn, \"aprox_root = \", aprox_root)\n",
    "        \n",
    "        if abs(fxn) < epsilon:\n",
    "            print('Found solution after',n,'iterations.')\n",
    "            return xn, aprox_root\n",
    "        \n",
    "        Dfxn = Df(xn)\n",
    "        if Dfxn == 0:\n",
    "            print('Zero derivative. No solution found.')\n",
    "            return None\n",
    "        \n",
    "        print(\"fxn = \", fxn, \"Dfxn = \", Dfxn)\n",
    "        \n",
    "        xn = xn - fxn/Dfxn\n",
    "        aprox_root.append(xn)\n",
    "        \n",
    "    print('Exceeded maximum iterations. No solution found.')\n",
    "    \n",
    "    return None"
   ]
  },
  {
   "cell_type": "markdown",
   "metadata": {},
   "source": [
    "<font size=4>\n",
    "    \n",
    "    Ejemplo:\n",
    "    \n",
    " Se define una función $p(x)=x^3-27$ y su derivada $Dp(x)=3x^2$:"
   ]
  },
  {
   "cell_type": "code",
   "execution_count": null,
   "metadata": {
    "ExecuteTime": {
     "end_time": "2020-09-28T11:56:11.543474Z",
     "start_time": "2020-09-28T11:56:11.528000Z"
    }
   },
   "outputs": [],
   "source": [
    "#p = lambda x: x**3-27\n",
    "\n",
    "def p(x):\n",
    "    return x**3-27\n",
    "\n",
    "#Dp = lambda x: 3*x**2 \n",
    "\n",
    "def Dp(x):\n",
    "    return 3*x**2"
   ]
  },
  {
   "cell_type": "markdown",
   "metadata": {},
   "source": [
    "<font size=4>\n",
    "\n",
    " Se grafica la función $p(x)=x^3-27$"
   ]
  },
  {
   "cell_type": "code",
   "execution_count": null,
   "metadata": {
    "ExecuteTime": {
     "end_time": "2020-09-28T11:56:11.694654Z",
     "start_time": "2020-09-28T11:56:11.563716Z"
    }
   },
   "outputs": [],
   "source": [
    "x_ = np.arange(-10, 10)\n",
    "y_ = p(x_)\n",
    "\n",
    "plt.figure(figsize=(13,8))\n",
    "plt.ylabel('Y', fontsize=16)\n",
    "plt.xlabel('X', fontsize=16)\n",
    "plt.grid(True)\n",
    "\n",
    "plt.plot(x_, y_, color='r');\n",
    "\n",
    "#print(y_)"
   ]
  },
  {
   "cell_type": "markdown",
   "metadata": {},
   "source": [
    "<font size=4>\n",
    "    \n",
    "Se usa Newton-Raphson para hallar las raíces:"
   ]
  },
  {
   "cell_type": "code",
   "execution_count": null,
   "metadata": {
    "ExecuteTime": {
     "end_time": "2020-09-28T11:56:11.703967Z",
     "start_time": "2020-09-28T11:56:11.696162Z"
    }
   },
   "outputs": [],
   "source": [
    "newton_raphson(p,Dp,7.5,0.001,50)"
   ]
  },
  {
   "cell_type": "markdown",
   "metadata": {},
   "source": [
    "<font size=4>\n",
    "    \n",
    "Función para graficar la tangente:"
   ]
  },
  {
   "cell_type": "code",
   "execution_count": null,
   "metadata": {
    "ExecuteTime": {
     "end_time": "2020-09-28T11:56:11.716925Z",
     "start_time": "2020-09-28T11:56:11.705079Z"
    }
   },
   "outputs": [],
   "source": [
    "def tangent_line(f, Df, x_0, a, b):\n",
    "        \n",
    "    x = np.linspace(a,b)\n",
    "    y = f(x) \n",
    "    y_0 = f(x_0)\n",
    "    y_tan = Df(x_0) * (x - x_0) + y_0 \n",
    "    \n",
    "    plt.figure(figsize=(13,8))\n",
    "    plt.ylabel('Y', fontsize=16)\n",
    "    plt.xlabel('X', fontsize=16)\n",
    "\n",
    "    plt.plot(x,y,'r-')\n",
    "    plt.plot(x,y_tan,'b-')\n",
    "    plt.xlabel('x') \n",
    "    plt.ylabel('y') \n",
    "    plt.grid(True)\n",
    "    \n",
    "    plt.title('Plot of a function with tangent line');"
   ]
  },
  {
   "cell_type": "code",
   "execution_count": null,
   "metadata": {
    "ExecuteTime": {
     "end_time": "2020-09-28T11:56:12.470248Z",
     "start_time": "2020-09-28T11:56:11.718463Z"
    }
   },
   "outputs": [],
   "source": [
    "for i in newton_raphson(p,Dp,7.5,0.01,50)[1]:\n",
    "\n",
    "    tangent_line(p, Dp, i, -10, 10)"
   ]
  },
  {
   "cell_type": "markdown",
   "metadata": {},
   "source": [
    "<font size=4>\n",
    "    \n",
    " Ahora sí, aplicado a nuestro problema:"
   ]
  },
  {
   "cell_type": "code",
   "execution_count": null,
   "metadata": {
    "ExecuteTime": {
     "end_time": "2020-09-28T11:56:12.488010Z",
     "start_time": "2020-09-28T11:56:12.471869Z"
    }
   },
   "outputs": [],
   "source": [
    "# the function zip() join a sequences (string, list or tuples) \n",
    "# match the corresponding indexes in each sequence\n",
    "\n",
    "\n",
    "# in this case: \n",
    "\n",
    "#x = (x1, x2, ..., xm)\n",
    "#y = (y1, y2, ..., ym)\n",
    "\n",
    "#then\n",
    "\n",
    "# zip(x, y) = (x1,y1), (x2, y2), ...(x3, y3)\n",
    "\n",
    "# D_residuo es la derivada del residuo.\n",
    "\n",
    "print(w)\n",
    "\n",
    "#D_residuo = lambda w: (1/m)*(np.sum([2*(w*i+b-j)*i for i, j in zip(x,y)]))\n",
    "\n",
    "def D_residuo(w):\n",
    "    \n",
    "    \n",
    "    r = 0\n",
    "    \n",
    "    for i, j in zip(x, y):\n",
    "        #print(\"i= \", i )\n",
    "        r += 2*(w*i+b-j)*i\n",
    "        #print(\"i= \", i, \"loss = \", r )\n",
    "    r = r/m\n",
    "    print(\"D_residuo = \", r)\n",
    "    #s = np.sum([2*(w*i+b-j)*i for i, j in zip(x,y)])\n",
    "    \n",
    "    return r\n",
    "    \n",
    "\n",
    "#Hay que buscar los ceros de D_residuo con respectp de w\n",
    "\n",
    "\n",
    "#DD_residuo es la derivada de D_residuo con respecto a w\n",
    "\n",
    "#DD_residuo = lambda w: (1/m)*np.sum([2*i*i for i in x])\n",
    "\n",
    "def DD_residuo(w):\n",
    "    \n",
    "    r = 0\n",
    "    for i, j in zip(x, y):\n",
    "        r += 2*i*i\n",
    "    r = r/m\n",
    "    print(\"DD_residuo\", r)\n",
    "        \n",
    "    return r\n",
    "\n",
    "\n",
    "newton_raphson(D_residuo, DD_residuo,2,0.01,100)"
   ]
  },
  {
   "cell_type": "code",
   "execution_count": null,
   "metadata": {
    "ExecuteTime": {
     "end_time": "2020-09-28T11:56:12.501266Z",
     "start_time": "2020-09-28T11:56:12.489133Z"
    }
   },
   "outputs": [],
   "source": [
    "#Hay que graficar D_residuo para mostrar la presencia de su cero"
   ]
  },
  {
   "cell_type": "code",
   "execution_count": null,
   "metadata": {
    "ExecuteTime": {
     "end_time": "2020-09-28T11:56:12.635333Z",
     "start_time": "2020-09-28T11:56:12.502458Z"
    }
   },
   "outputs": [],
   "source": [
    "x_ = np.arange(3, 15)\n",
    "y_ = D_residuo(x_)\n",
    "\n",
    "plt.figure(figsize=(13,8))\n",
    "plt.ylabel('Residuo', fontsize=16)\n",
    "plt.xlabel('W', fontsize=16)\n",
    "plt.grid(True)\n",
    "\n",
    "plt.plot(x_, y_, color='r', label=\"Loss\")\n",
    "plt.legend();"
   ]
  },
  {
   "cell_type": "code",
   "execution_count": null,
   "metadata": {
    "ExecuteTime": {
     "end_time": "2020-09-28T11:56:12.953862Z",
     "start_time": "2020-09-28T11:56:12.637122Z"
    }
   },
   "outputs": [],
   "source": [
    "for i in newton_raphson(D_residuo, DD_residuo,2,0.001,100)[1]:\n",
    "    tangent_line(D_residuo, DD_residuo, i, -10, 10)"
   ]
  },
  {
   "cell_type": "markdown",
   "metadata": {},
   "source": [
    "___"
   ]
  },
  {
   "cell_type": "markdown",
   "metadata": {},
   "source": [
    "<font size=4>\n",
    "    \n",
    "  **Comparación**\n",
    "  \n",
    "  Se compara la pendiente encontrada usando \n",
    "  \n",
    "  - la recta ajustada a prueba y error (handSE), \n",
    "  \n",
    "  - usando mínimos cuadrados (MSE) y \n",
    "  \n",
    "  - usando el método de Newton-Rapshon (N-R).\n",
    "\n",
    "\n",
    "| handSE | MSE | N-R| \n",
    "| --- | --- | --- | \n",
    "| 6.8 | 8.07 | 8.07 |"
   ]
  },
  {
   "cell_type": "markdown",
   "metadata": {},
   "source": [
    "___"
   ]
  },
  {
   "cell_type": "markdown",
   "metadata": {},
   "source": [
    "<font size = 4>\n",
    "    \n",
    "    NOTA:\n",
    "\n",
    "En muchos casos, en lugar del residuo MSE, se emplea su raíz: RMSE\n",
    "\n",
    "\n",
    "$$ RMSE =  \\dfrac {1}{m} \\sqrt {∑_{i=1}^{m}(f(x_i)-y_i)^{2}} $$\n",
    "\n",
    "En algunos otros casos se usa la siguiente relación para el residuo:\n",
    "\n",
    "$$ RMSE(weighted) = \\dfrac {1}{m} \\sqrt { ∑_{i=1}^{m}\\frac{(f(x_i)-y_i)^{2}}{y_i}} $$"
   ]
  }
 ],
 "metadata": {
  "kernelspec": {
   "display_name": "Python 3",
   "language": "python",
   "name": "python3"
  },
  "language_info": {
   "codemirror_mode": {
    "name": "ipython",
    "version": 3
   },
   "file_extension": ".py",
   "mimetype": "text/x-python",
   "name": "python",
   "nbconvert_exporter": "python",
   "pygments_lexer": "ipython3",
   "version": "3.7.4"
  }
 },
 "nbformat": 4,
 "nbformat_minor": 2
}
