{
 "cells": [
  {
   "cell_type": "markdown",
   "metadata": {},
   "source": [
    "<font size=4 color='cornflowerblue'>\n",
    "\n",
    "# Tarea 6\n",
    "\n",
    "### Implementar una red neuronal de convolución usando el conjunto de datos mnist.\n",
    "\n"
   ]
  },
  {
   "cell_type": "code",
   "execution_count": null,
   "metadata": {
    "ExecuteTime": {
     "end_time": "2020-11-25T01:04:19.488897Z",
     "start_time": "2020-11-25T01:04:18.001701Z"
    }
   },
   "outputs": [],
   "source": [
    "import keras\n",
    "from keras import layers\n",
    "from keras.layers import Input, Dense, Activation, Flatten\n",
    "from keras.layers import Dropout\n",
    "from keras.models import Model\n",
    "from keras.preprocessing import image\n",
    "from keras.utils import layer_utils\n",
    "from keras.utils.data_utils import get_file\n",
    "from keras.applications.imagenet_utils import preprocess_input\n",
    "import pydot\n",
    "from IPython.display import SVG\n",
    "from keras.utils.vis_utils import model_to_dot\n",
    "from keras.utils import plot_model\n",
    "from keras.optimizers import SGD\n",
    "import keras.backend as K\n",
    "from keras.layers import BatchNormalization                       \n",
    "from keras.layers import Conv2D, MaxPooling2D\n",
    "from keras.models import Sequential\n",
    "import time\n",
    "import matplotlib.pyplot as plt\n",
    "from matplotlib.pyplot import imshow\n",
    "\n",
    "np.random.seed(1)\n",
    "%matplotlib inline"
   ]
  },
  {
   "cell_type": "markdown",
   "metadata": {},
   "source": [
    "<font size = 5 color=\"cornflowerblue\">\n",
    "\n",
    "Parte I: **Análisis de datos**"
   ]
  },
  {
   "cell_type": "markdown",
   "metadata": {},
   "source": [
    "<font size=4 color='rosybrown'>\n",
    "    \n",
    "    \n",
    " #### Ejercicio 1"
   ]
  },
  {
   "cell_type": "markdown",
   "metadata": {},
   "source": [
    "<font size=4>\n",
    "\n",
    "Importa y carga la base de datos mnist de Keras:"
   ]
  },
  {
   "cell_type": "markdown",
   "metadata": {},
   "source": [
    "<font size = 4>\n",
    "\n",
    "*El conjunto de datos mnist lo pueden obtener directamente de Keras: [mnist Keras](https://keras.io/examples/vision/mnist_convnet/)*"
   ]
  },
  {
   "cell_type": "code",
   "execution_count": null,
   "metadata": {
    "ExecuteTime": {
     "end_time": "2020-11-25T01:04:19.493686Z",
     "start_time": "2020-11-25T01:04:19.490560Z"
    }
   },
   "outputs": [],
   "source": [
    "# Escribe el codigo aquí\n"
   ]
  },
  {
   "cell_type": "markdown",
   "metadata": {},
   "source": [
    "<font size=4 color='rosybrown'>\n",
    "    \n",
    "    \n",
    " #### Ejercicio 2"
   ]
  },
  {
   "cell_type": "markdown",
   "metadata": {},
   "source": [
    "<font size=4>\n",
    "\n",
    "¿De qué tipo son los conjuntos que obtuviste?"
   ]
  },
  {
   "cell_type": "code",
   "execution_count": null,
   "metadata": {
    "ExecuteTime": {
     "end_time": "2020-11-25T01:04:19.728584Z",
     "start_time": "2020-11-25T01:04:19.724692Z"
    }
   },
   "outputs": [],
   "source": [
    "# Escribe el codigo aquí\n"
   ]
  },
  {
   "cell_type": "markdown",
   "metadata": {},
   "source": [
    "<font size=4 color='rosybrown'>\n",
    "    \n",
    "    \n",
    " #### Ejercicio 3"
   ]
  },
  {
   "cell_type": "markdown",
   "metadata": {},
   "source": [
    "<font size=4>\n",
    "\n",
    "¿Qué dimensión tienen los conjuntos que obtuviste?"
   ]
  },
  {
   "cell_type": "code",
   "execution_count": null,
   "metadata": {
    "ExecuteTime": {
     "end_time": "2020-11-25T01:04:19.728584Z",
     "start_time": "2020-11-25T01:04:19.724692Z"
    }
   },
   "outputs": [],
   "source": [
    "# Escribe el codigo aquí\n"
   ]
  },
  {
   "cell_type": "markdown",
   "metadata": {},
   "source": [
    "<font size=4 color='rosybrown'>\n",
    "    \n",
    "    \n",
    " #### Ejercicio 4"
   ]
  },
  {
   "cell_type": "markdown",
   "metadata": {},
   "source": [
    "<font size=4>\n",
    "\n",
    "¿Cómo se ve una muestra de entrenamiento?, Responde a esta pregunta mostrando un ejemplo, ¿qué representa cada valor en la muestra?"
   ]
  },
  {
   "cell_type": "code",
   "execution_count": null,
   "metadata": {
    "ExecuteTime": {
     "end_time": "2020-11-25T01:04:19.728584Z",
     "start_time": "2020-11-25T01:04:19.724692Z"
    }
   },
   "outputs": [],
   "source": [
    "# Escribe el codigo aquí\n"
   ]
  },
  {
   "cell_type": "markdown",
   "metadata": {},
   "source": [
    "<font size=4 color='rosybrown'>\n",
    "    \n",
    "    \n",
    " #### Ejercicio 5"
   ]
  },
  {
   "cell_type": "markdown",
   "metadata": {},
   "source": [
    "<font size=4>\n",
    "\n",
    "¿Las muestras estan normalizadas?, (cómo puedes saber esto) si no estan normalizadas, normalizalas. \n",
    "\n",
    "*recuerda que en el caso de imágenes la normalizacion es dividir cada pixel por la intensidad máxima (255)*"
   ]
  },
  {
   "cell_type": "code",
   "execution_count": null,
   "metadata": {
    "ExecuteTime": {
     "end_time": "2020-11-25T01:04:19.728584Z",
     "start_time": "2020-11-25T01:04:19.724692Z"
    }
   },
   "outputs": [],
   "source": [
    "# Escribe el codigo aquí\n"
   ]
  },
  {
   "cell_type": "markdown",
   "metadata": {},
   "source": [
    "<font size=4 color='rosybrown'>\n",
    "    \n",
    "    \n",
    " #### Ejercicio 6"
   ]
  },
  {
   "cell_type": "markdown",
   "metadata": {},
   "source": [
    "<font size=4>\n",
    "\n",
    "\n",
    "En un ejercicio anterior se obtuvo la muestra en forma de arreglo, ahora muestra la imagen y su correspondiente etiqueta (usa un ejemplo del conjunto de entrenamiento)."
   ]
  },
  {
   "cell_type": "code",
   "execution_count": null,
   "metadata": {
    "ExecuteTime": {
     "end_time": "2020-11-25T01:04:19.728584Z",
     "start_time": "2020-11-25T01:04:19.724692Z"
    }
   },
   "outputs": [],
   "source": [
    "# Escribe el codigo aquí\n"
   ]
  },
  {
   "cell_type": "markdown",
   "metadata": {},
   "source": [
    "<font size=4 color='rosybrown'>\n",
    "    \n",
    "    \n",
    " #### Ejercicio 7"
   ]
  },
  {
   "cell_type": "markdown",
   "metadata": {},
   "source": [
    "<font size=4>\n",
    "\n",
    "Dada una muestra de entrada (input) ¿de qué forma se indica la etiqueta (output)?"
   ]
  },
  {
   "cell_type": "code",
   "execution_count": null,
   "metadata": {
    "ExecuteTime": {
     "end_time": "2020-11-25T01:04:19.728584Z",
     "start_time": "2020-11-25T01:04:19.724692Z"
    }
   },
   "outputs": [],
   "source": [
    "# Escribe el codigo aquí\n"
   ]
  },
  {
   "cell_type": "markdown",
   "metadata": {},
   "source": [
    "<font size=4 color='rosybrown'>\n",
    "    \n",
    "    \n",
    " #### Ejercicio 8"
   ]
  },
  {
   "cell_type": "markdown",
   "metadata": {},
   "source": [
    "<font size=4>\n",
    "\n",
    "Convierte el output en representación one-hot.\n",
    "\n",
    "\n",
    "Hint: Puedes usar la función de Keras [to_categorical](https://keras.io/api/utils/python_utils/#to_categorical-function)\n",
    "\n",
    "Observa cómo cambian sus dimensiones (muéstralo usando shape)."
   ]
  },
  {
   "cell_type": "code",
   "execution_count": null,
   "metadata": {
    "ExecuteTime": {
     "end_time": "2020-11-25T01:04:19.728584Z",
     "start_time": "2020-11-25T01:04:19.724692Z"
    }
   },
   "outputs": [],
   "source": [
    "# Escribe el codigo aquí\n"
   ]
  },
  {
   "cell_type": "markdown",
   "metadata": {},
   "source": [
    "<font size=4 color='rosybrown'>\n",
    "    \n",
    "    \n",
    " #### Ejercicio 9"
   ]
  },
  {
   "cell_type": "markdown",
   "metadata": {},
   "source": [
    "<font size=4>\n",
    "\n",
    "Hasta aquí debes tener cuatro conjuntos de datos: los correspondientes a las entradas y las salidas de la red neuronal que se van a usar para el entrenamiento de la red (train_x y train_y) y los correspondientes a las entradas y salidas de la red neuronal que se van a usar para la prueba (test_x, test_y).\n",
    "\n",
    "Muestra las dimensiones de estos cuatro conjuntos."
   ]
  },
  {
   "cell_type": "code",
   "execution_count": null,
   "metadata": {
    "ExecuteTime": {
     "end_time": "2020-11-25T01:04:19.728584Z",
     "start_time": "2020-11-25T01:04:19.724692Z"
    }
   },
   "outputs": [],
   "source": [
    "# Escribe el codigo aquí\n"
   ]
  },
  {
   "cell_type": "markdown",
   "metadata": {},
   "source": [
    "<font size = 5 color=\"cornflowerblue\">\n",
    "\n",
    "Parte II: **Implemetación de la red neuronal**"
   ]
  },
  {
   "cell_type": "markdown",
   "metadata": {},
   "source": [
    "<font size=4 color='rosybrown'>\n",
    "    \n",
    "    \n",
    " #### Ejercicio 10"
   ]
  },
  {
   "cell_type": "markdown",
   "metadata": {},
   "source": [
    "<font size=4>\n",
    "\n",
    "Implementa una red neuronal de convolución dentro de una función (como lo hemos visto en clase). Puedes guiarte con el notebook de la clase 10 o de [mnist Keras](https://keras.io/examples/vision/mnist_convnet/) *(no uses la misma arquitectura que se da)*.\n",
    "\n",
    "Cuida que la función que implementes sea flexible, es decir, que si cambiamos las dimensiones de las entradas no se tenga que modificar la función directamente, más bien indicarlo como un argumento de la función. "
   ]
  },
  {
   "cell_type": "code",
   "execution_count": null,
   "metadata": {
    "ExecuteTime": {
     "end_time": "2020-11-25T01:04:19.728584Z",
     "start_time": "2020-11-25T01:04:19.724692Z"
    }
   },
   "outputs": [],
   "source": [
    "# Escribe el codigo aquí\n"
   ]
  },
  {
   "cell_type": "markdown",
   "metadata": {},
   "source": [
    "<font size=4 color='rosybrown'>\n",
    "    \n",
    "    \n",
    " #### Ejercicio 11"
   ]
  },
  {
   "cell_type": "markdown",
   "metadata": {},
   "source": [
    "<font size=4>\n",
    "\n",
    "Crea el modelo definido en el ejercicio anterior (es decir llama a la función que creaste con los argumentos adecuados)."
   ]
  },
  {
   "cell_type": "code",
   "execution_count": null,
   "metadata": {
    "ExecuteTime": {
     "end_time": "2020-11-25T01:04:19.728584Z",
     "start_time": "2020-11-25T01:04:19.724692Z"
    }
   },
   "outputs": [],
   "source": [
    "# Escribe el codigo aquí\n"
   ]
  },
  {
   "cell_type": "markdown",
   "metadata": {},
   "source": [
    "<font size=4 color='rosybrown'>\n",
    "    \n",
    "    \n",
    " #### Ejercicio 12"
   ]
  },
  {
   "cell_type": "markdown",
   "metadata": {},
   "source": [
    "<font size=4>\n",
    "\n",
    "Usa la función plot_model para obtener una representación esquemática del modelo implementado. "
   ]
  },
  {
   "cell_type": "code",
   "execution_count": null,
   "metadata": {
    "ExecuteTime": {
     "end_time": "2020-11-25T01:04:19.728584Z",
     "start_time": "2020-11-25T01:04:19.724692Z"
    }
   },
   "outputs": [],
   "source": [
    "# Escribe el codigo aquí\n"
   ]
  },
  {
   "cell_type": "markdown",
   "metadata": {},
   "source": [
    "<font size=4 color='black'> \n",
    " [plot_model](https://keras.io/visualization/#training-history-visualization)"
   ]
  },
  {
   "cell_type": "markdown",
   "metadata": {},
   "source": [
    "<font size=4 color='rosybrown'>\n",
    "    \n",
    "    \n",
    " #### Ejercicio 13"
   ]
  },
  {
   "cell_type": "markdown",
   "metadata": {},
   "source": [
    "<font size=4>\n",
    "\n",
    "¿Cuántos parámetros tiene el modelo de red neuronal que implementaste? \n",
    "\n",
    "Puedes responder a esta pregunta usando el atributo summary(). "
   ]
  },
  {
   "cell_type": "code",
   "execution_count": null,
   "metadata": {
    "ExecuteTime": {
     "end_time": "2020-11-25T01:04:19.728584Z",
     "start_time": "2020-11-25T01:04:19.724692Z"
    }
   },
   "outputs": [],
   "source": [
    "# Escribe el codigo aquí\n"
   ]
  },
  {
   "cell_type": "markdown",
   "metadata": {},
   "source": [
    "<font size=4 color='rosybrown'>\n",
    "    \n",
    "    \n",
    " #### Ejercicio 14"
   ]
  },
  {
   "cell_type": "markdown",
   "metadata": {},
   "source": [
    "<font size=4>\n",
    "\n",
    "Compila el modelo seleccionando un optimizador (con una tasa de aprendizaje seleccionable, es decir, no uses los valores por defecto), la función de costo (loss) y una metrica adecuadas para este problema.\n",
    "\n",
    "Hint: en la clase 10 revisamos un problema similar, puedes consultar la función de costo y la métrica utilizada. "
   ]
  },
  {
   "cell_type": "code",
   "execution_count": null,
   "metadata": {
    "ExecuteTime": {
     "end_time": "2020-11-25T01:04:19.728584Z",
     "start_time": "2020-11-25T01:04:19.724692Z"
    }
   },
   "outputs": [],
   "source": [
    "# Escribe el codigo aquí\n"
   ]
  },
  {
   "cell_type": "markdown",
   "metadata": {},
   "source": [
    "<font size=4 color='rosybrown'>\n",
    "    \n",
    "    \n",
    " #### Ejercicio 15\n"
   ]
  },
  {
   "cell_type": "markdown",
   "metadata": {},
   "source": [
    "<font size=4>\n",
    "\n",
    "Entrena la red neuronal que implementaste, indica la cantidad de datos a usar para validar el modelo, el número de epocas a utilizar así como el tamaño del batch. No olvides usar shuffle=True."
   ]
  },
  {
   "cell_type": "code",
   "execution_count": null,
   "metadata": {
    "ExecuteTime": {
     "end_time": "2020-11-25T01:04:19.728584Z",
     "start_time": "2020-11-25T01:04:19.724692Z"
    }
   },
   "outputs": [],
   "source": [
    "# Escribe el codigo aquí\n"
   ]
  },
  {
   "cell_type": "markdown",
   "metadata": {},
   "source": [
    "<font size=4 color='rosybrown'>\n",
    "    \n",
    "    \n",
    " #### Ejercicio 16"
   ]
  },
  {
   "cell_type": "markdown",
   "metadata": {},
   "source": [
    "<font size=4>\n",
    "\n",
    "Grafica el costo en función de la epoca para los conjuntos de entrenamiento y de validación."
   ]
  },
  {
   "cell_type": "code",
   "execution_count": null,
   "metadata": {
    "ExecuteTime": {
     "end_time": "2020-11-25T01:04:19.728584Z",
     "start_time": "2020-11-25T01:04:19.724692Z"
    }
   },
   "outputs": [],
   "source": [
    "# Escribe el codigo aquí\n"
   ]
  },
  {
   "cell_type": "markdown",
   "metadata": {},
   "source": [
    "<font size=4 color='rosybrown'>\n",
    "    \n",
    "    \n",
    " #### Ejercicio 17\n"
   ]
  },
  {
   "cell_type": "markdown",
   "metadata": {},
   "source": [
    "<font size=4>\n",
    "\n",
    "Grafica el accuracy (la precisión del modelo) en función de la epoca para los conjuntos de entrenamiento y de validación."
   ]
  },
  {
   "cell_type": "code",
   "execution_count": null,
   "metadata": {
    "ExecuteTime": {
     "end_time": "2020-11-25T01:04:19.728584Z",
     "start_time": "2020-11-25T01:04:19.724692Z"
    }
   },
   "outputs": [],
   "source": [
    "# Escribe el codigo aquí\n"
   ]
  },
  {
   "cell_type": "markdown",
   "metadata": {},
   "source": [
    "<font size=4 color='rosybrown'>\n",
    "    \n",
    "    \n",
    " #### Ejercicio 18"
   ]
  },
  {
   "cell_type": "markdown",
   "metadata": {},
   "source": [
    "<font size=4>\n",
    "\n",
    "Evalua el modelo en el conjunto de prueba. Usa el métodod evaluate()"
   ]
  },
  {
   "cell_type": "code",
   "execution_count": null,
   "metadata": {
    "ExecuteTime": {
     "end_time": "2020-11-25T01:04:19.728584Z",
     "start_time": "2020-11-25T01:04:19.724692Z"
    }
   },
   "outputs": [],
   "source": [
    "# Escribe el codigo aquí\n"
   ]
  },
  {
   "cell_type": "markdown",
   "metadata": {},
   "source": [
    "<font size = 5 color=\"cornflowerblue\">\n",
    "\n",
    "Parte III: **Inferencia**"
   ]
  },
  {
   "cell_type": "markdown",
   "metadata": {},
   "source": [
    "<font size=4 color='rosybrown'>\n",
    "    \n",
    "    \n",
    "#### Ejercicio 19"
   ]
  },
  {
   "cell_type": "markdown",
   "metadata": {},
   "source": [
    "<font size=4>\n",
    "\n",
    "Realiza predicciones sobre el conjunto de prueba. Usa el método predict()\n",
    "\n",
    "Muestra algun ejemplo, es decir dado un input tomado del conjunto test_x muestra cuál es la inferencia realizada por la red neuronal y cual es la etiqueta real (la correspondiente test_y)."
   ]
  },
  {
   "cell_type": "code",
   "execution_count": null,
   "metadata": {
    "ExecuteTime": {
     "end_time": "2020-11-25T01:04:19.728584Z",
     "start_time": "2020-11-25T01:04:19.724692Z"
    }
   },
   "outputs": [],
   "source": [
    "# Escribe el codigo aquí\n"
   ]
  }
 ],
 "metadata": {
  "kernelspec": {
   "display_name": "Python 3",
   "language": "python",
   "name": "python3"
  },
  "language_info": {
   "codemirror_mode": {
    "name": "ipython",
    "version": 3
   },
   "file_extension": ".py",
   "mimetype": "text/x-python",
   "name": "python",
   "nbconvert_exporter": "python",
   "pygments_lexer": "ipython3",
   "version": "3.7.0"
  }
 },
 "nbformat": 4,
 "nbformat_minor": 2
}
