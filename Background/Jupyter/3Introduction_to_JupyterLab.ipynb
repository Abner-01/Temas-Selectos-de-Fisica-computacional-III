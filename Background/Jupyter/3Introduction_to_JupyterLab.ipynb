{
 "cells": [
  {
   "cell_type": "markdown",
   "metadata": {},
   "source": [
    "<font color='blue' size=4>\n",
    "\n",
    "# JupyterLab\n",
    "\n",
    "[JupyterLab Documentation](https://jupyterlab.readthedocs.io/en/stable/)\n",
    "\n",
    "[Installation](https://jupyterlab.readthedocs.io/en/stable/getting_started/installation.html)"
   ]
  },
  {
   "cell_type": "markdown",
   "metadata": {},
   "source": [
    "<font size=4>\n",
    "\n",
    "JupyterLab is the next-generation user interface for Project Jupyter offering all the familiar building blocks of the classic Jupyter Notebook (notebook, terminal, text editor, file browser, rich outputs, etc.) in a flexible and powerful user interface. JupyterLab will eventually replace the classic Jupyter Notebook ([GitHub JupyterLab](https://github.com/jupyterlab/jupyterlab)).\n",
    "\n",
    "JupyterLab is served from the same server and uses the same notebook document format as the classic Jupyter Notebook."
   ]
  },
  {
   "cell_type": "markdown",
   "metadata": {},
   "source": [
    "<font size=4>\n",
    "\n",
    "To open a JupyterLab, write in a terminal: "
   ]
  },
  {
   "cell_type": "raw",
   "metadata": {},
   "source": [
    "jupyter lab"
   ]
  },
  {
   "cell_type": "markdown",
   "metadata": {},
   "source": [
    "<font size=4>\n",
    "\n",
    "and you see the following on terminal:\n",
    "\n",
    "<img src='images/ter.png' style=\"width:750px;height:400px;\">"
   ]
  },
  {
   "cell_type": "markdown",
   "metadata": {},
   "source": [
    "<font size=4>\n",
    "\n",
    "It will then open your default web browser to http://localhost:8889 URL (by default).\n",
    "\n",
    "When the notebook opens in your browser, you will see the Notebook Dashboard and the notebook together:\n",
    "\n",
    "\n",
    "\n",
    "<img src='images/lab.png' style=\"width:650px;height:400px;\">"
   ]
  },
  {
   "cell_type": "markdown",
   "metadata": {},
   "source": [
    "<font size=4>\n",
    "\n",
    "Inside the Dashboard part we have the following:\n",
    "\n",
    "At the top there are four buttons. The last three are described in the following image:"
   ]
  },
  {
   "cell_type": "markdown",
   "metadata": {},
   "source": [
    "<img src='images/add.PNG'>"
   ]
  },
  {
   "cell_type": "markdown",
   "metadata": {},
   "source": [
    "<font size=4>\n",
    "\n",
    "When you click on the button marked with blue a new folder is created wiht the default name Untitled Folder, if you want to change its name, right click on it.\n",
    "\n",
    "The first button, **+**, allows to create new files. "
   ]
  },
  {
   "cell_type": "markdown",
   "metadata": {},
   "source": [
    "<img src='images/newnb.png' style=\"width:550px;height:400px;\">"
   ]
  },
  {
   "cell_type": "markdown",
   "metadata": {},
   "source": [
    "<font size=4>\n",
    "\n",
    "You also have a set of buttons on the left, we will describe each of them."
   ]
  },
  {
   "cell_type": "markdown",
   "metadata": {},
   "source": [
    "<img src='images/files.PNG'>"
   ]
  },
  {
   "cell_type": "markdown",
   "metadata": {},
   "source": [
    "<font size=4>\n",
    "\n",
    "The first one has a symbol of a folder, if it is selected it shows us the existing files and folders in the current path. "
   ]
  },
  {
   "cell_type": "markdown",
   "metadata": {},
   "source": [
    "<font size=4>\n",
    "\n",
    "The following symbol refers to a person running, if selected it shows the kernel and terminals that are running.\n",
    "\n",
    "<img src='images/run.png' style=\"width:350px;height:300px;\">"
   ]
  },
  {
   "cell_type": "markdown",
   "metadata": {},
   "source": [
    "<font size=4>\n",
    "\n",
    "The following button (palette symbol) contains the commands of all types of files (terminal, notebook, text file, etc)."
   ]
  },
  {
   "cell_type": "markdown",
   "metadata": {},
   "source": [
    "<img src='images/paleta.png' style=\"width:350px;height:350px;\">"
   ]
  },
  {
   "cell_type": "markdown",
   "metadata": {},
   "source": [
    "<font size=4>\n",
    "\n",
    "The penultimate button (tool symbol) allows you to customize the current cell of the file in which you are working."
   ]
  },
  {
   "cell_type": "markdown",
   "metadata": {},
   "source": [
    "<img src='images/tool.png' style=\"width:350px;height:350px;\">"
   ]
  },
  {
   "cell_type": "markdown",
   "metadata": {},
   "source": [
    "<font size=4>\n",
    "\n",
    "The last button shows all open files (and shows the option to close them)."
   ]
  },
  {
   "cell_type": "markdown",
   "metadata": {},
   "source": [
    "<img src='images/opentabs.png' style=\"width:350px;height:300px;\">"
   ]
  },
  {
   "cell_type": "markdown",
   "metadata": {},
   "source": [
    "<font size=4>\n",
    "\n",
    "You can arrange multiple documents and activities side by side in the work area using tabs and splitters. \n",
    "\n",
    "<img src='images/windows.png' style=\"width:1250px;height:550px;\">"
   ]
  },
  {
   "cell_type": "markdown",
   "metadata": {},
   "source": [
    "<font size=4>\n",
    "\n",
    "When you open a new file, a new tag is created, to display it in the same window, it creeps to the desired end.\n",
    "\n",
    "To learn more about the jupyterLab project go to \n",
    "\n",
    "[JupyterLab Demo](https://github.com/jupyterlab/jupyterlab-demo/blob/master/slides/jupyterlab-slides.pdf)\n",
    "\n",
    "[JupyterLab Interface](https://jupyterlab.readthedocs.io/en/latest/user/interface.html#left-sidebar)"
   ]
  }
 ],
 "metadata": {
  "kernelspec": {
   "display_name": "Python 3",
   "language": "python",
   "name": "python3"
  },
  "language_info": {
   "codemirror_mode": {
    "name": "ipython",
    "version": 3
   },
   "file_extension": ".py",
   "mimetype": "text/x-python",
   "name": "python",
   "nbconvert_exporter": "python",
   "pygments_lexer": "ipython3",
   "version": "3.7.4"
  }
 },
 "nbformat": 4,
 "nbformat_minor": 2
}
