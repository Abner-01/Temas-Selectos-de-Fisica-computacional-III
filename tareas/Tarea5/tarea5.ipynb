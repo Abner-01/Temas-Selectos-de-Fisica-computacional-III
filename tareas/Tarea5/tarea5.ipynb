{
 "cells": [
  {
   "cell_type": "markdown",
   "metadata": {},
   "source": [
    "<font size=4>\n",
    "    \n",
    "# Tarea 5\n",
    "    \n",
    " La siguiente tarea corresponde a la clase 7, es decir, se realizara el mismo procedimiento que en el notebook de la clase 7 pero usando otro conjunto de datos. Pueden auxiliarse del notebook Clase-7-fv.ipynb\n",
    "    \n",
    "En cada ejercicio pueden agregar el número de celdas que requieran, por defecto se da solo una. \n",
    "    \n",
    " ___"
   ]
  },
  {
   "cell_type": "markdown",
   "metadata": {},
   "source": [
    "<font size=4>\n",
    "    \n",
    "  Se descargó la base de datos *Superconductivty Data Data Set*.\n",
    "\n",
    "    \n",
    "[UCI Machine Learning Repository: Superconductivty Data Data Set ](https://archive.ics.uci.edu/ml/datasets/Superconductivty+Data)\n",
    "\n",
    "\n",
    "\n",
    "Hay dos archivos: \n",
    "\n",
    "    (1) train.csv: contiene 81 características extraídas de 21263 superconductores junto con la temperatura crítica en la columna 82, \n",
    "\n",
    "\n",
    "    (2) unique_m.csv: contiene la fórmula química dividida para todos los 21263 superconductores del archivo  train.csv \n",
    "\n",
    "\n",
    "\n",
    "Las dos últimas columnas tienen la temperatura crítica y la fórmula química. Los datos originales provienen de [aquí](https://supercon.nims.go.jp/index_en.html) que es público. \n",
    "\n",
    "**El objetivo aquí es predecir la temperatura crítica en función de las características extraídas.**"
   ]
  },
  {
   "cell_type": "markdown",
   "metadata": {},
   "source": [
    "<font size=4 color='rosybrown'>\n",
    "\n",
    "    \n",
    "# Parte 1: Análisis de datos"
   ]
  },
  {
   "cell_type": "markdown",
   "metadata": {},
   "source": [
    "<font size=4 color='cornflowerblue'>\n",
    "\n",
    "    \n",
    "## Ejercicio 1"
   ]
  },
  {
   "cell_type": "markdown",
   "metadata": {},
   "source": [
    "<font size=4>\n",
    "    \n",
    " Importa las librerias que vas a usar:\n",
    "    \n",
    "  - pandas\n",
    "  \n",
    "  - matplotlib.pyplot\n",
    "    \n",
    "  - numpy"
   ]
  },
  {
   "cell_type": "code",
   "execution_count": null,
   "metadata": {},
   "outputs": [],
   "source": [
    "# ejercicio 1\n"
   ]
  },
  {
   "cell_type": "markdown",
   "metadata": {},
   "source": [
    "<font size=4 color='cornflowerblue'>\n",
    "    \n",
    "## Ejercicio 2"
   ]
  },
  {
   "cell_type": "markdown",
   "metadata": {},
   "source": [
    "<font size=4>\n",
    "    \n",
    "1. Haz un dataframe con el archivo 'train.csv', usando la función read_csv() de pandas.\n",
    "    \n",
    "    \n",
    "2. Visualiza el dataframe (puedes usar los atributos head() y tail()).\n",
    "    \n",
    "    \n",
    "3. Usa el método describe() para obtener los datos estadísticos de todo el dataframe."
   ]
  },
  {
   "cell_type": "code",
   "execution_count": null,
   "metadata": {},
   "outputs": [],
   "source": [
    "# ejercicio 2\n"
   ]
  },
  {
   "cell_type": "markdown",
   "metadata": {},
   "source": [
    "[read_csv( )](https://pandas.pydata.org/pandas-docs/stable/reference/api/pandas.read_csv.html)"
   ]
  },
  {
   "cell_type": "markdown",
   "metadata": {},
   "source": [
    "<font size=4 color='cornflowerblue'>\n",
    "    \n",
    "## Ejercicio 3"
   ]
  },
  {
   "cell_type": "markdown",
   "metadata": {},
   "source": [
    "<font size=4>\n",
    "    \n",
    " Responde las siguientes preguntas:\n",
    "    \n",
    "¿Cuántas muestras tienes?,¿Qué define a cada muestra? \n",
    "    \n",
    "    \n",
    "¿Cuáles son los rasgos (variables independientes)?, ¿ a qué columnas corresponden?\n",
    "    \n",
    "    \n",
    "¿Cuál(es) es la variable de salida (variable dependiente)?, ¿a qué columnas corresponden?\n",
    "    \n",
    " Nota: el atributo shape te podría ser útil, además de la información que se da al inicio sobre el conjunto de datos.\n",
    "    "
   ]
  },
  {
   "cell_type": "code",
   "execution_count": 1,
   "metadata": {},
   "outputs": [],
   "source": [
    "# ejercicio 3\n"
   ]
  },
  {
   "cell_type": "markdown",
   "metadata": {},
   "source": [
    "<font size=4 color='cornflowerblue'>\n",
    "    \n",
    "## Ejercicio 4"
   ]
  },
  {
   "cell_type": "markdown",
   "metadata": {},
   "source": [
    "<font size=4>\n",
    "    \n",
    "Grafica los histogramas para al menos 4 de las columnas del dataframe creado. "
   ]
  },
  {
   "cell_type": "code",
   "execution_count": 2,
   "metadata": {},
   "outputs": [],
   "source": [
    "# ejercicio 4\n"
   ]
  },
  {
   "cell_type": "markdown",
   "metadata": {},
   "source": [
    "<font size=4 color='cornflowerblue'>\n",
    "    \n",
    "## Ejercicio 5"
   ]
  },
  {
   "cell_type": "markdown",
   "metadata": {},
   "source": [
    "<font size=4>\n",
    "    \n",
    "1. Intercambia el orden de los renglones del dataframe.\n",
    "    \n",
    "    \n",
    "2. Divide en dos el dataframe, el primero que contenga el 90% de las muestras (nombralo df_train) y el otro que contenga el resto de las muestras (nombralo df_test).\n",
    "    \n",
    "    \n",
    "3. Muestra en pantalla las dimensiones resultantes de cada dataframe."
   ]
  },
  {
   "cell_type": "code",
   "execution_count": null,
   "metadata": {},
   "outputs": [],
   "source": [
    "# ejercicio 5\n"
   ]
  },
  {
   "cell_type": "markdown",
   "metadata": {},
   "source": [
    "<font size=4 color='cornflowerblue'>\n",
    "    \n",
    "## Ejercicio 6"
   ]
  },
  {
   "cell_type": "markdown",
   "metadata": {},
   "source": [
    "<font size=4>\n",
    "\n",
    "Normaliza las muestras de los dataframe df_train y df_test usando los datos estadísticos del dataframe correspondiente a las muestras de entrenamiento. \n",
    "\n",
    "$$x_{norm} = \\dfrac{x-\\bar{x}}{\\sigma}$$"
   ]
  },
  {
   "cell_type": "code",
   "execution_count": null,
   "metadata": {},
   "outputs": [],
   "source": [
    "# ejercicio 6\n"
   ]
  },
  {
   "cell_type": "markdown",
   "metadata": {},
   "source": [
    "<font size=4 color='cornflowerblue'>\n",
    "    \n",
    "## Ejercicio 7"
   ]
  },
  {
   "cell_type": "markdown",
   "metadata": {},
   "source": [
    "<font size=4>\n",
    "\n",
    "1. Crea los arreglos train_x y train_y con los valores de las columnas correspondientes a las variables independientes y a las variables dependientes del dataframe train, respectivamente. \n",
    "    \n",
    "    \n",
    "2. Crea los arreglos test_x y test_y con los valores de las columnas correspondientes a las variables independientes y a las variables dependientes del dataframe test, respectivamente. \n",
    "    \n",
    "    \n",
    "3. Muestra en pantalla las dimensiones de cada arreglo."
   ]
  },
  {
   "cell_type": "code",
   "execution_count": null,
   "metadata": {},
   "outputs": [],
   "source": [
    "# Ejercicio 7\n"
   ]
  },
  {
   "cell_type": "markdown",
   "metadata": {},
   "source": [
    "<font size=4 color='rosybrown'>\n",
    "\n",
    "    \n",
    "# Parte 2: Implementación de un modelo de red neuronal"
   ]
  },
  {
   "cell_type": "code",
   "execution_count": null,
   "metadata": {
    "ExecuteTime": {
     "end_time": "2020-11-11T00:35:43.115745Z",
     "start_time": "2020-11-11T00:35:39.193338Z"
    }
   },
   "outputs": [],
   "source": [
    "from keras.models import Sequential\n",
    "from keras.layers import Input, Dense\n",
    "from keras.layers import Activation\n",
    "from keras.optimizers import SGD\n",
    "from keras.models import Model\n",
    "from keras.utils import plot_model\n",
    "from keras import initializers\n",
    "from keras import optimizers\n",
    "import tensorflow as tf"
   ]
  },
  {
   "cell_type": "markdown",
   "metadata": {},
   "source": [
    "Documentacion:\n",
    "\n",
    "[Sequential](https://keras.io/guides/sequential_model/)\n",
    "\n",
    "[layers](https://keras.io/api/layers/): [Dense](https://keras.io/api/layers/core_layers/dense/), [Activation](https://keras.io/api/layers/activations/#relu-function)\n",
    "\n",
    "[Optimizers](https://keras.io/api/optimizers/#available-optimizers)\n",
    "\n",
    "[utils](https://keras.io/api/utils/)\n",
    "\n",
    "[Keras API reference](https://keras.io/api/)"
   ]
  },
  {
   "cell_type": "code",
   "execution_count": null,
   "metadata": {
    "ExecuteTime": {
     "end_time": "2020-11-11T00:35:43.479713Z",
     "start_time": "2020-11-11T00:35:43.117062Z"
    }
   },
   "outputs": [],
   "source": [
    "import networkx as nx\n",
    "\n",
    "class Network(object):\n",
    "    \n",
    "    def  __init__ (self,sizes):\n",
    "        self.num_layers = len(sizes)\n",
    "        print(\"It has\", self.num_layers, \"layers,\")\n",
    "        self.sizes = sizes\n",
    "        print(\"with the following number of nodes per layer\",self.sizes)\n",
    "        self.biases = [np.random.randn(y, 1) for y in sizes[1:]]\n",
    "        self.weights = [np.random.randn(y, x)\n",
    "                        for x, y in zip(sizes[:-1], sizes[1:])]\n",
    "        \n",
    "    def feedforward(self, x_of_sample):\n",
    "        \"\"\"Return the output of the network F(x_of_sample) \"\"\"        \n",
    "        for b, w in zip(self.biases, self.weights):\n",
    "            x_of_sample = sigmoid(np.dot(w, x_of_sample)+b)\n",
    "        return x_of_sample\n",
    "    \n",
    "    def graph(self,sizes):\n",
    "        a=[]\n",
    "        ps={}\n",
    "        Q = nx.Graph()\n",
    "        for i in range(len(sizes)):\n",
    "            Qi=nx.Graph()    \n",
    "            n=sizes[i]\n",
    "            nodos=np.arange(n)\n",
    "            Qi.add_nodes_from(nodos)\n",
    "            l_i=Qi.nodes\n",
    "            Q = nx.union(Q, Qi, rename = (None, 'Q%i-'%i))\n",
    "            if len(l_i)==1:\n",
    "                ps['Q%i-0'%i]=[i/(len(sizes)), 1/2]\n",
    "            else:\n",
    "                for j in range(len(l_i)+1):\n",
    "                    ps['Q%i-%i'%(i,j)]=[i/(len(sizes)),(1/(len(l_i)*len(l_i)))+(j/(len(l_i)))]\n",
    "            a.insert(i,Qi)\n",
    "        for i in range(len(a)-1):\n",
    "            for j in range(len(a[i])):\n",
    "                for k in range(len(a[i+1])):\n",
    "                    Q.add_edge('Q%i-%i' %(i,j),'Q%i-%i' %(i+1,k))            \n",
    "        nx.draw(Q, pos = ps)\n",
    "                "
   ]
  },
  {
   "cell_type": "markdown",
   "metadata": {
    "ExecuteTime": {
     "end_time": "2020-10-19T18:46:25.160502Z",
     "start_time": "2020-10-19T18:46:25.155595Z"
    }
   },
   "source": [
    "<font size=5 color='blue'>\n",
    "\n",
    "First model: The output $y$ depends linearly on each of the features."
   ]
  },
  {
   "cell_type": "markdown",
   "metadata": {},
   "source": [
    "<font size=4 color='cornflowerblue'>\n",
    "    \n",
    "## Ejercicio 8"
   ]
  },
  {
   "cell_type": "markdown",
   "metadata": {},
   "source": [
    "<font size=4>\n",
    "\n",
    "Representa graficamente el modelo a implementar usando la clase Network"
   ]
  },
  {
   "cell_type": "code",
   "execution_count": null,
   "metadata": {
    "ExecuteTime": {
     "end_time": "2020-11-11T00:35:43.616943Z",
     "start_time": "2020-11-11T00:35:43.480934Z"
    }
   },
   "outputs": [],
   "source": [
    "# Ejercicio 8\n"
   ]
  },
  {
   "cell_type": "markdown",
   "metadata": {},
   "source": [
    "<font size=5 color='blue'>\n",
    "    \n",
    "Definition of architecture. \n",
    "    \n",
    "It includes the initialization of weights and biases, as well as the activation functions."
   ]
  },
  {
   "cell_type": "markdown",
   "metadata": {},
   "source": [
    "<font size=4 color='cornflowerblue'>\n",
    "    \n",
    "## Ejercicio 9"
   ]
  },
  {
   "cell_type": "markdown",
   "metadata": {},
   "source": [
    "<font size=4>\n",
    "\n",
    "Crea el modelo usando el modulo [Sequential()](https://keras.io/guides/sequential_model/)\n",
    "    \n",
    "Ejemplo:\n",
    "\n",
    "``` python \n",
    "    \n",
    "    \n",
    "input_nodes = n_x     # The input layer has n_x nodes\n",
    "output_nodes = n_y    # The output layer has n_y nodes\n",
    "\n",
    "linear_model = Sequential()\n",
    "\n",
    "# For the first layer, you need to indicate its input layer, which corresponds to\n",
    "# the input layer of the network.\n",
    "\n",
    "linear_model.add(Dense(output_nodes,  kernel_initializer='uniform', bias_initializer='zeros', \\\n",
    "                input_dim=input_nodes, activation='linear'))\n",
    "    \n",
    "    \n",
    "``` "
   ]
  },
  {
   "cell_type": "code",
   "execution_count": null,
   "metadata": {
    "ExecuteTime": {
     "end_time": "2020-11-11T00:35:43.661595Z",
     "start_time": "2020-11-11T00:35:43.618469Z"
    }
   },
   "outputs": [],
   "source": [
    "# Ejercicio 9\n"
   ]
  },
  {
   "cell_type": "markdown",
   "metadata": {
    "ExecuteTime": {
     "end_time": "2020-10-19T18:55:20.867257Z",
     "start_time": "2020-10-19T18:55:20.859036Z"
    }
   },
   "source": [
    "<font size=5 color='blue'>\n",
    "Architecture Summary and Chart"
   ]
  },
  {
   "cell_type": "markdown",
   "metadata": {},
   "source": [
    "<font size=4 color='cornflowerblue'>\n",
    "    \n",
    "## Ejercicio 10"
   ]
  },
  {
   "cell_type": "markdown",
   "metadata": {},
   "source": [
    "<font size=4>\n",
    "\n",
    "1. Usa [plot_model](https://keras.io/api/utils/model_plotting_utils/#plot_model-function) para crear una representación del modelo creado.\n",
    "    \n",
    "    \n",
    "2. Usa el atributo summary() para obtener un resumen del modelo creado."
   ]
  },
  {
   "cell_type": "code",
   "execution_count": null,
   "metadata": {
    "ExecuteTime": {
     "end_time": "2020-11-11T00:35:43.860403Z",
     "start_time": "2020-11-11T00:35:43.665173Z"
    }
   },
   "outputs": [],
   "source": [
    "# Ejercicio 10\n"
   ]
  },
  {
   "cell_type": "markdown",
   "metadata": {},
   "source": [
    "<font size=5  color='blue'>\n",
    "    \n",
    "Compiling the model. Includes the optimizer definition"
   ]
  },
  {
   "cell_type": "markdown",
   "metadata": {},
   "source": [
    "<font size=4 color='cornflowerblue'>\n",
    "    \n",
    "## Ejercicio 11"
   ]
  },
  {
   "cell_type": "markdown",
   "metadata": {},
   "source": [
    "<font size=4>\n",
    "\n",
    "Compila el modelo.\n",
    "    \n",
    " Recuerda que para esto debes usar el método [compile()](https://keras.io/api/optimizers/) y en este debes especificar la métrica a utilizar (función de perdida o loss) y el optimizador. Puedes usar el mismo optimizador que usamos en la clase 7.\n",
    "    \n",
    "    Recuerda también que en el optimizador se especifica la tasa de aprendizaje (lr)."
   ]
  },
  {
   "cell_type": "code",
   "execution_count": null,
   "metadata": {
    "ExecuteTime": {
     "end_time": "2020-11-11T00:35:44.013867Z",
     "start_time": "2020-11-11T00:35:43.874027Z"
    }
   },
   "outputs": [],
   "source": [
    "# Ejercicio 11\n",
    "\n",
    "#sgd = optimizers.SGD(lr=0.01, momentum=0.0, nesterov=False)\n"
   ]
  },
  {
   "cell_type": "markdown",
   "metadata": {},
   "source": [
    "<font size=5 color='blue'>\n",
    "    \n",
    "Training the learning system"
   ]
  },
  {
   "cell_type": "markdown",
   "metadata": {},
   "source": [
    "<font size=4 color='cornflowerblue'>\n",
    "    \n",
    "## Ejercicio 12\n",
    "    "
   ]
  },
  {
   "cell_type": "markdown",
   "metadata": {},
   "source": [
    "<font size=4>\n",
    "\n",
    "Entrena el modelo usando el método [fit()](https://keras.io/api/optimizers/)\n",
    "    \n",
    "En esta sección puedes variar el número de epocas, el porcentaje a usar de los datos de entrenamiento para hacer la validación. "
   ]
  },
  {
   "cell_type": "code",
   "execution_count": null,
   "metadata": {
    "ExecuteTime": {
     "end_time": "2020-11-11T00:35:59.317907Z",
     "start_time": "2020-11-11T00:35:44.015795Z"
    }
   },
   "outputs": [],
   "source": [
    "# ejercicio 12\n"
   ]
  },
  {
   "cell_type": "markdown",
   "metadata": {},
   "source": [
    "<font size=5 color='blue'>\n",
    "\n",
    "Plots of the cost function versus epoch    "
   ]
  },
  {
   "cell_type": "markdown",
   "metadata": {},
   "source": [
    "<font size=4 color='cornflowerblue'>\n",
    "    \n",
    "## Ejercicio 13"
   ]
  },
  {
   "cell_type": "markdown",
   "metadata": {},
   "source": [
    "<font size=4>\n",
    "\n",
    "Grafica el costo en función de la epoca para los conjuntos de entrenamiento y de validación."
   ]
  },
  {
   "cell_type": "code",
   "execution_count": null,
   "metadata": {
    "ExecuteTime": {
     "end_time": "2020-11-11T00:35:59.473920Z",
     "start_time": "2020-11-11T00:35:59.319596Z"
    }
   },
   "outputs": [],
   "source": [
    "# Ejercicio 13\n"
   ]
  },
  {
   "cell_type": "markdown",
   "metadata": {},
   "source": [
    "<font size=4 color='cornflowerblue'>\n",
    "    \n",
    "## Ejercicio 14"
   ]
  },
  {
   "cell_type": "markdown",
   "metadata": {},
   "source": [
    "<font size=4>\n",
    "\n",
    "¿Crees que tienes overfitting o underfitting?, ¿Por qué?"
   ]
  },
  {
   "cell_type": "markdown",
   "metadata": {},
   "source": [
    "___"
   ]
  },
  {
   "cell_type": "markdown",
   "metadata": {},
   "source": [
    "<font size=4>\n",
    "\n",
    "En el notebook Clase-7-fv.ipynb se tienen los siguientes modelos:\n",
    "    \n",
    "- Second model: The output 𝑦 does not depend linearly with the features. This fact is modeled with a sigmoid type function; for example, a hyperbolic tangent\n",
    "    \n",
    "- Model using three neurons. Full-Connected Feedforward Network (FF). The activation function of the last neuron is linear\n",
    "    \n",
    "- Model using three neurons. The activation function of the last neuron is sigmoid type\n",
    "    \n",
    "- Model using four neurons. The activation function of the last neuron is linear\n",
    "    \n",
    "- Model using five neurons. The activation function of the last neuron is linear\n",
    "    \n",
    "- Model using ten neurons. The activation function of the last neuron is linear"
   ]
  },
  {
   "cell_type": "markdown",
   "metadata": {},
   "source": [
    "<font size=4 color='cornflowerblue'>\n",
    "    \n",
    "## Ejercicio 15"
   ]
  },
  {
   "cell_type": "markdown",
   "metadata": {},
   "source": [
    "<font size=4>    \n",
    " \n",
    "Repite el procedimiento de los ejercicios 8 a 14 para crear un modelo.\n",
    "    \n",
    "Puedes basarte en cualquiera de los modelos dados en el notebook de la clase 7 para implementar tu propio modelo. \n",
    "    \n",
    "Recuerda, lo que puedes variar es lo siguiente:\n",
    "    \n",
    "    -número de capas ocultas\n",
    "    -número de nodos por cada capa oculta\n",
    "    -learning rate\n",
    "    -funciones de activación en cada una de las capas (no tienen porque ser la misma para todas las capas)\n",
    "    -forma de inicializar los pesos\n",
    "    -optimizador\n",
    "    -porcentaje de los datos a usar para validar al modelo\n",
    "    -número de epocas\n",
    "    "
   ]
  },
  {
   "cell_type": "code",
   "execution_count": null,
   "metadata": {},
   "outputs": [],
   "source": [
    "# ejercicio 16\n"
   ]
  }
 ],
 "metadata": {
  "kernelspec": {
   "display_name": "Python 3",
   "language": "python",
   "name": "python3"
  },
  "language_info": {
   "codemirror_mode": {
    "name": "ipython",
    "version": 3
   },
   "file_extension": ".py",
   "mimetype": "text/x-python",
   "name": "python",
   "nbconvert_exporter": "python",
   "pygments_lexer": "ipython3",
   "version": "3.7.4"
  }
 },
 "nbformat": 4,
 "nbformat_minor": 4
}
